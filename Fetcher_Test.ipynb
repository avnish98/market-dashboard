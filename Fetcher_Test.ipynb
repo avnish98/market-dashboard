{
 "cells": [
  {
   "cell_type": "code",
   "execution_count": null,
   "id": "unexpected-georgia",
   "metadata": {},
   "outputs": [],
   "source": [
    "!pip install nsetools pandas"
   ]
  },
  {
   "cell_type": "code",
   "execution_count": 1,
   "id": "liable-finland",
   "metadata": {},
   "outputs": [],
   "source": [
    "from fetcher import Nifty500"
   ]
  },
  {
   "cell_type": "code",
   "execution_count": null,
   "id": "legislative-works",
   "metadata": {},
   "outputs": [
    {
     "name": "stdout",
     "output_type": "stream",
     "text": [
      "Progress: 0.2% Last ticker: 3MINDIA\n",
      "Progress: 0.4% Last ticker: ABB\n",
      "Progress: 0.6% Last ticker: POWERINDIA\n",
      "Progress: 0.8% Last ticker: ACC\n",
      "Progress: 1.0% Last ticker: AIAENG\n",
      "Progress: 1.2% Last ticker: APLAPOLLO\n",
      "Progress: 1.4% Last ticker: AUBANK\n",
      "Progress: 1.6% Last ticker: AARTIDRUGS\n",
      "Progress: 1.8% Last ticker: AARTIIND\n",
      "Progress: 2.0% Last ticker: AAVAS\n",
      "Progress: 2.2% Last ticker: ABBOTINDIA\n",
      "Progress: 2.4% Last ticker: ADANIENT\n",
      "Progress: 2.59% Last ticker: ADANIGREEN\n",
      "Progress: 2.79% Last ticker: ADANIPORTS\n",
      "Progress: 2.99% Last ticker: ATGL\n",
      "Progress: 3.19% Last ticker: ADANITRANS\n",
      "Progress: 3.39% Last ticker: ABCAPITAL\n",
      "Progress: 3.59% Last ticker: ABFRL\n",
      "Progress: 3.79% Last ticker: ADVENZYMES\n",
      "Progress: 3.99% Last ticker: AEGISCHEM\n",
      "Progress: 4.19% Last ticker: AFFLE\n",
      "Progress: 4.39% Last ticker: AJANTPHARM\n",
      "Progress: 4.59% Last ticker: AKZOINDIA\n",
      "Progress: 4.79% Last ticker: ALEMBICLTD\n",
      "Progress: 4.99% Last ticker: APLLTD\n",
      "Progress: 5.19% Last ticker: ALKEM\n",
      "Progress: 5.39% Last ticker: ALKYLAMINE\n",
      "Progress: 5.59% Last ticker: ALOKINDS\n",
      "Progress: 5.79% Last ticker: AMARAJABAT\n",
      "Progress: 5.99% Last ticker: AMBER\n",
      "Progress: 6.19% Last ticker: AMBUJACEM\n",
      "Progress: 6.39% Last ticker: APOLLOHOSP\n",
      "Progress: 6.59% Last ticker: APOLLOTYRE\n",
      "Progress: 6.79% Last ticker: ASHOKLEY\n",
      "Progress: 6.99% Last ticker: ASHOKA\n",
      "Progress: 7.19% Last ticker: ASIANPAINT\n",
      "Progress: 7.39% Last ticker: ASTERDM\n"
     ]
    }
   ],
   "source": [
    "nft = Nifty500()\n",
    "nft.fetch_data()"
   ]
  },
  {
   "cell_type": "code",
   "execution_count": null,
   "id": "typical-privilege",
   "metadata": {},
   "outputs": [],
   "source": []
  }
 ],
 "metadata": {
  "kernelspec": {
   "display_name": "Python 3",
   "language": "python",
   "name": "python3"
  },
  "language_info": {
   "codemirror_mode": {
    "name": "ipython",
    "version": 3
   },
   "file_extension": ".py",
   "mimetype": "text/x-python",
   "name": "python",
   "nbconvert_exporter": "python",
   "pygments_lexer": "ipython3",
   "version": "3.8.6"
  }
 },
 "nbformat": 4,
 "nbformat_minor": 5
}
