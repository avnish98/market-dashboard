{
 "cells": [
  {
   "cell_type": "code",
   "execution_count": null,
   "id": "unexpected-georgia",
   "metadata": {},
   "outputs": [],
   "source": [
    "!pip install nsetools pandas nsepy"
   ]
  },
  {
   "cell_type": "code",
   "execution_count": null,
   "id": "liable-finland",
   "metadata": {},
   "outputs": [],
   "source": [
    "from fetcher import Nifty500"
   ]
  },
  {
   "cell_type": "code",
   "execution_count": null,
   "id": "legislative-works",
   "metadata": {},
   "outputs": [],
   "source": [
    "nft = Nifty500()"
   ]
  },
  {
   "cell_type": "code",
   "execution_count": null,
   "id": "union-concord",
   "metadata": {},
   "outputs": [],
   "source": [
    "nft.read_list(update=True)"
   ]
  },
  {
   "cell_type": "code",
   "execution_count": null,
   "id": "hearing-reduction",
   "metadata": {},
   "outputs": [],
   "source": [
    "nft.fetch_metadata()"
   ]
  },
  {
   "cell_type": "code",
   "execution_count": null,
   "id": "reflected-count",
   "metadata": {},
   "outputs": [],
   "source": [
    "nft.fetch_data()"
   ]
  }
 ],
 "metadata": {
  "kernelspec": {
   "display_name": "Python 3",
   "language": "python",
   "name": "python3"
  },
  "language_info": {
   "codemirror_mode": {
    "name": "ipython",
    "version": 3
   },
   "file_extension": ".py",
   "mimetype": "text/x-python",
   "name": "python",
   "nbconvert_exporter": "python",
   "pygments_lexer": "ipython3",
   "version": "3.8.6"
  }
 },
 "nbformat": 4,
 "nbformat_minor": 5
}
