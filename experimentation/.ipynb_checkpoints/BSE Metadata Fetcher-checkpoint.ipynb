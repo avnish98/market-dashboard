{
 "cells": [
  {
   "cell_type": "code",
   "execution_count": 8,
   "id": "ancient-carroll",
   "metadata": {},
   "outputs": [
    {
     "name": "stdout",
     "output_type": "stream",
     "text": [
      "Requirement already satisfied: bsedata in /opt/conda/lib/python3.8/site-packages (0.4.0)\n",
      "Collecting pandas\n",
      "  Downloading pandas-1.2.1-cp38-cp38-manylinux1_x86_64.whl (9.7 MB)\n",
      "\u001b[K     |████████████████████████████████| 9.7 MB 7.1 MB/s eta 0:00:01\n",
      "\u001b[?25hRequirement already satisfied: requests in /opt/conda/lib/python3.8/site-packages (from bsedata) (2.25.1)\n",
      "Requirement already satisfied: lxml in /opt/conda/lib/python3.8/site-packages (from bsedata) (4.6.2)\n",
      "Requirement already satisfied: beautifulsoup4 in /opt/conda/lib/python3.8/site-packages (from bsedata) (4.9.3)\n",
      "Collecting numpy>=1.16.5\n",
      "  Downloading numpy-1.19.5-cp38-cp38-manylinux2010_x86_64.whl (14.9 MB)\n",
      "\u001b[K     |████████████████████████████████| 14.9 MB 6.9 MB/s eta 0:00:01    |██████▊                         | 3.1 MB 5.1 MB/s eta 0:00:03     |████████████████▎               | 7.6 MB 5.1 MB/s eta 0:00:02\n",
      "\u001b[?25hRequirement already satisfied: python-dateutil>=2.7.3 in /opt/conda/lib/python3.8/site-packages (from pandas) (2.8.1)\n",
      "Requirement already satisfied: pytz>=2017.3 in /opt/conda/lib/python3.8/site-packages (from pandas) (2020.5)\n",
      "Requirement already satisfied: six>=1.5 in /opt/conda/lib/python3.8/site-packages (from python-dateutil>=2.7.3->pandas) (1.15.0)\n",
      "Requirement already satisfied: soupsieve>1.2 in /opt/conda/lib/python3.8/site-packages (from beautifulsoup4->bsedata) (2.1)\n",
      "Requirement already satisfied: chardet<5,>=3.0.2 in /opt/conda/lib/python3.8/site-packages (from requests->bsedata) (4.0.0)\n",
      "Requirement already satisfied: certifi>=2017.4.17 in /opt/conda/lib/python3.8/site-packages (from requests->bsedata) (2020.12.5)\n",
      "Requirement already satisfied: urllib3<1.27,>=1.21.1 in /opt/conda/lib/python3.8/site-packages (from requests->bsedata) (1.26.3)\n",
      "Requirement already satisfied: idna<3,>=2.5 in /opt/conda/lib/python3.8/site-packages (from requests->bsedata) (2.10)\n",
      "Installing collected packages: numpy, pandas\n",
      "Successfully installed numpy-1.19.5 pandas-1.2.1\n"
     ]
    }
   ],
   "source": [
    "!pip install bsedata pandas"
   ]
  },
  {
   "cell_type": "code",
   "execution_count": 9,
   "id": "utility-valentine",
   "metadata": {},
   "outputs": [],
   "source": [
    "from bsedata.bse import BSE\n",
    "import time\n",
    "import pandas as pd"
   ]
  },
  {
   "cell_type": "code",
   "execution_count": 10,
   "id": "unexpected-association",
   "metadata": {},
   "outputs": [],
   "source": [
    "b = BSE(update_codes = True)\n",
    "code_list = b.getScripCodes() #Add progress indicator"
   ]
  },
  {
   "cell_type": "code",
   "execution_count": 11,
   "id": "recorded-occurrence",
   "metadata": {},
   "outputs": [
    {
     "name": "stdout",
     "output_type": "stream",
     "text": [
      "Exception 'NoneType' object has no attribute 'split' occured for ticker: 506120\n",
      "Exception 'NoneType' object has no attribute 'split' occured for ticker: 539277\n",
      "Exception 'NoneType' object has no attribute 'split' occured for ticker: 535790\n",
      "Exception 'NoneType' object has no attribute 'split' occured for ticker: 532068\n",
      "Exception 'NoneType' object has no attribute 'split' occured for ticker: 511038\n",
      "Exception 'NoneType' object has no attribute 'split' occured for ticker: 531677\n",
      "Exception 'NoneType' object has no attribute 'split' occured for ticker: 512063\n",
      "Exception 'NoneType' object has no attribute 'split' occured for ticker: 512261\n",
      "Exception 'NoneType' object has no attribute 'split' occured for ticker: 512195\n",
      "Exception 'NoneType' object has no attribute 'split' occured for ticker: 524723\n",
      "Exception 'NoneType' object has no attribute 'split' occured for ticker: 538758\n",
      "Exception 'NoneType' object has no attribute 'split' occured for ticker: 538757\n",
      "Exception 'NoneType' object has no attribute 'split' occured for ticker: 538756\n",
      "Exception 'NoneType' object has no attribute 'strip' occured for ticker: 538755\n",
      "Exception 'NoneType' object has no attribute 'split' occured for ticker: 538844\n",
      "Exception 'NoneType' object has no attribute 'split' occured for ticker: 538843\n",
      "Exception 'NoneType' object has no attribute 'split' occured for ticker: 538842\n",
      "Exception 'NoneType' object has no attribute 'strip' occured for ticker: 538841\n",
      "Exception 'NoneType' object has no attribute 'split' occured for ticker: 539055\n",
      "Exception 'NoneType' object has no attribute 'split' occured for ticker: 539054\n",
      "Exception 'NoneType' object has no attribute 'strip' occured for ticker: 539053\n",
      "Exception 'NoneType' object has no attribute 'strip' occured for ticker: 539052\n",
      "Exception 'NoneType' object has no attribute 'split' occured for ticker: 539423\n",
      "Exception 'NoneType' object has no attribute 'split' occured for ticker: 539422\n",
      "Exception 'NoneType' object has no attribute 'split' occured for ticker: 539421\n",
      "Exception 'NoneType' object has no attribute 'split' occured for ticker: 539420\n",
      "Exception 'NoneType' object has no attribute 'split' occured for ticker: 537646\n",
      "Exception 'NoneType' object has no attribute 'split' occured for ticker: 537647\n",
      "Exception 'NoneType' object has no attribute 'strip' occured for ticker: 537644\n",
      "Exception 'NoneType' object has no attribute 'split' occured for ticker: 538017\n",
      "Exception 'NoneType' object has no attribute 'split' occured for ticker: 538018\n",
      "Exception 'NoneType' object has no attribute 'split' occured for ticker: 538016\n",
      "Exception 'NoneType' object has no attribute 'strip' occured for ticker: 538015\n",
      "Exception 'NoneType' object has no attribute 'split' occured for ticker: 537645\n",
      "Exception 'NoneType' object has no attribute 'split' occured for ticker: 538789\n",
      "Exception 'NoneType' object has no attribute 'split' occured for ticker: 539230\n",
      "Exception HTTPSConnectionPool(host='m.bseindia.com', port=443): Max retries exceeded with url: /StockReach.aspx?scripcd=539436 (Caused by SSLError(SSLEOFError(8, 'EOF occurred in violation of protocol (_ssl.c:1124)'))) occured for ticker: 539436\n",
      "Exception HTTPSConnectionPool(host='m.bseindia.com', port=443): Max retries exceeded with url: /StockReach.aspx?scripcd=526141 (Caused by SSLError(SSLEOFError(8, 'EOF occurred in violation of protocol (_ssl.c:1124)'))) occured for ticker: 526141\n",
      "Exception HTTPSConnectionPool(host='m.bseindia.com', port=443): Max retries exceeded with url: /StockReach.aspx?scripcd=532339 (Caused by SSLError(SSLEOFError(8, 'EOF occurred in violation of protocol (_ssl.c:1124)'))) occured for ticker: 532339\n",
      "Exception 'priceBand' occured for ticker: 522295\n",
      "Exception 'priceBand' occured for ticker: 531556\n",
      "Exception 'priceBand' occured for ticker: 506395\n",
      "Exception HTTPSConnectionPool(host='m.bseindia.com', port=443): Max retries exceeded with url: /StockReach.aspx?scripcd=526550 (Caused by SSLError(SSLEOFError(8, 'EOF occurred in violation of protocol (_ssl.c:1124)'))) occured for ticker: 526550\n",
      "Exception 'priceBand' occured for ticker: 509472\n",
      "Exception 'priceBand' occured for ticker: 512361\n",
      "Exception 'priceBand' occured for ticker: 532640\n",
      "Exception 'priceBand' occured for ticker: 533151\n",
      "Exception 'priceBand' occured for ticker: 530825\n",
      "Exception 'priceBand' occured for ticker: 530171\n",
      "Exception 'priceBand' occured for ticker: 532608\n"
     ]
    },
    {
     "ename": "KeyboardInterrupt",
     "evalue": "",
     "output_type": "error",
     "traceback": [
      "\u001b[0;31m---------------------------------------------------------------------------\u001b[0m",
      "\u001b[0;31mKeyboardInterrupt\u001b[0m                         Traceback (most recent call last)",
      "\u001b[0;32m<ipython-input-11-05ded9cde172>\u001b[0m in \u001b[0;36m<module>\u001b[0;34m\u001b[0m\n\u001b[1;32m     11\u001b[0m         \u001b[0mexception_tickers\u001b[0m\u001b[0;34m.\u001b[0m\u001b[0mappend\u001b[0m\u001b[0;34m(\u001b[0m\u001b[0mc\u001b[0m\u001b[0;34m)\u001b[0m\u001b[0;34m\u001b[0m\u001b[0;34m\u001b[0m\u001b[0m\n\u001b[1;32m     12\u001b[0m \u001b[0;34m\u001b[0m\u001b[0m\n\u001b[0;32m---> 13\u001b[0;31m     \u001b[0mtime\u001b[0m\u001b[0;34m.\u001b[0m\u001b[0msleep\u001b[0m\u001b[0;34m(\u001b[0m\u001b[0;36m10\u001b[0m\u001b[0;34m)\u001b[0m\u001b[0;34m\u001b[0m\u001b[0;34m\u001b[0m\u001b[0m\n\u001b[0m",
      "\u001b[0;31mKeyboardInterrupt\u001b[0m: "
     ]
    }
   ],
   "source": [
    "meta_data = []\n",
    "exception_tickers = []\n",
    "for c in list(code_list.keys()):\n",
    "    \n",
    "    try:\n",
    "        data = b.getQuote(c)\n",
    "        meta_data.append(data)\n",
    "    \n",
    "    except Exception as e:\n",
    "        print(\"Exception {} occured for ticker: {}\".format(e, c))\n",
    "        exception_tickers.append(c)\n",
    "        \n",
    "    time.sleep(10)"
   ]
  },
  {
   "cell_type": "code",
   "execution_count": null,
   "id": "emotional-exclusion",
   "metadata": {},
   "outputs": [],
   "source": []
  }
 ],
 "metadata": {
  "kernelspec": {
   "display_name": "Python 3",
   "language": "python",
   "name": "python3"
  },
  "language_info": {
   "codemirror_mode": {
    "name": "ipython",
    "version": 3
   },
   "file_extension": ".py",
   "mimetype": "text/x-python",
   "name": "python",
   "nbconvert_exporter": "python",
   "pygments_lexer": "ipython3",
   "version": "3.8.6"
  }
 },
 "nbformat": 4,
 "nbformat_minor": 5
}
