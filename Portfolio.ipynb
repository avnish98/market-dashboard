{
 "cells": [
  {
   "cell_type": "code",
   "execution_count": null,
   "id": "5f54180d",
   "metadata": {
    "scrolled": true
   },
   "outputs": [],
   "source": [
    "!pip install nsetools pandas nsepy PyPortfolioOpt bokeh"
   ]
  },
  {
   "cell_type": "code",
   "execution_count": null,
   "id": "83cdab7b",
   "metadata": {
    "scrolled": true
   },
   "outputs": [],
   "source": [
    "from fetcher import Nifty500Fetcher\n",
    "\n",
    "nff = Nifty500Fetcher()\n",
    "nff.read_list(update=True)"
   ]
  },
  {
   "cell_type": "code",
   "execution_count": null,
   "id": "29faa55b",
   "metadata": {
    "scrolled": true
   },
   "outputs": [],
   "source": [
    "nff.fetch_data()"
   ]
  },
  {
   "cell_type": "code",
   "execution_count": null,
   "id": "3fdd4c99",
   "metadata": {
    "scrolled": true
   },
   "outputs": [],
   "source": [
    "nff.fetch_metadata()"
   ]
  },
  {
   "cell_type": "code",
   "execution_count": null,
   "id": "53fd4620",
   "metadata": {
    "scrolled": true
   },
   "outputs": [],
   "source": [
    "from cleaner import Nifty500Cleaner\n",
    "\n",
    "nfc = Nifty500Cleaner()\n",
    "nfc.clean_metadata()\n",
    "nfc.clean_ohlc_data()"
   ]
  },
  {
   "cell_type": "code",
   "execution_count": null,
   "id": "f06ff14c",
   "metadata": {
    "scrolled": true
   },
   "outputs": [],
   "source": [
    "from processor import StockProcessor\n",
    "\n",
    "sp = StockProcessor('3MINDIA', meta_data_loc='data/cleaned/Metadata/nifty500.json')"
   ]
  },
  {
   "cell_type": "code",
   "execution_count": null,
   "id": "01ab2cda",
   "metadata": {
    "scrolled": true
   },
   "outputs": [],
   "source": [
    "sp.process_metrics()"
   ]
  },
  {
   "cell_type": "code",
   "execution_count": null,
   "id": "ba1b3578",
   "metadata": {
    "scrolled": true
   },
   "outputs": [],
   "source": [
    "sp.stock.metadata"
   ]
  },
  {
   "cell_type": "code",
   "execution_count": null,
   "id": "b449d1cf",
   "metadata": {
    "scrolled": true
   },
   "outputs": [],
   "source": [
    "from processor import IndexProcessor\n",
    "\n",
    "pp = IndexProcessor(\"data/cleaned/OHLC/Nifty500\", \n",
    "                    \"data/cleaned/Metadata/nifty500.json\", \n",
    "                    \"data/cleaned/Metadata/proc_nifty500.json\")"
   ]
  },
  {
   "cell_type": "code",
   "execution_count": null,
   "id": "ae885357",
   "metadata": {
    "scrolled": true
   },
   "outputs": [],
   "source": [
    "pp.process_metrics()"
   ]
  },
  {
   "cell_type": "code",
   "execution_count": null,
   "id": "2345b362",
   "metadata": {
    "scrolled": true
   },
   "outputs": [],
   "source": [
    "import pandas as pd\n",
    "pd.read_csv('data/cleaned/OHLC/Nifty500/M&M.csv')"
   ]
  },
  {
   "cell_type": "code",
   "execution_count": null,
   "id": "1c16546d",
   "metadata": {
    "scrolled": true
   },
   "outputs": [],
   "source": [
    "from processor import IndexProcessor\n",
    "\n",
    "pp = IndexProcessor(\"data/cleaned/OHLC/Nifty500\", \"data/cleaned/Metadata/nifty500.json\")\n",
    "pp.process_close(30)"
   ]
  },
  {
   "cell_type": "code",
   "execution_count": null,
   "id": "8fc2738e",
   "metadata": {
    "scrolled": true
   },
   "outputs": [],
   "source": [
    "from optimizer import EffOptimizer, HRPOptimizer, CLAOptimizer\n",
    "\n",
    "opt1 = EffOptimizer(pp)\n",
    "# opt2 = HRPOptimizer(pp)\n",
    "# opt3 = CLAOptimizer(pp)"
   ]
  },
  {
   "cell_type": "code",
   "execution_count": null,
   "id": "f8ebcbb5",
   "metadata": {
    "scrolled": true
   },
   "outputs": [],
   "source": [
    "opt1.optimize_max_sharpe()"
   ]
  },
  {
   "cell_type": "code",
   "execution_count": null,
   "id": "afcc2325",
   "metadata": {
    "scrolled": true
   },
   "outputs": [],
   "source": [
    "opt1.portfolio.statistics"
   ]
  },
  {
   "cell_type": "code",
   "execution_count": null,
   "id": "67e6d688",
   "metadata": {
    "scrolled": true
   },
   "outputs": [],
   "source": [
    "opt1.optimize_min_volatility()"
   ]
  },
  {
   "cell_type": "code",
   "execution_count": null,
   "id": "02c43793",
   "metadata": {
    "scrolled": true
   },
   "outputs": [],
   "source": [
    "opt1.portfolio.statistics"
   ]
  },
  {
   "cell_type": "code",
   "execution_count": null,
   "id": "e42c51b9",
   "metadata": {
    "scrolled": true
   },
   "outputs": [],
   "source": [
    "opt2 = HRPOptimizer(pp)\n",
    "opt2.optimize()"
   ]
  },
  {
   "cell_type": "code",
   "execution_count": null,
   "id": "f702767d",
   "metadata": {
    "scrolled": true
   },
   "outputs": [],
   "source": [
    "opt2.portfolio.statistics"
   ]
  },
  {
   "cell_type": "code",
   "execution_count": null,
   "id": "5d31ae93",
   "metadata": {
    "scrolled": true
   },
   "outputs": [],
   "source": [
    "temp_df = (pp.close_matrix.pct_change(30).tail(1)*100 > 0)\n",
    "temp_df"
   ]
  },
  {
   "cell_type": "code",
   "execution_count": null,
   "id": "3a3f644d",
   "metadata": {
    "scrolled": true
   },
   "outputs": [],
   "source": [
    "opt3 = CLAOptimizer(pp)\n",
    "opt3.optimize_max_sharpe()"
   ]
  },
  {
   "cell_type": "code",
   "execution_count": null,
   "id": "27d82bd1",
   "metadata": {
    "scrolled": true
   },
   "outputs": [],
   "source": [
    "opt3.portfolio.statistics"
   ]
  },
  {
   "cell_type": "code",
   "execution_count": null,
   "id": "bb802800",
   "metadata": {
    "scrolled": true
   },
   "outputs": [],
   "source": [
    "opt3.optimize_min_volatility()\n",
    "opt3.portfolio.statistics"
   ]
  },
  {
   "cell_type": "code",
   "execution_count": null,
   "id": "71259d8b",
   "metadata": {
    "scrolled": true
   },
   "outputs": [],
   "source": []
  },
  {
   "cell_type": "code",
   "execution_count": null,
   "id": "125473f5",
   "metadata": {
    "scrolled": true
   },
   "outputs": [],
   "source": [
    "import pandas as pd\n",
    "df = pd.read_csv('data/raw/nifty_500_metadata.csv')#.to_dict(orient='records')"
   ]
  },
  {
   "cell_type": "code",
   "execution_count": null,
   "id": "fbaa85c0",
   "metadata": {
    "scrolled": true
   },
   "outputs": [],
   "source": [
    "some = df[df['symbol']=='M&amp;M'].to_dict(orient='records')"
   ]
  },
  {
   "cell_type": "code",
   "execution_count": null,
   "id": "24fbc3a3",
   "metadata": {
    "scrolled": true
   },
   "outputs": [],
   "source": [
    "some"
   ]
  },
  {
   "cell_type": "code",
   "execution_count": null,
   "id": "d91a775c",
   "metadata": {
    "scrolled": true
   },
   "outputs": [],
   "source": [
    "from fetcher import Nifty500Fetcher\n",
    "\n",
    "nff = Nifty500Fetcher()\n",
    "nff.fetch_index('NIFTY')"
   ]
  },
  {
   "cell_type": "code",
   "execution_count": null,
   "id": "fe60f931",
   "metadata": {
    "scrolled": false
   },
   "outputs": [],
   "source": []
  },
  {
   "cell_type": "code",
   "execution_count": 1,
   "id": "35e26e1f",
   "metadata": {
    "scrolled": false
   },
   "outputs": [],
   "source": [
    "from simulate import Backtesting, Agent\n",
    "from optimizer import EffOptimizer, HRPOptimizer, CLAOptimizer\n",
    "from datetime import date\n",
    "\n",
    "agents = [\n",
    "        Agent(\"CLA_MAX_SHARPE\", 'navy', CLAOptimizer(), 1000000, optimizer_type='max_sharpe',\n",
    "                            metadata_loc=\"data/processed/Metadata/nifty500.json\", single_day_cash=0.80),\n",
    "         Agent(\"EFF_MIN_VOL\", 'green', EffOptimizer(), 1000000, optimizer_type='min_vol',\n",
    "                           metadata_loc=\"data/processed/Metadata/nifty500.json\", single_day_cash=0.80),\n",
    "         Agent(\"EFF_MAX_SHARPE\", 'blue', EffOptimizer(), 1000000, optimizer_type='max_sharpe',\n",
    "                           metadata_loc=\"data/processed/Metadata/nifty500.json\", single_day_cash=0.80),\n",
    "         Agent(\"HRP\", 'orangered', HRPOptimizer(), 1000000, metadata_loc=\"data/processed/Metadata/nifty500.json\", \n",
    "                           single_day_cash=0.80),\n",
    "         Agent(\"CLA_MIN_VOL\", 'deeppink', CLAOptimizer(), 1000000, optimizer_type='min_vol',\n",
    "                           metadata_loc=\"data/processed/Metadata/nifty500.json\", single_day_cash=0.80)]\n",
    "\n",
    "benchmarks = [\n",
    "    {\n",
    "        'name':'Nifty500',\n",
    "        'data_loc':'data/raw/Nifty500/Index/NIFTY500.csv',\n",
    "        'color':'red'\n",
    "    },\n",
    "    {\n",
    "        'name':'Nifty',\n",
    "        'data_loc':'data/raw/Nifty500/Index/NIFTY.csv',\n",
    "        'color':'goldenrod'\n",
    "    }\n",
    "]\n",
    "\n",
    "bt = Backtesting(end_date=date(2011, 12, 31), \n",
    "    proc_ohlc_loc=\"data/processed/OHLC/Nifty500\", \n",
    "              proc_metadata_loc=\"data/processed/Metadata/nifty500.json\", bband_margins=False,\n",
    "                 lookback_period=1,rebalance_period=1,\n",
    "                 bband_ma=20, benchmarks=benchmarks, #process_metrics=True,\n",
    "                agents=agents)"
   ]
  },
  {
   "cell_type": "code",
   "execution_count": 2,
   "id": "3e34167b",
   "metadata": {
    "scrolled": false
   },
   "outputs": [
    {
     "data": {
      "text/html": [
       "\n",
       "    <div class=\"bk-root\">\n",
       "        <a href=\"https://bokeh.org\" target=\"_blank\" class=\"bk-logo bk-logo-small bk-logo-notebook\"></a>\n",
       "        <span id=\"1002\">Loading BokehJS ...</span>\n",
       "    </div>"
      ]
     },
     "metadata": {},
     "output_type": "display_data"
    },
    {
     "data": {
      "application/javascript": [
       "\n",
       "(function(root) {\n",
       "  function now() {\n",
       "    return new Date();\n",
       "  }\n",
       "\n",
       "  var force = true;\n",
       "\n",
       "  if (typeof root._bokeh_onload_callbacks === \"undefined\" || force === true) {\n",
       "    root._bokeh_onload_callbacks = [];\n",
       "    root._bokeh_is_loading = undefined;\n",
       "  }\n",
       "\n",
       "  var JS_MIME_TYPE = 'application/javascript';\n",
       "  var HTML_MIME_TYPE = 'text/html';\n",
       "  var EXEC_MIME_TYPE = 'application/vnd.bokehjs_exec.v0+json';\n",
       "  var CLASS_NAME = 'output_bokeh rendered_html';\n",
       "\n",
       "  /**\n",
       "   * Render data to the DOM node\n",
       "   */\n",
       "  function render(props, node) {\n",
       "    var script = document.createElement(\"script\");\n",
       "    node.appendChild(script);\n",
       "  }\n",
       "\n",
       "  /**\n",
       "   * Handle when an output is cleared or removed\n",
       "   */\n",
       "  function handleClearOutput(event, handle) {\n",
       "    var cell = handle.cell;\n",
       "\n",
       "    var id = cell.output_area._bokeh_element_id;\n",
       "    var server_id = cell.output_area._bokeh_server_id;\n",
       "    // Clean up Bokeh references\n",
       "    if (id != null && id in Bokeh.index) {\n",
       "      Bokeh.index[id].model.document.clear();\n",
       "      delete Bokeh.index[id];\n",
       "    }\n",
       "\n",
       "    if (server_id !== undefined) {\n",
       "      // Clean up Bokeh references\n",
       "      var cmd = \"from bokeh.io.state import curstate; print(curstate().uuid_to_server['\" + server_id + \"'].get_sessions()[0].document.roots[0]._id)\";\n",
       "      cell.notebook.kernel.execute(cmd, {\n",
       "        iopub: {\n",
       "          output: function(msg) {\n",
       "            var id = msg.content.text.trim();\n",
       "            if (id in Bokeh.index) {\n",
       "              Bokeh.index[id].model.document.clear();\n",
       "              delete Bokeh.index[id];\n",
       "            }\n",
       "          }\n",
       "        }\n",
       "      });\n",
       "      // Destroy server and session\n",
       "      var cmd = \"import bokeh.io.notebook as ion; ion.destroy_server('\" + server_id + \"')\";\n",
       "      cell.notebook.kernel.execute(cmd);\n",
       "    }\n",
       "  }\n",
       "\n",
       "  /**\n",
       "   * Handle when a new output is added\n",
       "   */\n",
       "  function handleAddOutput(event, handle) {\n",
       "    var output_area = handle.output_area;\n",
       "    var output = handle.output;\n",
       "\n",
       "    // limit handleAddOutput to display_data with EXEC_MIME_TYPE content only\n",
       "    if ((output.output_type != \"display_data\") || (!Object.prototype.hasOwnProperty.call(output.data, EXEC_MIME_TYPE))) {\n",
       "      return\n",
       "    }\n",
       "\n",
       "    var toinsert = output_area.element.find(\".\" + CLASS_NAME.split(' ')[0]);\n",
       "\n",
       "    if (output.metadata[EXEC_MIME_TYPE][\"id\"] !== undefined) {\n",
       "      toinsert[toinsert.length - 1].firstChild.textContent = output.data[JS_MIME_TYPE];\n",
       "      // store reference to embed id on output_area\n",
       "      output_area._bokeh_element_id = output.metadata[EXEC_MIME_TYPE][\"id\"];\n",
       "    }\n",
       "    if (output.metadata[EXEC_MIME_TYPE][\"server_id\"] !== undefined) {\n",
       "      var bk_div = document.createElement(\"div\");\n",
       "      bk_div.innerHTML = output.data[HTML_MIME_TYPE];\n",
       "      var script_attrs = bk_div.children[0].attributes;\n",
       "      for (var i = 0; i < script_attrs.length; i++) {\n",
       "        toinsert[toinsert.length - 1].firstChild.setAttribute(script_attrs[i].name, script_attrs[i].value);\n",
       "        toinsert[toinsert.length - 1].firstChild.textContent = bk_div.children[0].textContent\n",
       "      }\n",
       "      // store reference to server id on output_area\n",
       "      output_area._bokeh_server_id = output.metadata[EXEC_MIME_TYPE][\"server_id\"];\n",
       "    }\n",
       "  }\n",
       "\n",
       "  function register_renderer(events, OutputArea) {\n",
       "\n",
       "    function append_mime(data, metadata, element) {\n",
       "      // create a DOM node to render to\n",
       "      var toinsert = this.create_output_subarea(\n",
       "        metadata,\n",
       "        CLASS_NAME,\n",
       "        EXEC_MIME_TYPE\n",
       "      );\n",
       "      this.keyboard_manager.register_events(toinsert);\n",
       "      // Render to node\n",
       "      var props = {data: data, metadata: metadata[EXEC_MIME_TYPE]};\n",
       "      render(props, toinsert[toinsert.length - 1]);\n",
       "      element.append(toinsert);\n",
       "      return toinsert\n",
       "    }\n",
       "\n",
       "    /* Handle when an output is cleared or removed */\n",
       "    events.on('clear_output.CodeCell', handleClearOutput);\n",
       "    events.on('delete.Cell', handleClearOutput);\n",
       "\n",
       "    /* Handle when a new output is added */\n",
       "    events.on('output_added.OutputArea', handleAddOutput);\n",
       "\n",
       "    /**\n",
       "     * Register the mime type and append_mime function with output_area\n",
       "     */\n",
       "    OutputArea.prototype.register_mime_type(EXEC_MIME_TYPE, append_mime, {\n",
       "      /* Is output safe? */\n",
       "      safe: true,\n",
       "      /* Index of renderer in `output_area.display_order` */\n",
       "      index: 0\n",
       "    });\n",
       "  }\n",
       "\n",
       "  // register the mime type if in Jupyter Notebook environment and previously unregistered\n",
       "  if (root.Jupyter !== undefined) {\n",
       "    var events = require('base/js/events');\n",
       "    var OutputArea = require('notebook/js/outputarea').OutputArea;\n",
       "\n",
       "    if (OutputArea.prototype.mime_types().indexOf(EXEC_MIME_TYPE) == -1) {\n",
       "      register_renderer(events, OutputArea);\n",
       "    }\n",
       "  }\n",
       "\n",
       "  \n",
       "  if (typeof (root._bokeh_timeout) === \"undefined\" || force === true) {\n",
       "    root._bokeh_timeout = Date.now() + 5000;\n",
       "    root._bokeh_failed_load = false;\n",
       "  }\n",
       "\n",
       "  var NB_LOAD_WARNING = {'data': {'text/html':\n",
       "     \"<div style='background-color: #fdd'>\\n\"+\n",
       "     \"<p>\\n\"+\n",
       "     \"BokehJS does not appear to have successfully loaded. If loading BokehJS from CDN, this \\n\"+\n",
       "     \"may be due to a slow or bad network connection. Possible fixes:\\n\"+\n",
       "     \"</p>\\n\"+\n",
       "     \"<ul>\\n\"+\n",
       "     \"<li>re-rerun `output_notebook()` to attempt to load from CDN again, or</li>\\n\"+\n",
       "     \"<li>use INLINE resources instead, as so:</li>\\n\"+\n",
       "     \"</ul>\\n\"+\n",
       "     \"<code>\\n\"+\n",
       "     \"from bokeh.resources import INLINE\\n\"+\n",
       "     \"output_notebook(resources=INLINE)\\n\"+\n",
       "     \"</code>\\n\"+\n",
       "     \"</div>\"}};\n",
       "\n",
       "  function display_loaded() {\n",
       "    var el = document.getElementById(\"1002\");\n",
       "    if (el != null) {\n",
       "      el.textContent = \"BokehJS is loading...\";\n",
       "    }\n",
       "    if (root.Bokeh !== undefined) {\n",
       "      if (el != null) {\n",
       "        el.textContent = \"BokehJS \" + root.Bokeh.version + \" successfully loaded.\";\n",
       "      }\n",
       "    } else if (Date.now() < root._bokeh_timeout) {\n",
       "      setTimeout(display_loaded, 100)\n",
       "    }\n",
       "  }\n",
       "\n",
       "\n",
       "  function run_callbacks() {\n",
       "    try {\n",
       "      root._bokeh_onload_callbacks.forEach(function(callback) {\n",
       "        if (callback != null)\n",
       "          callback();\n",
       "      });\n",
       "    } finally {\n",
       "      delete root._bokeh_onload_callbacks\n",
       "    }\n",
       "    console.debug(\"Bokeh: all callbacks have finished\");\n",
       "  }\n",
       "\n",
       "  function load_libs(css_urls, js_urls, callback) {\n",
       "    if (css_urls == null) css_urls = [];\n",
       "    if (js_urls == null) js_urls = [];\n",
       "\n",
       "    root._bokeh_onload_callbacks.push(callback);\n",
       "    if (root._bokeh_is_loading > 0) {\n",
       "      console.debug(\"Bokeh: BokehJS is being loaded, scheduling callback at\", now());\n",
       "      return null;\n",
       "    }\n",
       "    if (js_urls == null || js_urls.length === 0) {\n",
       "      run_callbacks();\n",
       "      return null;\n",
       "    }\n",
       "    console.debug(\"Bokeh: BokehJS not loaded, scheduling load and callback at\", now());\n",
       "    root._bokeh_is_loading = css_urls.length + js_urls.length;\n",
       "\n",
       "    function on_load() {\n",
       "      root._bokeh_is_loading--;\n",
       "      if (root._bokeh_is_loading === 0) {\n",
       "        console.debug(\"Bokeh: all BokehJS libraries/stylesheets loaded\");\n",
       "        run_callbacks()\n",
       "      }\n",
       "    }\n",
       "\n",
       "    function on_error(url) {\n",
       "      console.error(\"failed to load \" + url);\n",
       "    }\n",
       "\n",
       "    for (let i = 0; i < css_urls.length; i++) {\n",
       "      const url = css_urls[i];\n",
       "      const element = document.createElement(\"link\");\n",
       "      element.onload = on_load;\n",
       "      element.onerror = on_error.bind(null, url);\n",
       "      element.rel = \"stylesheet\";\n",
       "      element.type = \"text/css\";\n",
       "      element.href = url;\n",
       "      console.debug(\"Bokeh: injecting link tag for BokehJS stylesheet: \", url);\n",
       "      document.body.appendChild(element);\n",
       "    }\n",
       "\n",
       "    const hashes = {\"https://cdn.bokeh.org/bokeh/release/bokeh-2.3.2.min.js\": \"XypntL49z55iwGVUW4qsEu83zKL3XEcz0MjuGOQ9SlaaQ68X/g+k1FcioZi7oQAc\", \"https://cdn.bokeh.org/bokeh/release/bokeh-tables-2.3.2.min.js\": \"bEsM86IHGDTLCS0Zod8a8WM6Y4+lafAL/eSiyQcuPzinmWNgNO2/olUF0Z2Dkn5i\", \"https://cdn.bokeh.org/bokeh/release/bokeh-widgets-2.3.2.min.js\": \"TX0gSQTdXTTeScqxj6PVQxTiRW8DOoGVwinyi1D3kxv7wuxQ02XkOxv0xwiypcAH\"};\n",
       "\n",
       "    for (let i = 0; i < js_urls.length; i++) {\n",
       "      const url = js_urls[i];\n",
       "      const element = document.createElement('script');\n",
       "      element.onload = on_load;\n",
       "      element.onerror = on_error.bind(null, url);\n",
       "      element.async = false;\n",
       "      element.src = url;\n",
       "      if (url in hashes) {\n",
       "        element.crossOrigin = \"anonymous\";\n",
       "        element.integrity = \"sha384-\" + hashes[url];\n",
       "      }\n",
       "      console.debug(\"Bokeh: injecting script tag for BokehJS library: \", url);\n",
       "      document.head.appendChild(element);\n",
       "    }\n",
       "  };\n",
       "\n",
       "  function inject_raw_css(css) {\n",
       "    const element = document.createElement(\"style\");\n",
       "    element.appendChild(document.createTextNode(css));\n",
       "    document.body.appendChild(element);\n",
       "  }\n",
       "\n",
       "  \n",
       "  var js_urls = [\"https://cdn.bokeh.org/bokeh/release/bokeh-2.3.2.min.js\", \"https://cdn.bokeh.org/bokeh/release/bokeh-widgets-2.3.2.min.js\", \"https://cdn.bokeh.org/bokeh/release/bokeh-tables-2.3.2.min.js\"];\n",
       "  var css_urls = [];\n",
       "  \n",
       "\n",
       "  var inline_js = [\n",
       "    function(Bokeh) {\n",
       "      Bokeh.set_log_level(\"info\");\n",
       "    },\n",
       "    function(Bokeh) {\n",
       "    \n",
       "    \n",
       "    }\n",
       "  ];\n",
       "\n",
       "  function run_inline_js() {\n",
       "    \n",
       "    if (root.Bokeh !== undefined || force === true) {\n",
       "      \n",
       "    for (var i = 0; i < inline_js.length; i++) {\n",
       "      inline_js[i].call(root, root.Bokeh);\n",
       "    }\n",
       "    if (force === true) {\n",
       "        display_loaded();\n",
       "      }} else if (Date.now() < root._bokeh_timeout) {\n",
       "      setTimeout(run_inline_js, 100);\n",
       "    } else if (!root._bokeh_failed_load) {\n",
       "      console.log(\"Bokeh: BokehJS failed to load within specified timeout.\");\n",
       "      root._bokeh_failed_load = true;\n",
       "    } else if (force !== true) {\n",
       "      var cell = $(document.getElementById(\"1002\")).parents('.cell').data().cell;\n",
       "      cell.output_area.append_execute_result(NB_LOAD_WARNING)\n",
       "    }\n",
       "\n",
       "  }\n",
       "\n",
       "  if (root._bokeh_is_loading === 0) {\n",
       "    console.debug(\"Bokeh: BokehJS loaded, going straight to plotting\");\n",
       "    run_inline_js();\n",
       "  } else {\n",
       "    load_libs(css_urls, js_urls, function() {\n",
       "      console.debug(\"Bokeh: BokehJS plotting callback run at\", now());\n",
       "      run_inline_js();\n",
       "    });\n",
       "  }\n",
       "}(window));"
      ],
      "application/vnd.bokehjs_load.v0+json": "\n(function(root) {\n  function now() {\n    return new Date();\n  }\n\n  var force = true;\n\n  if (typeof root._bokeh_onload_callbacks === \"undefined\" || force === true) {\n    root._bokeh_onload_callbacks = [];\n    root._bokeh_is_loading = undefined;\n  }\n\n  \n\n  \n  if (typeof (root._bokeh_timeout) === \"undefined\" || force === true) {\n    root._bokeh_timeout = Date.now() + 5000;\n    root._bokeh_failed_load = false;\n  }\n\n  var NB_LOAD_WARNING = {'data': {'text/html':\n     \"<div style='background-color: #fdd'>\\n\"+\n     \"<p>\\n\"+\n     \"BokehJS does not appear to have successfully loaded. If loading BokehJS from CDN, this \\n\"+\n     \"may be due to a slow or bad network connection. Possible fixes:\\n\"+\n     \"</p>\\n\"+\n     \"<ul>\\n\"+\n     \"<li>re-rerun `output_notebook()` to attempt to load from CDN again, or</li>\\n\"+\n     \"<li>use INLINE resources instead, as so:</li>\\n\"+\n     \"</ul>\\n\"+\n     \"<code>\\n\"+\n     \"from bokeh.resources import INLINE\\n\"+\n     \"output_notebook(resources=INLINE)\\n\"+\n     \"</code>\\n\"+\n     \"</div>\"}};\n\n  function display_loaded() {\n    var el = document.getElementById(\"1002\");\n    if (el != null) {\n      el.textContent = \"BokehJS is loading...\";\n    }\n    if (root.Bokeh !== undefined) {\n      if (el != null) {\n        el.textContent = \"BokehJS \" + root.Bokeh.version + \" successfully loaded.\";\n      }\n    } else if (Date.now() < root._bokeh_timeout) {\n      setTimeout(display_loaded, 100)\n    }\n  }\n\n\n  function run_callbacks() {\n    try {\n      root._bokeh_onload_callbacks.forEach(function(callback) {\n        if (callback != null)\n          callback();\n      });\n    } finally {\n      delete root._bokeh_onload_callbacks\n    }\n    console.debug(\"Bokeh: all callbacks have finished\");\n  }\n\n  function load_libs(css_urls, js_urls, callback) {\n    if (css_urls == null) css_urls = [];\n    if (js_urls == null) js_urls = [];\n\n    root._bokeh_onload_callbacks.push(callback);\n    if (root._bokeh_is_loading > 0) {\n      console.debug(\"Bokeh: BokehJS is being loaded, scheduling callback at\", now());\n      return null;\n    }\n    if (js_urls == null || js_urls.length === 0) {\n      run_callbacks();\n      return null;\n    }\n    console.debug(\"Bokeh: BokehJS not loaded, scheduling load and callback at\", now());\n    root._bokeh_is_loading = css_urls.length + js_urls.length;\n\n    function on_load() {\n      root._bokeh_is_loading--;\n      if (root._bokeh_is_loading === 0) {\n        console.debug(\"Bokeh: all BokehJS libraries/stylesheets loaded\");\n        run_callbacks()\n      }\n    }\n\n    function on_error(url) {\n      console.error(\"failed to load \" + url);\n    }\n\n    for (let i = 0; i < css_urls.length; i++) {\n      const url = css_urls[i];\n      const element = document.createElement(\"link\");\n      element.onload = on_load;\n      element.onerror = on_error.bind(null, url);\n      element.rel = \"stylesheet\";\n      element.type = \"text/css\";\n      element.href = url;\n      console.debug(\"Bokeh: injecting link tag for BokehJS stylesheet: \", url);\n      document.body.appendChild(element);\n    }\n\n    const hashes = {\"https://cdn.bokeh.org/bokeh/release/bokeh-2.3.2.min.js\": \"XypntL49z55iwGVUW4qsEu83zKL3XEcz0MjuGOQ9SlaaQ68X/g+k1FcioZi7oQAc\", \"https://cdn.bokeh.org/bokeh/release/bokeh-tables-2.3.2.min.js\": \"bEsM86IHGDTLCS0Zod8a8WM6Y4+lafAL/eSiyQcuPzinmWNgNO2/olUF0Z2Dkn5i\", \"https://cdn.bokeh.org/bokeh/release/bokeh-widgets-2.3.2.min.js\": \"TX0gSQTdXTTeScqxj6PVQxTiRW8DOoGVwinyi1D3kxv7wuxQ02XkOxv0xwiypcAH\"};\n\n    for (let i = 0; i < js_urls.length; i++) {\n      const url = js_urls[i];\n      const element = document.createElement('script');\n      element.onload = on_load;\n      element.onerror = on_error.bind(null, url);\n      element.async = false;\n      element.src = url;\n      if (url in hashes) {\n        element.crossOrigin = \"anonymous\";\n        element.integrity = \"sha384-\" + hashes[url];\n      }\n      console.debug(\"Bokeh: injecting script tag for BokehJS library: \", url);\n      document.head.appendChild(element);\n    }\n  };\n\n  function inject_raw_css(css) {\n    const element = document.createElement(\"style\");\n    element.appendChild(document.createTextNode(css));\n    document.body.appendChild(element);\n  }\n\n  \n  var js_urls = [\"https://cdn.bokeh.org/bokeh/release/bokeh-2.3.2.min.js\", \"https://cdn.bokeh.org/bokeh/release/bokeh-widgets-2.3.2.min.js\", \"https://cdn.bokeh.org/bokeh/release/bokeh-tables-2.3.2.min.js\"];\n  var css_urls = [];\n  \n\n  var inline_js = [\n    function(Bokeh) {\n      Bokeh.set_log_level(\"info\");\n    },\n    function(Bokeh) {\n    \n    \n    }\n  ];\n\n  function run_inline_js() {\n    \n    if (root.Bokeh !== undefined || force === true) {\n      \n    for (var i = 0; i < inline_js.length; i++) {\n      inline_js[i].call(root, root.Bokeh);\n    }\n    if (force === true) {\n        display_loaded();\n      }} else if (Date.now() < root._bokeh_timeout) {\n      setTimeout(run_inline_js, 100);\n    } else if (!root._bokeh_failed_load) {\n      console.log(\"Bokeh: BokehJS failed to load within specified timeout.\");\n      root._bokeh_failed_load = true;\n    } else if (force !== true) {\n      var cell = $(document.getElementById(\"1002\")).parents('.cell').data().cell;\n      cell.output_area.append_execute_result(NB_LOAD_WARNING)\n    }\n\n  }\n\n  if (root._bokeh_is_loading === 0) {\n    console.debug(\"Bokeh: BokehJS loaded, going straight to plotting\");\n    run_inline_js();\n  } else {\n    load_libs(css_urls, js_urls, function() {\n      console.debug(\"Bokeh: BokehJS plotting callback run at\", now());\n      run_inline_js();\n    });\n  }\n}(window));"
     },
     "metadata": {},
     "output_type": "display_data"
    },
    {
     "data": {
      "text/html": [
       "\n",
       "\n",
       "\n",
       "\n",
       "\n",
       "\n",
       "  <div class=\"bk-root\" id=\"e6514b92-3b24-4995-b00b-a1009ff23d42\" data-root-id=\"1003\"></div>\n"
      ]
     },
     "metadata": {},
     "output_type": "display_data"
    },
    {
     "data": {
      "application/javascript": [
       "(function(root) {\n",
       "  function embed_document(root) {\n",
       "    \n",
       "  var docs_json = {\"c3dab320-7e51-4d1f-820f-e84793340fb4\":{\"defs\":[],\"roots\":{\"references\":[{\"attributes\":{\"below\":[{\"id\":\"1014\"}],\"center\":[{\"id\":\"1017\"},{\"id\":\"1021\"},{\"id\":\"1063\"}],\"left\":[{\"id\":\"1018\"}],\"renderers\":[{\"id\":\"1039\"},{\"id\":\"1068\"}],\"title\":{\"id\":\"1004\"},\"toolbar\":{\"id\":\"1029\"},\"width\":950,\"x_range\":{\"id\":\"1006\"},\"x_scale\":{\"id\":\"1010\"},\"y_range\":{\"id\":\"1008\"},\"y_scale\":{\"id\":\"1012\"}},\"id\":\"1003\",\"subtype\":\"Figure\",\"type\":\"Plot\"},{\"attributes\":{\"days\":[1,15]},\"id\":\"1056\",\"type\":\"DaysTicker\"},{\"attributes\":{},\"id\":\"1012\",\"type\":\"LinearScale\"},{\"attributes\":{\"data\":{\"x\":{\"__ndarray__\":\"AABAZNoEc0IAAADKLAVzQgAAQPsjBnNCAAAAYXYGc0IAAMDGyAZzQgAAgCwbB3NCAABAkm0Hc0IAAIDDZAhzQgAAQCm3CHNCAAAAjwkJc0IAAMD0WwlzQgAAgFquCXNCAADAi6UKc0IAAIDx9wpzQgAAQFdKC3NCAAAAvZwLc0IAAMAi7wtzQgAAAFTmDHNCAADAuTgNc0IAAIAfiw1zQgAAQIXdDXNCAAAA6y8Oc0IAAEAcJw9zQgAAAIJ5D3NCAADA58sPc0IAAIBNHhBzQgAAQLNwEHNCAACA5GcRc0IAAEBKuhFzQgAAALAMEnNCAADAFV8Sc0IAAIB7sRJzQgAAwKyoE3NCAACAEvsTc0IAAEB4TRRzQgAAAN6fFHNCAADAQ/IUc0IAAAB16RVzQgAAwNo7FnNCAACAQI4Wc0IAAECm4BZzQgAAAAwzF3NCAABAPSoYc0IAAACjfBhzQgAAwAjPGHNCAACAbiEZc0IAAEDUcxlzQgAAgAVrGnNCAABAa70ac0IAAADRDxtzQgAAwDZiG3NCAACAnLQbc0IAAIAz/hxzQgAAQJlQHXNCAAAA/6Idc0IAAMBk9R1zQgAAAJbsHnNCAADA+z4fc0IAAIBhkR9zQgAAQMfjH3NCAAAALTYgc0IAAEBeLSFzQgAAAMR/IXNCAABA9XYic0IAAIAmbiNzQgAAQIzAI3NCAAAA8hIkc0IAAMBXZSRzQgAAgL23JHNCAADA7q4lc0IAAIBUASZzQgAAQLpTJnNCAAAAIKYmc0IAAMCF+CZzQgAAALfvJ3NCAADAHEIoc0IAAICClChzQgAAQOjmKHNCAAAATjkpc0IAAEB/MCpzQgAAAOWCKnNCAADAStUqc0IAAICwJytzQgAAQBZ6K3NCAACAR3Esc0IAAECtwyxzQgAAABMWLXNCAACA3rotc0IAAMAPsi5zQgAAgHUEL3NCAABA21Yvc0IAAABBqS9zQgAAwKb7L3NCAAAA2PIwc0IAAMA9RTFzQgAAgKOXMXNCAABACeoxc0IAAABvPDJzQgAAQKAzM3NCAAAABoYzc0IAAMBr2DNzQgAAQDd9NHNCAACAaHQ1c0IAAEDOxjVzQgAAADQZNnNCAADAmWs2c0IAAID/vTZzQgAAgJYHOHNCAABA/Fk4c0IAAMDH/jhzQgAAAPn1OXNCAADAXkg6c0IAAIDEmjpzQgAAQCrtOnNCAAAAkD87c0IAAEDBNjxzQgAAACeJPHNCAADAjNs8c0IAAIDyLT1zQgAAQFiAPXNCAACAiXc+c0IAAEDvyT5zQgAAAFUcP3NCAADAum4/c0IAAIAgwT9zQgAAwFG4QHNCAABAHV1Bc0IAAACDr0FzQgAAwOgBQnNCAAAAGvlCc0IAAMB/S0NzQgAAgOWdQ3NCAABAS/BDc0IAAACxQkRzQgAAQOI5RXNCAAAASIxFc0IAAMCt3kVzQgAAgBMxRnNCAABAeYNGc0IAAICqekdzQgAAQBDNR3NCAAAAdh9Ic0IAAMDbcUhzQgAAgEHESHNC\",\"dtype\":\"float64\",\"order\":\"little\",\"shape\":[144]},\"y\":{\"__ndarray__\":\"AAAAAAAAAADL4GAYK1/jv7OrsoPzGdW/8pN5FWDAuj84wFaR7hjbvy2TWkuD5OC/rNEtHJub8r8gt9ZR/3jzvzVBsV2Tvey/n8vVYgmm/b9GJUr3niMGwNqLUSB+gwrA5zVVdX4TFcDBgHdLVMgTwGNJ6eYgmxPA2vjXEsuZEMDIXQe6Ws32v1+3OaO6Ytu/vgLWPs9Kt781vKJmeeLsP8wxfmED+vs/ZrHIkU8n9j8VMCTMyN78P51sOrbqkPc/4oB7ciqm9T+GNt/WFb4JQI18fU7Ty/8/MvoKmCn08j8pdQVdkOfbv6zFCU6PPOQ/JHvItYmC7D/NXwZMhrrhP3l9bESmQdM/5wPV0Po38j95fWxEpkHTP5aUD+TMLcS/rLWECnEZ+D+gemE9+LoCQNKc4tgeQNw/HdeOka1fsL/Ib+aSswvyv+d8v/kItPO/98dj48lX47/YjlwnLAr7v3YCf2KW+gTAez9b7y6AD8BHmCI5J3AYwBhb4RdTHx/A1/+aa8Q0IcAd2dXZOg8cwK8T8VgHsh3Axlz7RNgzIcB4iKRRiooiwN4F8O+qyiHA6ucnmPrXJcD3amI0m2QpwO5Q8wNReifAKyWJbSmsJcDNYq/zo9UnwNd1HFVqnCnA6kmP1TzrLMBVzj6icbomwJQ7ptKOyyPAuMZz+8tjIsAcB6FhHjYjwP7361GjgyHAIf8tidytHsD3l308Np4cwNddKqNgsCHABoahmIi/JcDEShxsf/UlwMAmoGUDYSPA0FfVHnoaIcCqX4Q4m8sgwGyPpiAOriLAUd4+nfmOHcC6a+yVMg8ewD2B/YUVlSbAMqCS3L2YKMCgN02rKMMpwKxCKrX93STA2UE+9NXHJcAsrYoFQ0YjwLSjxPNH4CXAAmRgZRdBKcCrqbcYngoswMn9u43zyizACk38O3vdJ8CykBgc95AkwOSC1QdlwSTAo1sLXdo/IMBfJW3gpAYhwGiGxXO5IB7Aior/2O8jH8D0swrB23oiwDU/V8hYoh3AVyPQrQmFIMBV42f4AggiwAuMl/KJSSDAYPYzhK7aGcAoAP68fx4ZwDPMfobQVQvABeGHKAcgEMDNkrVOkhIVwOgzecxYCRXA1zBuxaqCFMDfHFQZRy4TwJ5+GY9DzxLAvrrpplm7F8AM1O4pZ34bwLMGmgWd+BzAPja7++RcIcDDHQFk5LsiwE3KxcawLibArLhMdL45J8AYKg6+bNErwLSPCXLJlyrAYzdpOK1oLsCxrp7IcZsswChI9sl3Ry7AZOwmrnwwKcCvPz9iqtoqwBkPMbkP4inAaWmtm1EbJsApnSirKgYiwP6wwEOjayLAgMyF4lGTIcBcF0ZZl9wlwKTQHnJtoijA40LMfENQLMC16k4sLQQrwJtcN4a3XCzAswaaBZ34LMDzErn8UjEwwKg1wwfm4jDA9i2WAbAgMsBI8lhJXeMuwOCojOHray3AIZ5U1AcjLsAIhgDDbcsrwIEWucJU0izAddt2M6xuLsCZXecFAEowwKiI15Q9rzDA\",\"dtype\":\"float64\",\"order\":\"little\",\"shape\":[144]}},\"selected\":{\"id\":\"1080\"},\"selection_policy\":{\"id\":\"1079\"}},\"id\":\"1065\",\"type\":\"ColumnDataSource\"},{\"attributes\":{\"bottom_units\":\"screen\",\"fill_alpha\":0.5,\"fill_color\":\"lightgrey\",\"left_units\":\"screen\",\"level\":\"overlay\",\"line_alpha\":1.0,\"line_color\":\"black\",\"line_dash\":[4,4],\"line_width\":2,\"right_units\":\"screen\",\"syncable\":false,\"top_units\":\"screen\"},\"id\":\"1028\",\"type\":\"BoxAnnotation\"},{\"attributes\":{\"label\":{\"value\":\"Nifty500\"},\"renderers\":[{\"id\":\"1039\"}]},\"id\":\"1064\",\"type\":\"LegendItem\"},{\"attributes\":{\"days\":[1,2,3,4,5,6,7,8,9,10,11,12,13,14,15,16,17,18,19,20,21,22,23,24,25,26,27,28,29,30,31]},\"id\":\"1053\",\"type\":\"DaysTicker\"},{\"attributes\":{\"axis\":{\"id\":\"1014\"},\"ticker\":null},\"id\":\"1017\",\"type\":\"Grid\"},{\"attributes\":{\"click_policy\":\"hide\",\"items\":[{\"id\":\"1064\"},{\"id\":\"1094\"}],\"location\":\"bottom_right\"},\"id\":\"1063\",\"type\":\"Legend\"},{\"attributes\":{},\"id\":\"1010\",\"type\":\"LinearScale\"},{\"attributes\":{\"line_alpha\":0.1,\"line_color\":\"red\",\"x\":{\"field\":\"x\"},\"y\":{\"field\":\"y\"}},\"id\":\"1038\",\"type\":\"Line\"},{\"attributes\":{\"axis_label\":\"Date\",\"formatter\":{\"id\":\"1047\"},\"major_label_policy\":{\"id\":\"1046\"},\"ticker\":{\"id\":\"1015\"}},\"id\":\"1014\",\"type\":\"DatetimeAxis\"},{\"attributes\":{},\"id\":\"1080\",\"type\":\"Selection\"},{\"attributes\":{},\"id\":\"1046\",\"type\":\"AllLabels\"},{\"attributes\":{},\"id\":\"1061\",\"type\":\"YearsTicker\"},{\"attributes\":{\"data\":{\"x\":{\"__ndarray__\":\"AABAZNoEc0IAAADKLAVzQgAAQPsjBnNCAAAAYXYGc0IAAMDGyAZzQgAAgCwbB3NCAABAkm0Hc0IAAIDDZAhzQgAAQCm3CHNCAAAAjwkJc0IAAMD0WwlzQgAAgFquCXNCAADAi6UKc0IAAIDx9wpzQgAAQFdKC3NCAAAAvZwLc0IAAMAi7wtzQgAAAFTmDHNCAADAuTgNc0IAAIAfiw1zQgAAQIXdDXNCAAAA6y8Oc0IAAEAcJw9zQgAAAIJ5D3NCAADA58sPc0IAAIBNHhBzQgAAQLNwEHNCAACA5GcRc0IAAEBKuhFzQgAAALAMEnNCAADAFV8Sc0IAAIB7sRJzQgAAwKyoE3NCAACAEvsTc0IAAEB4TRRzQgAAAN6fFHNCAADAQ/IUc0IAAAB16RVzQgAAwNo7FnNCAACAQI4Wc0IAAECm4BZzQgAAAAwzF3NCAABAPSoYc0IAAACjfBhzQgAAwAjPGHNCAACAbiEZc0IAAEDUcxlzQgAAgAVrGnNCAABAa70ac0IAAADRDxtzQgAAwDZiG3NCAACAnLQbc0IAAIAz/hxzQgAAQJlQHXNCAAAA/6Idc0IAAMBk9R1zQgAAAJbsHnNCAADA+z4fc0IAAIBhkR9zQgAAQMfjH3NCAAAALTYgc0IAAEBeLSFzQgAAAMR/IXNCAABA9XYic0IAAIAmbiNzQgAAQIzAI3NCAAAA8hIkc0IAAMBXZSRzQgAAgL23JHNCAADA7q4lc0IAAIBUASZzQgAAQLpTJnNCAAAAIKYmc0IAAMCF+CZzQgAAALfvJ3NCAADAHEIoc0IAAICClChzQgAAQOjmKHNCAAAATjkpc0IAAEB/MCpzQgAAAOWCKnNCAADAStUqc0IAAICwJytzQgAAQBZ6K3NCAACAR3Esc0IAAECtwyxzQgAAABMWLXNCAACA3rotc0IAAMAPsi5zQgAAgHUEL3NCAABA21Yvc0IAAABBqS9zQgAAwKb7L3NCAAAA2PIwc0IAAMA9RTFzQgAAgKOXMXNCAABACeoxc0IAAABvPDJzQgAAQKAzM3NCAAAABoYzc0IAAMBr2DNzQgAAQDd9NHNCAACAaHQ1c0IAAEDOxjVzQgAAADQZNnNCAADAmWs2c0IAAID/vTZzQgAAgJYHOHNCAABA/Fk4c0IAAMDH/jhzQgAAAPn1OXNCAADAXkg6c0IAAIDEmjpzQgAAQCrtOnNCAAAAkD87c0IAAEDBNjxzQgAAACeJPHNCAADAjNs8c0IAAIDyLT1zQgAAQFiAPXNCAACAiXc+c0IAAEDvyT5zQgAAAFUcP3NCAADAum4/c0IAAIAgwT9zQgAAwFG4QHNCAABAHV1Bc0IAAACDr0FzQgAAwOgBQnNCAAAAGvlCc0IAAMB/S0NzQgAAgOWdQ3NCAABAS/BDc0IAAACxQkRzQgAAQOI5RXNCAAAASIxFc0IAAMCt3kVzQgAAgBMxRnNCAABAeYNGc0IAAICqekdzQgAAQBDNR3NCAAAAdh9Ic0IAAMDbcUhzQgAAgEHESHNC\",\"dtype\":\"float64\",\"order\":\"little\",\"shape\":[144]},\"y\":{\"__ndarray__\":\"AAAAAAAAAAAfFYtK3Zjhv5ET4KPhV9i/YjefC34hxT8mRDqEao7Kv3RpRcR2WNS/VoznwG9g7L8NdLpQK0Xrv/FaCCYjad+/5w2cYnlB9b9/P47z4XgBwPAfObnlRQbANM5GTLiRE8D6exv9Nh0TwBHrssU6/hPAgC4vt/P5EcCAsMKk7x8AwBxnO0/v1u6/7Y24U6Mh5L/gZ4cnX9fLPw4Sbt851+w/L4DHjb8y7D9gHxPNrcX3P1+UW2OXePM/JgK1ER3U8j8EJsnSvVwGQB/cltv0yfk/zLBHWoDp7D88aqSSApngv8yBvgwrdOI/9VobHD+p7j+gsd8KYOrmP1BdOIfiauM/ie/e2FwP9D+7gV8+nzPWP4Wb63xvj8O/59z1qYAK9j+9UVE2hv0AQP4RIgfK1t8/b6WG9Vv8yD8UjQ2tp+Dqv+mNpV2H4fS/MB57HM7E7b/GTtX8Vvv/v97ZLZ0U/wXALR5oJrKEDsD50RORTmIXwFR7dY5loR3Agwx4HZC5IMBnuthiGMwawL0kMSLeWxzAnXxn1aYdIMAbw34IG+chwBvDfggb5yHATDL8+4nKJcCPm/zLPNcowI7g3MOr2CbAOjNB9YANJcAsSJNiPd0mwCBd5c/5rCjAJn3/gFMnLMAmMukFboomwNB4QPqu0SPAHEkFJ+VdIsCoYBOKarYiwJI4zNYuXyHAe8cQxA7/HcD59mVsbXAcwEHDkf42JyHARGZqwe4MJcDC16qJnzYlwH4dvYTpOiPAN2AHc8czIcD8rRmlQtcgwDbfuH7CUCLAgRDk7EtRHsBq4ccmQaAdwEwy/PuJyiXA3X6jSNaqJ8D6vJRY4VQpwJWbKZftFCXA3XlrHhEXJsC7O3oOBm0kwBwvIfkBfybA13k+U2DZKcCeLrtL/YAswJkKZ8mPei3ALlnYyZZeKcCrY67LJYQmwHkkZcwHVybA6Byedyp4IsD9CHcu0O0iwCpAwPa8eyHAg7uK6IzKIcAv2lOJTH8kwNlqw5/BWyHAFj9oB6r4IsCh1Sd2Km4kwMqS91zhciPAduwwoYUBIcBpUAAm7DcgwMSZn6T/jhbAKiF302PLF8BJANGIzdIbwJIvAEX0wxvAcP0bcn0HG8CgFDG0ex0ZwGSivujv8BjA7cLksOztHcD77ZSnOwchwJ3XxF40NCLAAV3/pI6qJcC1vJs3WhInwLTGC4zkOSrA+0dToXBfK8ABjjHykGgvwCpLAdlHbS7AZLkH1RcCMcDu3r9dOw4wwIAxhC4qhDDAnKFfGmSwLMBt2vITckYuwGbESLei8y3ALV4Q9FvyKsB7YNPInTgnwEoH02ZNaifAqEYvXIfXJsAg6KMYibcqwEHvXlbDEy3AP1fCQp9RMMDysC2F6+svwM4GgYUlpDDA7FIcu84BMcCuwNUIbp4ywPA2yG+SmjPAMPiKhxfwNMDIMX1PscYywPExkEXNBjLAuuAchXhWMsAGn7fwd18xwLCPvLo/5jHAU5Oj1Gq0MsDGyuW93oQzwImmC7AfvTPA\",\"dtype\":\"float64\",\"order\":\"little\",\"shape\":[144]}},\"selected\":{\"id\":\"1049\"},\"selection_policy\":{\"id\":\"1048\"}},\"id\":\"1036\",\"type\":\"ColumnDataSource\"},{\"attributes\":{\"line_alpha\":0.1,\"line_color\":\"goldenrod\",\"x\":{\"field\":\"x\"},\"y\":{\"field\":\"y\"}},\"id\":\"1067\",\"type\":\"Line\"},{\"attributes\":{},\"id\":\"1079\",\"type\":\"UnionRenderers\"},{\"attributes\":{\"text\":\"Benchmarks Vs Agents (Cumulative Returns)\"},\"id\":\"1004\",\"type\":\"Title\"},{\"attributes\":{\"mantissas\":[1,2,5],\"max_interval\":500.0,\"num_minor_ticks\":0},\"id\":\"1050\",\"type\":\"AdaptiveTicker\"},{\"attributes\":{},\"id\":\"1049\",\"type\":\"Selection\"},{\"attributes\":{\"base\":24,\"mantissas\":[1,2,4,6,8,12],\"max_interval\":43200000.0,\"min_interval\":3600000.0,\"num_minor_ticks\":0},\"id\":\"1052\",\"type\":\"AdaptiveTicker\"},{\"attributes\":{\"base\":60,\"mantissas\":[1,2,5,10,15,20,30],\"max_interval\":1800000.0,\"min_interval\":1000.0,\"num_minor_ticks\":0},\"id\":\"1051\",\"type\":\"AdaptiveTicker\"},{\"attributes\":{\"days\":[1,4,7,10,13,16,19,22,25,28]},\"id\":\"1054\",\"type\":\"DaysTicker\"},{\"attributes\":{},\"id\":\"1044\",\"type\":\"BasicTickFormatter\"},{\"attributes\":{\"data_source\":{\"id\":\"1065\"},\"glyph\":{\"id\":\"1066\"},\"hover_glyph\":null,\"muted_glyph\":null,\"nonselection_glyph\":{\"id\":\"1067\"},\"view\":{\"id\":\"1069\"}},\"id\":\"1068\",\"type\":\"GlyphRenderer\"},{\"attributes\":{},\"id\":\"1043\",\"type\":\"AllLabels\"},{\"attributes\":{\"source\":{\"id\":\"1036\"}},\"id\":\"1040\",\"type\":\"CDSView\"},{\"attributes\":{},\"id\":\"1027\",\"type\":\"HelpTool\"},{\"attributes\":{\"months\":[0,4,8]},\"id\":\"1059\",\"type\":\"MonthsTicker\"},{\"attributes\":{},\"id\":\"1048\",\"type\":\"UnionRenderers\"},{\"attributes\":{\"source\":{\"id\":\"1065\"}},\"id\":\"1069\",\"type\":\"CDSView\"},{\"attributes\":{\"days\":[1,8,15,22]},\"id\":\"1055\",\"type\":\"DaysTicker\"},{\"attributes\":{\"months\":[0,2,4,6,8,10]},\"id\":\"1058\",\"type\":\"MonthsTicker\"},{\"attributes\":{\"num_minor_ticks\":5,\"tickers\":[{\"id\":\"1050\"},{\"id\":\"1051\"},{\"id\":\"1052\"},{\"id\":\"1053\"},{\"id\":\"1054\"},{\"id\":\"1055\"},{\"id\":\"1056\"},{\"id\":\"1057\"},{\"id\":\"1058\"},{\"id\":\"1059\"},{\"id\":\"1060\"},{\"id\":\"1061\"}]},\"id\":\"1015\",\"type\":\"DatetimeTicker\"},{\"attributes\":{},\"id\":\"1047\",\"type\":\"DatetimeTickFormatter\"},{\"attributes\":{},\"id\":\"1026\",\"type\":\"ResetTool\"},{\"attributes\":{},\"id\":\"1025\",\"type\":\"SaveTool\"},{\"attributes\":{\"overlay\":{\"id\":\"1028\"}},\"id\":\"1024\",\"type\":\"BoxZoomTool\"},{\"attributes\":{},\"id\":\"1022\",\"type\":\"PanTool\"},{\"attributes\":{},\"id\":\"1008\",\"type\":\"DataRange1d\"},{\"attributes\":{},\"id\":\"1023\",\"type\":\"WheelZoomTool\"},{\"attributes\":{\"label\":{\"value\":\"Nifty\"},\"renderers\":[{\"id\":\"1068\"}]},\"id\":\"1094\",\"type\":\"LegendItem\"},{\"attributes\":{\"active_multi\":null,\"tools\":[{\"id\":\"1022\"},{\"id\":\"1023\"},{\"id\":\"1024\"},{\"id\":\"1025\"},{\"id\":\"1026\"},{\"id\":\"1027\"}]},\"id\":\"1029\",\"type\":\"Toolbar\"},{\"attributes\":{\"line_alpha\":0.5,\"line_color\":\"red\",\"x\":{\"field\":\"x\"},\"y\":{\"field\":\"y\"}},\"id\":\"1037\",\"type\":\"Line\"},{\"attributes\":{\"axis\":{\"id\":\"1018\"},\"dimension\":1,\"ticker\":null},\"id\":\"1021\",\"type\":\"Grid\"},{\"attributes\":{\"months\":[0,6]},\"id\":\"1060\",\"type\":\"MonthsTicker\"},{\"attributes\":{\"axis_label\":\"Cumulative Return (in %)\",\"formatter\":{\"id\":\"1044\"},\"major_label_policy\":{\"id\":\"1043\"},\"ticker\":{\"id\":\"1019\"}},\"id\":\"1018\",\"type\":\"LinearAxis\"},{\"attributes\":{\"months\":[0,1,2,3,4,5,6,7,8,9,10,11]},\"id\":\"1057\",\"type\":\"MonthsTicker\"},{\"attributes\":{},\"id\":\"1019\",\"type\":\"BasicTicker\"},{\"attributes\":{},\"id\":\"1006\",\"type\":\"DataRange1d\"},{\"attributes\":{\"line_alpha\":0.5,\"line_color\":\"goldenrod\",\"x\":{\"field\":\"x\"},\"y\":{\"field\":\"y\"}},\"id\":\"1066\",\"type\":\"Line\"},{\"attributes\":{\"data_source\":{\"id\":\"1036\"},\"glyph\":{\"id\":\"1037\"},\"hover_glyph\":null,\"muted_glyph\":null,\"nonselection_glyph\":{\"id\":\"1038\"},\"view\":{\"id\":\"1040\"}},\"id\":\"1039\",\"type\":\"GlyphRenderer\"}],\"root_ids\":[\"1003\"]},\"title\":\"Bokeh Application\",\"version\":\"2.3.2\"}};\n",
       "  var render_items = [{\"docid\":\"c3dab320-7e51-4d1f-820f-e84793340fb4\",\"notebook_comms_target\":\"1119\",\"root_ids\":[\"1003\"],\"roots\":{\"1003\":\"e6514b92-3b24-4995-b00b-a1009ff23d42\"}}];\n",
       "  root.Bokeh.embed.embed_items_notebook(docs_json, render_items);\n",
       "\n",
       "  }\n",
       "  if (root.Bokeh !== undefined) {\n",
       "    embed_document(root);\n",
       "  } else {\n",
       "    var attempts = 0;\n",
       "    var timer = setInterval(function(root) {\n",
       "      if (root.Bokeh !== undefined) {\n",
       "        clearInterval(timer);\n",
       "        embed_document(root);\n",
       "      } else {\n",
       "        attempts++;\n",
       "        if (attempts > 100) {\n",
       "          clearInterval(timer);\n",
       "          console.log(\"Bokeh: ERROR: Unable to run BokehJS code because BokehJS library is missing\");\n",
       "        }\n",
       "      }\n",
       "    }, 10, root)\n",
       "  }\n",
       "})(window);"
      ],
      "application/vnd.bokehjs_exec.v0+json": ""
     },
     "metadata": {
      "application/vnd.bokehjs_exec.v0+json": {
       "id": "1003"
      }
     },
     "output_type": "display_data"
    }
   ],
   "source": [
    "bt.cret_plot()"
   ]
  },
  {
   "cell_type": "code",
   "execution_count": 3,
   "id": "3fc79edc",
   "metadata": {
    "scrolled": false
   },
   "outputs": [
    {
     "data": {
      "text/html": [
       "\n",
       "\n",
       "\n",
       "\n",
       "\n",
       "\n",
       "  <div class=\"bk-root\" id=\"13b8bf0d-b191-4a1b-b202-86a069809c5e\" data-root-id=\"1240\"></div>\n"
      ]
     },
     "metadata": {},
     "output_type": "display_data"
    },
    {
     "data": {
      "application/javascript": [
       "(function(root) {\n",
       "  function embed_document(root) {\n",
       "    \n",
       "  var docs_json = {\"245e6ad6-f12b-4f15-9e18-3eef30adda66\":{\"defs\":[],\"roots\":{\"references\":[{\"attributes\":{\"below\":[{\"id\":\"1251\"}],\"center\":[{\"id\":\"1254\"},{\"id\":\"1258\"},{\"id\":\"1300\"}],\"left\":[{\"id\":\"1255\"}],\"renderers\":[{\"id\":\"1276\"},{\"id\":\"1305\"}],\"title\":{\"id\":\"1241\"},\"toolbar\":{\"id\":\"1266\"},\"width\":950,\"x_range\":{\"id\":\"1243\"},\"x_scale\":{\"id\":\"1247\"},\"y_range\":{\"id\":\"1245\"},\"y_scale\":{\"id\":\"1249\"}},\"id\":\"1240\",\"subtype\":\"Figure\",\"type\":\"Plot\"},{\"attributes\":{\"days\":[1,2,3,4,5,6,7,8,9,10,11,12,13,14,15,16,17,18,19,20,21,22,23,24,25,26,27,28,29,30,31]},\"id\":\"1290\",\"type\":\"DaysTicker\"},{\"attributes\":{\"months\":[0,2,4,6,8,10]},\"id\":\"1295\",\"type\":\"MonthsTicker\"},{\"attributes\":{\"source\":{\"id\":\"1273\"}},\"id\":\"1277\",\"type\":\"CDSView\"},{\"attributes\":{},\"id\":\"1316\",\"type\":\"UnionRenderers\"},{\"attributes\":{},\"id\":\"1256\",\"type\":\"BasicTicker\"},{\"attributes\":{},\"id\":\"1245\",\"type\":\"DataRange1d\"},{\"attributes\":{\"base\":24,\"mantissas\":[1,2,4,6,8,12],\"max_interval\":43200000.0,\"min_interval\":3600000.0,\"num_minor_ticks\":0},\"id\":\"1289\",\"type\":\"AdaptiveTicker\"},{\"attributes\":{},\"id\":\"1259\",\"type\":\"PanTool\"},{\"attributes\":{},\"id\":\"1280\",\"type\":\"AllLabels\"},{\"attributes\":{\"line_alpha\":0.5,\"line_color\":\"red\",\"x\":{\"field\":\"x\"},\"y\":{\"field\":\"y\"}},\"id\":\"1274\",\"type\":\"Line\"},{\"attributes\":{},\"id\":\"1262\",\"type\":\"SaveTool\"},{\"attributes\":{\"click_policy\":\"hide\",\"items\":[{\"id\":\"1301\"},{\"id\":\"1331\"}],\"location\":\"bottom_right\"},\"id\":\"1300\",\"type\":\"Legend\"},{\"attributes\":{\"text\":\"Benchmarks Vs Agents (Daily Returns)\"},\"id\":\"1241\",\"type\":\"Title\"},{\"attributes\":{\"months\":[0,4,8]},\"id\":\"1296\",\"type\":\"MonthsTicker\"},{\"attributes\":{},\"id\":\"1263\",\"type\":\"ResetTool\"},{\"attributes\":{\"source\":{\"id\":\"1302\"}},\"id\":\"1306\",\"type\":\"CDSView\"},{\"attributes\":{\"months\":[0,6]},\"id\":\"1297\",\"type\":\"MonthsTicker\"},{\"attributes\":{},\"id\":\"1317\",\"type\":\"Selection\"},{\"attributes\":{\"days\":[1,15]},\"id\":\"1293\",\"type\":\"DaysTicker\"},{\"attributes\":{},\"id\":\"1285\",\"type\":\"UnionRenderers\"},{\"attributes\":{\"label\":{\"value\":\"Nifty\"},\"renderers\":[{\"id\":\"1305\"}]},\"id\":\"1331\",\"type\":\"LegendItem\"},{\"attributes\":{\"days\":[1,4,7,10,13,16,19,22,25,28]},\"id\":\"1291\",\"type\":\"DaysTicker\"},{\"attributes\":{\"num_minor_ticks\":5,\"tickers\":[{\"id\":\"1287\"},{\"id\":\"1288\"},{\"id\":\"1289\"},{\"id\":\"1290\"},{\"id\":\"1291\"},{\"id\":\"1292\"},{\"id\":\"1293\"},{\"id\":\"1294\"},{\"id\":\"1295\"},{\"id\":\"1296\"},{\"id\":\"1297\"},{\"id\":\"1298\"}]},\"id\":\"1252\",\"type\":\"DatetimeTicker\"},{\"attributes\":{\"label\":{\"value\":\"Nifty500\"},\"renderers\":[{\"id\":\"1276\"}]},\"id\":\"1301\",\"type\":\"LegendItem\"},{\"attributes\":{},\"id\":\"1283\",\"type\":\"AllLabels\"},{\"attributes\":{},\"id\":\"1264\",\"type\":\"HelpTool\"},{\"attributes\":{\"bottom_units\":\"screen\",\"fill_alpha\":0.5,\"fill_color\":\"lightgrey\",\"left_units\":\"screen\",\"level\":\"overlay\",\"line_alpha\":1.0,\"line_color\":\"black\",\"line_dash\":[4,4],\"line_width\":2,\"right_units\":\"screen\",\"syncable\":false,\"top_units\":\"screen\"},\"id\":\"1265\",\"type\":\"BoxAnnotation\"},{\"attributes\":{},\"id\":\"1298\",\"type\":\"YearsTicker\"},{\"attributes\":{},\"id\":\"1260\",\"type\":\"WheelZoomTool\"},{\"attributes\":{},\"id\":\"1249\",\"type\":\"LinearScale\"},{\"attributes\":{},\"id\":\"1284\",\"type\":\"DatetimeTickFormatter\"},{\"attributes\":{},\"id\":\"1247\",\"type\":\"LinearScale\"},{\"attributes\":{\"axis\":{\"id\":\"1251\"},\"ticker\":null},\"id\":\"1254\",\"type\":\"Grid\"},{\"attributes\":{\"mantissas\":[1,2,5],\"max_interval\":500.0,\"num_minor_ticks\":0},\"id\":\"1287\",\"type\":\"AdaptiveTicker\"},{\"attributes\":{\"axis_label\":\"Daily Returns (in %)\",\"formatter\":{\"id\":\"1281\"},\"major_label_policy\":{\"id\":\"1280\"},\"ticker\":{\"id\":\"1256\"}},\"id\":\"1255\",\"type\":\"LinearAxis\"},{\"attributes\":{\"days\":[1,8,15,22]},\"id\":\"1292\",\"type\":\"DaysTicker\"},{\"attributes\":{\"axis\":{\"id\":\"1255\"},\"dimension\":1,\"ticker\":null},\"id\":\"1258\",\"type\":\"Grid\"},{\"attributes\":{\"line_alpha\":0.5,\"line_color\":\"goldenrod\",\"x\":{\"field\":\"x\"},\"y\":{\"field\":\"y\"}},\"id\":\"1303\",\"type\":\"Line\"},{\"attributes\":{\"line_alpha\":0.1,\"line_color\":\"red\",\"x\":{\"field\":\"x\"},\"y\":{\"field\":\"y\"}},\"id\":\"1275\",\"type\":\"Line\"},{\"attributes\":{\"data_source\":{\"id\":\"1302\"},\"glyph\":{\"id\":\"1303\"},\"hover_glyph\":null,\"muted_glyph\":null,\"nonselection_glyph\":{\"id\":\"1304\"},\"view\":{\"id\":\"1306\"}},\"id\":\"1305\",\"type\":\"GlyphRenderer\"},{\"attributes\":{\"line_alpha\":0.1,\"line_color\":\"goldenrod\",\"x\":{\"field\":\"x\"},\"y\":{\"field\":\"y\"}},\"id\":\"1304\",\"type\":\"Line\"},{\"attributes\":{\"data\":{\"x\":{\"__ndarray__\":\"AABAZNoEc0IAAADKLAVzQgAAQPsjBnNCAAAAYXYGc0IAAMDGyAZzQgAAgCwbB3NCAABAkm0Hc0IAAIDDZAhzQgAAQCm3CHNCAAAAjwkJc0IAAMD0WwlzQgAAgFquCXNCAADAi6UKc0IAAIDx9wpzQgAAQFdKC3NCAAAAvZwLc0IAAMAi7wtzQgAAAFTmDHNCAADAuTgNc0IAAIAfiw1zQgAAQIXdDXNCAAAA6y8Oc0IAAEAcJw9zQgAAAIJ5D3NCAADA58sPc0IAAIBNHhBzQgAAQLNwEHNCAACA5GcRc0IAAEBKuhFzQgAAALAMEnNCAADAFV8Sc0IAAIB7sRJzQgAAwKyoE3NCAACAEvsTc0IAAEB4TRRzQgAAAN6fFHNCAADAQ/IUc0IAAAB16RVzQgAAwNo7FnNCAACAQI4Wc0IAAECm4BZzQgAAAAwzF3NCAABAPSoYc0IAAACjfBhzQgAAwAjPGHNCAACAbiEZc0IAAEDUcxlzQgAAgAVrGnNCAABAa70ac0IAAADRDxtzQgAAwDZiG3NCAACAnLQbc0IAAIAz/hxzQgAAQJlQHXNCAAAA/6Idc0IAAMBk9R1zQgAAAJbsHnNCAADA+z4fc0IAAIBhkR9zQgAAQMfjH3NCAAAALTYgc0IAAEBeLSFzQgAAAMR/IXNCAABA9XYic0IAAIAmbiNzQgAAQIzAI3NCAAAA8hIkc0IAAMBXZSRzQgAAgL23JHNCAADA7q4lc0IAAIBUASZzQgAAQLpTJnNCAAAAIKYmc0IAAMCF+CZzQgAAALfvJ3NCAADAHEIoc0IAAICClChzQgAAQOjmKHNCAAAATjkpc0IAAEB/MCpzQgAAAOWCKnNCAADAStUqc0IAAICwJytzQgAAQBZ6K3NCAACAR3Esc0IAAECtwyxzQgAAABMWLXNCAACA3rotc0IAAMAPsi5zQgAAgHUEL3NCAABA21Yvc0IAAABBqS9zQgAAwKb7L3NCAAAA2PIwc0IAAMA9RTFzQgAAgKOXMXNCAABACeoxc0IAAABvPDJzQgAAQKAzM3NCAAAABoYzc0IAAMBr2DNzQgAAQDd9NHNCAACAaHQ1c0IAAEDOxjVzQgAAADQZNnNCAADAmWs2c0IAAID/vTZzQgAAgJYHOHNCAABA/Fk4c0IAAMDH/jhzQgAAAPn1OXNCAADAXkg6c0IAAIDEmjpzQgAAQCrtOnNCAAAAkD87c0IAAEDBNjxzQgAAACeJPHNCAADAjNs8c0IAAIDyLT1zQgAAQFiAPXNCAACAiXc+c0IAAEDvyT5zQgAAAFUcP3NCAADAum4/c0IAAIAgwT9zQgAAwFG4QHNCAABAHV1Bc0IAAACDr0FzQgAAwOgBQnNCAAAAGvlCc0IAAMB/S0NzQgAAgOWdQ3NCAABAS/BDc0IAAACxQkRzQgAAQOI5RXNCAAAASIxFc0IAAMCt3kVzQgAAgBMxRnNCAABAeYNGc0IAAICqekdzQgAAQBDNR3NCAAAAdh9Ic0IAAMDbcUhzQgAAgEHESHNC\",\"dtype\":\"float64\",\"order\":\"little\",\"shape\":[144]},\"y\":{\"__ndarray__\":\"AAAAAAAA+H8QFYtK3Zjhv+B410Vq0sU/KAi74V+F4T9Yu3Lm5M3Xv8DJWcwRVLy/8D1lCxFD4r+Akkr009yhP1CF00sYVNc/kL8kzjnw6r8MQouW8b7rv3zxmP3SoeO/tEsr5DBZAcAAIGbG4J++P/AkeA7Ric2/4LNJfIX74D/IyEAq0sIEQPhFNfYHLfE/QPJfEfKf1T8AhQWBY0PrP7jyuNs51eU/ANCk6EZglL/onDdAWS3jP1hj7r3e89C/gGDHQQJQpL8sK1JrQ5j5P+x2EYW1a/K/0DIRGV9O5r9SG3d4GI32vzhBMTz7nfE/EGJV51FG2D/wzmHaNbDOv6CI6En8yLu/YOZxCuCT5D/cbBt17ajsv9DivzkJ39+/xE7CmQaG+D8gtMtABo7nP3CBL/bRevm/cD540hdA07+q1Pq6nIfwv/C1QzNbBd6/cIRpq7NN2D9M6JB+CULxv0xtQZMSg+i/pAS2hZeG8b/oMPVu5+QAwFB9TgSCifq/IpfMrsx/8L9QNQgPxAn9P0i+7dCjx9q/SFdAZ1us8L9MD2E3uxjvvwAAAAAAAAAA6apr3zEVAcAu4sGESmH7vwjOGBrLN/I/PD24iRAz8D9+/HQ4WTLwvz7c1jvAXPC/Au7Gx0m9/7/a0JSjNiEKQPgKAr/4ifg/SO+oMu/K6T/QpyE4Ol7Iv9jL6AqXquc/qFQJo6PL9D+AojJBKO/aPwwV4zrcQ/m/NM4yD0MNAcBgsTmjIUy3v3ApGHadv/E/aCwPG93y8T8Aa04Za07JPwC1cOVYw+m/BHO6rZzM+z/gf6Td9fHHP1/Uvxc5JQ7AhsOEBDrY8L9o3DdQoDPuvywwpMHvdgNAyIJ/TeEI4r8gi2s6Fe/tP6q3l0kkcvK/PBdv4Dw5/r9qcD4G52P4v1SrA6XYMOK/TrXuvlNHA0C8MFKMcyT6P0CQfnqia7k/iD/ZethtAUCw5ukDvzPQv6ASnFYyjOk/ULF53iaXxb/gYcNgHsP3vzTRFD9j+vs/7BifYGpC7L/YlgeuTMrpvwAKtRkBfuE/sDLl5MSl9T+gjR5jtIrbP0j+DsMGgAVAQALxeNH01L/wmdH2lyLxvwBsJKXi6o8/YFczsbNQyT8w4QU5JGzgP4BWr27kw6c/KiIB/J9H9b+o3Y7Q9Nfxv0iCrf2zj+S/JFZHBNp4/r+QQWdvHzjpv9hSAvDBhvy/dAf4Ppgd5b+MM4qqx7MCwDCNcuKYoeI/KCYrpyXvAMD4FwTeZl3yP6SR5/2nj+G/zndBibDPBEBwR/KL46Dtv6C6Gy83Zcg/SPiiMzFG/D9czMV4AzkBQMCb4vM2G7y/0BiQN4zH1D/njoQ4pX8BwC4KrEgay/W/m3FmXCqqAMAQqnibY2LbP9StAASV6Om/ICBqDfcW3L+KwMpU1xL/v1zZIsxCXfO/Yg95nbyM+r/05ByKo98FQHguARj6h+0/WINANBRM2L9cZATIfefyPxTu6ILOY+S/6JlduLxj77/6++OzoQbwvyCGo41medG/\",\"dtype\":\"float64\",\"order\":\"little\",\"shape\":[144]}},\"selected\":{\"id\":\"1286\"},\"selection_policy\":{\"id\":\"1285\"}},\"id\":\"1273\",\"type\":\"ColumnDataSource\"},{\"attributes\":{\"overlay\":{\"id\":\"1265\"}},\"id\":\"1261\",\"type\":\"BoxZoomTool\"},{\"attributes\":{\"months\":[0,1,2,3,4,5,6,7,8,9,10,11]},\"id\":\"1294\",\"type\":\"MonthsTicker\"},{\"attributes\":{\"axis_label\":\"Date\",\"formatter\":{\"id\":\"1284\"},\"major_label_policy\":{\"id\":\"1283\"},\"ticker\":{\"id\":\"1252\"}},\"id\":\"1251\",\"type\":\"DatetimeAxis\"},{\"attributes\":{},\"id\":\"1281\",\"type\":\"BasicTickFormatter\"},{\"attributes\":{\"base\":60,\"mantissas\":[1,2,5,10,15,20,30],\"max_interval\":1800000.0,\"min_interval\":1000.0,\"num_minor_ticks\":0},\"id\":\"1288\",\"type\":\"AdaptiveTicker\"},{\"attributes\":{\"data_source\":{\"id\":\"1273\"},\"glyph\":{\"id\":\"1274\"},\"hover_glyph\":null,\"muted_glyph\":null,\"nonselection_glyph\":{\"id\":\"1275\"},\"view\":{\"id\":\"1277\"}},\"id\":\"1276\",\"type\":\"GlyphRenderer\"},{\"attributes\":{},\"id\":\"1243\",\"type\":\"DataRange1d\"},{\"attributes\":{},\"id\":\"1286\",\"type\":\"Selection\"},{\"attributes\":{\"active_multi\":null,\"tools\":[{\"id\":\"1259\"},{\"id\":\"1260\"},{\"id\":\"1261\"},{\"id\":\"1262\"},{\"id\":\"1263\"},{\"id\":\"1264\"}]},\"id\":\"1266\",\"type\":\"Toolbar\"},{\"attributes\":{\"data\":{\"x\":{\"__ndarray__\":\"AABAZNoEc0IAAADKLAVzQgAAQPsjBnNCAAAAYXYGc0IAAMDGyAZzQgAAgCwbB3NCAABAkm0Hc0IAAIDDZAhzQgAAQCm3CHNCAAAAjwkJc0IAAMD0WwlzQgAAgFquCXNCAADAi6UKc0IAAIDx9wpzQgAAQFdKC3NCAAAAvZwLc0IAAMAi7wtzQgAAAFTmDHNCAADAuTgNc0IAAIAfiw1zQgAAQIXdDXNCAAAA6y8Oc0IAAEAcJw9zQgAAAIJ5D3NCAADA58sPc0IAAIBNHhBzQgAAQLNwEHNCAACA5GcRc0IAAEBKuhFzQgAAALAMEnNCAADAFV8Sc0IAAIB7sRJzQgAAwKyoE3NCAACAEvsTc0IAAEB4TRRzQgAAAN6fFHNCAADAQ/IUc0IAAAB16RVzQgAAwNo7FnNCAACAQI4Wc0IAAECm4BZzQgAAAAwzF3NCAABAPSoYc0IAAACjfBhzQgAAwAjPGHNCAACAbiEZc0IAAEDUcxlzQgAAgAVrGnNCAABAa70ac0IAAADRDxtzQgAAwDZiG3NCAACAnLQbc0IAAIAz/hxzQgAAQJlQHXNCAAAA/6Idc0IAAMBk9R1zQgAAAJbsHnNCAADA+z4fc0IAAIBhkR9zQgAAQMfjH3NCAAAALTYgc0IAAEBeLSFzQgAAAMR/IXNCAABA9XYic0IAAIAmbiNzQgAAQIzAI3NCAAAA8hIkc0IAAMBXZSRzQgAAgL23JHNCAADA7q4lc0IAAIBUASZzQgAAQLpTJnNCAAAAIKYmc0IAAMCF+CZzQgAAALfvJ3NCAADAHEIoc0IAAICClChzQgAAQOjmKHNCAAAATjkpc0IAAEB/MCpzQgAAAOWCKnNCAADAStUqc0IAAICwJytzQgAAQBZ6K3NCAACAR3Esc0IAAECtwyxzQgAAABMWLXNCAACA3rotc0IAAMAPsi5zQgAAgHUEL3NCAABA21Yvc0IAAABBqS9zQgAAwKb7L3NCAAAA2PIwc0IAAMA9RTFzQgAAgKOXMXNCAABACeoxc0IAAABvPDJzQgAAQKAzM3NCAAAABoYzc0IAAMBr2DNzQgAAQDd9NHNCAACAaHQ1c0IAAEDOxjVzQgAAADQZNnNCAADAmWs2c0IAAID/vTZzQgAAgJYHOHNCAABA/Fk4c0IAAMDH/jhzQgAAAPn1OXNCAADAXkg6c0IAAIDEmjpzQgAAQCrtOnNCAAAAkD87c0IAAEDBNjxzQgAAACeJPHNCAADAjNs8c0IAAIDyLT1zQgAAQFiAPXNCAACAiXc+c0IAAEDvyT5zQgAAAFUcP3NCAADAum4/c0IAAIAgwT9zQgAAwFG4QHNCAABAHV1Bc0IAAACDr0FzQgAAwOgBQnNCAAAAGvlCc0IAAMB/S0NzQgAAgOWdQ3NCAABAS/BDc0IAAACxQkRzQgAAQOI5RXNCAAAASIxFc0IAAMCt3kVzQgAAgBMxRnNCAABAeYNGc0IAAICqekdzQgAAQBDNR3NCAAAAdh9Ic0IAAMDbcUhzQgAAgEHESHNC\",\"dtype\":\"float64\",\"order\":\"little\",\"shape\":[144]},\"y\":{\"__ndarray__\":\"AAAAAAAA+H/M4GAYK1/jv/BhXIfkv9E/MFYPC5Th2z+EZKOh/9/gv4Bb5JF+3bq/WCc/OE9u5L9AKhVU4/+rvxAYiLs1qdQ/YIj9OWTV7r9IEvfD1M/tv+gumen6/uG/hJDBPLosAMDgk1vYWdnVP4BkFzW5xqc/uLlq5eZH6T/em6Nvjr4GQMwFoNC5L/A/YHA9mL+n1T/wtsn6PNPvP3hcSPuP0+o/KK952lbk1r+ABNeu9n/aP9C7BMMz19S/oNVdXws6vr+scICACXD9P97IhGM2E/O/2MS4+zMv6b/muVzKVqD5v8BBgrxVK/E/INDUNVZx0D/gsUv3R1/VvyhPSYaMHNC/aKkq+Yu66j9MgorI3YHqv7CZy3gDQt2/1Geacu2p+j8YC1QXfFPqPzLXtUzhs/2/TEgIYdMZ4L/KaV20ggjxv8CQHv3I0rq/QCJhMFJQ5D8O96BfUXnxv5wqGAZOWe6/Am1ZgkSc9b81LG6FcxYCwIZBJgkTevy/JKTl9SOK7L8MZfqci837PzBxPxlLJty/ViC0amFZ9L9wi0bzIG/nv4AzsEpKb9o/CeChb2XKAcAWcActReD/v2yaKCW9jPE/hCCdFfpc8D9Gpzi482Xzv0J98SpvIvC/vuWfaYBZ/r804XWXufIMQHSxszVEefo/yKc+eHv06D/Az/M8z/Pcv3D5xLNoCu4/OETM3RkR8z9o8J0L2dvhP5x7IRiVH/2/5iFqLe3PAcCgAGuBLEa+vzTsQTOSL/c/oG08sEso9D9gEg9Ewo/FPzxS73xrdfC/IHDOY8Q1AUCQk7EshU7Bv84i8vctVRDAwiQts1Yq8r/w2olFOUTlv8w+FAjVeQZAhF7BJF1R4L84D5mP23/2P5qA1nNnCPe/MI/mMCtY/r96HZn9KIX5v7B5nE9V9tu/6L+YkngGB0CQVs60ivf9P2CA4Ht4/bq/4n4yqHUcBEBI9syS2wvbvwwjI3koKPE/iCgvljmF0b/W7XlxNT75v7YzmO6WJABAIDAHRtRr7b/QV+9mCl3qv2j7gZlrq+4/ZPP+va1D/T8AbiUS+CXJP+xOlsEMcAhAeNDlXAVb5L/WDX4W/J70vwDQilireYM/4MGwnP3EwT/AS49+lWzWP0DC92Yp87g/qCZR5g6p9L/ATnE+Wv7vv3gPBqEAYtm/ihJU39LQ+L+wJQLj2wXovxo7TPlJcP6/fJkHguLF4r9Q/TCKl8gEwAgyeSv1xOY/XXoO682aAcDU8l6gef/wP9iJ3mFwN++/TIRxvcL9B0BYhMwbbHnuv0BaVL2V8uE/evGD785ZAUBSIUlyIVwCQHDHskVf4cu/cCfwn2XI3T8bFEhJ8ssCwMTei9OY5/i/njdS9o/IAMCwyYEOpi3oP6R+13Ga5ei/UN0wFwq11r/wiH+rufD/v0zFNmhKfOq/rp7ab6zl9784JC+o8TgKQPhP8wpHwOs/yN9dVyXW2r+MK5OB2w/2PxDjSp5fFeO/KMazsEoc7r86SwCdUj/0v/B/Jt0xPN6/\",\"dtype\":\"float64\",\"order\":\"little\",\"shape\":[144]}},\"selected\":{\"id\":\"1317\"},\"selection_policy\":{\"id\":\"1316\"}},\"id\":\"1302\",\"type\":\"ColumnDataSource\"}],\"root_ids\":[\"1240\"]},\"title\":\"Bokeh Application\",\"version\":\"2.3.2\"}};\n",
       "  var render_items = [{\"docid\":\"245e6ad6-f12b-4f15-9e18-3eef30adda66\",\"notebook_comms_target\":\"1380\",\"root_ids\":[\"1240\"],\"roots\":{\"1240\":\"13b8bf0d-b191-4a1b-b202-86a069809c5e\"}}];\n",
       "  root.Bokeh.embed.embed_items_notebook(docs_json, render_items);\n",
       "\n",
       "  }\n",
       "  if (root.Bokeh !== undefined) {\n",
       "    embed_document(root);\n",
       "  } else {\n",
       "    var attempts = 0;\n",
       "    var timer = setInterval(function(root) {\n",
       "      if (root.Bokeh !== undefined) {\n",
       "        clearInterval(timer);\n",
       "        embed_document(root);\n",
       "      } else {\n",
       "        attempts++;\n",
       "        if (attempts > 100) {\n",
       "          clearInterval(timer);\n",
       "          console.log(\"Bokeh: ERROR: Unable to run BokehJS code because BokehJS library is missing\");\n",
       "        }\n",
       "      }\n",
       "    }, 10, root)\n",
       "  }\n",
       "})(window);"
      ],
      "application/vnd.bokehjs_exec.v0+json": ""
     },
     "metadata": {
      "application/vnd.bokehjs_exec.v0+json": {
       "id": "1240"
      }
     },
     "output_type": "display_data"
    }
   ],
   "source": [
    "bt.portfolio_plot()"
   ]
  },
  {
   "cell_type": "code",
   "execution_count": null,
   "id": "b6662c16",
   "metadata": {
    "scrolled": true
   },
   "outputs": [
    {
     "name": "stdout",
     "output_type": "stream",
     "text": [
      "Day: 0\n",
      "\n",
      "\n",
      "{\n",
      "    \"Portfolio Name\": \"EFF_MAX_SHARPE\",\n",
      "    \"Date\": \"2011-06-01\",\n",
      "    \"Single Day Cash Allocation\": 80.0,\n",
      "    \"Initial Portfolio Value\": 1000000,\n",
      "    \"Current Portfolio Value\": 1000000,\n",
      "    \"Cumulative Portfolio Return\": 0.0,\n",
      "    \"Amount Invested\": 0,\n",
      "    \"Amount Reserved\": 1000000,\n",
      "    \"Reallocation Day\": false\n",
      "}\n",
      "\n",
      "\n",
      "{\n",
      "    \"Portfolio Name\": \"CLA_MAX_SHARPE\",\n",
      "    \"Date\": \"2011-06-01\",\n",
      "    \"Single Day Cash Allocation\": 80.0,\n",
      "    \"Initial Portfolio Value\": 1000000,\n",
      "    \"Current Portfolio Value\": 1000000,\n",
      "    \"Cumulative Portfolio Return\": 0.0,\n",
      "    \"Amount Invested\": 0,\n",
      "    \"Amount Reserved\": 1000000,\n",
      "    \"Reallocation Day\": false\n",
      "}\n",
      "\n",
      "\n",
      "\n",
      "{\n",
      "    \"Portfolio Name\": \"EFF_MIN_VOL\",\n",
      "    \"Date\": \"2011-06-01\",\n",
      "    \"Single Day Cash Allocation\": 80.0,\n",
      "    \"Initial Portfolio Value\": 1000000,\n",
      "    \"Current Portfolio Value\": 1000000,\n",
      "    \"Cumulative Portfolio Return\": 0.0,\n",
      "    \"Amount Invested\": 0,\n",
      "    \"Amount Reserved\": 1000000,\n",
      "    \"Reallocation Day\": false\n",
      "}\n",
      "\n",
      "{\n",
      "    \"Portfolio Name\": \"CLA_MIN_VOL\",\n",
      "    \"Date\": \"2011-06-01\",\n",
      "    \"Single Day Cash Allocation\": 80.0,\n",
      "    \"Initial Portfolio Value\": 1000000,\n",
      "    \"Current Portfolio Value\": 1000000,\n",
      "    \"Cumulative Portfolio Return\": 0.0,\n",
      "    \"Amount Invested\": 0,\n",
      "    \"Amount Reserved\": 1000000,\n",
      "    \"Reallocation Day\": false\n",
      "}\n",
      "\n",
      "\n",
      "\n",
      "\n",
      "\n",
      "{\n",
      "    \"Portfolio Name\": \"HRP\",\n",
      "    \"Date\": \"2011-06-01\",\n",
      "    \"Single Day Cash Allocation\": 80.0,\n",
      "    \"Initial Portfolio Value\": 1000000,\n",
      "    \"Current Portfolio Value\": 1000000,\n",
      "    \"Cumulative Portfolio Return\": 0.0,\n",
      "    \"Amount Invested\": 0,\n",
      "    \"Amount Reserved\": 1000000,\n",
      "    \"Reallocation Day\": false\n",
      "}\n",
      "\n",
      "\n",
      "Day: 1\n"
     ]
    },
    {
     "name": "stderr",
     "output_type": "stream",
     "text": [
      "/opt/conda/lib/python3.9/site-packages/numpy/lib/function_base.py:380: RuntimeWarning: Mean of empty slice.\n",
      "  avg = a.mean(axis)\n",
      "/opt/conda/lib/python3.9/site-packages/numpy/core/_methods.py:180: RuntimeWarning: invalid value encountered in true_divide\n",
      "  ret = um.true_divide(\n",
      "/opt/conda/lib/python3.9/site-packages/pandas/core/frame.py:8525: RuntimeWarning: Degrees of freedom <= 0 for slice\n",
      "  base_cov = np.cov(mat.T, ddof=ddof)\n",
      "/opt/conda/lib/python3.9/site-packages/numpy/lib/function_base.py:2493: RuntimeWarning: divide by zero encountered in true_divide\n",
      "  c *= np.true_divide(1, fact)\n",
      "/opt/conda/lib/python3.9/site-packages/numpy/lib/function_base.py:2493: RuntimeWarning: invalid value encountered in multiply\n",
      "  c *= np.true_divide(1, fact)\n"
     ]
    },
    {
     "name": "stdout",
     "output_type": "stream",
     "text": [
      "Portfolio Optimization Error: The condensed distance matrix must contain only finite values.\n",
      "\n",
      "AGENT_HRP PORTFOLIO: {}\n",
      "\n",
      "\n",
      "{\n",
      "    \"Portfolio Name\": \"HRP\",\n",
      "    \"Date\": \"2011-06-02\",\n",
      "    \"Single Day Cash Allocation\": 80.0,\n",
      "    \"Initial Portfolio Value\": 1000000,\n",
      "    \"Current Portfolio Value\": 1000000.0,\n",
      "    \"Cumulative Portfolio Return\": 0.0,\n",
      "    \"Amount Invested\": 0,\n",
      "    \"Amount Reserved\": 1000000.0,\n",
      "    \"Reallocation Day\": true\n",
      "}\n",
      "\n",
      "\n"
     ]
    },
    {
     "name": "stderr",
     "output_type": "stream",
     "text": [
      "/opt/conda/lib/python3.9/site-packages/numpy/lib/function_base.py:380: RuntimeWarning: Mean of empty slice.\n",
      "  avg = a.mean(axis)\n",
      "/opt/conda/lib/python3.9/site-packages/numpy/core/_methods.py:180: RuntimeWarning: invalid value encountered in true_divide\n",
      "  ret = um.true_divide(\n",
      "/opt/conda/lib/python3.9/site-packages/pandas/core/frame.py:8525: RuntimeWarning: Degrees of freedom <= 0 for slice\n",
      "  base_cov = np.cov(mat.T, ddof=ddof)\n",
      "/opt/conda/lib/python3.9/site-packages/numpy/lib/function_base.py:2493: RuntimeWarning: divide by zero encountered in true_divide\n",
      "  c *= np.true_divide(1, fact)\n",
      "/opt/conda/lib/python3.9/site-packages/numpy/lib/function_base.py:2493: RuntimeWarning: invalid value encountered in multiply\n",
      "  c *= np.true_divide(1, fact)\n",
      "/opt/conda/lib/python3.9/site-packages/numpy/lib/function_base.py:380: RuntimeWarning: Mean of empty slice.\n",
      "  avg = a.mean(axis)\n",
      "/opt/conda/lib/python3.9/site-packages/numpy/core/_methods.py:180: RuntimeWarning: invalid value encountered in true_divide\n",
      "  ret = um.true_divide(\n",
      "/opt/conda/lib/python3.9/site-packages/pandas/core/frame.py:8525: RuntimeWarning: Degrees of freedom <= 0 for slice\n",
      "  base_cov = np.cov(mat.T, ddof=ddof)\n",
      "/opt/conda/lib/python3.9/site-packages/numpy/lib/function_base.py:2493: RuntimeWarning: divide by zero encountered in true_divide\n",
      "  c *= np.true_divide(1, fact)\n",
      "/opt/conda/lib/python3.9/site-packages/numpy/lib/function_base.py:2493: RuntimeWarning: invalid value encountered in multiply\n",
      "  c *= np.true_divide(1, fact)\n",
      "/opt/conda/lib/python3.9/site-packages/numpy/lib/function_base.py:380: RuntimeWarning: Mean of empty slice.\n",
      "  avg = a.mean(axis)\n",
      "/opt/conda/lib/python3.9/site-packages/numpy/core/_methods.py:180: RuntimeWarning: invalid value encountered in true_divide\n",
      "  ret = um.true_divide(\n",
      "/opt/conda/lib/python3.9/site-packages/pandas/core/frame.py:8525: RuntimeWarning: Degrees of freedom <= 0 for slice\n",
      "  base_cov = np.cov(mat.T, ddof=ddof)\n",
      "/opt/conda/lib/python3.9/site-packages/numpy/lib/function_base.py:2493: RuntimeWarning: divide by zero encountered in true_divide\n",
      "  c *= np.true_divide(1, fact)\n",
      "/opt/conda/lib/python3.9/site-packages/sklearn/covariance/_shrunk_covariance.py:209: RuntimeWarning: Mean of empty slice.\n",
      "  X = X - X.mean(0)\n",
      "/opt/conda/lib/python3.9/site-packages/sklearn/covariance/_shrunk_covariance.py:217: RuntimeWarning: invalid value encountered in true_divide\n",
      "  emp_cov_trace = np.sum(X2, axis=0) / n_samples\n",
      "/opt/conda/lib/python3.9/site-packages/sklearn/covariance/_shrunk_covariance.py:209: RuntimeWarning: Mean of empty slice.\n",
      "  X = X - X.mean(0)\n",
      "/opt/conda/lib/python3.9/site-packages/sklearn/covariance/_shrunk_covariance.py:217: RuntimeWarning: invalid value encountered in true_divide\n",
      "  emp_cov_trace = np.sum(X2, axis=0) / n_samples\n",
      "/opt/conda/lib/python3.9/site-packages/sklearn/covariance/_shrunk_covariance.py:239: RuntimeWarning: invalid value encountered in double_scalars\n",
      "  delta_ /= n_samples ** 2\n"
     ]
    },
    {
     "name": "stdout",
     "output_type": "stream",
     "text": [
      "Portfolio Optimization Error: float division by zero\n",
      "\n",
      "AGENT_CLA_MIN_VOL PORTFOLIO: {}\n",
      "Portfolio Optimization Error: float division by zero\n",
      "\n",
      "AGENT_EFF_MIN_VOL PORTFOLIO: {}\n",
      "\n",
      "\n",
      "{\n",
      "    \"Portfolio Name\": \"EFF_MIN_VOL\",\n",
      "    \"Date\": \"2011-06-02\",\n",
      "    \"Single Day Cash Allocation\": 80.0,\n",
      "    \"Initial Portfolio Value\": 1000000,\n",
      "    \"Current Portfolio Value\": 1000000.0,\n",
      "    \"Cumulative Portfolio Return\": 0.0,\n",
      "    \"Amount Invested\": 0,\n",
      "    \"Amount Reserved\": 1000000.0,\n",
      "    \"Reallocation Day\": true\n",
      "}\n",
      "\n",
      "Portfolio Optimization Error: float division by zero\n",
      "\n",
      "{\n",
      "    \"Portfolio Name\": \"CLA_MIN_VOL\",\n",
      "    \"Date\": \"2011-06-02\",\n",
      "    \"Single Day Cash Allocation\": 80.0,\n",
      "    \"Initial Portfolio Value\": 1000000,\n",
      "    \"Current Portfolio Value\": 1000000.0,\n",
      "    \"Cumulative Portfolio Return\": 0.0,\n",
      "    \"Amount Invested\": 0,\n",
      "    \"Amount Reserved\": 1000000.0,\n",
      "    \"Reallocation Day\": true\n",
      "}\n",
      "\n",
      "\n",
      "\n",
      "\n",
      "\n",
      "AGENT_CLA_MAX_SHARPE PORTFOLIO: {}\n",
      "Portfolio Optimization Error: float division by zero\n",
      "\n",
      "AGENT_EFF_MAX_SHARPE PORTFOLIO: {}\n",
      "\n",
      "\n",
      "{\n",
      "    \"Portfolio Name\": \"EFF_MAX_SHARPE\",\n",
      "    \"Date\": \"2011-06-02\",\n",
      "    \"Single Day Cash Allocation\": 80.0,\n",
      "    \"Initial Portfolio Value\": 1000000,\n",
      "    \"Current Portfolio Value\": 1000000.0,\n",
      "    \"Cumulative Portfolio Return\": 0.0,\n",
      "    \"Amount Invested\": 0,\n",
      "    \"Amount Reserved\": 1000000.0,\n",
      "    \"Reallocation Day\": true\n",
      "}\n",
      "\n",
      "\n",
      "\n",
      "\n",
      "{\n",
      "    \"Portfolio Name\": \"CLA_MAX_SHARPE\",\n",
      "    \"Date\": \"2011-06-02\",\n",
      "    \"Single Day Cash Allocation\": 80.0,\n",
      "    \"Initial Portfolio Value\": 1000000,\n",
      "    \"Current Portfolio Value\": 1000000.0,\n",
      "    \"Cumulative Portfolio Return\": 0.0,\n",
      "    \"Amount Invested\": 0,\n",
      "    \"Amount Reserved\": 1000000.0,\n",
      "    \"Reallocation Day\": true\n",
      "}\n",
      "\n",
      "\n",
      "Day: 2\n"
     ]
    },
    {
     "name": "stderr",
     "output_type": "stream",
     "text": [
      "/opt/conda/lib/python3.9/site-packages/pandas/core/frame.py:8525: RuntimeWarning: Degrees of freedom <= 0 for slice\n",
      "  base_cov = np.cov(mat.T, ddof=ddof)\n",
      "/opt/conda/lib/python3.9/site-packages/numpy/lib/function_base.py:2493: RuntimeWarning: divide by zero encountered in true_divide\n",
      "  c *= np.true_divide(1, fact)\n",
      "/opt/conda/lib/python3.9/site-packages/numpy/lib/function_base.py:2493: RuntimeWarning: invalid value encountered in multiply\n",
      "  c *= np.true_divide(1, fact)\n",
      "/opt/conda/lib/python3.9/site-packages/sklearn/covariance/_shrunk_covariance.py:203: UserWarning: Only one sample available. You may want to reshape your data array\n",
      "  warnings.warn(\"Only one sample available. \"\n",
      "/opt/conda/lib/python3.9/site-packages/pandas/core/frame.py:8525: RuntimeWarning: Degrees of freedom <= 0 for slice\n",
      "  base_cov = np.cov(mat.T, ddof=ddof)\n",
      "/opt/conda/lib/python3.9/site-packages/numpy/lib/function_base.py:2493: RuntimeWarning: divide by zero encountered in true_divide\n",
      "  c *= np.true_divide(1, fact)\n",
      "/opt/conda/lib/python3.9/site-packages/numpy/lib/function_base.py:2493: RuntimeWarning: invalid value encountered in multiply\n",
      "  c *= np.true_divide(1, fact)\n",
      "/opt/conda/lib/python3.9/site-packages/sklearn/covariance/_shrunk_covariance.py:203: UserWarning: Only one sample available. You may want to reshape your data array\n",
      "  warnings.warn(\"Only one sample available. \"\n",
      "/opt/conda/lib/python3.9/site-packages/sklearn/covariance/_empirical_covariance.py:88: UserWarning: Only one sample available. You may want to reshape your data array\n",
      "  warnings.warn(\"Only one sample available. \"\n",
      "/opt/conda/lib/python3.9/site-packages/sklearn/covariance/_empirical_covariance.py:88: UserWarning: Only one sample available. You may want to reshape your data array\n",
      "  warnings.warn(\"Only one sample available. \"\n",
      "/opt/conda/lib/python3.9/site-packages/pandas/core/frame.py:8525: RuntimeWarning: Degrees of freedom <= 0 for slice\n",
      "  base_cov = np.cov(mat.T, ddof=ddof)\n",
      "/opt/conda/lib/python3.9/site-packages/numpy/lib/function_base.py:2493: RuntimeWarning: divide by zero encountered in true_divide\n",
      "  c *= np.true_divide(1, fact)\n",
      "/opt/conda/lib/python3.9/site-packages/numpy/lib/function_base.py:2493: RuntimeWarning: invalid value encountered in multiply\n",
      "  c *= np.true_divide(1, fact)\n",
      "/opt/conda/lib/python3.9/site-packages/pandas/core/frame.py:8525: RuntimeWarning: Degrees of freedom <= 0 for slice\n",
      "  base_cov = np.cov(mat.T, ddof=ddof)\n",
      "/opt/conda/lib/python3.9/site-packages/numpy/lib/function_base.py:2493: RuntimeWarning: divide by zero encountered in true_divide\n",
      "  c *= np.true_divide(1, fact)\n",
      "/opt/conda/lib/python3.9/site-packages/numpy/lib/function_base.py:2493: RuntimeWarning: invalid value encountered in multiply\n",
      "  c *= np.true_divide(1, fact)\n",
      "/opt/conda/lib/python3.9/site-packages/sklearn/covariance/_shrunk_covariance.py:203: UserWarning: Only one sample available. You may want to reshape your data array\n",
      "  warnings.warn(\"Only one sample available. \"\n",
      "/opt/conda/lib/python3.9/site-packages/sklearn/covariance/_empirical_covariance.py:88: UserWarning: Only one sample available. You may want to reshape your data array\n",
      "  warnings.warn(\"Only one sample available. \"\n",
      "/opt/conda/lib/python3.9/site-packages/pandas/core/frame.py:8525: RuntimeWarning: Degrees of freedom <= 0 for slice\n",
      "  base_cov = np.cov(mat.T, ddof=ddof)\n",
      "/opt/conda/lib/python3.9/site-packages/numpy/lib/function_base.py:2493: RuntimeWarning: divide by zero encountered in true_divide\n",
      "  c *= np.true_divide(1, fact)\n",
      "/opt/conda/lib/python3.9/site-packages/numpy/lib/function_base.py:2493: RuntimeWarning: invalid value encountered in multiply\n",
      "  c *= np.true_divide(1, fact)\n",
      "/opt/conda/lib/python3.9/site-packages/sklearn/covariance/_shrunk_covariance.py:203: UserWarning: Only one sample available. You may want to reshape your data array\n",
      "  warnings.warn(\"Only one sample available. \"\n",
      "/opt/conda/lib/python3.9/site-packages/sklearn/covariance/_empirical_covariance.py:88: UserWarning: Only one sample available. You may want to reshape your data array\n",
      "  warnings.warn(\"Only one sample available. \"\n"
     ]
    },
    {
     "name": "stdout",
     "output_type": "stream",
     "text": [
      "Portfolio Optimization Error: Singular matrix\n",
      "\n",
      "AGENT_CLA_MAX_SHARPE PORTFOLIO: {}\n",
      "\n",
      "\n",
      "{\n",
      "    \"Portfolio Name\": \"CLA_MAX_SHARPE\",\n",
      "    \"Date\": \"2011-06-03\",\n",
      "    \"Single Day Cash Allocation\": 80.0,\n",
      "    \"Initial Portfolio Value\": 1000000,\n",
      "    \"Current Portfolio Value\": 1000000.0,\n",
      "    \"Cumulative Portfolio Return\": 0.0,\n",
      "    \"Amount Invested\": 0,\n",
      "    \"Amount Reserved\": 1000000.0,\n",
      "    \"Reallocation Day\": true\n",
      "}\n",
      "\n",
      "\n",
      "Portfolio Optimization Error: The condensed distance matrix must contain only finite values.\n",
      "\n",
      "AGENT_HRP PORTFOLIO: {}\n",
      "\n",
      "\n",
      "{\n",
      "    \"Portfolio Name\": \"HRP\",\n",
      "    \"Date\": \"2011-06-03\",\n",
      "    \"Single Day Cash Allocation\": 80.0,\n",
      "    \"Initial Portfolio Value\": 1000000,\n",
      "    \"Current Portfolio Value\": 1000000.0,\n",
      "    \"Cumulative Portfolio Return\": 0.0,\n",
      "    \"Amount Invested\": 0,\n",
      "    \"Amount Reserved\": 1000000.0,\n",
      "    \"Reallocation Day\": true\n",
      "}\n",
      "\n",
      "\n",
      "Portfolio Optimization Error: Singular matrix\n",
      "\n",
      "AGENT_CLA_MIN_VOL PORTFOLIO: {}\n",
      "\n",
      "\n",
      "{\n",
      "    \"Portfolio Name\": \"CLA_MIN_VOL\",\n",
      "    \"Date\": \"2011-06-03\",\n",
      "    \"Single Day Cash Allocation\": 80.0,\n",
      "    \"Initial Portfolio Value\": 1000000,\n",
      "    \"Current Portfolio Value\": 1000000.0,\n",
      "    \"Cumulative Portfolio Return\": 0.0,\n",
      "    \"Amount Invested\": 0,\n",
      "    \"Amount Reserved\": 1000000.0,\n",
      "    \"Reallocation Day\": true\n",
      "}\n",
      "\n",
      "\n",
      "\n",
      "AGENT_EFF_MIN_VOL PORTFOLIO: {}\n",
      "\n"
     ]
    },
    {
     "name": "stderr",
     "output_type": "stream",
     "text": [
      "/opt/conda/lib/python3.9/site-packages/cvxpy/atoms/affine/binary_operators.py:334: RuntimeWarning: divide by zero encountered in true_divide\n",
      "  return np.divide(values[0], values[1])\n"
     ]
    },
    {
     "name": "stdout",
     "output_type": "stream",
     "text": [
      "\n",
      "AGENT_EFF_MAX_SHARPE PORTFOLIO: {}\n",
      "\n",
      "\n",
      "{\n",
      "    \"Portfolio Name\": \"EFF_MAX_SHARPE\",\n",
      "    \"Date\": \"2011-06-03\",\n",
      "    \"Single Day Cash Allocation\": 80.0,\n",
      "    \"Initial Portfolio Value\": 1000000,\n",
      "    \"Current Portfolio Value\": 1000000.0,\n",
      "    \"Cumulative Portfolio Return\": 0.0,\n",
      "    \"Amount Invested\": 785682.25,\n",
      "    \"Amount Reserved\": 214317.75,\n",
      "    \"Reallocation Day\": true\n",
      "}\n",
      "\n",
      "\n",
      "\n",
      "{\n",
      "    \"Portfolio Name\": \"EFF_MIN_VOL\",\n",
      "    \"Date\": \"2011-06-03\",\n",
      "    \"Single Day Cash Allocation\": 80.0,\n",
      "    \"Initial Portfolio Value\": 1000000,\n",
      "    \"Current Portfolio Value\": 1000000.0000000003,\n",
      "    \"Cumulative Portfolio Return\": 3.492459654808045e-14,\n",
      "    \"Amount Invested\": 798227.7500000005,\n",
      "    \"Amount Reserved\": 201772.24999999988,\n",
      "    \"Reallocation Day\": true\n",
      "}\n",
      "\n",
      "\n",
      "Day: 3\n"
     ]
    },
    {
     "name": "stderr",
     "output_type": "stream",
     "text": [
      "/opt/conda/lib/python3.9/site-packages/pypfopt/risk_models.py:68: UserWarning: The covariance matrix is non positive semidefinite. Amending eigenvalues.\n",
      "  warnings.warn(\n",
      "/opt/conda/lib/python3.9/site-packages/pypfopt/risk_models.py:87: UserWarning: Could not fix matrix. Please try a different risk model.\n",
      "  warnings.warn(\n"
     ]
    },
    {
     "name": "stdout",
     "output_type": "stream",
     "text": [
      "\n",
      "AGENT_EFF_MIN_VOL PORTFOLIO: {'EICHERMOT': 2, 'BOSCHLTD': 1, 'SHREECEM': 1, 'MRF': 1, 'HEROMOTOCO': 1, 'PAGEIND': 2, 'BAJAJ-AUTO': 2, 'NESTLEIND': 1, 'ULTRACEMCO': 2, 'DRREDDY': 2, 'BAJFINANCE': 3, 'MARUTI': 2, '3MINDIA': 1, 'ASIANPAINT': 1, 'MCDOWELL-N': 2, 'HDFCBANK': 1, 'JUBLFOOD': 3, 'TTKPRESTIG': 1, 'DIVISLAB': 3, 'APOLLOHOSP': 4, 'RELIANCE': 2, 'HONAUT': 1, 'INDUSINDBK': 8, 'BRITANNIA': 5, 'HINDUNILVR': 6, 'TCS': 2, 'INFY': 1, 'ABBOTINDIA': 2, 'KOTAKBANK': 5, 'AJANTPHARM': 7, 'TORNTPHARM': 3, 'SRTRANSFIN': 3, 'ICICIBANK': 2, 'SCHAEFFLER': 2, 'HDFC': 3, 'LAXMIMACH': 1, 'ACC': 2, 'BAJAJFINSV': 4, 'BLUEDART': 2, 'AXISBANK': 2, 'GRASIM': 1, 'LT': 2, 'BAJAJHLDNG': 3, 'GILLETTE': 1, 'BATAINDIA': 4, 'WABCOINDIA': 2, 'PFIZER': 2, 'OFSS': 1, 'TATAMOTORS': 2, 'SIEMENS': 2, 'TATAELXSI': 8, 'GLAXO': 1, 'SUNDARMFIN': 4, 'GODFRYPHLP': 1, 'BAYERCROP': 2, 'SBIN': 1, 'COLPAL': 2, 'PGHH': 1, 'BHARTIARTL': 5, 'HCLTECH': 4, 'CRISIL': 1, 'AUROPHARMA': 12, 'SANOFI': 1, 'TATASTEEL': 4, 'BHARATFORG': 6, 'AKZOINDIA': 2, 'PIDILITIND': 13, 'VSTIND': 3, 'ASTRAZEN': 2, 'CENTURYTEX': 6, 'SUNPHARMA': 4, 'GODREJCP': 5, 'SHRIRAMCIT': 4, 'CONCOR': 2, 'LUPIN': 4, 'HINDPETRO': 5, 'SKFINDIA': 3, 'BALKRISIND': 14, 'BANKBARODA': 3, 'LICHSGFIN': 9, 'JSWSTEEL': 2, 'JINDALSTEL': 3, 'MOTHERSUMI': 9, 'SUPREMEIND': 12, 'NILKAMAL': 7, 'AMBUJACEM': 15, 'TATACONSUM': 23, 'M&M': 3, 'MINDTREE': 6, 'ADANIPORTS': 13, 'HINDALCO': 11, 'COALINDIA': 5, 'PEL': 5, 'SRF': 7, 'CUMMINSIND': 3, 'CADILAHC': 2, 'TITAN': 1, 'MAHSCOOTER': 6, 'VENKEYS': 3, 'BEL': 2, 'EXIDEIND': 13, 'CHOLAFIN': 14, 'YESBANK': 7, 'GLENMARK': 7, 'AMARAJABAT': 10, 'ATUL': 12, 'WHIRLPOOL': 9, 'AIAENG': 5, 'SWARAJENG': 5, 'COFORGE': 11, 'APOLLOTYRE': 30, 'CEATLTD': 21, 'MUTHOOTFIN': 12, 'BERGEPAINT': 21, 'EMAMILTD': 4, 'HAVELLS': 5, 'ADANIENT': 3, 'KAJARIACER': 24, 'ENGINERSIN': 8, 'ABB': 3, 'HINDZINC': 16, 'NATCOPHARM': 7, 'TECHM': 3, 'POWERGRID': 21, 'TATACHEM': 5, 'ICRA': 2, 'KANSAINER': 2, 'STAR': 5, 'COROMANDEL': 6, 'GODREJIND': 11, 'ECLERX': 3, 'WIPRO': 5, 'PETRONET': 15, 'PERSISTENT': 5, 'RAJESHEXPO': 22, 'TATAMTRDVR': 3, 'ITC': 11, 'UNIONBANK': 6, 'IPCALAB': 6, 'MPHASIS': 4, 'THERMAX': 3, 'BASF': 3, 'BPCL': 3, 'CANBK': 4, 'TATACOMM': 9, 'CIPLA': 6, 'BANKINDIA': 5, 'RAYMOND': 6, 'SUNTV': 7, 'ZEEL': 15, 'TRENT': 2, 'NAVINFLUOR': 7, 'ZENSARTECH': 12, 'GODREJPROP': 3, 'TORNTPOWER': 8, 'ESCORTS': 16, 'RECLTD': 10, 'ONGC': 7, 'NAUKRI': 3, 'BEML': 3, 'UPL': 13, 'SOLARINDS': 3, 'JYOTHYLAB': 9, 'ZYDUSWELL': 4, 'VOLTAS': 13, 'JCHAC': 11, 'RAMCOCEM': 23, 'BIRLACORPN': 5, 'BLUESTARCO': 6, 'OBEROIRLTY': 9, 'CERA': 11, 'TATACOFFEE': 3, 'GAIL': 4, 'BIOCON': 6, 'PHOENIXLTD': 11, 'AEGISCHEM': 9, 'BALMLAWRIE': 3, 'EIDPARRY': 10, 'DABUR': 19, 'JKCEMENT': 18, 'MAHSEAMLES': 6, 'TVSMOTOR': 40, 'PGHL': 3, 'MARICO': 15, 'CARBORUNIV': 8, 'FEDERALBNK': 4, 'BAJAJELEC': 8, 'GUJALKALI': 15, 'UBL': 4, 'CHENNPETRO': 9, 'TATAINVEST': 4, 'VINATIORGA': 29, 'DLF': 9, 'PHILIPCARB': 15, 'CANFINHOME': 19, 'CESC': 7, 'WOCKPHARMA': 5, 'RALLIS': 2, 'KARURVYSYA': 5, 'KALPATPOWR': 17, 'JBCHEPHARM': 17, 'IOC': 6, 'NTPC': 12, 'HEG': 9, 'SHOPERSTOP': 5, 'PRESTIGE': 14, 'KTKBANK': 18, 'CYIENT': 15, 'BHEL': 1, 'DELTACORP': 25, 'AARTIIND': 41, 'LINDEINDIA': 7, 'BAJAJCON': 19, 'INGERRAND': 4, 'POLYPLEX': 10, 'NMDC': 8, 'RATNAMANI': 18, 'TIMKEN': 11, 'ASTRAL': 12, 'INDIANB': 9, 'IGL': 6, 'VTL': 9, 'BALRAMCHIN': 34, 'MOTILALOFS': 20, 'PNB': 2, 'MFSL': 13, 'VGUARD': 9, 'KSCL': 5, 'GRANULES': 24, 'DCMSHRIRAM': 50, 'SUNDRMFAST': 35, 'PFC': 10, 'BSOFT': 12, 'FINCABLES': 46, 'RADICO': 16, 'NESCO': 4, 'HERITGFOOD': 10, 'INDIACEM': 25, 'FORTIS': 13, 'SHILPAMED': 8, 'GREAVESCOT': 26, 'CENTURYPLY': 32, 'JKLAKSHMI': 44, 'ESABINDIA': 4, 'OIL': 2, 'VIPIND': 3, 'SOBHA': 8, 'KOLTEPATIL': 46, 'SUNTECK': 7, 'INDHOTEL': 26, 'ASHOKLEY': 41, 'CHAMBLFERT': 26, 'UFLEX': 11, 'GESHIP': 7, 'J&KBANK': 3, 'FINPIPE': 25, 'MANAPPURAM': 18, 'GARFIBRES': 34, 'EPL': 46, 'SUDARSCHEM': 3, 'LAOPALA': 29, 'IFBIND': 19, 'AARTIDRUGS': 16, 'GRINDWELL': 9, 'TATAPOWER': 2, 'HUHTAMAKI': 32, 'MOIL': 6, 'KSB': 9, 'JKTYRE': 21, 'MAHINDCIE': 29, 'GEPIL': 4, 'INOXLEISUR': 48, 'JAICORPLTD': 15, 'GMDCLTD': 14, 'IBREALEST': 18, 'OMAXE': 16, 'ELGIEQUIP': 26, 'MHRIL': 6, 'GRAPHITE': 23, 'REDINGTON': 26, 'VAKRANGEE': 6, 'TVTODAY': 34, 'IDEA': 30, 'DCBBANK': 36, 'JMFINANCIL': 87, 'DBCORP': 9, 'JINDALSAW': 13, 'INDOCO': 5, 'WELCORP': 12, 'BLISSGVS': 95, 'JAGRAN': 17, 'KRBL': 75, 'EIHOTEL': 26, 'ASHOKA': 8, 'GMRINFRA': 65, 'KEC': 26, 'ALKYLAMINE': 26, 'NAVNETEDUL': 34, 'STLTECH': 38, 'NATIONALUM': 23, 'MINDAIND': 8, 'SUPRAJIT': 103, 'BRIGADE': 26, 'IDFC': 15, 'GSPL': 21, 'SUPPETRO': 36, 'BHARATRAS': 18, 'CCL': 10, 'HINDCOPPER': 7, 'SPARC': 24, 'TV18BRDCST': 24, 'PRAJIND': 29, 'GNFC': 21, 'FDC': 21, 'EDELWEISS': 63, 'IIFL': 27, 'SONATSOFTW': 52, 'GHCL': 54, 'HEIDELBERG': 52, 'CUB': 48, 'BOMDYEING': 6, 'TATASTLBSL': 4, 'GSFC': 5, 'SOUTHBANK': 87, 'DISHTV': 28, 'NOCIL': 124, 'CENTRALBK': 18, 'JSWENERGY': 30, 'SAIL': 14, 'PRSMJOHNSN': 43, 'DEEPAKNTR': 11, 'UCOBANK': 22, 'IDBI': 16, 'NLCINDIA': 20, 'KNRCON': 18, 'KEI': 94, 'JKPAPER': 44, 'ALEMBICLTD': 109, 'GPPL': 33, 'NCC': 24, 'VAIBHAVGBL': 49, 'GAEL': 72, 'MRPL': 29, 'MMTC': 2, 'JAMNAAUTO': 17, 'HSCL': 55, 'ITI': 65, 'JTEKTINDIA': 130, 'NHPC': 87, 'RCF': 26, 'MAHABANK': 37, 'SCI': 20, 'HATHWAY': 19, 'IOB': 14, 'PTC': 26, 'RAIN': 12, 'TRIDENT': 148, 'NETWORK18': 14, 'FSL': 115, 'HFCL': 124, 'SUZLON': 41, 'SJVN': 102, 'WELSPUNIND': 45, 'NFL': 21, 'CGCL': 39, 'DHANI': 147, 'IOLCP': 61}\n",
      "\n",
      "\n",
      "{\n",
      "    \"Portfolio Name\": \"EFF_MIN_VOL\",\n",
      "    \"Date\": \"2011-06-06\",\n",
      "    \"Single Day Cash Allocation\": 80.0,\n",
      "    \"Initial Portfolio Value\": 1000000,\n",
      "    \"Current Portfolio Value\": 999172.2999999991,\n",
      "    \"Cumulative Portfolio Return\": -0.08277000000008847,\n",
      "    \"Amount Invested\": 160892.64999999988,\n",
      "    \"Amount Reserved\": 838279.6499999992,\n",
      "    \"Reallocation Day\": true\n",
      "}\n",
      "\n",
      "\n",
      "\n",
      "AGENT_HRP PORTFOLIO: {}\n",
      "\n",
      "\n",
      "{\n",
      "    \"Portfolio Name\": \"HRP\",\n",
      "    \"Date\": \"2011-06-06\",\n",
      "    \"Single Day Cash Allocation\": 80.0,\n",
      "    \"Initial Portfolio Value\": 1000000,\n",
      "    \"Current Portfolio Value\": 1000000.0,\n",
      "    \"Cumulative Portfolio Return\": 0.0,\n",
      "    \"Amount Invested\": 916.5,\n",
      "    \"Amount Reserved\": 999083.5,\n",
      "    \"Reallocation Day\": true\n",
      "}\n",
      "\n",
      "\n",
      "Portfolio Optimization Error: '>' not supported between instances of 'NoneType' and 'float'\n",
      "\n",
      "AGENT_CLA_MIN_VOL PORTFOLIO: {}\n",
      "\n",
      "\n",
      "{\n",
      "    \"Portfolio Name\": \"CLA_MIN_VOL\",\n",
      "    \"Date\": \"2011-06-06\",\n",
      "    \"Single Day Cash Allocation\": 80.0,\n",
      "    \"Initial Portfolio Value\": 1000000,\n",
      "    \"Current Portfolio Value\": 1000000.0,\n",
      "    \"Cumulative Portfolio Return\": 0.0,\n",
      "    \"Amount Invested\": 0,\n",
      "    \"Amount Reserved\": 1000000.0,\n",
      "    \"Reallocation Day\": true\n",
      "}\n",
      "\n",
      "\n",
      "Portfolio Optimization Error: '>' not supported between instances of 'NoneType' and 'float'\n",
      "\n",
      "AGENT_CLA_MAX_SHARPE PORTFOLIO: {}\n",
      "\n",
      "\n",
      "{\n",
      "    \"Portfolio Name\": \"CLA_MAX_SHARPE\",\n",
      "    \"Date\": \"2011-06-06\",\n",
      "    \"Single Day Cash Allocation\": 80.0,\n",
      "    \"Initial Portfolio Value\": 1000000,\n",
      "    \"Current Portfolio Value\": 1000000.0,\n",
      "    \"Cumulative Portfolio Return\": 0.0,\n",
      "    \"Amount Invested\": 0,\n",
      "    \"Amount Reserved\": 1000000.0,\n",
      "    \"Reallocation Day\": true\n",
      "}\n",
      "\n",
      "\n",
      "\n",
      "AGENT_EFF_MAX_SHARPE PORTFOLIO: {'RAJESHEXPO': 4202, 'BAJAJCON': 3447}\n",
      "\n",
      "\n",
      "{\n",
      "    \"Portfolio Name\": \"EFF_MAX_SHARPE\",\n",
      "    \"Date\": \"2011-06-06\",\n",
      "    \"Single Day Cash Allocation\": 80.0,\n",
      "    \"Initial Portfolio Value\": 1000000,\n",
      "    \"Current Portfolio Value\": 992733.4499999997,\n",
      "    \"Cumulative Portfolio Return\": -0.7266550000000279,\n",
      "    \"Amount Invested\": 171557.79999999987,\n",
      "    \"Amount Reserved\": 821175.6499999999,\n",
      "    \"Reallocation Day\": true\n",
      "}\n",
      "\n",
      "\n",
      "Day: 4\n",
      "\n",
      "AGENT_EFF_MIN_VOL PORTFOLIO: {'EICHERMOT': 1, 'HEROMOTOCO': 1, 'BAJAJ-AUTO': 1, 'NESTLEIND': 1, 'ULTRACEMCO': 1, 'DRREDDY': 1, 'BAJFINANCE': 1, '3MINDIA': 1, 'TTKPRESTIG': 1, 'DIVISLAB': 1, 'APOLLOHOSP': 1, 'RELIANCE': 1, 'INDUSINDBK': 1, 'BRITANNIA': 1, 'HINDUNILVR': 1, 'TCS': 1, 'ABBOTINDIA': 1, 'AJANTPHARM': 1, 'TORNTPHARM': 1, 'SRTRANSFIN': 1, 'SCHAEFFLER': 1, 'HDFC': 1, 'LAXMIMACH': 1, 'AXISBANK': 1, 'BAJAJHLDNG': 1, 'BATAINDIA': 1, 'WABCOINDIA': 1, 'OFSS': 1, 'TATAELXSI': 1, 'GODFRYPHLP': 1, 'SBIN': 1, 'PGHH': 1, 'BHARTIARTL': 1, 'HCLTECH': 1, 'CRISIL': 1, 'AUROPHARMA': 2, 'BHARATFORG': 1, 'AKZOINDIA': 1, 'PIDILITIND': 2, 'CENTURYTEX': 1, 'GODREJCP': 1, 'CONCOR': 1, 'HINDPETRO': 1, 'SKFINDIA': 1, 'BALKRISIND': 3, 'BANKBARODA': 1, 'LICHSGFIN': 2, 'JSWSTEEL': 1, 'JINDALSTEL': 1, 'MOTHERSUMI': 1, 'SUPREMEIND': 2, 'NILKAMAL': 1, 'AMBUJACEM': 3, 'TATACONSUM': 5, 'MINDTREE': 1, 'ADANIPORTS': 2, 'HINDALCO': 2, 'COALINDIA': 1, 'PEL': 1, 'SRF': 1, 'CADILAHC': 1, 'MAHSCOOTER': 1, 'EXIDEIND': 2, 'CHOLAFIN': 1, 'GLENMARK': 1, 'AMARAJABAT': 2, 'ATUL': 2, 'WHIRLPOOL': 2, 'AIAENG': 1, 'SWARAJENG': 1, 'COFORGE': 2, 'APOLLOTYRE': 7, 'CEATLTD': 5, 'MUTHOOTFIN': 1, 'BERGEPAINT': 4, 'EMAMILTD': 1, 'HAVELLS': 1, 'ADANIENT': 1, 'KAJARIACER': 4, 'ABB': 1, 'HINDZINC': 3, 'NATCOPHARM': 1, 'POWERGRID': 3, 'TATACHEM': 1, 'ICRA': 1, 'KANSAINER': 1, 'STAR': 1, 'COROMANDEL': 1, 'GODREJIND': 2, 'PETRONET': 3, 'PERSISTENT': 1, 'RAJESHEXPO': 5, 'ITC': 2, 'UNIONBANK': 1, 'IPCALAB': 1, 'BPCL': 1, 'TATACOMM': 2, 'CIPLA': 1, 'RAYMOND': 1, 'ZEEL': 3, 'TRENT': 1, 'NAVINFLUOR': 1, 'ZENSARTECH': 2, 'GODREJPROP': 1, 'TORNTPOWER': 2, 'ESCORTS': 3, 'RECLTD': 2, 'ONGC': 1, 'NAUKRI': 1, 'UPL': 2, 'JYOTHYLAB': 1, 'VOLTAS': 2, 'JCHAC': 1, 'RAMCOCEM': 5, 'BIRLACORPN': 1, 'BLUESTARCO': 1, 'OBEROIRLTY': 1, 'CERA': 2, 'TATACOFFEE': 1, 'GAIL': 1, 'PHOENIXLTD': 2, 'AEGISCHEM': 1, 'BALMLAWRIE': 1, 'EIDPARRY': 1, 'DABUR': 4, 'JKCEMENT': 3, 'MAHSEAMLES': 1, 'TVSMOTOR': 7, 'PGHL': 1, 'MARICO': 3, 'CARBORUNIV': 1, 'BAJAJELEC': 1, 'GUJALKALI': 2, 'CHENNPETRO': 1, 'TATAINVEST': 1, 'VINATIORGA': 5, 'DLF': 2, 'PHILIPCARB': 3, 'CANFINHOME': 3, 'CESC': 1, 'WOCKPHARMA': 1, 'KARURVYSYA': 1, 'KALPATPOWR': 3, 'JBCHEPHARM': 3, 'IOC': 1, 'NTPC': 2, 'HEG': 1, 'SHOPERSTOP': 1, 'PRESTIGE': 3, 'KTKBANK': 3, 'CYIENT': 3, 'BHEL': 1, 'DELTACORP': 4, 'AARTIIND': 7, 'LINDEINDIA': 1, 'BAJAJCON': 3, 'POLYPLEX': 1, 'NMDC': 1, 'RATNAMANI': 4, 'TIMKEN': 2, 'ASTRAL': 2, 'INDIANB': 1, 'IGL': 1, 'VTL': 1, 'BALRAMCHIN': 7, 'MOTILALOFS': 4, 'MFSL': 1, 'VGUARD': 2, 'KSCL': 1, 'GRANULES': 5, 'DCMSHRIRAM': 10, 'SUNDRMFAST': 8, 'PFC': 2, 'BSOFT': 2, 'FINCABLES': 10, 'RADICO': 3, 'HERITGFOOD': 2, 'INDIACEM': 5, 'FORTIS': 2, 'SHILPAMED': 2, 'GREAVESCOT': 5, 'CENTURYPLY': 6, 'JKLAKSHMI': 9, 'ESABINDIA': 1, 'VIPIND': 1, 'SOBHA': 1, 'KOLTEPATIL': 10, 'INDHOTEL': 6, 'ASHOKLEY': 9, 'CHAMBLFERT': 6, 'UFLEX': 1, 'GESHIP': 1, 'FINPIPE': 6, 'MANAPPURAM': 2, 'GARFIBRES': 7, 'EPL': 11, 'LAOPALA': 5, 'IFBIND': 4, 'AARTIDRUGS': 3, 'GRINDWELL': 1, 'TATAPOWER': 1, 'HUHTAMAKI': 6, 'MOIL': 1, 'KSB': 1, 'JKTYRE': 4, 'MAHINDCIE': 6, 'GEPIL': 1, 'INOXLEISUR': 6, 'JAICORPLTD': 2, 'GMDCLTD': 3, 'IBREALEST': 3, 'OMAXE': 3, 'ELGIEQUIP': 6, 'MHRIL': 1, 'GRAPHITE': 4, 'REDINGTON': 5, 'VAKRANGEE': 1, 'TVTODAY': 7, 'IDEA': 7, 'DCBBANK': 8, 'JMFINANCIL': 10, 'DBCORP': 1, 'JINDALSAW': 3, 'INDOCO': 1, 'WELCORP': 3, 'BLISSGVS': 20, 'JAGRAN': 3, 'KRBL': 15, 'EIHOTEL': 5, 'ASHOKA': 1, 'GMRINFRA': 11, 'KEC': 5, 'ALKYLAMINE': 6, 'NAVNETEDUL': 6, 'STLTECH': 9, 'NATIONALUM': 5, 'MINDAIND': 1, 'SUPRAJIT': 24, 'BRIGADE': 6, 'IDFC': 3, 'GSPL': 4, 'SUPPETRO': 8, 'BHARATRAS': 2, 'CCL': 2, 'HINDCOPPER': 1, 'SPARC': 5, 'TV18BRDCST': 5, 'PRAJIND': 6, 'GNFC': 3, 'FDC': 5, 'EDELWEISS': 6, 'IIFL': 6, 'SONATSOFTW': 3, 'GHCL': 11, 'HEIDELBERG': 10, 'CUB': 10, 'GSFC': 1, 'SOUTHBANK': 21, 'DISHTV': 5, 'NOCIL': 31, 'CENTRALBK': 3, 'JSWENERGY': 5, 'SAIL': 2, 'PRSMJOHNSN': 10, 'DEEPAKNTR': 2, 'UCOBANK': 4, 'IDBI': 3, 'NLCINDIA': 4, 'KNRCON': 1, 'KEI': 18, 'JKPAPER': 6, 'ALEMBICLTD': 23, 'GPPL': 6, 'NCC': 5, 'VAIBHAVGBL': 9, 'GAEL': 15, 'MRPL': 3, 'MMTC': 1, 'JAMNAAUTO': 4, 'HSCL': 11, 'ITI': 13, 'JTEKTINDIA': 26, 'NHPC': 17, 'RCF': 5, 'MAHABANK': 8, 'SCI': 4, 'HATHWAY': 4, 'IOB': 3, 'PTC': 5, 'RAIN': 2, 'TRIDENT': 21, 'NETWORK18': 3, 'FSL': 24, 'HFCL': 9, 'SUZLON': 9, 'SJVN': 20, 'WELSPUNIND': 5, 'NFL': 4, 'CGCL': 7, 'DHANI': 26, 'IOLCP': 5}\n",
      "\n"
     ]
    },
    {
     "name": "stdout",
     "output_type": "stream",
     "text": [
      "\n",
      "AGENT_HRP PORTFOLIO: {'ALEMBICLTD': 47}\n",
      "\n",
      "\n",
      "{\n",
      "    \"Portfolio Name\": \"EFF_MIN_VOL\",\n",
      "    \"Date\": \"2011-06-07\",\n",
      "    \"Single Day Cash Allocation\": 80.0,\n",
      "    \"Initial Portfolio Value\": 1000000,\n",
      "    \"Current Portfolio Value\": 999913.7999999992,\n",
      "    \"Cumulative Portfolio Return\": -0.008620000000076834,\n",
      "    \"Amount Invested\": 673750.5000000003,\n",
      "    \"Amount Reserved\": 326163.2999999989,\n",
      "    \"Reallocation Day\": true\n",
      "}\n",
      "\n",
      "\n",
      "Portfolio Optimization Error: Solver 'OSQP' failed. Try another solver, or solve with verbose=True for more information.\n",
      "\n",
      "AGENT_EFF_MAX_SHARPE PORTFOLIO: {'BAJAJCON': 2, 'JYOTHYLAB': 42, 'SAIL': 5, 'ZEEL': 4, 'TATACOMM': 2, 'SUNPHARMA': 1, 'HFCL': 35, 'TECHM': 1, 'JKLAKSHMI': 12, 'GMRINFRA': 18, 'DBCORP': 2, 'MARUTI': 1, 'BLUEDART': 1, 'HONAUT': 1, 'HINDZINC': 4, 'PERSISTENT': 1, 'CENTURYTEX': 1, 'KOTAKBANK': 1, 'NMDC': 2, 'VENKEYS': 1, 'BOMDYEING': 1, 'TATASTLBSL': 1, 'BHARATRAS': 5, 'GNFC': 5, 'CENTRALBK': 5, 'IOLCP': 16, 'ICICIBANK': 1, 'SANOFI': 1, 'JCHAC': 3, 'JUBLFOOD': 1, 'M&M': 1, 'CHOLAFIN': 3, 'JAICORPLTD': 4, 'POWERGRID': 5, 'SUDARSCHEM': 1, 'TRIDENT': 40, 'MCDOWELL-N': 1, 'YESBANK': 2, 'BIOCON': 1, 'EIDPARRY': 2, 'UBL': 1, 'POLYPLEX': 2, 'HATHWAY': 5, 'ASTRAZEN': 1, 'MUTHOOTFIN': 3, 'SOBHA': 2, 'INOXLEISUR': 13, 'JMFINANCIL': 23, 'JKPAPER': 11, 'WELSPUNIND': 12, 'ASIANPAINT': 1, 'RAYMOND': 1, 'GRASIM': 1, 'OBEROIRLTY': 2, 'BASF': 1, 'CANFINHOME': 5, 'GODREJCP': 1, 'NESCO': 1, 'MFSL': 3, 'THERMAX': 1, 'IGL': 1, 'TATACHEM': 1, 'VINATIORGA': 7, 'J&KBANK': 1, 'CUB': 12, 'REDINGTON': 6, 'BAJAJELEC': 2, 'JSWENERGY': 7, 'PETRONET': 4, 'TVSMOTOR': 10, 'VTL': 2, 'HEIDELBERG': 13, 'DISHTV': 7, 'CANBK': 1, 'BANKINDIA': 1, 'JBCHEPHARM': 4, 'NILKAMAL': 1, 'DELTACORP': 6, 'CGCL': 10, 'ZYDUSWELL': 1, 'PIDILITIND': 3, 'ADANIPORTS': 3, 'IOB': 3, 'AEGISCHEM': 2, 'CHENNPETRO': 2, 'RADICO': 4, 'DIVISLAB': 1, 'DEEPAKNTR': 2, 'SKFINDIA': 1, 'KRBL': 18, 'KEI': 23, 'GODREJIND': 2, 'BEML': 1, 'NOCIL': 30, 'HDFCBANK': 1, 'MOIL': 1, 'FDC': 5, 'VAIBHAVGBL': 12, 'PGHH': 1, 'CEATLTD': 5, 'STLTECH': 9, 'IIFL': 6, 'RELIANCE': 1, 'WELCORP': 3, 'SHRIRAMCIT': 1, 'HINDPETRO': 1, 'KAJARIACER': 5, 'IDEA': 7, 'NCC': 6, 'APOLLOHOSP': 1, 'AXISBANK': 1, 'IOC': 1, 'SUNDRMFAST': 8, 'SUPRAJIT': 25, 'GODREJPROP': 1, 'SHOPERSTOP': 1, 'EPL': 11, 'IFBIND': 4, 'KSB': 2, 'STAR': 1, 'LUPIN': 1, 'WIPRO': 1, 'EICHERMOT': 1, 'BERGEPAINT': 5, 'NATCOPHARM': 1, 'OFSS': 1, 'CESC': 1, 'PNB': 1, 'DRREDDY': 1, 'CUMMINSIND': 1, 'INDIANB': 2, 'MOTILALOFS': 4, 'BATAINDIA': 1, 'PEL': 1, 'FEDERALBNK': 1, 'DCBBANK': 8, 'SPARC': 5, 'ITC': 2, 'TVTODAY': 8, 'ULTRACEMCO': 1, 'ELGIEQUIP': 6, 'MRF': 1, 'BAJFINANCE': 1, 'LAXMIMACH': 1, 'HEG': 2, 'DCMSHRIRAM': 11, 'CHAMBLFERT': 6, 'HDFC': 1, 'PRAJIND': 6, 'TATASTEEL': 1, 'RATNAMANI': 4, 'NLCINDIA': 4, 'NHPC': 20, 'SIEMENS': 1, 'KANSAINER': 1, 'BIRLACORPN': 1, 'BSOFT': 2, 'JAMNAAUTO': 3, 'GEPIL': 1, 'LAOPALA': 6, 'AMBUJACEM': 3, 'KSCL': 1, 'JTEKTINDIA': 29, 'BAJAJFINSV': 1, 'TATAELXSI': 1, 'SHILPAMED': 1, 'GRAPHITE': 5, 'APOLLOTYRE': 6, 'MAHSCOOTER': 1, 'MARICO': 3, 'SRF': 1, 'AIAENG': 1, 'PHOENIXLTD': 2, 'ITI': 14, 'INDUSINDBK': 1, 'VOLTAS': 2, 'KALPATPOWR': 3, 'KTKBANK': 4, 'GREAVESCOT': 5, 'OIL': 1, 'KOLTEPATIL': 10, 'FINPIPE': 5, 'INFY': 1, 'SBIN': 1, 'LICHSGFIN': 2, 'VAKRANGEE': 1, 'LINDEINDIA': 1, 'MOTHERSUMI': 2, 'MPHASIS': 1, 'TV18BRDCST': 5, 'SJVN': 21, 'BEL': 1, 'ATUL': 2, 'TORNTPOWER': 1, 'HUHTAMAKI': 7, 'INDHOTEL': 5, 'OMAXE': 3, 'FSL': 25, 'HEROMOTOCO': 1, 'TIMKEN': 2, 'GPPL': 7, 'BANKBARODA': 1, 'COROMANDEL': 1, 'DLF': 1, 'PFC': 2, 'NAVINFLUOR': 1, 'CENTURYPLY': 6, 'ASHOKLEY': 8, 'MINDAIND': 1, 'RAMCOCEM': 5, 'PTC': 5, 'HINDALCO': 2, 'NTPC': 2, 'ASHOKA': 1, 'SUZLON': 8, 'GAIL': 1, 'BHARATFORG': 1, 'CIPLA': 1, 'PHILIPCARB': 3, 'SCI': 4, 'WHIRLPOOL': 1, 'ZENSARTECH': 2, 'BHARTIARTL': 1, 'EMAMILTD': 1, 'PRSMJOHNSN': 9, 'SWARAJENG': 1, 'PRESTIGE': 3, 'HINDCOPPER': 1, 'VGUARD': 2, 'RCF': 5, 'AARTIDRUGS': 3, 'RAIN': 2, 'MINDTREE': 1, 'IBREALEST': 3, 'SUPPETRO': 7, 'ESCORTS': 3, 'JKCEMENT': 3, 'BALRAMCHIN': 7, 'BALKRISIND': 2, 'HAVELLS': 1, 'GRINDWELL': 1, 'CCL': 2, 'AMARAJABAT': 2, 'INDIACEM': 5, 'GUJALKALI': 3, 'MAHINDCIE': 5, 'UCOBANK': 4, 'ONGC': 1, 'MAHSEAMLES': 1, 'BLISSGVS': 18, 'IDFC': 3, 'MAHABANK': 7, 'GRANULES': 4, 'HSCL': 10, 'FINCABLES': 8, 'INDOCO': 1, 'COFORGE': 2, 'GSPL': 4, 'KARURVYSYA': 1, 'GARFIBRES': 6, 'IDBI': 3, 'ASTRAL': 2, 'COALINDIA': 1, 'UNIONBANK': 1, 'NATIONALUM': 4, 'ALEMBICLTD': 20, 'GAEL': 13, 'NFL': 3, 'AJANTPHARM': 1, 'AUROPHARMA': 2, 'KEC': 4, 'FORTIS': 2, 'GHCL': 8, 'CYIENT': 2, 'SUNTV': 1, 'GMDCLTD': 1, 'UFLEX': 1, 'JINDALSAW': 1, 'CERA': 1, 'AARTIIND': 4, 'NAVNETEDUL': 3, 'JKTYRE': 2, 'EDELWEISS': 6, 'EIHOTEL': 2, 'DABUR': 1, 'BRIGADE': 2, 'EXIDEIND': 1, 'JAGRAN': 1, 'KNRCON': 1, 'TATACONSUM': 1, 'ALKYLAMINE': 1}\n",
      "\n",
      "\n",
      "{\n",
      "    \"Portfolio Name\": \"EFF_MAX_SHARPE\",\n",
      "    \"Date\": \"2011-06-07\",\n",
      "    \"Single Day Cash Allocation\": 80.0,\n",
      "    \"Initial Portfolio Value\": 1000000,\n",
      "    \"Current Portfolio Value\": 993789.7999999999,\n",
      "    \"Cumulative Portfolio Return\": -0.621020000000007,\n",
      "    \"Amount Invested\": 172614.15000000002,\n",
      "    \"Amount Reserved\": 821175.6499999999,\n",
      "    \"Reallocation Day\": true\n",
      "}\n",
      "\n",
      "\n",
      "\n",
      "{\n",
      "    \"Portfolio Name\": \"HRP\",\n",
      "    \"Date\": \"2011-06-07\",\n",
      "    \"Single Day Cash Allocation\": 80.0,\n",
      "    \"Initial Portfolio Value\": 1000000,\n",
      "    \"Current Portfolio Value\": 1000004.6999999996,\n",
      "    \"Cumulative Portfolio Return\": 0.0004699999999604188,\n",
      "    \"Amount Invested\": 791180.9999999997,\n",
      "    \"Amount Reserved\": 208823.69999999998,\n",
      "    \"Reallocation Day\": true\n",
      "}\n",
      "\n",
      "\n",
      "\n",
      "AGENT_CLA_MIN_VOL PORTFOLIO: {}\n",
      "\n",
      "\n",
      "AGENT_CLA_MAX_SHARPE PORTFOLIO: {}\n",
      "\n",
      "\n",
      "{\n",
      "    \"Portfolio Name\": \"CLA_MIN_VOL\",\n",
      "    \"Date\": \"2011-06-07\",\n",
      "    \"Single Day Cash Allocation\": 80.0,\n",
      "    \"Initial Portfolio Value\": 1000000,\n",
      "    \"Current Portfolio Value\": 1000000.0,\n",
      "    \"Cumulative Portfolio Return\": 0.0,\n",
      "    \"Amount Invested\": 798167.5500000002,\n",
      "    \"Amount Reserved\": 201832.44999999987,\n",
      "    \"Reallocation Day\": true\n",
      "}\n",
      "\n",
      "\n",
      "\n",
      "{\n",
      "    \"Portfolio Name\": \"CLA_MAX_SHARPE\",\n",
      "    \"Date\": \"2011-06-07\",\n",
      "    \"Single Day Cash Allocation\": 80.0,\n",
      "    \"Initial Portfolio Value\": 1000000,\n",
      "    \"Current Portfolio Value\": 1000000.0000000002,\n",
      "    \"Cumulative Portfolio Return\": 2.328306436538696e-14,\n",
      "    \"Amount Invested\": 798440.8500000002,\n",
      "    \"Amount Reserved\": 201559.15000000002,\n",
      "    \"Reallocation Day\": true\n",
      "}\n",
      "\n",
      "\n",
      "Day: 5\n",
      "\n",
      "AGENT_EFF_MIN_VOL PORTFOLIO: {'EICHERMOT': 2, 'HEROMOTOCO': 1, 'BAJAJ-AUTO': 2, 'NESTLEIND': 1, 'ULTRACEMCO': 2, 'DRREDDY': 1, 'BAJFINANCE': 3, '3MINDIA': 1, 'TTKPRESTIG': 1, 'DIVISLAB': 2, 'APOLLOHOSP': 3, 'RELIANCE': 2, 'INDUSINDBK': 6, 'BRITANNIA': 4, 'HINDUNILVR': 8, 'TCS': 2, 'ABBOTINDIA': 1, 'AJANTPHARM': 4, 'TORNTPHARM': 3, 'SRTRANSFIN': 2, 'SCHAEFFLER': 2, 'HDFC': 2, 'LAXMIMACH': 1, 'AXISBANK': 2, 'BAJAJHLDNG': 2, 'BATAINDIA': 4, 'WABCOINDIA': 2, 'OFSS': 1, 'TATAELXSI': 7, 'GODFRYPHLP': 1, 'SBIN': 1, 'PGHH': 1, 'BHARTIARTL': 4, 'HCLTECH': 3, 'CRISIL': 1, 'AUROPHARMA': 12, 'BHARATFORG': 5, 'AKZOINDIA': 3, 'PIDILITIND': 11, 'CENTURYTEX': 4, 'GODREJCP': 2, 'CONCOR': 1, 'HINDPETRO': 6, 'SKFINDIA': 3, 'BALKRISIND': 12, 'BANKBARODA': 2, 'LICHSGFIN': 7, 'JSWSTEEL': 2, 'JINDALSTEL': 3, 'MOTHERSUMI': 7, 'SUPREMEIND': 11, 'NILKAMAL': 6, 'AMBUJACEM': 12, 'TATACONSUM': 25, 'MINDTREE': 5, 'ADANIPORTS': 10, 'HINDALCO': 10, 'COALINDIA': 3, 'PEL': 4, 'SRF': 5, 'CADILAHC': 2, 'MAHSCOOTER': 4, 'EXIDEIND': 11, 'CHOLAFIN': 8, 'GLENMARK': 7, 'AMARAJABAT': 9, 'ATUL': 12, 'WHIRLPOOL': 8, 'AIAENG': 5, 'SWARAJENG': 4, 'COFORGE': 9, 'APOLLOTYRE': 27, 'CEATLTD': 21, 'MUTHOOTFIN': 8, 'BERGEPAINT': 5, 'EMAMILTD': 3, 'HAVELLS': 4, 'ADANIENT': 3, 'KAJARIACER': 19, 'ABB': 2, 'HINDZINC': 10, 'NATCOPHARM': 6, 'POWERGRID': 15, 'TATACHEM': 3, 'ICRA': 2, 'KANSAINER': 2, 'STAR': 5, 'COROMANDEL': 5, 'GODREJIND': 8, 'PETRONET': 10, 'PERSISTENT': 3, 'RAJESHEXPO': 26, 'ITC': 10, 'UNIONBANK': 5, 'IPCALAB': 5, 'BPCL': 3, 'TATACOMM': 10, 'CIPLA': 4, 'RAYMOND': 2, 'ZEEL': 16, 'TRENT': 2, 'NAVINFLUOR': 6, 'ZENSARTECH': 11, 'GODREJPROP': 3, 'TORNTPOWER': 8, 'ESCORTS': 14, 'RECLTD': 9, 'ONGC': 7, 'NAUKRI': 3, 'UPL': 14, 'JYOTHYLAB': 13, 'VOLTAS': 10, 'JCHAC': 7, 'RAMCOCEM': 23, 'BIRLACORPN': 4, 'BLUESTARCO': 6, 'OBEROIRLTY': 7, 'CERA': 9, 'TATACOFFEE': 3, 'GAIL': 4, 'PHOENIXLTD': 9, 'AEGISCHEM': 7, 'BALMLAWRIE': 4, 'EIDPARRY': 6, 'DABUR': 18, 'JKCEMENT': 16, 'MAHSEAMLES': 5, 'TVSMOTOR': 30, 'PGHL': 3, 'MARICO': 12, 'CARBORUNIV': 7, 'BAJAJELEC': 6, 'GUJALKALI': 11, 'CHENNPETRO': 7, 'TATAINVEST': 3, 'VINATIORGA': 21, 'DLF': 8, 'PHILIPCARB': 13, 'CANFINHOME': 17, 'CESC': 6, 'WOCKPHARMA': 5, 'KARURVYSYA': 4, 'KALPATPOWR': 15, 'JBCHEPHARM': 15, 'IOC': 7, 'NTPC': 11, 'HEG': 7, 'SHOPERSTOP': 5, 'PRESTIGE': 15, 'KTKBANK': 16, 'CYIENT': 14, 'BHEL': 1, 'DELTACORP': 17, 'AARTIIND': 34, 'LINDEINDIA': 7, 'BAJAJCON': 25, 'POLYPLEX': 6, 'NMDC': 5, 'RATNAMANI': 17, 'TIMKEN': 9, 'ASTRAL': 11, 'INDIANB': 8, 'IGL': 4, 'VTL': 7, 'BALRAMCHIN': 29, 'MOTILALOFS': 20, 'MFSL': 9, 'VGUARD': 7, 'KSCL': 4, 'GRANULES': 21, 'DCMSHRIRAM': 43, 'SUNDRMFAST': 31, 'PFC': 9, 'BSOFT': 10, 'FINCABLES': 39, 'RADICO': 12, 'HERITGFOOD': 10, 'INDIACEM': 20, 'FORTIS': 15, 'SHILPAMED': 7, 'GREAVESCOT': 21, 'CENTURYPLY': 29, 'JKLAKSHMI': 52, 'ESABINDIA': 4, 'VIPIND': 3, 'SOBHA': 4, 'KOLTEPATIL': 42, 'INDHOTEL': 24, 'ASHOKLEY': 43, 'CHAMBLFERT': 21, 'UFLEX': 3, 'GESHIP': 7, 'FINPIPE': 21, 'MANAPPURAM': 13, 'GARFIBRES': 29, 'EPL': 45, 'LAOPALA': 29, 'IFBIND': 16, 'AARTIDRUGS': 14, 'GRINDWELL': 6, 'TATAPOWER': 2, 'HUHTAMAKI': 21, 'MOIL': 4, 'KSB': 7, 'JKTYRE': 20, 'MAHINDCIE': 25, 'GEPIL': 3, 'INOXLEISUR': 29, 'JAICORPLTD': 11, 'GMDCLTD': 13, 'IBREALEST': 14, 'OMAXE': 13, 'ELGIEQUIP': 20, 'MHRIL': 5, 'GRAPHITE': 19, 'REDINGTON': 22, 'VAKRANGEE': 4, 'TVTODAY': 8, 'IDEA': 32, 'DCBBANK': 31, 'JMFINANCIL': 64, 'DBCORP': 7, 'JINDALSAW': 13, 'INDOCO': 4, 'WELCORP': 12, 'BLISSGVS': 86, 'JAGRAN': 16, 'KRBL': 94, 'EIHOTEL': 22, 'ASHOKA': 6, 'GMRINFRA': 45, 'KEC': 26, 'ALKYLAMINE': 25, 'NAVNETEDUL': 25, 'STLTECH': 35, 'NATIONALUM': 19, 'MINDAIND': 8, 'SUPRAJIT': 107, 'BRIGADE': 30, 'IDFC': 11, 'GSPL': 19, 'SUPPETRO': 34, 'BHARATRAS': 16, 'CCL': 9, 'HINDCOPPER': 6, 'SPARC': 21, 'TV18BRDCST': 19, 'PRAJIND': 26, 'GNFC': 15, 'FDC': 19, 'EDELWEISS': 52, 'IIFL': 24, 'SONATSOFTW': 28, 'GHCL': 58, 'HEIDELBERG': 42, 'CUB': 48, 'GSFC': 6, 'SOUTHBANK': 103, 'DISHTV': 21, 'NOCIL': 122, 'CENTRALBK': 13, 'JSWENERGY': 25, 'SAIL': 16, 'PRSMJOHNSN': 34, 'DEEPAKNTR': 11, 'UCOBANK': 16, 'IDBI': 12, 'NLCINDIA': 15, 'KNRCON': 15, 'KEI': 73, 'JKPAPER': 36, 'ALEMBICLTD': 102, 'GPPL': 22, 'NCC': 26, 'VAIBHAVGBL': 43, 'GAEL': 65, 'MRPL': 20, 'MMTC': 2, 'JAMNAAUTO': 14, 'HSCL': 45, 'ITI': 52, 'JTEKTINDIA': 110, 'NHPC': 71, 'RCF': 20, 'MAHABANK': 29, 'SCI': 20, 'HATHWAY': 22, 'IOB': 14, 'PTC': 18, 'RAIN': 11, 'TRIDENT': 94, 'NETWORK18': 13, 'FSL': 81, 'HFCL': 61, 'SUZLON': 33, 'SJVN': 88, 'WELSPUNIND': 34, 'NFL': 16, 'CGCL': 26, 'DHANI': 232, 'IOLCP': 46, 'RALLIS': 2, 'COLPAL': 2, 'BAYERCROP': 3, 'SUNTECK': 6, 'SUNPHARMA': 4, 'INGERRAND': 4, 'GLAXO': 1, 'SOLARINDS': 3, 'PAGEIND': 1, 'SHREECEM': 1, 'SUNDARMFIN': 3, 'VSTIND': 2, 'CUMMINSIND': 2, 'PFIZER': 1, 'OIL': 1, 'TATASTEEL': 3, 'BAJAJFINSV': 3, 'SHRIRAMCIT': 3, 'TITAN': 1, 'ECLERX': 2, 'BEML': 3, 'INFY': 1, 'LUPIN': 3, 'BASF': 3, 'BOSCHLTD': 1, 'SIEMENS': 2, 'BANKINDIA': 4, 'FEDERALBNK': 3, 'M&M': 2, 'MRF': 1, 'TATASTLBSL': 3, 'WIPRO': 3, 'PNB': 2, 'ZYDUSWELL': 2, 'ACC': 2, 'MPHASIS': 3, 'MCDOWELL-N': 2, 'GILLETTE': 1, 'ASTRAZEN': 1, 'TATAMTRDVR': 2, 'J&KBANK': 2, 'MARUTI': 1, 'LT': 1, 'BIOCON': 4, 'GRASIM': 1, 'TATAMOTORS': 1, 'HDFCBANK': 1, 'CANBK': 2, 'BEL': 1, 'NESCO': 2, 'ASIANPAINT': 1, 'SANOFI': 1, 'UBL': 2, 'THERMAX': 2, 'JUBLFOOD': 2, 'VENKEYS': 2, 'SUDARSCHEM': 2, 'ENGINERSIN': 4, 'KOTAKBANK': 3, 'HONAUT': 1, 'ICICIBANK': 1, 'TECHM': 2, 'YESBANK': 3, 'BOMDYEING': 2, 'BLUEDART': 1}\n",
      "\n",
      "\n",
      "{\n",
      "    \"Portfolio Name\": \"EFF_MIN_VOL\",\n",
      "    \"Date\": \"2011-06-08\",\n",
      "    \"Single Day Cash Allocation\": 80.0,\n",
      "    \"Initial Portfolio Value\": 1000000,\n",
      "    \"Current Portfolio Value\": 1000064.1499999994,\n",
      "    \"Cumulative Portfolio Return\": 0.00641499999994412,\n",
      "    \"Amount Invested\": 260153.8000000001,\n",
      "    \"Amount Reserved\": 739910.3499999993,\n",
      "    \"Reallocation Day\": true\n",
      "}\n",
      "\n",
      "\n"
     ]
    },
    {
     "name": "stdout",
     "output_type": "stream",
     "text": [
      "\n",
      "AGENT_EFF_MAX_SHARPE PORTFOLIO: {'BAJAJCON': 2, 'JYOTHYLAB': 42, 'SAIL': 5, 'ZEEL': 4, 'TATACOMM': 2, 'SUNPHARMA': 1, 'HFCL': 35, 'TECHM': 1, 'JKLAKSHMI': 12, 'GMRINFRA': 18, 'DBCORP': 2, 'MARUTI': 1, 'BLUEDART': 1, 'HONAUT': 1, 'HINDZINC': 4, 'PERSISTENT': 1, 'CENTURYTEX': 1, 'KOTAKBANK': 1, 'NMDC': 2, 'VENKEYS': 1, 'BOMDYEING': 1, 'TATASTLBSL': 1, 'BHARATRAS': 5, 'GNFC': 5, 'CENTRALBK': 5, 'IOLCP': 16, 'ICICIBANK': 1, 'SANOFI': 1, 'JCHAC': 3, 'JUBLFOOD': 1, 'M&M': 1, 'CHOLAFIN': 3, 'JAICORPLTD': 4, 'POWERGRID': 5, 'SUDARSCHEM': 1, 'TRIDENT': 40, 'MCDOWELL-N': 1, 'YESBANK': 2, 'BIOCON': 1, 'EIDPARRY': 2, 'UBL': 1, 'POLYPLEX': 2, 'HATHWAY': 5, 'ASTRAZEN': 1, 'MUTHOOTFIN': 3, 'SOBHA': 2, 'INOXLEISUR': 13, 'JMFINANCIL': 23, 'JKPAPER': 11, 'WELSPUNIND': 12, 'ASIANPAINT': 1, 'RAYMOND': 1, 'GRASIM': 1, 'OBEROIRLTY': 2, 'BASF': 1, 'CANFINHOME': 5, 'GODREJCP': 1, 'NESCO': 1, 'MFSL': 3, 'THERMAX': 1, 'IGL': 1, 'TATACHEM': 1, 'VINATIORGA': 7, 'J&KBANK': 1, 'CUB': 12, 'REDINGTON': 6, 'BAJAJELEC': 2, 'JSWENERGY': 7, 'PETRONET': 4, 'TVSMOTOR': 10, 'VTL': 2, 'HEIDELBERG': 13, 'DISHTV': 7, 'CANBK': 1, 'BANKINDIA': 1, 'JBCHEPHARM': 4, 'NILKAMAL': 1, 'DELTACORP': 6, 'CGCL': 10, 'ZYDUSWELL': 1, 'PIDILITIND': 3, 'ADANIPORTS': 3, 'IOB': 3, 'AEGISCHEM': 2, 'CHENNPETRO': 2, 'RADICO': 4, 'DIVISLAB': 1, 'DEEPAKNTR': 2, 'SKFINDIA': 1, 'KRBL': 18, 'KEI': 23, 'GODREJIND': 2, 'BEML': 1, 'NOCIL': 30, 'HDFCBANK': 1, 'MOIL': 1, 'FDC': 5, 'VAIBHAVGBL': 12, 'PGHH': 1, 'CEATLTD': 5, 'STLTECH': 9, 'IIFL': 6, 'RELIANCE': 1, 'WELCORP': 3, 'SHRIRAMCIT': 1, 'HINDPETRO': 1, 'KAJARIACER': 5, 'IDEA': 7, 'NCC': 6, 'APOLLOHOSP': 1, 'AXISBANK': 1, 'IOC': 1, 'SUNDRMFAST': 8, 'SUPRAJIT': 25, 'GODREJPROP': 1, 'SHOPERSTOP': 1, 'EPL': 11, 'IFBIND': 4, 'KSB': 2, 'STAR': 1, 'LUPIN': 1, 'WIPRO': 1, 'EICHERMOT': 1, 'BERGEPAINT': 5, 'NATCOPHARM': 1, 'OFSS': 1, 'CESC': 1, 'PNB': 1, 'DRREDDY': 1, 'CUMMINSIND': 1, 'INDIANB': 2, 'MOTILALOFS': 4, 'BATAINDIA': 1, 'PEL': 1, 'FEDERALBNK': 1, 'DCBBANK': 8, 'SPARC': 5, 'ITC': 2, 'TVTODAY': 8, 'ULTRACEMCO': 1, 'ELGIEQUIP': 6, 'MRF': 1, 'BAJFINANCE': 1, 'LAXMIMACH': 1, 'HEG': 2, 'DCMSHRIRAM': 11, 'CHAMBLFERT': 6, 'HDFC': 1, 'PRAJIND': 6, 'TATASTEEL': 1, 'RATNAMANI': 4, 'NLCINDIA': 4, 'NHPC': 20, 'SIEMENS': 1, 'KANSAINER': 1, 'BIRLACORPN': 1, 'BSOFT': 2, 'JAMNAAUTO': 3, 'GEPIL': 1, 'LAOPALA': 6, 'AMBUJACEM': 3, 'KSCL': 1, 'JTEKTINDIA': 29, 'BAJAJFINSV': 1, 'TATAELXSI': 1, 'SHILPAMED': 1, 'GRAPHITE': 5, 'APOLLOTYRE': 6, 'MAHSCOOTER': 1, 'MARICO': 3, 'SRF': 1, 'AIAENG': 1, 'PHOENIXLTD': 2, 'ITI': 14, 'INDUSINDBK': 1, 'VOLTAS': 2, 'KALPATPOWR': 3, 'KTKBANK': 4, 'GREAVESCOT': 5, 'OIL': 1, 'KOLTEPATIL': 10, 'FINPIPE': 5, 'INFY': 1, 'SBIN': 1, 'LICHSGFIN': 2, 'VAKRANGEE': 1, 'LINDEINDIA': 1, 'MOTHERSUMI': 2, 'MPHASIS': 1, 'TV18BRDCST': 5, 'SJVN': 21, 'BEL': 1, 'ATUL': 2, 'TORNTPOWER': 1, 'HUHTAMAKI': 7, 'INDHOTEL': 5, 'OMAXE': 3, 'FSL': 25, 'HEROMOTOCO': 1, 'TIMKEN': 2, 'GPPL': 7, 'BANKBARODA': 1, 'COROMANDEL': 1, 'DLF': 1, 'PFC': 2, 'NAVINFLUOR': 1, 'CENTURYPLY': 6, 'ASHOKLEY': 8, 'MINDAIND': 1, 'RAMCOCEM': 5, 'PTC': 5, 'HINDALCO': 2, 'NTPC': 2, 'ASHOKA': 1, 'SUZLON': 8, 'GAIL': 1, 'BHARATFORG': 1, 'CIPLA': 1, 'PHILIPCARB': 3, 'SCI': 4, 'WHIRLPOOL': 1, 'ZENSARTECH': 2, 'BHARTIARTL': 1, 'EMAMILTD': 1, 'PRSMJOHNSN': 9, 'SWARAJENG': 1, 'PRESTIGE': 3, 'HINDCOPPER': 1, 'VGUARD': 2, 'RCF': 5, 'AARTIDRUGS': 3, 'RAIN': 2, 'MINDTREE': 1, 'IBREALEST': 3, 'SUPPETRO': 7, 'ESCORTS': 3, 'JKCEMENT': 3, 'BALRAMCHIN': 7, 'BALKRISIND': 2, 'HAVELLS': 1, 'GRINDWELL': 1, 'CCL': 2, 'AMARAJABAT': 2, 'INDIACEM': 5, 'GUJALKALI': 3, 'MAHINDCIE': 5, 'UCOBANK': 4, 'ONGC': 1, 'MAHSEAMLES': 1, 'BLISSGVS': 18, 'IDFC': 3, 'MAHABANK': 7, 'GRANULES': 4, 'HSCL': 10, 'FINCABLES': 8, 'INDOCO': 1, 'COFORGE': 2, 'GSPL': 4, 'KARURVYSYA': 1, 'GARFIBRES': 6, 'IDBI': 3, 'ASTRAL': 2, 'COALINDIA': 1, 'UNIONBANK': 1, 'NATIONALUM': 4, 'ALEMBICLTD': 20, 'GAEL': 13, 'NFL': 3, 'AJANTPHARM': 1, 'AUROPHARMA': 2, 'KEC': 4, 'FORTIS': 2, 'GHCL': 8, 'CYIENT': 2, 'SUNTV': 1, 'GMDCLTD': 1, 'UFLEX': 1, 'JINDALSAW': 1, 'CERA': 1, 'AARTIIND': 4, 'NAVNETEDUL': 3, 'JKTYRE': 2, 'EDELWEISS': 6, 'EIHOTEL': 2, 'DABUR': 1, 'BRIGADE': 2, 'EXIDEIND': 1, 'JAGRAN': 1, 'KNRCON': 1, 'TATACONSUM': 1, 'ALKYLAMINE': 1}\n",
      "\n",
      "\n",
      "AGENT_HRP PORTFOLIO: {'ALEMBICLTD': 8, 'GAEL': 17527, 'GRANULES': 1085, 'GARFIBRES': 622, 'BLISSGVS': 424, 'GSPL': 79, 'HCLTECH': 14, 'ICRA': 7, 'JKCEMENT': 58, 'MAHINDCIE': 87, 'JINDALSTEL': 8, 'BALKRISIND': 30, 'SUPPETRO': 69, 'BPCL': 7, 'MINDTREE': 11, 'AARTIDRUGS': 30, 'BHARATFORG': 9, 'SCHAEFFLER': 3, 'MMTC': 3, 'FINCABLES': 52, 'TATAINVEST': 4, 'CADILAHC': 3, 'SRTRANSFIN': 3, '3MINDIA': 1, 'ABB': 2, 'HSCL': 40, 'HINDCOPPER': 5, 'SHREECEM': 1, 'ADANIENT': 2, 'ASHOKLEY': 25, 'ATUL': 7, 'TATAPOWER': 1, 'TORNTPHARM': 2, 'MPHASIS': 2, 'GAIL': 2, 'DLF': 4, 'AMARAJABAT': 4, 'NAUKRI': 1, 'MAHSEAMLES': 2, 'WHIRLPOOL': 3, 'LINDEINDIA': 3, 'RAIN': 4, 'COROMANDEL': 2, 'PHILIPCARB': 5, 'SUNDARMFIN': 1, 'KARURVYSYA': 2, 'TTKPRESTIG': 1, 'TITAN': 1, 'MAHABANK': 11, 'HAVELLS': 2, 'AIAENG': 2, 'BAJAJHLDNG': 1, 'TIMKEN': 3, 'GRAPHITE': 6, 'NTPC': 3, 'GREAVESCOT': 6, 'MARICO': 3, 'TRENT': 1, 'MOTHERSUMI': 2, 'RECLTD': 2, 'SRF': 1, 'CYIENT': 3, 'INFY': 1, 'OMAXE': 3, 'KSCL': 1, 'SBIN': 1, 'OIL': 1, 'ITI': 13, 'AMBUJACEM': 2, 'IBREALEST': 3, 'PFC': 2, 'TATAELXSI': 1, 'INDOCO': 1, 'GODFRYPHLP': 1, 'SUPREMEIND': 2, 'BAJAJFINSV': 1, 'NAVINFLUOR': 1, 'HEROMOTOCO': 1, 'HINDALCO': 1, 'VOLTAS': 2, 'INDHOTEL': 4, 'SJVN': 16, 'CCL': 1, 'PHOENIXLTD': 1, 'KTKBANK': 2, 'JSWSTEEL': 1, 'CARBORUNIV': 1, 'EIHOTEL': 3, 'BHARTIARTL': 1, 'ESABINDIA': 1, 'MHRIL': 1, 'COFORGE': 1, 'HERITGFOOD': 1, 'PEL': 1, 'BALRAMCHIN': 4, 'TATASTEEL': 1, 'CESC': 1, 'TV18BRDCST': 2, 'CERA': 1, 'DCMSHRIRAM': 5, 'INDIACEM': 2, 'PRAJIND': 3, 'JTEKTINDIA': 13, 'SUPRAJIT': 10, 'NOCIL': 12, 'NHPC': 7, 'NFL': 1, 'BSOFT': 1, 'ESCORTS': 1, 'SPARC': 1, 'UCOBANK': 1, 'PRESTIGE': 1, 'CENTURYPLY': 2, 'NATIONALUM': 1, 'VAIBHAVGBL': 3, 'APOLLOTYRE': 2, 'KEC': 1, 'JAMNAAUTO': 1, 'SCI': 1, 'NAVNETEDUL': 2, 'KAJARIACER': 1, 'RATNAMANI': 1, 'DISHTV': 1, 'NLCINDIA': 1, 'KOLTEPATIL': 2, 'MOTILALOFS': 1, 'ALKYLAMINE': 1, 'KEI': 4, 'JKTYRE': 1, 'BRIGADE': 1, 'RCF': 1, 'EPL': 1, 'TVSMOTOR': 1}\n",
      "\n",
      "\n",
      "{\n",
      "    \"Portfolio Name\": \"HRP\",\n",
      "    \"Date\": \"2011-06-08\",\n",
      "    \"Single Day Cash Allocation\": 80.0,\n",
      "    \"Initial Portfolio Value\": 1000000,\n",
      "    \"Current Portfolio Value\": 1005822.6499999999,\n",
      "    \"Cumulative Portfolio Return\": 0.5822649999999907,\n",
      "    \"Amount Invested\": 166305.60000000003,\n",
      "    \"Amount Reserved\": 839517.0499999999,\n",
      "    \"Reallocation Day\": true\n",
      "}\n",
      "\n",
      "\n",
      "\n",
      "{\n",
      "    \"Portfolio Name\": \"EFF_MAX_SHARPE\",\n",
      "    \"Date\": \"2011-06-08\",\n",
      "    \"Single Day Cash Allocation\": 80.0,\n",
      "    \"Initial Portfolio Value\": 1000000,\n",
      "    \"Current Portfolio Value\": 993485.0500000003,\n",
      "    \"Cumulative Portfolio Return\": -0.6514949999999721,\n",
      "    \"Amount Invested\": 656887.4500000004,\n",
      "    \"Amount Reserved\": 336597.59999999986,\n",
      "    \"Reallocation Day\": true\n",
      "}\n",
      "\n",
      "\n"
     ]
    },
    {
     "name": "stderr",
     "output_type": "stream",
     "text": [
      "/opt/conda/lib/python3.9/site-packages/pypfopt/discrete_allocation.py:210: RuntimeWarning: invalid value encountered in true_divide\n",
      "  current_weights /= current_weights.sum()\n"
     ]
    },
    {
     "name": "stdout",
     "output_type": "stream",
     "text": [
      "\n",
      "AGENT_CLA_MAX_SHARPE PORTFOLIO: {'AKZOINDIA': 126, 'ECLERX': 101, 'HONAUT': 14, 'VIPIND': 40, 'CONCOR': 26, 'THERMAX': 44, 'SKFINDIA': 41, 'PGHH': 13, 'COLPAL': 25, 'HDFC': 33, 'DRREDDY': 13, 'OFSS': 10, 'GILLETTE': 10, 'TECHM': 26, 'LT': 9, 'NESCO': 27, 'BEL': 9, 'GODREJPROP': 18, 'CRISIL': 2, 'TCS': 10, 'TATAMOTORS': 11, 'NESTLEIND': 3, 'WABCOINDIA': 11, 'DIVISLAB': 13, 'TATAMTRDVR': 16, 'ACC': 9, 'TITAN': 2, 'KANSAINER': 10, 'RELIANCE': 9, 'ICICIBANK': 7, 'ABBOTINDIA': 5, 'HDFCBANK': 3, 'EICHERMOT': 5, 'BOSCHLTD': 1, 'BAJAJHLDNG': 8, 'INFY': 2, 'CANBK': 11, 'AXISBANK': 5, 'RALLIS': 4, 'SIEMENS': 6, 'BANKBARODA': 6, 'BHEL': 3, 'ZYDUSWELL': 8, 'GEPIL': 7, 'SBIN': 2, 'JSWSTEEL': 4, 'LAXMIMACH': 2, 'BLUEDART': 3, 'VENKEYS': 5, 'PNB': 3, 'TTKPRESTIG': 1, 'NAUKRI': 3, 'SRTRANSFIN': 3, 'SCHAEFFLER': 1, 'HEROMOTOCO': 1, 'J&KBANK': 1, 'TORNTPHARM': 1}\n",
      "\n",
      "\n",
      "{\n",
      "    \"Portfolio Name\": \"CLA_MAX_SHARPE\",\n",
      "    \"Date\": \"2011-06-08\",\n",
      "    \"Single Day Cash Allocation\": 80.0,\n",
      "    \"Initial Portfolio Value\": 1000000,\n",
      "    \"Current Portfolio Value\": 997410.6500000001,\n",
      "    \"Cumulative Portfolio Return\": -0.25893499999998604,\n",
      "    \"Amount Invested\": 160352.1,\n",
      "    \"Amount Reserved\": 837058.5500000002,\n",
      "    \"Reallocation Day\": true\n",
      "}\n",
      "\n",
      "\n",
      "\n",
      "AGENT_CLA_MIN_VOL PORTFOLIO: {'AKZOINDIA': 14, 'VIPIND': 15, 'BALMLAWRIE': 20, 'RALLIS': 8, 'BAYERCROP': 13, 'CRISIL': 2, 'BAJAJ-AUTO': 8, 'TRENT': 10, 'COLPAL': 12, 'TATACOFFEE': 12, 'PGHL': 17, 'ULTRACEMCO': 10, 'BAJFINANCE': 16, '3MINDIA': 3, 'GODFRYPHLP': 5, 'CADILAHC': 10, 'DIVISLAB': 12, 'GLAXO': 4, 'GODREJPROP': 13, 'BPCL': 14, 'PAGEIND': 5, 'NAUKRI': 13, 'AXISBANK': 7, 'HEROMOTOCO': 5, 'LAXMIMACH': 4, 'RELIANCE': 9, 'ADANIENT': 14, 'SOLARINDS': 14, 'GEPIL': 15, 'TATAPOWER': 7, 'KANSAINER': 10, 'EICHERMOT': 7, 'ABB': 10, 'SCHAEFFLER': 8, 'SBIN': 4, 'MMTC': 9, 'SKFINDIA': 13, 'JINDALSTEL': 13, 'PFIZER': 7, 'SRTRANSFIN': 12, 'PGHH': 4, 'ECLERX': 10, 'ICRA': 8, 'SHREECEM': 5, 'VSTIND': 9, 'BANKBARODA': 10, 'CUMMINSIND': 12, 'TTKPRESTIG': 3, 'OIL': 6, 'ABBOTINDIA': 6, 'BAJAJHLDNG': 10, 'TATASTEEL': 14, 'SHRIRAMCIT': 14, 'TORNTPHARM': 13, 'BEML': 13, 'TITAN': 2, 'WABCOINDIA': 8, 'NESTLEIND': 2, 'BASF': 13, 'BHEL': 4, 'JSWSTEEL': 8, 'M&M': 11, 'INFY': 3, 'SIEMENS': 8, 'BOSCHLTD': 1, 'TCS': 6, 'MRF': 1, 'OFSS': 4, 'DRREDDY': 5, 'ASTRAZEN': 6, 'ZYDUSWELL': 12, 'PNB': 7, 'MCDOWELL-N': 7, 'ACC': 7, 'LT': 4, 'J&KBANK': 8, 'GILLETTE': 4, 'HDFC': 10, 'MARUTI': 6, 'TATAMTRDVR': 11, 'GRASIM': 3, 'HDFCBANK': 3, 'TATAMOTORS': 6, 'ASIANPAINT': 2, 'UBL': 11, 'CANBK': 12, 'SANOFI': 3, 'NESCO': 11, 'BEL': 4, 'JUBLFOOD': 7, 'SUDARSCHEM': 8, 'CONCOR': 5, 'VENKEYS': 9, 'THERMAX': 9, 'HONAUT': 2, 'ICICIBANK': 5, 'TECHM': 7}\n",
      "\n",
      "\n",
      "{\n",
      "    \"Portfolio Name\": \"CLA_MIN_VOL\",\n",
      "    \"Date\": \"2011-06-08\",\n",
      "    \"Single Day Cash Allocation\": 80.0,\n",
      "    \"Initial Portfolio Value\": 1000000,\n",
      "    \"Current Portfolio Value\": 999020.15,\n",
      "    \"Cumulative Portfolio Return\": -0.09798499999999769,\n",
      "    \"Amount Invested\": 160955.84999999995,\n",
      "    \"Amount Reserved\": 838064.3,\n",
      "    \"Reallocation Day\": true\n",
      "}\n",
      "\n",
      "\n",
      "Day: 6\n",
      "\n",
      "AGENT_EFF_MIN_VOL PORTFOLIO: {'EICHERMOT': 1, 'HEROMOTOCO': 1, 'BAJAJ-AUTO': 1, 'NESTLEIND': 1, 'ULTRACEMCO': 1, 'DRREDDY': 1, 'BAJFINANCE': 1, '3MINDIA': 1, 'TTKPRESTIG': 1, 'DIVISLAB': 1, 'APOLLOHOSP': 1, 'INDUSINDBK': 2, 'BRITANNIA': 2, 'HINDUNILVR': 4, 'ABBOTINDIA': 1, 'AJANTPHARM': 2, 'SRTRANSFIN': 1, 'SCHAEFFLER': 1, 'HDFC': 1, 'LAXMIMACH': 1, 'BAJAJHLDNG': 1, 'BATAINDIA': 1, 'WABCOINDIA': 1, 'OFSS': 1, 'TATAELXSI': 2, 'SBIN': 1, 'PGHH': 1, 'BHARTIARTL': 2, 'HCLTECH': 1, 'CRISIL': 1, 'AUROPHARMA': 1, 'BHARATFORG': 1, 'AKZOINDIA': 1, 'PIDILITIND': 6, 'GODREJCP': 1, 'HINDPETRO': 1, 'SKFINDIA': 1, 'BALKRISIND': 5, 'LICHSGFIN': 2, 'MOTHERSUMI': 3, 'SUPREMEIND': 4, 'NILKAMAL': 2, 'AMBUJACEM': 6, 'TATACONSUM': 10, 'MINDTREE': 2, 'ADANIPORTS': 5, 'HINDALCO': 2, 'PEL': 2, 'SRF': 2, 'MAHSCOOTER': 3, 'EXIDEIND': 7, 'CHOLAFIN': 3, 'GLENMARK': 2, 'AMARAJABAT': 5, 'ATUL': 3, 'WHIRLPOOL': 3, 'AIAENG': 1, 'SWARAJENG': 1, 'COFORGE': 5, 'APOLLOTYRE': 4, 'CEATLTD': 6, 'MUTHOOTFIN': 3, 'BERGEPAINT': 13, 'EMAMILTD': 1, 'KAJARIACER': 9, 'ABB': 1, 'HINDZINC': 3, 'NATCOPHARM': 3, 'POWERGRID': 7, 'TATACHEM': 1, 'ICRA': 1, 'KANSAINER': 1, 'COROMANDEL': 2, 'GODREJIND': 1, 'PETRONET': 3, 'RAJESHEXPO': 13, 'ITC': 4, 'UNIONBANK': 2, 'IPCALAB': 2, 'BPCL': 1, 'TATACOMM': 4, 'CIPLA': 1, 'RAYMOND': 1, 'ZEEL': 3, 'TRENT': 1, 'NAVINFLUOR': 2, 'ZENSARTECH': 3, 'GODREJPROP': 1, 'TORNTPOWER': 2, 'RECLTD': 5, 'ONGC': 2, 'NAUKRI': 2, 'UPL': 5, 'JYOTHYLAB': 4, 'VOLTAS': 3, 'JCHAC': 3, 'RAMCOCEM': 4, 'BIRLACORPN': 2, 'BLUESTARCO': 2, 'OBEROIRLTY': 2, 'CERA': 3, 'TATACOFFEE': 1, 'GAIL': 1, 'PHOENIXLTD': 3, 'AEGISCHEM': 1, 'BALMLAWRIE': 2, 'EIDPARRY': 1, 'DABUR': 6, 'JKCEMENT': 9, 'MAHSEAMLES': 1, 'TVSMOTOR': 6, 'PGHL': 1, 'MARICO': 4, 'CARBORUNIV': 2, 'BAJAJELEC': 3, 'GUJALKALI': 8, 'CHENNPETRO': 3, 'VINATIORGA': 2, 'DLF': 2, 'PHILIPCARB': 4, 'CANFINHOME': 4, 'CESC': 1, 'WOCKPHARMA': 3, 'KARURVYSYA': 1, 'KALPATPOWR': 6, 'JBCHEPHARM': 9, 'IOC': 2, 'NTPC': 5, 'HEG': 3, 'SHOPERSTOP': 2, 'PRESTIGE': 3, 'CYIENT': 6, 'BHEL': 1, 'AARTIIND': 19, 'LINDEINDIA': 3, 'BAJAJCON': 12, 'POLYPLEX': 4, 'RATNAMANI': 6, 'TIMKEN': 3, 'ASTRAL': 4, 'INDIANB': 2, 'IGL': 1, 'VTL': 3, 'BALRAMCHIN': 5, 'MOTILALOFS': 5, 'MFSL': 3, 'VGUARD': 3, 'KSCL': 1, 'GRANULES': 8, 'DCMSHRIRAM': 14, 'SUNDRMFAST': 12, 'PFC': 4, 'BSOFT': 2, 'FINCABLES': 2, 'RADICO': 5, 'HERITGFOOD': 6, 'INDIACEM': 5, 'FORTIS': 6, 'SHILPAMED': 2, 'GREAVESCOT': 10, 'CENTURYPLY': 13, 'JKLAKSHMI': 29, 'VIPIND': 1, 'SOBHA': 1, 'KOLTEPATIL': 21, 'INDHOTEL': 9, 'ASHOKLEY': 21, 'CHAMBLFERT': 9, 'UFLEX': 5, 'GESHIP': 3, 'FINPIPE': 6, 'MANAPPURAM': 15, 'GARFIBRES': 13, 'EPL': 33, 'LAOPALA': 10, 'IFBIND': 4, 'AARTIDRUGS': 7, 'GRINDWELL': 3, 'TATAPOWER': 1, 'MOIL': 1, 'KSB': 3, 'JKTYRE': 8, 'MAHINDCIE': 6, 'GEPIL': 1, 'INOXLEISUR': 9, 'JAICORPLTD': 1, 'GMDCLTD': 5, 'IBREALEST': 2, 'OMAXE': 4, 'ELGIEQUIP': 10, 'MHRIL': 2, 'GRAPHITE': 8, 'REDINGTON': 9, 'VAKRANGEE': 2, 'TVTODAY': 17, 'IDEA': 11, 'DCBBANK': 12, 'JMFINANCIL': 22, 'DBCORP': 2, 'JINDALSAW': 5, 'INDOCO': 1, 'WELCORP': 1, 'BLISSGVS': 35, 'JAGRAN': 9, 'KRBL': 32, 'EIHOTEL': 8, 'ASHOKA': 1, 'GMRINFRA': 3, 'KEC': 13, 'ALKYLAMINE': 10, 'NAVNETEDUL': 12, 'STLTECH': 12, 'NATIONALUM': 7, 'MINDAIND': 2, 'SUPRAJIT': 45, 'BRIGADE': 12, 'IDFC': 3, 'GSPL': 9, 'SUPPETRO': 13, 'BHARATRAS': 7, 'CCL': 3, 'HINDCOPPER': 2, 'TV18BRDCST': 10, 'PRAJIND': 2, 'GNFC': 3, 'FDC': 6, 'EDELWEISS': 20, 'SONATSOFTW': 33, 'GHCL': 26, 'HEIDELBERG': 5, 'CUB': 14, 'GSFC': 3, 'SOUTHBANK': 55, 'DISHTV': 6, 'NOCIL': 55, 'CENTRALBK': 3, 'JSWENERGY': 6, 'SAIL': 8, 'PRSMJOHNSN': 9, 'DEEPAKNTR': 4, 'UCOBANK': 4, 'IDBI': 3, 'NLCINDIA': 4, 'KNRCON': 8, 'KEI': 18, 'JKPAPER': 13, 'ALEMBICLTD': 34, 'GPPL': 12, 'NCC': 4, 'VAIBHAVGBL': 9, 'GAEL': 28, 'MRPL': 13, 'JAMNAAUTO': 9, 'HSCL': 16, 'ITI': 11, 'JTEKTINDIA': 45, 'NHPC': 25, 'RCF': 12, 'MAHABANK': 10, 'SCI': 8, 'HATHWAY': 7, 'IOB': 4, 'PTC': 8, 'TRIDENT': 40, 'NETWORK18': 6, 'SUZLON': 3, 'SJVN': 41, 'WELSPUNIND': 13, 'NFL': 12, 'DHANI': 94, 'IOLCP': 19, 'RALLIS': 1, 'COLPAL': 1, 'BAYERCROP': 1, 'SUNTECK': 2, 'SUNPHARMA': 1, 'INGERRAND': 2, 'GLAXO': 1, 'SOLARINDS': 1, 'PAGEIND': 1, 'SHREECEM': 1, 'SUNDARMFIN': 1, 'PFIZER': 1, 'OIL': 1, 'SHRIRAMCIT': 1, 'TITAN': 1, 'ECLERX': 1, 'BEML': 1, 'BASF': 1, 'BOSCHLTD': 1, 'SIEMENS': 1, 'FEDERALBNK': 1, 'TATASTLBSL': 1, 'WIPRO': 1, 'ZYDUSWELL': 1, 'ACC': 1, 'MPHASIS': 1, 'MCDOWELL-N': 1, 'GILLETTE': 1, 'J&KBANK': 1, 'LT': 1, 'BIOCON': 1, 'HDFCBANK': 1, 'NESCO': 1, 'SANOFI': 1, 'THERMAX': 1, 'SUDARSCHEM': 1, 'ENGINERSIN': 4, 'KOTAKBANK': 1, 'YESBANK': 1}\n",
      "\n",
      "\n",
      "{\n",
      "    \"Portfolio Name\": \"EFF_MIN_VOL\",\n",
      "    \"Date\": \"2011-06-09\",\n",
      "    \"Single Day Cash Allocation\": 80.0,\n",
      "    \"Initial Portfolio Value\": 1000000,\n",
      "    \"Current Portfolio Value\": 999449.4999999993,\n",
      "    \"Cumulative Portfolio Return\": -0.055050000000069856,\n",
      "    \"Amount Invested\": 589672.0999999999,\n",
      "    \"Amount Reserved\": 409777.3999999994,\n",
      "    \"Reallocation Day\": true\n",
      "}\n",
      "\n",
      "\n",
      "\n",
      "AGENT_HRP PORTFOLIO: {'ALEMBICLTD': 21, 'GAEL': 45, 'GRANULES': 3, 'GARFIBRES': 1696, 'BLISSGVS': 71, 'GSPL': 56, 'BALKRISIND': 35, 'SUPPETRO': 4, 'AARTIDRUGS': 1, 'SCHAEFFLER': 1, 'ABB': 3, 'SHREECEM': 1, 'ASHOKLEY': 2, 'TATAPOWER': 1, 'AMARAJABAT': 2, 'WHIRLPOOL': 2, 'LINDEINDIA': 1, 'COROMANDEL': 4, 'SUNDARMFIN': 1, 'KARURVYSYA': 3, 'TTKPRESTIG': 1, 'TITAN': 1, 'BAJAJHLDNG': 2, 'GRAPHITE': 4, 'NTPC': 3, 'GREAVESCOT': 3, 'MOTHERSUMI': 3, 'RECLTD': 2, 'CYIENT': 13, 'SBIN': 1, 'PFC': 4, 'SUPREMEIND': 2, 'INDHOTEL': 4, 'SJVN': 7, 'CCL': 1, 'CARBORUNIV': 1, 'EIHOTEL': 3, 'BHARTIARTL': 1, 'MHRIL': 1, 'COFORGE': 1, 'TV18BRDCST': 12, 'CERA': 2, 'JTEKTINDIA': 57, 'SUPRAJIT': 4, 'NOCIL': 6, 'NHPC': 1, 'CENTURYPLY': 2, 'KEC': 2, 'SCI': 1, 'NAVNETEDUL': 17, 'RATNAMANI': 3, 'KOLTEPATIL': 10, 'KEI': 1, 'JKTYRE': 2, 'BRIGADE': 1, 'RCF': 1, 'EPL': 1, 'MINDAIND': 5, 'SIEMENS': 2, 'ZYDUSWELL': 1, 'DRREDDY': 1, 'ASTRAL': 2, 'HEG': 2, 'WIPRO': 1, 'GESHIP': 1, 'BEML': 1, 'DIVISLAB': 1, 'BLUESTARCO': 1, 'TCS': 1, 'NETWORK18': 1, 'BANKBARODA': 1, 'ONGC': 1, 'RADICO': 1, 'GMDCLTD': 1, 'CHAMBLFERT': 1, 'LAOPALA': 1, 'PRSMJOHNSN': 2, 'GPPL': 1, 'ELGIEQUIP': 1, 'SUZLON': 1, 'SOUTHBANK': 1, 'TRIDENT': 1}\n",
      "\n"
     ]
    },
    {
     "name": "stdout",
     "output_type": "stream",
     "text": [
      "\n",
      "AGENT_EFF_MAX_SHARPE PORTFOLIO: {'BAJAJCON': 78, 'JYOTHYLAB': 6, 'SAIL': 33, 'ZEEL': 1, 'TATACOMM': 11, 'HFCL': 125, 'TECHM': 1, 'JKLAKSHMI': 177, 'GMRINFRA': 52, 'DBCORP': 1, 'MARUTI': 1, 'BLUEDART': 1, 'HINDZINC': 6, 'PERSISTENT': 4, 'CENTURYTEX': 3, 'KOTAKBANK': 1, 'NMDC': 7, 'VENKEYS': 2, 'BOMDYEING': 3, 'BHARATRAS': 3, 'GNFC': 11, 'CENTRALBK': 7, 'IOLCP': 10, 'ICICIBANK': 1, 'JCHAC': 3, 'JUBLFOOD': 2, 'M&M': 1, 'CHOLAFIN': 5, 'JAICORPLTD': 11, 'POWERGRID': 2, 'SUDARSCHEM': 5, 'TRIDENT': 37, 'MCDOWELL-N': 1, 'YESBANK': 3, 'BIOCON': 1, 'EIDPARRY': 2, 'UBL': 3, 'POLYPLEX': 6, 'ASTRAZEN': 1, 'MUTHOOTFIN': 2, 'SOBHA': 4, 'INOXLEISUR': 21, 'JMFINANCIL': 25, 'JKPAPER': 8, 'WELSPUNIND': 10, 'ASIANPAINT': 1, 'RAYMOND': 1, 'GRASIM': 1, 'OBEROIRLTY': 2, 'BASF': 4, 'CANFINHOME': 7, 'GODREJCP': 1, 'NESCO': 1, 'MFSL': 3, 'IGL': 2, 'VINATIORGA': 20, 'J&KBANK': 1, 'CUB': 2, 'REDINGTON': 2, 'JSWENERGY': 8, 'PETRONET': 6, 'TVSMOTOR': 21, 'VTL': 1, 'HEIDELBERG': 33, 'DISHTV': 10, 'CANBK': 2, 'BANKINDIA': 2, 'JBCHEPHARM': 44, 'NILKAMAL': 1, 'DELTACORP': 2, 'CGCL': 34, 'ZYDUSWELL': 2, 'PIDILITIND': 37, 'ADANIPORTS': 7, 'IOB': 4, 'AEGISCHEM': 5, 'CHENNPETRO': 6, 'RADICO': 1, 'DIVISLAB': 2, 'DEEPAKNTR': 7, 'SKFINDIA': 3, 'KRBL': 25, 'KEI': 41, 'GODREJIND': 5, 'BEML': 1, 'NOCIL': 79, 'HDFCBANK': 1, 'MOIL': 1, 'FDC': 4, 'VAIBHAVGBL': 21, 'PGHH': 2, 'CEATLTD': 3, 'STLTECH': 5, 'IIFL': 6, 'RELIANCE': 1, 'WELCORP': 7, 'HINDPETRO': 1, 'KAJARIACER': 10, 'IDEA': 1, 'NCC': 10, 'AXISBANK': 1, 'IOC': 1, 'SUNDRMFAST': 2, 'SUPRAJIT': 40, 'EPL': 236, 'IFBIND': 7, 'STAR': 2, 'LUPIN': 2, 'WIPRO': 1, 'BERGEPAINT': 73, 'NATCOPHARM': 6, 'CESC': 2, 'PNB': 1, 'CUMMINSIND': 1, 'INDIANB': 2, 'MOTILALOFS': 5, 'PEL': 1, 'FEDERALBNK': 2, 'DCBBANK': 4, 'SPARC': 2, 'TVTODAY': 66, 'ELGIEQUIP': 1, 'MRF': 1, 'LAXMIMACH': 1, 'DCMSHRIRAM': 11, 'CHAMBLFERT': 2, 'HDFC': 1, 'PRAJIND': 20, 'TATASTEEL': 2, 'RATNAMANI': 2, 'NLCINDIA': 7, 'NHPC': 19, 'SIEMENS': 1, 'KANSAINER': 2, 'BSOFT': 4, 'JAMNAAUTO': 45, 'LAOPALA': 2, 'AMBUJACEM': 6, 'KSCL': 1, 'JTEKTINDIA': 13, 'BAJAJFINSV': 1, 'TATAELXSI': 2, 'SHILPAMED': 1, 'GRAPHITE': 2, 'APOLLOTYRE': 12, 'MAHSCOOTER': 11, 'MARICO': 2, 'SRF': 1, 'AIAENG': 1, 'PHOENIXLTD': 1, 'ITI': 33, 'INDUSINDBK': 1, 'VOLTAS': 3, 'KTKBANK': 5, 'GREAVESCOT': 6, 'OIL': 1, 'KOLTEPATIL': 50, 'FINPIPE': 9, 'LICHSGFIN': 2, 'MOTHERSUMI': 1, 'MPHASIS': 1, 'TV18BRDCST': 4, 'SJVN': 30, 'BEL': 1, 'ATUL': 1, 'TORNTPOWER': 2, 'HUHTAMAKI': 857, 'OMAXE': 3, 'FSL': 113, 'HEROMOTOCO': 3, 'TIMKEN': 1, 'BANKBARODA': 1, 'DLF': 1, 'PFC': 6, 'NAVINFLUOR': 1, 'CENTURYPLY': 15, 'ASHOKLEY': 78, 'RAMCOCEM': 11, 'PTC': 4, 'HINDALCO': 4, 'NTPC': 6, 'ASHOKA': 3, 'SUZLON': 29, 'GAIL': 1, 'BHARATFORG': 1, 'PHILIPCARB': 1, 'SCI': 1, 'ZENSARTECH': 2, 'BHARTIARTL': 2, 'EMAMILTD': 1, 'PRSMJOHNSN': 17, 'PRESTIGE': 5, 'HINDCOPPER': 1, 'RCF': 36, 'AARTIDRUGS': 21, 'RAIN': 9, 'MINDTREE': 6, 'IBREALEST': 10, 'SUPPETRO': 2, 'ESCORTS': 17, 'JKCEMENT': 29, 'BALRAMCHIN': 19, 'HAVELLS': 1, 'CCL': 1, 'AMARAJABAT': 21, 'INDIACEM': 10, 'GUJALKALI': 39, 'MAHINDCIE': 10, 'UCOBANK': 10, 'BLISSGVS': 3, 'IDFC': 5, 'MAHABANK': 10, 'GRANULES': 1, 'HSCL': 11, 'FINCABLES': 34, 'INDOCO': 1, 'COFORGE': 16, 'GSPL': 9, 'GARFIBRES': 1, 'IDBI': 6, 'ASTRAL': 1, 'COALINDIA': 4, 'UNIONBANK': 1, 'NATIONALUM': 3, 'ALEMBICLTD': 17, 'GAEL': 2, 'NFL': 63, 'AJANTPHARM': 2, 'AUROPHARMA': 2, 'KEC': 44, 'FORTIS': 28, 'GHCL': 72, 'CYIENT': 11, 'SUNTV': 4, 'UFLEX': 40, 'JINDALSAW': 10, 'CERA': 1, 'AARTIIND': 65, 'JKTYRE': 1, 'EDELWEISS': 8, 'EIHOTEL': 1, 'DABUR': 2, 'BRIGADE': 33, 'EXIDEIND': 34, 'JAGRAN': 53, 'KNRCON': 26, 'TATACONSUM': 21, 'ALKYLAMINE': 9, 'MANAPPURAM': 154, 'WOCKPHARMA': 37, 'SONATSOFTW': 298, 'HINDUNILVR': 36, 'DHANI': 735, 'BRITANNIA': 23, 'RAJESHEXPO': 100, 'SOUTHBANK': 369, 'ENGINERSIN': 31, 'AKZOINDIA': 9, 'NAUKRI': 11, 'BALMLAWRIE': 13, 'BAJAJ-AUTO': 6, 'SRTRANSFIN': 10, 'HERITGFOOD': 35, 'CRISIL': 1, 'COLPAL': 7, 'BAYERCROP': 7, 'TRENT': 5, 'SOLARINDS': 8, 'GSFC': 14, 'MRPL': 62, 'VIPIND': 6, 'GESHIP': 15, 'RECLTD': 20, 'LT': 3, 'ICRA': 4, 'PAGEIND': 2, 'ECLERX': 4, 'NETWORK18': 19, 'SCHAEFFLER': 3, 'GLAXO': 1, 'INGERRAND': 5, 'TATAPOWER': 2, 'PFIZER': 2, 'RALLIS': 2, 'TATACOFFEE': 2, 'GODFRYPHLP': 1, 'SUNTECK': 5, 'ADANIENT': 2, 'TORNTPHARM': 2, 'CADILAHC': 1, 'UPL': 7, 'TATAMOTORS': 1, 'TATAINVEST': 2, 'SHREECEM': 1, 'TATAMTRDVR': 2, 'MHRIL': 2, 'ESABINDIA': 1, 'CONCOR': 1, 'TCS': 1, 'JSWSTEEL': 1, 'JINDALSTEL': 1, 'MMTC': 1, 'ABBOTINDIA': 1, 'WABCOINDIA': 1, 'SUNDARMFIN': 1, 'ACC': 1, 'SUPREMEIND': 1}\n",
      "\n",
      "\n",
      "{\n",
      "    \"Portfolio Name\": \"EFF_MAX_SHARPE\",\n",
      "    \"Date\": \"2011-06-09\",\n",
      "    \"Single Day Cash Allocation\": 80.0,\n",
      "    \"Initial Portfolio Value\": 1000000,\n",
      "    \"Current Portfolio Value\": 985483.2500000007,\n",
      "    \"Cumulative Portfolio Return\": -1.45167499999993,\n",
      "    \"Amount Invested\": 264268.99999999994,\n",
      "    \"Amount Reserved\": 721214.2500000007,\n",
      "    \"Reallocation Day\": true\n",
      "}\n",
      "\n",
      "\n",
      "\n",
      "{\n",
      "    \"Portfolio Name\": \"HRP\",\n",
      "    \"Date\": \"2011-06-09\",\n",
      "    \"Single Day Cash Allocation\": 80.0,\n",
      "    \"Initial Portfolio Value\": 1000000,\n",
      "    \"Current Portfolio Value\": 1005847.3500000001,\n",
      "    \"Cumulative Portfolio Return\": 0.5847350000000093,\n",
      "    \"Amount Invested\": 673509.5500000003,\n",
      "    \"Amount Reserved\": 332337.79999999976,\n",
      "    \"Reallocation Day\": true\n",
      "}\n",
      "\n",
      "\n"
     ]
    }
   ],
   "source": [
    "bt.backtest()"
   ]
  },
  {
   "cell_type": "code",
   "execution_count": null,
   "id": "68d1d102",
   "metadata": {
    "scrolled": false
   },
   "outputs": [],
   "source": []
  },
  {
   "cell_type": "code",
   "execution_count": null,
   "id": "1d37f4e2",
   "metadata": {
    "scrolled": false
   },
   "outputs": [],
   "source": [
    "import pandas as pd\n",
    "df = bt.processor.close_matrix\n",
    "#df[df.index <= date(2012, 5, 21)][['BHARATRAS']].tail()\n",
    "df.index = pd.to_datetime(df.index)\n",
    "df[df.index.year < 2015].tail()"
   ]
  },
  {
   "cell_type": "code",
   "execution_count": null,
   "id": "37c095a6",
   "metadata": {
    "scrolled": false
   },
   "outputs": [],
   "source": [
    "from datetime import date\n",
    "bt.env.data[bt.env.data.index == date(2012, 6, 13)]['DEEPAKNTR']"
   ]
  },
  {
   "cell_type": "code",
   "execution_count": null,
   "id": "1bc7711d",
   "metadata": {
    "scrolled": false
   },
   "outputs": [],
   "source": [
    "import pandas as pd\n",
    "df = pd.read_csv('data/processed/OHLC/Nifty500/BHARATRAS.csv')\n",
    "df.Date = pd.to_datetime(df.Date).dt.date\n",
    "df[df.Date <= date(2012, 5, 21)].tail()"
   ]
  },
  {
   "cell_type": "code",
   "execution_count": null,
   "id": "4ae5bc88",
   "metadata": {
    "scrolled": false
   },
   "outputs": [],
   "source": []
  }
 ],
 "metadata": {
  "kernelspec": {
   "display_name": "Python 3",
   "language": "python",
   "name": "python3"
  },
  "language_info": {
   "codemirror_mode": {
    "name": "ipython",
    "version": 3
   },
   "file_extension": ".py",
   "mimetype": "text/x-python",
   "name": "python",
   "nbconvert_exporter": "python",
   "pygments_lexer": "ipython3",
   "version": "3.9.2"
  }
 },
 "nbformat": 4,
 "nbformat_minor": 5
}
