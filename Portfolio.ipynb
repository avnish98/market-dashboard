{
 "cells": [
  {
   "cell_type": "code",
   "execution_count": null,
   "id": "5f54180d",
   "metadata": {
    "scrolled": false
   },
   "outputs": [],
   "source": [
    "!pip install nsetools pandas nsepy PyPortfolioOpt"
   ]
  },
  {
   "cell_type": "code",
   "execution_count": null,
   "id": "83cdab7b",
   "metadata": {
    "scrolled": false
   },
   "outputs": [],
   "source": [
    "from fetcher import Nifty500Fetcher\n",
    "\n",
    "nff = Nifty500Fetcher()\n",
    "nff.read_list(update=True)"
   ]
  },
  {
   "cell_type": "code",
   "execution_count": null,
   "id": "29faa55b",
   "metadata": {
    "scrolled": false
   },
   "outputs": [],
   "source": [
    "nff.fetch_data()"
   ]
  },
  {
   "cell_type": "code",
   "execution_count": null,
   "id": "3fdd4c99",
   "metadata": {
    "scrolled": false
   },
   "outputs": [],
   "source": [
    "nff.fetch_metadata()"
   ]
  },
  {
   "cell_type": "code",
   "execution_count": null,
   "id": "53fd4620",
   "metadata": {
    "scrolled": false
   },
   "outputs": [],
   "source": [
    "from cleaner import Nifty500Cleaner\n",
    "\n",
    "nfc = Nifty500Cleaner()\n",
    "nfc.clean_metadata()\n",
    "nfc.clean_ohlc_data()"
   ]
  },
  {
   "cell_type": "code",
   "execution_count": null,
   "id": "f06ff14c",
   "metadata": {
    "scrolled": false
   },
   "outputs": [],
   "source": [
    "from processor import StockProcessor\n",
    "\n",
    "sp = StockProcessor('3MINDIA', meta_data_loc='data/cleaned/Metadata/nifty500.json')"
   ]
  },
  {
   "cell_type": "code",
   "execution_count": null,
   "id": "01ab2cda",
   "metadata": {
    "scrolled": false
   },
   "outputs": [],
   "source": [
    "sp.process_metrics()"
   ]
  },
  {
   "cell_type": "code",
   "execution_count": null,
   "id": "ba1b3578",
   "metadata": {
    "scrolled": false
   },
   "outputs": [],
   "source": [
    "sp.stock.metadata"
   ]
  },
  {
   "cell_type": "code",
   "execution_count": null,
   "id": "b449d1cf",
   "metadata": {
    "scrolled": false
   },
   "outputs": [],
   "source": [
    "from processor import IndexProcessor\n",
    "\n",
    "pp = IndexProcessor(\"data/cleaned/OHLC/Nifty500\", \n",
    "                    \"data/cleaned/Metadata/nifty500.json\", \n",
    "                    \"data/cleaned/Metadata/proc_nifty500.json\")"
   ]
  },
  {
   "cell_type": "code",
   "execution_count": null,
   "id": "ae885357",
   "metadata": {
    "scrolled": false
   },
   "outputs": [],
   "source": [
    "pp.process_metrics()"
   ]
  },
  {
   "cell_type": "code",
   "execution_count": null,
   "id": "2345b362",
   "metadata": {
    "scrolled": false
   },
   "outputs": [],
   "source": [
    "import pandas as pd\n",
    "pd.read_csv('data/cleaned/OHLC/Nifty500/M&M.csv')"
   ]
  },
  {
   "cell_type": "code",
   "execution_count": null,
   "id": "1c16546d",
   "metadata": {
    "scrolled": false
   },
   "outputs": [],
   "source": [
    "from processor import IndexProcessor\n",
    "\n",
    "pp = IndexProcessor(\"data/cleaned/OHLC/Nifty500\", \"data/cleaned/Metadata/nifty500.json\")\n",
    "pp.process_close(30)"
   ]
  },
  {
   "cell_type": "code",
   "execution_count": null,
   "id": "8fc2738e",
   "metadata": {
    "scrolled": false
   },
   "outputs": [],
   "source": [
    "from optimizer import EffOptimizer, HRPOptimizer, CLAOptimizer\n",
    "\n",
    "opt1 = EffOptimizer(pp)\n",
    "# opt2 = HRPOptimizer(pp)\n",
    "# opt3 = CLAOptimizer(pp)"
   ]
  },
  {
   "cell_type": "code",
   "execution_count": null,
   "id": "f8ebcbb5",
   "metadata": {
    "scrolled": false
   },
   "outputs": [],
   "source": [
    "opt1.optimize_max_sharpe()"
   ]
  },
  {
   "cell_type": "code",
   "execution_count": null,
   "id": "afcc2325",
   "metadata": {
    "scrolled": false
   },
   "outputs": [],
   "source": [
    "opt1.portfolio.statistics"
   ]
  },
  {
   "cell_type": "code",
   "execution_count": null,
   "id": "67e6d688",
   "metadata": {
    "scrolled": false
   },
   "outputs": [],
   "source": [
    "opt1.optimize_min_volatility()"
   ]
  },
  {
   "cell_type": "code",
   "execution_count": null,
   "id": "02c43793",
   "metadata": {
    "scrolled": false
   },
   "outputs": [],
   "source": [
    "opt1.portfolio.statistics"
   ]
  },
  {
   "cell_type": "code",
   "execution_count": null,
   "id": "e42c51b9",
   "metadata": {
    "scrolled": false
   },
   "outputs": [],
   "source": [
    "opt2 = HRPOptimizer(pp)\n",
    "opt2.optimize()"
   ]
  },
  {
   "cell_type": "code",
   "execution_count": null,
   "id": "f702767d",
   "metadata": {
    "scrolled": false
   },
   "outputs": [],
   "source": [
    "opt2.portfolio.statistics"
   ]
  },
  {
   "cell_type": "code",
   "execution_count": null,
   "id": "5d31ae93",
   "metadata": {
    "scrolled": false
   },
   "outputs": [],
   "source": [
    "temp_df = (pp.close_matrix.pct_change(30).tail(1)*100 > 0)\n",
    "temp_df"
   ]
  },
  {
   "cell_type": "code",
   "execution_count": null,
   "id": "3a3f644d",
   "metadata": {
    "scrolled": false
   },
   "outputs": [],
   "source": [
    "opt3 = CLAOptimizer(pp)\n",
    "opt3.optimize_max_sharpe()"
   ]
  },
  {
   "cell_type": "code",
   "execution_count": null,
   "id": "27d82bd1",
   "metadata": {
    "scrolled": false
   },
   "outputs": [],
   "source": [
    "opt3.portfolio.statistics"
   ]
  },
  {
   "cell_type": "code",
   "execution_count": null,
   "id": "bb802800",
   "metadata": {
    "scrolled": false
   },
   "outputs": [],
   "source": [
    "opt3.optimize_min_volatility()\n",
    "opt3.portfolio.statistics"
   ]
  },
  {
   "cell_type": "code",
   "execution_count": null,
   "id": "71259d8b",
   "metadata": {
    "scrolled": false
   },
   "outputs": [],
   "source": []
  },
  {
   "cell_type": "code",
   "execution_count": null,
   "id": "125473f5",
   "metadata": {
    "scrolled": false
   },
   "outputs": [],
   "source": [
    "import pandas as pd\n",
    "df = pd.read_csv('data/raw/nifty_500_metadata.csv')#.to_dict(orient='records')"
   ]
  },
  {
   "cell_type": "code",
   "execution_count": null,
   "id": "fbaa85c0",
   "metadata": {
    "scrolled": false
   },
   "outputs": [],
   "source": [
    "some = df[df['symbol']=='M&amp;M'].to_dict(orient='records')"
   ]
  },
  {
   "cell_type": "code",
   "execution_count": null,
   "id": "24fbc3a3",
   "metadata": {
    "scrolled": false
   },
   "outputs": [],
   "source": [
    "some"
   ]
  },
  {
   "cell_type": "code",
   "execution_count": 1,
   "id": "d91a775c",
   "metadata": {
    "scrolled": false
   },
   "outputs": [],
   "source": [
    "from fetcher import Nifty500Fetcher\n",
    "\n",
    "nff = Nifty500Fetcher()\n",
    "nff.fetch_index('NIFTY 500')"
   ]
  },
  {
   "cell_type": "code",
   "execution_count": 1,
   "id": "35e26e1f",
   "metadata": {
    "scrolled": false
   },
   "outputs": [],
   "source": [
    "from simulate import Backtesting, Agent\n",
    "from optimizer import EffOptimizer, HRPOptimizer, CLAOptimizer\n",
    "\n",
    "agents = [Agent(\"CLA_MAX_SHARPE\", CLAOptimizer(), 1000000, optimizer_type='max_sharpe',\n",
    "                           metadata_loc=\"data/processed/Metadata/nifty500.json\", single_day_cash=0.90),\n",
    "         Agent(\"EFF_MIN_VOL\", EffOptimizer(), 1000000, optimizer_type='min_vol',\n",
    "                           metadata_loc=\"data/processed/Metadata/nifty500.json\", single_day_cash=0.90),\n",
    "         Agent(\"EFF_MAX_SHARPE\", EffOptimizer(), 1000000, optimizer_type='max_sharpe',\n",
    "                           metadata_loc=\"data/processed/Metadata/nifty500.json\", single_day_cash=0.90),\n",
    "         Agent(\"HRP\", HRPOptimizer(), 1000000, metadata_loc=\"data/processed/Metadata/nifty500.json\", \n",
    "                           single_day_cash=0.90),\n",
    "         Agent(\"CLA_MIN_VOL\", CLAOptimizer(), 1000000, optimizer_type='min_vol',\n",
    "                           metadata_loc=\"data/processed/Metadata/nifty500.json\", single_day_cash=0.90)]\n",
    "\n",
    "benchmarks = [\n",
    "    {\n",
    "        'name':'Nifty500',\n",
    "        'data_loc':'data/raw/Nifty500/raw/Nifty500.csv'\n",
    "    }\n",
    "]\n",
    "\n",
    "bt = Backtesting(proc_ohlc_loc=\"data/processed/OHLC/Nifty500\", \n",
    "              proc_metadata_loc=\"data/processed/Metadata/nifty500.json\", bband_margins=True,\n",
    "                 lookback_period=14,rebalance_period=14,\n",
    "                 bband_ma=20, #process_metrics=True,\n",
    "                agents=agents)"
   ]
  },
  {
   "cell_type": "code",
   "execution_count": null,
   "id": "3e34167b",
   "metadata": {
    "scrolled": false
   },
   "outputs": [],
   "source": [
    "bt.backtest()"
   ]
  },
  {
   "cell_type": "code",
   "execution_count": 2,
   "id": "a96d107c",
   "metadata": {},
   "outputs": [
    {
     "name": "stdout",
     "output_type": "stream",
     "text": [
      "Requirement already satisfied: bokeh in /opt/conda/lib/python3.8/site-packages (2.3.1)\n",
      "Requirement already satisfied: pillow>=7.1.0 in /opt/conda/lib/python3.8/site-packages (from bokeh) (8.1.2)\n",
      "Requirement already satisfied: PyYAML>=3.10 in /opt/conda/lib/python3.8/site-packages (from bokeh) (5.4.1)\n",
      "Requirement already satisfied: python-dateutil>=2.1 in /opt/conda/lib/python3.8/site-packages (from bokeh) (2.8.1)\n",
      "Requirement already satisfied: Jinja2>=2.7 in /opt/conda/lib/python3.8/site-packages (from bokeh) (2.11.3)\n",
      "Requirement already satisfied: packaging>=16.8 in /opt/conda/lib/python3.8/site-packages (from bokeh) (20.9)\n",
      "Requirement already satisfied: tornado>=5.1 in /opt/conda/lib/python3.8/site-packages (from bokeh) (6.1)\n",
      "Requirement already satisfied: typing-extensions>=3.7.4 in /opt/conda/lib/python3.8/site-packages (from bokeh) (3.7.4.3)\n",
      "Requirement already satisfied: numpy>=1.11.3 in /opt/conda/lib/python3.8/site-packages (from bokeh) (1.20.2)\n",
      "Requirement already satisfied: MarkupSafe>=0.23 in /opt/conda/lib/python3.8/site-packages (from Jinja2>=2.7->bokeh) (1.1.1)\n",
      "Requirement already satisfied: pyparsing>=2.0.2 in /opt/conda/lib/python3.8/site-packages (from packaging>=16.8->bokeh) (2.4.7)\n",
      "Requirement already satisfied: six>=1.5 in /opt/conda/lib/python3.8/site-packages (from python-dateutil>=2.1->bokeh) (1.15.0)\n"
     ]
    }
   ],
   "source": [
    "!pip install bokeh"
   ]
  },
  {
   "cell_type": "code",
   "execution_count": 4,
   "id": "14d9acb7",
   "metadata": {},
   "outputs": [
    {
     "data": {
      "text/html": [
       "\n",
       "    <div class=\"bk-root\">\n",
       "        <a href=\"https://bokeh.org\" target=\"_blank\" class=\"bk-logo bk-logo-small bk-logo-notebook\"></a>\n",
       "        <span id=\"1002\">Loading BokehJS ...</span>\n",
       "    </div>"
      ]
     },
     "metadata": {},
     "output_type": "display_data"
    },
    {
     "data": {
      "application/javascript": [
       "\n",
       "(function(root) {\n",
       "  function now() {\n",
       "    return new Date();\n",
       "  }\n",
       "\n",
       "  var force = true;\n",
       "\n",
       "  if (typeof root._bokeh_onload_callbacks === \"undefined\" || force === true) {\n",
       "    root._bokeh_onload_callbacks = [];\n",
       "    root._bokeh_is_loading = undefined;\n",
       "  }\n",
       "\n",
       "  var JS_MIME_TYPE = 'application/javascript';\n",
       "  var HTML_MIME_TYPE = 'text/html';\n",
       "  var EXEC_MIME_TYPE = 'application/vnd.bokehjs_exec.v0+json';\n",
       "  var CLASS_NAME = 'output_bokeh rendered_html';\n",
       "\n",
       "  /**\n",
       "   * Render data to the DOM node\n",
       "   */\n",
       "  function render(props, node) {\n",
       "    var script = document.createElement(\"script\");\n",
       "    node.appendChild(script);\n",
       "  }\n",
       "\n",
       "  /**\n",
       "   * Handle when an output is cleared or removed\n",
       "   */\n",
       "  function handleClearOutput(event, handle) {\n",
       "    var cell = handle.cell;\n",
       "\n",
       "    var id = cell.output_area._bokeh_element_id;\n",
       "    var server_id = cell.output_area._bokeh_server_id;\n",
       "    // Clean up Bokeh references\n",
       "    if (id != null && id in Bokeh.index) {\n",
       "      Bokeh.index[id].model.document.clear();\n",
       "      delete Bokeh.index[id];\n",
       "    }\n",
       "\n",
       "    if (server_id !== undefined) {\n",
       "      // Clean up Bokeh references\n",
       "      var cmd = \"from bokeh.io.state import curstate; print(curstate().uuid_to_server['\" + server_id + \"'].get_sessions()[0].document.roots[0]._id)\";\n",
       "      cell.notebook.kernel.execute(cmd, {\n",
       "        iopub: {\n",
       "          output: function(msg) {\n",
       "            var id = msg.content.text.trim();\n",
       "            if (id in Bokeh.index) {\n",
       "              Bokeh.index[id].model.document.clear();\n",
       "              delete Bokeh.index[id];\n",
       "            }\n",
       "          }\n",
       "        }\n",
       "      });\n",
       "      // Destroy server and session\n",
       "      var cmd = \"import bokeh.io.notebook as ion; ion.destroy_server('\" + server_id + \"')\";\n",
       "      cell.notebook.kernel.execute(cmd);\n",
       "    }\n",
       "  }\n",
       "\n",
       "  /**\n",
       "   * Handle when a new output is added\n",
       "   */\n",
       "  function handleAddOutput(event, handle) {\n",
       "    var output_area = handle.output_area;\n",
       "    var output = handle.output;\n",
       "\n",
       "    // limit handleAddOutput to display_data with EXEC_MIME_TYPE content only\n",
       "    if ((output.output_type != \"display_data\") || (!Object.prototype.hasOwnProperty.call(output.data, EXEC_MIME_TYPE))) {\n",
       "      return\n",
       "    }\n",
       "\n",
       "    var toinsert = output_area.element.find(\".\" + CLASS_NAME.split(' ')[0]);\n",
       "\n",
       "    if (output.metadata[EXEC_MIME_TYPE][\"id\"] !== undefined) {\n",
       "      toinsert[toinsert.length - 1].firstChild.textContent = output.data[JS_MIME_TYPE];\n",
       "      // store reference to embed id on output_area\n",
       "      output_area._bokeh_element_id = output.metadata[EXEC_MIME_TYPE][\"id\"];\n",
       "    }\n",
       "    if (output.metadata[EXEC_MIME_TYPE][\"server_id\"] !== undefined) {\n",
       "      var bk_div = document.createElement(\"div\");\n",
       "      bk_div.innerHTML = output.data[HTML_MIME_TYPE];\n",
       "      var script_attrs = bk_div.children[0].attributes;\n",
       "      for (var i = 0; i < script_attrs.length; i++) {\n",
       "        toinsert[toinsert.length - 1].firstChild.setAttribute(script_attrs[i].name, script_attrs[i].value);\n",
       "        toinsert[toinsert.length - 1].firstChild.textContent = bk_div.children[0].textContent\n",
       "      }\n",
       "      // store reference to server id on output_area\n",
       "      output_area._bokeh_server_id = output.metadata[EXEC_MIME_TYPE][\"server_id\"];\n",
       "    }\n",
       "  }\n",
       "\n",
       "  function register_renderer(events, OutputArea) {\n",
       "\n",
       "    function append_mime(data, metadata, element) {\n",
       "      // create a DOM node to render to\n",
       "      var toinsert = this.create_output_subarea(\n",
       "        metadata,\n",
       "        CLASS_NAME,\n",
       "        EXEC_MIME_TYPE\n",
       "      );\n",
       "      this.keyboard_manager.register_events(toinsert);\n",
       "      // Render to node\n",
       "      var props = {data: data, metadata: metadata[EXEC_MIME_TYPE]};\n",
       "      render(props, toinsert[toinsert.length - 1]);\n",
       "      element.append(toinsert);\n",
       "      return toinsert\n",
       "    }\n",
       "\n",
       "    /* Handle when an output is cleared or removed */\n",
       "    events.on('clear_output.CodeCell', handleClearOutput);\n",
       "    events.on('delete.Cell', handleClearOutput);\n",
       "\n",
       "    /* Handle when a new output is added */\n",
       "    events.on('output_added.OutputArea', handleAddOutput);\n",
       "\n",
       "    /**\n",
       "     * Register the mime type and append_mime function with output_area\n",
       "     */\n",
       "    OutputArea.prototype.register_mime_type(EXEC_MIME_TYPE, append_mime, {\n",
       "      /* Is output safe? */\n",
       "      safe: true,\n",
       "      /* Index of renderer in `output_area.display_order` */\n",
       "      index: 0\n",
       "    });\n",
       "  }\n",
       "\n",
       "  // register the mime type if in Jupyter Notebook environment and previously unregistered\n",
       "  if (root.Jupyter !== undefined) {\n",
       "    var events = require('base/js/events');\n",
       "    var OutputArea = require('notebook/js/outputarea').OutputArea;\n",
       "\n",
       "    if (OutputArea.prototype.mime_types().indexOf(EXEC_MIME_TYPE) == -1) {\n",
       "      register_renderer(events, OutputArea);\n",
       "    }\n",
       "  }\n",
       "\n",
       "  \n",
       "  if (typeof (root._bokeh_timeout) === \"undefined\" || force === true) {\n",
       "    root._bokeh_timeout = Date.now() + 5000;\n",
       "    root._bokeh_failed_load = false;\n",
       "  }\n",
       "\n",
       "  var NB_LOAD_WARNING = {'data': {'text/html':\n",
       "     \"<div style='background-color: #fdd'>\\n\"+\n",
       "     \"<p>\\n\"+\n",
       "     \"BokehJS does not appear to have successfully loaded. If loading BokehJS from CDN, this \\n\"+\n",
       "     \"may be due to a slow or bad network connection. Possible fixes:\\n\"+\n",
       "     \"</p>\\n\"+\n",
       "     \"<ul>\\n\"+\n",
       "     \"<li>re-rerun `output_notebook()` to attempt to load from CDN again, or</li>\\n\"+\n",
       "     \"<li>use INLINE resources instead, as so:</li>\\n\"+\n",
       "     \"</ul>\\n\"+\n",
       "     \"<code>\\n\"+\n",
       "     \"from bokeh.resources import INLINE\\n\"+\n",
       "     \"output_notebook(resources=INLINE)\\n\"+\n",
       "     \"</code>\\n\"+\n",
       "     \"</div>\"}};\n",
       "\n",
       "  function display_loaded() {\n",
       "    var el = document.getElementById(\"1002\");\n",
       "    if (el != null) {\n",
       "      el.textContent = \"BokehJS is loading...\";\n",
       "    }\n",
       "    if (root.Bokeh !== undefined) {\n",
       "      if (el != null) {\n",
       "        el.textContent = \"BokehJS \" + root.Bokeh.version + \" successfully loaded.\";\n",
       "      }\n",
       "    } else if (Date.now() < root._bokeh_timeout) {\n",
       "      setTimeout(display_loaded, 100)\n",
       "    }\n",
       "  }\n",
       "\n",
       "\n",
       "  function run_callbacks() {\n",
       "    try {\n",
       "      root._bokeh_onload_callbacks.forEach(function(callback) {\n",
       "        if (callback != null)\n",
       "          callback();\n",
       "      });\n",
       "    } finally {\n",
       "      delete root._bokeh_onload_callbacks\n",
       "    }\n",
       "    console.debug(\"Bokeh: all callbacks have finished\");\n",
       "  }\n",
       "\n",
       "  function load_libs(css_urls, js_urls, callback) {\n",
       "    if (css_urls == null) css_urls = [];\n",
       "    if (js_urls == null) js_urls = [];\n",
       "\n",
       "    root._bokeh_onload_callbacks.push(callback);\n",
       "    if (root._bokeh_is_loading > 0) {\n",
       "      console.debug(\"Bokeh: BokehJS is being loaded, scheduling callback at\", now());\n",
       "      return null;\n",
       "    }\n",
       "    if (js_urls == null || js_urls.length === 0) {\n",
       "      run_callbacks();\n",
       "      return null;\n",
       "    }\n",
       "    console.debug(\"Bokeh: BokehJS not loaded, scheduling load and callback at\", now());\n",
       "    root._bokeh_is_loading = css_urls.length + js_urls.length;\n",
       "\n",
       "    function on_load() {\n",
       "      root._bokeh_is_loading--;\n",
       "      if (root._bokeh_is_loading === 0) {\n",
       "        console.debug(\"Bokeh: all BokehJS libraries/stylesheets loaded\");\n",
       "        run_callbacks()\n",
       "      }\n",
       "    }\n",
       "\n",
       "    function on_error(url) {\n",
       "      console.error(\"failed to load \" + url);\n",
       "    }\n",
       "\n",
       "    for (let i = 0; i < css_urls.length; i++) {\n",
       "      const url = css_urls[i];\n",
       "      const element = document.createElement(\"link\");\n",
       "      element.onload = on_load;\n",
       "      element.onerror = on_error.bind(null, url);\n",
       "      element.rel = \"stylesheet\";\n",
       "      element.type = \"text/css\";\n",
       "      element.href = url;\n",
       "      console.debug(\"Bokeh: injecting link tag for BokehJS stylesheet: \", url);\n",
       "      document.body.appendChild(element);\n",
       "    }\n",
       "\n",
       "    const hashes = {\"https://cdn.bokeh.org/bokeh/release/bokeh-2.3.1.min.js\": \"YF85VygJKMVnHE+lLv2AM93Vbstr0yo2TbIu5v8se5Rq3UQAUmcuh4aaJwNlpKwa\", \"https://cdn.bokeh.org/bokeh/release/bokeh-widgets-2.3.1.min.js\": \"KKuas3gevv3PvrlkyCMzffFeaMq5we/a2QsP5AUoS3mJ0jmaCL7jirFJN3GoE/lM\", \"https://cdn.bokeh.org/bokeh/release/bokeh-tables-2.3.1.min.js\": \"MK/uFc3YT18pkvvXRl66tTHjP0/dxoSH2e/eiNMFIguKlun2+WVqaPTWmUy/zvh4\"};\n",
       "\n",
       "    for (let i = 0; i < js_urls.length; i++) {\n",
       "      const url = js_urls[i];\n",
       "      const element = document.createElement('script');\n",
       "      element.onload = on_load;\n",
       "      element.onerror = on_error.bind(null, url);\n",
       "      element.async = false;\n",
       "      element.src = url;\n",
       "      if (url in hashes) {\n",
       "        element.crossOrigin = \"anonymous\";\n",
       "        element.integrity = \"sha384-\" + hashes[url];\n",
       "      }\n",
       "      console.debug(\"Bokeh: injecting script tag for BokehJS library: \", url);\n",
       "      document.head.appendChild(element);\n",
       "    }\n",
       "  };\n",
       "\n",
       "  function inject_raw_css(css) {\n",
       "    const element = document.createElement(\"style\");\n",
       "    element.appendChild(document.createTextNode(css));\n",
       "    document.body.appendChild(element);\n",
       "  }\n",
       "\n",
       "  \n",
       "  var js_urls = [\"https://cdn.bokeh.org/bokeh/release/bokeh-2.3.1.min.js\", \"https://cdn.bokeh.org/bokeh/release/bokeh-widgets-2.3.1.min.js\", \"https://cdn.bokeh.org/bokeh/release/bokeh-tables-2.3.1.min.js\"];\n",
       "  var css_urls = [];\n",
       "  \n",
       "\n",
       "  var inline_js = [\n",
       "    function(Bokeh) {\n",
       "      Bokeh.set_log_level(\"info\");\n",
       "    },\n",
       "    function(Bokeh) {\n",
       "    \n",
       "    \n",
       "    }\n",
       "  ];\n",
       "\n",
       "  function run_inline_js() {\n",
       "    \n",
       "    if (root.Bokeh !== undefined || force === true) {\n",
       "      \n",
       "    for (var i = 0; i < inline_js.length; i++) {\n",
       "      inline_js[i].call(root, root.Bokeh);\n",
       "    }\n",
       "    if (force === true) {\n",
       "        display_loaded();\n",
       "      }} else if (Date.now() < root._bokeh_timeout) {\n",
       "      setTimeout(run_inline_js, 100);\n",
       "    } else if (!root._bokeh_failed_load) {\n",
       "      console.log(\"Bokeh: BokehJS failed to load within specified timeout.\");\n",
       "      root._bokeh_failed_load = true;\n",
       "    } else if (force !== true) {\n",
       "      var cell = $(document.getElementById(\"1002\")).parents('.cell').data().cell;\n",
       "      cell.output_area.append_execute_result(NB_LOAD_WARNING)\n",
       "    }\n",
       "\n",
       "  }\n",
       "\n",
       "  if (root._bokeh_is_loading === 0) {\n",
       "    console.debug(\"Bokeh: BokehJS loaded, going straight to plotting\");\n",
       "    run_inline_js();\n",
       "  } else {\n",
       "    load_libs(css_urls, js_urls, function() {\n",
       "      console.debug(\"Bokeh: BokehJS plotting callback run at\", now());\n",
       "      run_inline_js();\n",
       "    });\n",
       "  }\n",
       "}(window));"
      ],
      "application/vnd.bokehjs_load.v0+json": "\n(function(root) {\n  function now() {\n    return new Date();\n  }\n\n  var force = true;\n\n  if (typeof root._bokeh_onload_callbacks === \"undefined\" || force === true) {\n    root._bokeh_onload_callbacks = [];\n    root._bokeh_is_loading = undefined;\n  }\n\n  \n\n  \n  if (typeof (root._bokeh_timeout) === \"undefined\" || force === true) {\n    root._bokeh_timeout = Date.now() + 5000;\n    root._bokeh_failed_load = false;\n  }\n\n  var NB_LOAD_WARNING = {'data': {'text/html':\n     \"<div style='background-color: #fdd'>\\n\"+\n     \"<p>\\n\"+\n     \"BokehJS does not appear to have successfully loaded. If loading BokehJS from CDN, this \\n\"+\n     \"may be due to a slow or bad network connection. Possible fixes:\\n\"+\n     \"</p>\\n\"+\n     \"<ul>\\n\"+\n     \"<li>re-rerun `output_notebook()` to attempt to load from CDN again, or</li>\\n\"+\n     \"<li>use INLINE resources instead, as so:</li>\\n\"+\n     \"</ul>\\n\"+\n     \"<code>\\n\"+\n     \"from bokeh.resources import INLINE\\n\"+\n     \"output_notebook(resources=INLINE)\\n\"+\n     \"</code>\\n\"+\n     \"</div>\"}};\n\n  function display_loaded() {\n    var el = document.getElementById(\"1002\");\n    if (el != null) {\n      el.textContent = \"BokehJS is loading...\";\n    }\n    if (root.Bokeh !== undefined) {\n      if (el != null) {\n        el.textContent = \"BokehJS \" + root.Bokeh.version + \" successfully loaded.\";\n      }\n    } else if (Date.now() < root._bokeh_timeout) {\n      setTimeout(display_loaded, 100)\n    }\n  }\n\n\n  function run_callbacks() {\n    try {\n      root._bokeh_onload_callbacks.forEach(function(callback) {\n        if (callback != null)\n          callback();\n      });\n    } finally {\n      delete root._bokeh_onload_callbacks\n    }\n    console.debug(\"Bokeh: all callbacks have finished\");\n  }\n\n  function load_libs(css_urls, js_urls, callback) {\n    if (css_urls == null) css_urls = [];\n    if (js_urls == null) js_urls = [];\n\n    root._bokeh_onload_callbacks.push(callback);\n    if (root._bokeh_is_loading > 0) {\n      console.debug(\"Bokeh: BokehJS is being loaded, scheduling callback at\", now());\n      return null;\n    }\n    if (js_urls == null || js_urls.length === 0) {\n      run_callbacks();\n      return null;\n    }\n    console.debug(\"Bokeh: BokehJS not loaded, scheduling load and callback at\", now());\n    root._bokeh_is_loading = css_urls.length + js_urls.length;\n\n    function on_load() {\n      root._bokeh_is_loading--;\n      if (root._bokeh_is_loading === 0) {\n        console.debug(\"Bokeh: all BokehJS libraries/stylesheets loaded\");\n        run_callbacks()\n      }\n    }\n\n    function on_error(url) {\n      console.error(\"failed to load \" + url);\n    }\n\n    for (let i = 0; i < css_urls.length; i++) {\n      const url = css_urls[i];\n      const element = document.createElement(\"link\");\n      element.onload = on_load;\n      element.onerror = on_error.bind(null, url);\n      element.rel = \"stylesheet\";\n      element.type = \"text/css\";\n      element.href = url;\n      console.debug(\"Bokeh: injecting link tag for BokehJS stylesheet: \", url);\n      document.body.appendChild(element);\n    }\n\n    const hashes = {\"https://cdn.bokeh.org/bokeh/release/bokeh-2.3.1.min.js\": \"YF85VygJKMVnHE+lLv2AM93Vbstr0yo2TbIu5v8se5Rq3UQAUmcuh4aaJwNlpKwa\", \"https://cdn.bokeh.org/bokeh/release/bokeh-widgets-2.3.1.min.js\": \"KKuas3gevv3PvrlkyCMzffFeaMq5we/a2QsP5AUoS3mJ0jmaCL7jirFJN3GoE/lM\", \"https://cdn.bokeh.org/bokeh/release/bokeh-tables-2.3.1.min.js\": \"MK/uFc3YT18pkvvXRl66tTHjP0/dxoSH2e/eiNMFIguKlun2+WVqaPTWmUy/zvh4\"};\n\n    for (let i = 0; i < js_urls.length; i++) {\n      const url = js_urls[i];\n      const element = document.createElement('script');\n      element.onload = on_load;\n      element.onerror = on_error.bind(null, url);\n      element.async = false;\n      element.src = url;\n      if (url in hashes) {\n        element.crossOrigin = \"anonymous\";\n        element.integrity = \"sha384-\" + hashes[url];\n      }\n      console.debug(\"Bokeh: injecting script tag for BokehJS library: \", url);\n      document.head.appendChild(element);\n    }\n  };\n\n  function inject_raw_css(css) {\n    const element = document.createElement(\"style\");\n    element.appendChild(document.createTextNode(css));\n    document.body.appendChild(element);\n  }\n\n  \n  var js_urls = [\"https://cdn.bokeh.org/bokeh/release/bokeh-2.3.1.min.js\", \"https://cdn.bokeh.org/bokeh/release/bokeh-widgets-2.3.1.min.js\", \"https://cdn.bokeh.org/bokeh/release/bokeh-tables-2.3.1.min.js\"];\n  var css_urls = [];\n  \n\n  var inline_js = [\n    function(Bokeh) {\n      Bokeh.set_log_level(\"info\");\n    },\n    function(Bokeh) {\n    \n    \n    }\n  ];\n\n  function run_inline_js() {\n    \n    if (root.Bokeh !== undefined || force === true) {\n      \n    for (var i = 0; i < inline_js.length; i++) {\n      inline_js[i].call(root, root.Bokeh);\n    }\n    if (force === true) {\n        display_loaded();\n      }} else if (Date.now() < root._bokeh_timeout) {\n      setTimeout(run_inline_js, 100);\n    } else if (!root._bokeh_failed_load) {\n      console.log(\"Bokeh: BokehJS failed to load within specified timeout.\");\n      root._bokeh_failed_load = true;\n    } else if (force !== true) {\n      var cell = $(document.getElementById(\"1002\")).parents('.cell').data().cell;\n      cell.output_area.append_execute_result(NB_LOAD_WARNING)\n    }\n\n  }\n\n  if (root._bokeh_is_loading === 0) {\n    console.debug(\"Bokeh: BokehJS loaded, going straight to plotting\");\n    run_inline_js();\n  } else {\n    load_libs(css_urls, js_urls, function() {\n      console.debug(\"Bokeh: BokehJS plotting callback run at\", now());\n      run_inline_js();\n    });\n  }\n}(window));"
     },
     "metadata": {},
     "output_type": "display_data"
    }
   ],
   "source": [
    "import time\n",
    "\n",
    "import numpy as np\n",
    "from bokeh.io import push_notebook, show, output_notebook\n",
    "from bokeh.models import HoverTool\n",
    "from bokeh.plotting import figure \n",
    "output_notebook()"
   ]
  },
  {
   "cell_type": "code",
   "execution_count": 5,
   "id": "2de99dea",
   "metadata": {},
   "outputs": [],
   "source": [
    "N = 1000\n",
    "x = np.random.random(size=N) * 100\n",
    "y = np.random.random(size=N) * 100\n",
    "radii = np.random.random(size=N) * 2\n",
    "colors = [\"#%02x%02x%02x\" % (int(r), int(g), 150) for r, g in zip(50+2*x, 30+2*y)]"
   ]
  },
  {
   "cell_type": "code",
   "execution_count": 6,
   "id": "beb4dfc0",
   "metadata": {},
   "outputs": [],
   "source": [
    "TOOLS=\"crosshair,pan,wheel_zoom,box_zoom,reset,tap,box_select,lasso_select\"\n",
    "\n",
    "p = figure(tools=TOOLS)\n",
    "p.axis.major_label_text_font_size = \"24px\"\n",
    "hover = HoverTool(tooltips=None, mode=\"vline\")\n",
    "p.add_tools(hover)\n",
    "r = p.circle(x,y, radius=radii, \n",
    "             fill_color=colors, fill_alpha=0.6, line_color=None, \n",
    "             hover_fill_color=\"black\", hover_fill_alpha=0.7, hover_line_color=None)"
   ]
  },
  {
   "cell_type": "code",
   "execution_count": 7,
   "id": "f7226846",
   "metadata": {},
   "outputs": [
    {
     "data": {
      "text/html": [
       "\n",
       "\n",
       "\n",
       "\n",
       "\n",
       "\n",
       "  <div class=\"bk-root\" id=\"644e1ed2-c9c7-4376-962e-d333b4ce695a\" data-root-id=\"1003\"></div>\n"
      ]
     },
     "metadata": {},
     "output_type": "display_data"
    },
    {
     "data": {
      "application/javascript": [
       "(function(root) {\n",
       "  function embed_document(root) {\n",
       "    \n",
       "  var docs_json = {\"f4182aea-8cf3-494d-b91a-2db37dfe509e\":{\"defs\":[],\"roots\":{\"references\":[{\"attributes\":{\"below\":[{\"id\":\"1012\"}],\"center\":[{\"id\":\"1015\"},{\"id\":\"1019\"}],\"left\":[{\"id\":\"1016\"}],\"renderers\":[{\"id\":\"1046\"}],\"title\":{\"id\":\"1048\"},\"toolbar\":{\"id\":\"1031\"},\"x_range\":{\"id\":\"1004\"},\"x_scale\":{\"id\":\"1008\"},\"y_range\":{\"id\":\"1006\"},\"y_scale\":{\"id\":\"1010\"}},\"id\":\"1003\",\"subtype\":\"Figure\",\"type\":\"Plot\"},{\"attributes\":{},\"id\":\"1008\",\"type\":\"LinearScale\"},{\"attributes\":{\"overlay\":{\"id\":\"1028\"}},\"id\":\"1026\",\"type\":\"BoxSelectTool\"},{\"attributes\":{\"bottom_units\":\"screen\",\"fill_alpha\":0.5,\"fill_color\":\"lightgrey\",\"left_units\":\"screen\",\"level\":\"overlay\",\"line_alpha\":1.0,\"line_color\":\"black\",\"line_dash\":[4,4],\"line_width\":2,\"right_units\":\"screen\",\"syncable\":false,\"top_units\":\"screen\"},\"id\":\"1029\",\"type\":\"BoxAnnotation\"},{\"attributes\":{\"callback\":null},\"id\":\"1025\",\"type\":\"TapTool\"},{\"attributes\":{\"formatter\":{\"id\":\"1053\"},\"major_label_policy\":{\"id\":\"1055\"},\"major_label_text_font_size\":\"24px\",\"ticker\":{\"id\":\"1017\"}},\"id\":\"1016\",\"type\":\"LinearAxis\"},{\"attributes\":{\"source\":{\"id\":\"1042\"}},\"id\":\"1047\",\"type\":\"CDSView\"},{\"attributes\":{\"formatter\":{\"id\":\"1050\"},\"major_label_policy\":{\"id\":\"1052\"},\"major_label_text_font_size\":\"24px\",\"ticker\":{\"id\":\"1013\"}},\"id\":\"1012\",\"type\":\"LinearAxis\"},{\"attributes\":{},\"id\":\"1053\",\"type\":\"BasicTickFormatter\"},{\"attributes\":{\"fill_alpha\":{\"value\":0.7},\"fill_color\":{\"value\":\"black\"},\"line_color\":{\"value\":null},\"radius\":{\"field\":\"radius\"},\"x\":{\"field\":\"x\"},\"y\":{\"field\":\"y\"}},\"id\":\"1045\",\"type\":\"Circle\"},{\"attributes\":{},\"id\":\"1048\",\"type\":\"Title\"},{\"attributes\":{\"fill_alpha\":{\"value\":0.6},\"fill_color\":{\"field\":\"fill_color\"},\"line_color\":{\"value\":null},\"radius\":{\"field\":\"radius\"},\"x\":{\"field\":\"x\"},\"y\":{\"field\":\"y\"}},\"id\":\"1043\",\"type\":\"Circle\"},{\"attributes\":{\"overlay\":{\"id\":\"1029\"}},\"id\":\"1023\",\"type\":\"BoxZoomTool\"},{\"attributes\":{\"axis\":{\"id\":\"1012\"},\"ticker\":null},\"id\":\"1015\",\"type\":\"Grid\"},{\"attributes\":{},\"id\":\"1050\",\"type\":\"BasicTickFormatter\"},{\"attributes\":{\"callback\":null,\"mode\":\"vline\",\"tooltips\":null},\"id\":\"1040\",\"type\":\"HoverTool\"},{\"attributes\":{},\"id\":\"1024\",\"type\":\"ResetTool\"},{\"attributes\":{},\"id\":\"1004\",\"type\":\"DataRange1d\"},{\"attributes\":{},\"id\":\"1006\",\"type\":\"DataRange1d\"},{\"attributes\":{},\"id\":\"1060\",\"type\":\"Selection\"},{\"attributes\":{\"data\":{\"fill_color\":[\"#876b96\",\"#725a96\",\"#dd6c96\",\"#56aa96\",\"#a96296\",\"#5e8a96\",\"#c3cf96\",\"#445896\",\"#83a696\",\"#971f96\",\"#b4d796\",\"#db8496\",\"#5d8696\",\"#568396\",\"#733f96\",\"#8a8796\",\"#a93596\",\"#e9d396\",\"#ec5e96\",\"#92db96\",\"#879596\",\"#506796\",\"#9ac496\",\"#aee096\",\"#699596\",\"#565b96\",\"#bdb596\",\"#904596\",\"#663e96\",\"#395e96\",\"#59e196\",\"#e9a896\",\"#cc6396\",\"#3ae596\",\"#bc4696\",\"#7e6696\",\"#ab9496\",\"#889596\",\"#f78e96\",\"#748d96\",\"#849f96\",\"#36bf96\",\"#785696\",\"#52b596\",\"#638096\",\"#50c996\",\"#dbaf96\",\"#c7e196\",\"#ad4796\",\"#3bc996\",\"#5fd896\",\"#bc8b96\",\"#cad796\",\"#a75796\",\"#974096\",\"#439996\",\"#aa6896\",\"#50df96\",\"#f1c896\",\"#b84296\",\"#c88e96\",\"#959396\",\"#f63996\",\"#a07796\",\"#49bc96\",\"#858d96\",\"#8b9196\",\"#ccd296\",\"#a39d96\",\"#cf2e96\",\"#a2bd96\",\"#8cc196\",\"#9fd196\",\"#b8d096\",\"#972d96\",\"#93d496\",\"#379f96\",\"#c2a596\",\"#e68796\",\"#9f2696\",\"#947c96\",\"#ab2196\",\"#f7a396\",\"#7a6096\",\"#5a3096\",\"#5d3096\",\"#dfd096\",\"#a64996\",\"#5c6596\",\"#cb8496\",\"#5d3796\",\"#694796\",\"#ad5996\",\"#bc5896\",\"#ef6a96\",\"#edaf96\",\"#dad696\",\"#46b896\",\"#85c996\",\"#907296\",\"#eb7b96\",\"#3b7e96\",\"#dfc496\",\"#dbd396\",\"#7e2f96\",\"#834c96\",\"#b2d696\",\"#359296\",\"#6f6896\",\"#ae4296\",\"#d0dd96\",\"#ec5196\",\"#ece496\",\"#8d7396\",\"#626a96\",\"#649a96\",\"#d4af96\",\"#94d396\",\"#c43f96\",\"#7e3596\",\"#a3df96\",\"#5fd596\",\"#6b6596\",\"#9e7796\",\"#c69796\",\"#ad9596\",\"#903b96\",\"#a68b96\",\"#6a4596\",\"#743a96\",\"#77d596\",\"#99e396\",\"#aa5296\",\"#965c96\",\"#b15296\",\"#b92396\",\"#825c96\",\"#b09196\",\"#b76a96\",\"#bcaa96\",\"#c22796\",\"#4c2b96\",\"#45d296\",\"#959596\",\"#71c296\",\"#e1db96\",\"#3b4796\",\"#b78396\",\"#3c3296\",\"#f25e96\",\"#bb3996\",\"#614096\",\"#9e9496\",\"#b95c96\",\"#8d5696\",\"#e16a96\",\"#70a196\",\"#3ec396\",\"#d44b96\",\"#aed296\",\"#732a96\",\"#58c596\",\"#ca6896\",\"#d48e96\",\"#d35b96\",\"#dc4796\",\"#518d96\",\"#e07e96\",\"#646c96\",\"#f52996\",\"#7acd96\",\"#db7096\",\"#869496\",\"#c84296\",\"#937c96\",\"#524896\",\"#779696\",\"#81aa96\",\"#a76696\",\"#533a96\",\"#ca8396\",\"#3bc196\",\"#629496\",\"#a17196\",\"#9d9396\",\"#ae2b96\",\"#5a4696\",\"#b7dc96\",\"#6c8e96\",\"#95bb96\",\"#e16c96\",\"#32b296\",\"#6f8596\",\"#a4a396\",\"#942f96\",\"#b89b96\",\"#658096\",\"#32db96\",\"#f85796\",\"#6bbc96\",\"#567796\",\"#374096\",\"#e0ae96\",\"#d27e96\",\"#bf3896\",\"#ed9896\",\"#b15396\",\"#4d3296\",\"#b27996\",\"#8b4096\",\"#e6be96\",\"#f32596\",\"#9ea996\",\"#57dc96\",\"#649b96\",\"#b13696\",\"#50a096\",\"#91c596\",\"#547f96\",\"#ca3396\",\"#3ba396\",\"#4e9196\",\"#5ccc96\",\"#f69196\",\"#436696\",\"#7d3996\",\"#f6d296\",\"#ead696\",\"#40a996\",\"#cabb96\",\"#947d96\",\"#da6196\",\"#655796\",\"#8b6e96\",\"#b2a196\",\"#3aab96\",\"#84bd96\",\"#5f6d96\",\"#d0a896\",\"#847596\",\"#624d96\",\"#98df96\",\"#b9cb96\",\"#983e96\",\"#dde196\",\"#e66596\",\"#de2696\",\"#695396\",\"#e9b496\",\"#58a996\",\"#35c996\",\"#a9b196\",\"#c33496\",\"#b13e96\",\"#7cce96\",\"#63b796\",\"#586b96\",\"#376296\",\"#aecc96\",\"#7f9796\",\"#baa396\",\"#a1de96\",\"#c72e96\",\"#75a996\",\"#bf9196\",\"#d14596\",\"#43e096\",\"#e37d96\",\"#736796\",\"#925796\",\"#d33696\",\"#742d96\",\"#934096\",\"#d1d896\",\"#f87e96\",\"#b8ac96\",\"#40a596\",\"#d09996\",\"#69d596\",\"#3f2a96\",\"#746b96\",\"#a92696\",\"#7d5696\",\"#8e4996\",\"#55b196\",\"#975796\",\"#e64c96\",\"#5b7096\",\"#d97596\",\"#d35796\",\"#6f6b96\",\"#cf5296\",\"#505196\",\"#e98896\",\"#5aa396\",\"#d58096\",\"#5dc496\",\"#cb5b96\",\"#dd8c96\",\"#65ad96\",\"#3e1e96\",\"#3a2396\",\"#7a6896\",\"#df4996\",\"#3aa796\",\"#536796\",\"#7d5096\",\"#e1d296\",\"#7a7296\",\"#858596\",\"#885696\",\"#676296\",\"#66d996\",\"#67b296\",\"#7aa896\",\"#9a8296\",\"#446496\",\"#b3c296\",\"#d8b296\",\"#bacd96\",\"#3d6e96\",\"#6e8196\",\"#486f96\",\"#904896\",\"#f2ca96\",\"#9d3f96\",\"#cfa196\",\"#f1b496\",\"#e3c796\",\"#d44e96\",\"#7f6996\",\"#6ecf96\",\"#e08d96\",\"#9da496\",\"#4f8196\",\"#365d96\",\"#953596\",\"#7b3096\",\"#ca2396\",\"#bd3b96\",\"#785d96\",\"#ac3e96\",\"#a52096\",\"#cd9b96\",\"#844f96\",\"#9a6d96\",\"#3a2c96\",\"#6ec396\",\"#58c696\",\"#446996\",\"#9bc096\",\"#8ed796\",\"#8e4096\",\"#9a2896\",\"#6da596\",\"#c45496\",\"#82af96\",\"#8ebf96\",\"#7e2696\",\"#ddc296\",\"#56dc96\",\"#674596\",\"#32a596\",\"#99ce96\",\"#aa3496\",\"#c84296\",\"#b5aa96\",\"#91d796\",\"#f1a096\",\"#78e496\",\"#7a3296\",\"#a8ca96\",\"#bd5496\",\"#d2c196\",\"#a13a96\",\"#889d96\",\"#f17796\",\"#7a6596\",\"#587a96\",\"#415c96\",\"#b53996\",\"#c17c96\",\"#c52696\",\"#c59f96\",\"#f9c996\",\"#f8ab96\",\"#40cc96\",\"#d78696\",\"#866996\",\"#a86596\",\"#9de396\",\"#cb3396\",\"#f9da96\",\"#408c96\",\"#48b096\",\"#4dc896\",\"#4de296\",\"#438e96\",\"#f93496\",\"#9f7d96\",\"#df3e96\",\"#6c9896\",\"#a23196\",\"#c3db96\",\"#38bd96\",\"#468a96\",\"#7d2296\",\"#6c8496\",\"#ada796\",\"#3bd296\",\"#a69396\",\"#d73596\",\"#ae2496\",\"#c2c496\",\"#e04596\",\"#386496\",\"#a46f96\",\"#b0c096\",\"#bfe196\",\"#8e4596\",\"#cfab96\",\"#59ae96\",\"#3a7396\",\"#ea9c96\",\"#97c696\",\"#4e8496\",\"#b99296\",\"#665096\",\"#69a396\",\"#994696\",\"#5fb096\",\"#3db396\",\"#edda96\",\"#54c796\",\"#dbe096\",\"#458d96\",\"#8ead96\",\"#b4bb96\",\"#833e96\",\"#4fb196\",\"#8e5996\",\"#983496\",\"#99a696\",\"#e73f96\",\"#cee396\",\"#e17d96\",\"#6e9796\",\"#873596\",\"#5b2496\",\"#7c2b96\",\"#52a496\",\"#6d2e96\",\"#b47696\",\"#65a096\",\"#c89296\",\"#f02a96\",\"#70bd96\",\"#f11f96\",\"#9a7596\",\"#a98296\",\"#c97296\",\"#55e396\",\"#926a96\",\"#7f8896\",\"#b18896\",\"#d31e96\",\"#972996\",\"#676296\",\"#dd8196\",\"#9dbc96\",\"#4f5296\",\"#6f2a96\",\"#c85796\",\"#d74896\",\"#88cb96\",\"#f56496\",\"#4dcd96\",\"#5e9696\",\"#6c7d96\",\"#d67a96\",\"#8e7196\",\"#d18c96\",\"#a6e096\",\"#c29896\",\"#e54b96\",\"#358a96\",\"#847996\",\"#dd9996\",\"#dd5e96\",\"#603e96\",\"#c84a96\",\"#4fc596\",\"#466c96\",\"#f63496\",\"#a8cf96\",\"#b8c296\",\"#35bf96\",\"#61cc96\",\"#553a96\",\"#4c5296\",\"#389096\",\"#41ae96\",\"#715e96\",\"#dc2d96\",\"#a2ae96\",\"#576196\",\"#f13196\",\"#cb7696\",\"#91d496\",\"#ee5896\",\"#7e6496\",\"#dd4296\",\"#3ccd96\",\"#f35a96\",\"#cd6596\",\"#8d7796\",\"#80c196\",\"#4a5e96\",\"#b15696\",\"#87a496\",\"#b2b996\",\"#c6d496\",\"#37b596\",\"#51a896\",\"#70ab96\",\"#ef2c96\",\"#dea896\",\"#b5d696\",\"#cfbb96\",\"#749f96\",\"#81d996\",\"#d8b496\",\"#782696\",\"#ade596\",\"#b1d696\",\"#628496\",\"#f7b896\",\"#9a2396\",\"#db3a96\",\"#af7196\",\"#ac7896\",\"#e62396\",\"#f52c96\",\"#d3bb96\",\"#f62e96\",\"#7cd696\",\"#834596\",\"#bb6396\",\"#56a996\",\"#4bd396\",\"#5c8896\",\"#562096\",\"#49b696\",\"#c1b196\",\"#c62196\",\"#923f96\",\"#4f6696\",\"#e92d96\",\"#3e9596\",\"#5fb396\",\"#ae5696\",\"#d6d296\",\"#852096\",\"#b58096\",\"#415496\",\"#3ce496\",\"#c49c96\",\"#c42d96\",\"#7a4596\",\"#873396\",\"#9d6c96\",\"#d37496\",\"#a19b96\",\"#7b3d96\",\"#cdcd96\",\"#7b6e96\",\"#6d2496\",\"#62bc96\",\"#544b96\",\"#7da596\",\"#46e496\",\"#6eb496\",\"#c7c796\",\"#929a96\",\"#41b196\",\"#b85396\",\"#806d96\",\"#45a296\",\"#3ec296\",\"#4f6896\",\"#4b4996\",\"#9bbb96\",\"#7eb696\",\"#5d3196\",\"#f86796\",\"#f16f96\",\"#4a6c96\",\"#b5ca96\",\"#418996\",\"#cfd496\",\"#ddb496\",\"#beb396\",\"#c0a296\",\"#ce2096\",\"#6e9e96\",\"#b66896\",\"#956796\",\"#447e96\",\"#f4c296\",\"#326b96\",\"#673396\",\"#a85f96\",\"#335896\",\"#b38896\",\"#68a896\",\"#dcc496\",\"#677496\",\"#ed3c96\",\"#ce2e96\",\"#627196\",\"#f68b96\",\"#b95996\",\"#ed8896\",\"#5db396\",\"#567b96\",\"#579b96\",\"#4ad696\",\"#93b996\",\"#a7be96\",\"#568496\",\"#6aaa96\",\"#607f96\",\"#d7a896\",\"#ae8a96\",\"#a48596\",\"#b5ac96\",\"#ed8f96\",\"#9e2a96\",\"#7a3e96\",\"#e6e296\",\"#95a996\",\"#692796\",\"#382296\",\"#ef7f96\",\"#464d96\",\"#477496\",\"#3b3596\",\"#485596\",\"#7b3f96\",\"#f16396\",\"#70b696\",\"#392596\",\"#614396\",\"#578696\",\"#c1e096\",\"#6e7a96\",\"#61c696\",\"#35b896\",\"#afbb96\",\"#42b196\",\"#885d96\",\"#c67996\",\"#8d6096\",\"#ad5f96\",\"#454c96\",\"#955f96\",\"#405796\",\"#9c5296\",\"#d78996\",\"#f06496\",\"#51b696\",\"#a7c996\",\"#dabb96\",\"#57a896\",\"#f06e96\",\"#94c996\",\"#758196\",\"#e25896\",\"#6d3f96\",\"#718096\",\"#527996\",\"#70b696\",\"#a22e96\",\"#6f5596\",\"#bb6e96\",\"#ba8496\",\"#a2ba96\",\"#6fa396\",\"#608296\",\"#62c196\",\"#67db96\",\"#a48c96\",\"#958096\",\"#d5d896\",\"#c57096\",\"#36d496\",\"#d36296\",\"#b7b496\",\"#907596\",\"#885896\",\"#afe196\",\"#77c996\",\"#879596\",\"#50e396\",\"#ddb196\",\"#f27396\",\"#e0df96\",\"#d49196\",\"#f88196\",\"#3f2196\",\"#928996\",\"#c12996\",\"#882b96\",\"#479096\",\"#423496\",\"#dd4d96\",\"#f04b96\",\"#407996\",\"#77d696\",\"#d81f96\",\"#56b496\",\"#8a4796\",\"#db5696\",\"#5bcf96\",\"#4bd596\",\"#346c96\",\"#647496\",\"#cdac96\",\"#6e9296\",\"#b5e496\",\"#f43696\",\"#6ca396\",\"#9d9c96\",\"#a98996\",\"#347a96\",\"#b6d896\",\"#cfab96\",\"#a05f96\",\"#d17096\",\"#3f2b96\",\"#c76796\",\"#d5c896\",\"#d7c396\",\"#336096\",\"#a92196\",\"#8a7b96\",\"#75bd96\",\"#cf6a96\",\"#ea9196\",\"#4b9296\",\"#c9c296\",\"#34cd96\",\"#dc7a96\",\"#b3da96\",\"#4b8796\",\"#8b2f96\",\"#a0a396\",\"#432a96\",\"#ec3896\",\"#c45596\",\"#b0bd96\",\"#535e96\",\"#c0c896\",\"#4be596\",\"#664796\",\"#d57d96\",\"#e8ba96\",\"#703396\",\"#6b4196\",\"#445a96\",\"#da7b96\",\"#bbe196\",\"#ae6696\",\"#602896\",\"#ef6f96\",\"#e65496\",\"#62ae96\",\"#f0e296\",\"#72c896\",\"#c07496\",\"#70df96\",\"#832996\",\"#a8ce96\",\"#c2aa96\",\"#396c96\",\"#769296\",\"#ac4996\",\"#cdb496\",\"#6e6796\",\"#60bd96\",\"#796396\",\"#8c6596\",\"#e95c96\",\"#9ac396\",\"#696f96\",\"#3bb396\",\"#6ce296\",\"#95cc96\",\"#559d96\",\"#7c5a96\",\"#edd696\",\"#56c396\",\"#e1c496\",\"#b1b196\",\"#efcb96\",\"#f08f96\",\"#77a496\",\"#3f3496\",\"#415096\",\"#decc96\",\"#c85096\",\"#c8bd96\",\"#c9db96\",\"#e8aa96\",\"#c4a296\",\"#c71f96\",\"#d77196\",\"#539096\",\"#4b3096\",\"#f9b596\",\"#d8e096\",\"#eab596\",\"#f27396\",\"#412d96\",\"#c1da96\",\"#a65896\",\"#5c2496\",\"#cc2e96\",\"#97da96\",\"#51e396\",\"#bc8896\",\"#627196\",\"#af4996\",\"#b82896\",\"#47d696\",\"#db5496\",\"#9c7596\",\"#eb8696\",\"#ba2196\",\"#634596\",\"#522496\",\"#c36e96\",\"#d77196\",\"#362496\",\"#3f4196\",\"#a63796\",\"#f4d196\",\"#ad2896\",\"#c69596\",\"#a48796\",\"#ba7a96\",\"#dd4c96\",\"#382396\",\"#d49b96\",\"#a97496\",\"#d3c196\",\"#e89896\",\"#ce9f96\",\"#f77f96\",\"#718496\",\"#94a696\",\"#71b196\",\"#90d796\",\"#cf7a96\",\"#876996\",\"#921f96\",\"#c87896\",\"#d9d096\",\"#f93e96\",\"#ce8896\",\"#c2a696\",\"#63da96\",\"#c43e96\",\"#da9196\",\"#c0b696\",\"#452696\",\"#f28996\",\"#68b096\",\"#41b296\",\"#6d9496\",\"#764b96\",\"#b75996\",\"#c27d96\",\"#879196\",\"#da7796\",\"#9f6896\",\"#6aa796\",\"#c6b296\",\"#c77d96\",\"#ceba96\",\"#6c8b96\",\"#e0a496\",\"#f5de96\",\"#875696\",\"#665a96\",\"#bb5b96\",\"#ad5d96\",\"#369f96\",\"#4ce196\",\"#e1b996\",\"#a42a96\",\"#7c4e96\",\"#ba5496\",\"#9f2296\",\"#3fca96\",\"#bfa896\",\"#a33596\",\"#6d5096\",\"#e7b296\",\"#7b4a96\",\"#8e6096\",\"#892096\",\"#4e5d96\",\"#412696\",\"#c66e96\",\"#926c96\",\"#cf8b96\",\"#572a96\",\"#824e96\",\"#4e6f96\",\"#722696\",\"#a8b596\",\"#43cd96\",\"#b92f96\",\"#857596\",\"#4fa296\",\"#6b5096\",\"#bb2096\",\"#d57396\",\"#9eab96\",\"#98dc96\",\"#62c896\",\"#8c5c96\",\"#a18e96\",\"#c3e096\",\"#bfe496\",\"#577b96\",\"#3a8996\",\"#ae5d96\",\"#ba4c96\",\"#e5d496\",\"#a5c896\",\"#a98296\",\"#505096\",\"#69c796\",\"#497696\",\"#57ca96\",\"#89cb96\",\"#4ed996\",\"#e65e96\",\"#32b996\",\"#666396\",\"#ae6a96\",\"#4dc296\",\"#775796\",\"#34c596\",\"#9ad996\",\"#e41e96\",\"#8b6b96\",\"#58c696\",\"#55a196\",\"#80d796\",\"#b13c96\",\"#6aaf96\",\"#809396\",\"#515596\",\"#f31e96\",\"#60c896\",\"#cfba96\",\"#4a2296\",\"#d4b496\",\"#8d9896\",\"#7dcf96\",\"#3e9996\",\"#584e96\",\"#887b96\",\"#883196\",\"#82d396\",\"#846796\",\"#5ca796\",\"#483f96\",\"#8fd296\",\"#58d096\",\"#6d2496\",\"#528996\",\"#ee9096\",\"#9d6196\",\"#9f7696\",\"#8fb396\",\"#e54796\",\"#959096\",\"#39d096\",\"#d6d396\",\"#b92a96\",\"#d5c696\",\"#f74996\",\"#7d2b96\",\"#494b96\",\"#8cd996\",\"#e55096\"],\"radius\":{\"__ndarray__\":\"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\",\"dtype\":\"float64\",\"order\":\"little\",\"shape\":[1000]},\"x\":{\"__ndarray__\":\"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\",\"dtype\":\"float64\",\"order\":\"little\",\"shape\":[1000]},\"y\":{\"__ndarray__\":\"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\",\"dtype\":\"float64\",\"order\":\"little\",\"shape\":[1000]}},\"selected\":{\"id\":\"1060\"},\"selection_policy\":{\"id\":\"1059\"}},\"id\":\"1042\",\"type\":\"ColumnDataSource\"},{\"attributes\":{\"active_multi\":null,\"tools\":[{\"id\":\"1020\"},{\"id\":\"1021\"},{\"id\":\"1022\"},{\"id\":\"1023\"},{\"id\":\"1024\"},{\"id\":\"1025\"},{\"id\":\"1026\"},{\"id\":\"1027\"},{\"id\":\"1040\"}]},\"id\":\"1031\",\"type\":\"Toolbar\"},{\"attributes\":{\"axis\":{\"id\":\"1016\"},\"dimension\":1,\"ticker\":null},\"id\":\"1019\",\"type\":\"Grid\"},{\"attributes\":{},\"id\":\"1021\",\"type\":\"PanTool\"},{\"attributes\":{\"fill_alpha\":{\"value\":0.1},\"fill_color\":{\"field\":\"fill_color\"},\"line_alpha\":{\"value\":0.1},\"line_color\":{\"value\":null},\"radius\":{\"field\":\"radius\"},\"x\":{\"field\":\"x\"},\"y\":{\"field\":\"y\"}},\"id\":\"1044\",\"type\":\"Circle\"},{\"attributes\":{\"fill_alpha\":0.5,\"fill_color\":\"lightgrey\",\"level\":\"overlay\",\"line_alpha\":1.0,\"line_color\":\"black\",\"line_dash\":[4,4],\"line_width\":2,\"syncable\":false,\"xs_units\":\"screen\",\"ys_units\":\"screen\"},\"id\":\"1030\",\"type\":\"PolyAnnotation\"},{\"attributes\":{},\"id\":\"1022\",\"type\":\"WheelZoomTool\"},{\"attributes\":{},\"id\":\"1055\",\"type\":\"AllLabels\"},{\"attributes\":{},\"id\":\"1059\",\"type\":\"UnionRenderers\"},{\"attributes\":{},\"id\":\"1017\",\"type\":\"BasicTicker\"},{\"attributes\":{\"data_source\":{\"id\":\"1042\"},\"glyph\":{\"id\":\"1043\"},\"hover_glyph\":{\"id\":\"1045\"},\"muted_glyph\":null,\"nonselection_glyph\":{\"id\":\"1044\"},\"view\":{\"id\":\"1047\"}},\"id\":\"1046\",\"type\":\"GlyphRenderer\"},{\"attributes\":{},\"id\":\"1052\",\"type\":\"AllLabels\"},{\"attributes\":{\"overlay\":{\"id\":\"1030\"}},\"id\":\"1027\",\"type\":\"LassoSelectTool\"},{\"attributes\":{},\"id\":\"1013\",\"type\":\"BasicTicker\"},{\"attributes\":{},\"id\":\"1020\",\"type\":\"CrosshairTool\"},{\"attributes\":{\"bottom_units\":\"screen\",\"fill_alpha\":0.5,\"fill_color\":\"lightgrey\",\"left_units\":\"screen\",\"level\":\"overlay\",\"line_alpha\":1.0,\"line_color\":\"black\",\"line_dash\":[4,4],\"line_width\":2,\"right_units\":\"screen\",\"syncable\":false,\"top_units\":\"screen\"},\"id\":\"1028\",\"type\":\"BoxAnnotation\"},{\"attributes\":{},\"id\":\"1010\",\"type\":\"LinearScale\"}],\"root_ids\":[\"1003\"]},\"title\":\"Bokeh Application\",\"version\":\"2.3.1\"}};\n",
       "  var render_items = [{\"docid\":\"f4182aea-8cf3-494d-b91a-2db37dfe509e\",\"notebook_comms_target\":\"1061\",\"root_ids\":[\"1003\"],\"roots\":{\"1003\":\"644e1ed2-c9c7-4376-962e-d333b4ce695a\"}}];\n",
       "  root.Bokeh.embed.embed_items_notebook(docs_json, render_items);\n",
       "\n",
       "  }\n",
       "  if (root.Bokeh !== undefined) {\n",
       "    embed_document(root);\n",
       "  } else {\n",
       "    var attempts = 0;\n",
       "    var timer = setInterval(function(root) {\n",
       "      if (root.Bokeh !== undefined) {\n",
       "        clearInterval(timer);\n",
       "        embed_document(root);\n",
       "      } else {\n",
       "        attempts++;\n",
       "        if (attempts > 100) {\n",
       "          clearInterval(timer);\n",
       "          console.log(\"Bokeh: ERROR: Unable to run BokehJS code because BokehJS library is missing\");\n",
       "        }\n",
       "      }\n",
       "    }, 10, root)\n",
       "  }\n",
       "})(window);"
      ],
      "application/vnd.bokehjs_exec.v0+json": ""
     },
     "metadata": {
      "application/vnd.bokehjs_exec.v0+json": {
       "id": "1003"
      }
     },
     "output_type": "display_data"
    }
   ],
   "source": [
    "target = show(p, notebook_handle=True)"
   ]
  },
  {
   "cell_type": "code",
   "execution_count": null,
   "id": "bd91833b",
   "metadata": {},
   "outputs": [],
   "source": [
    "i = 0\n",
    "while True:\n",
    "    i +=1 \n",
    "    p.title.text = str(i)\n",
    "    \n",
    "    r.data_source.data['radius'] = radii * (2 + np.sin(i/5))\n",
    "    \n",
    "    x = r.data_source.data['x']\n",
    "    y = r.data_source.data['y']\n",
    "    d = np.sqrt((x-50)**2 + (y-50)**2)/100\n",
    "    rand = 2 * (np.random.random(size=N) - 0.5)\n",
    "    r.data_source.data['x'] = x + 2 * np.sin(d) * rand\n",
    "    r.data_source.data['y'] = y + np.cos(d**2) * rand\n",
    "    \n",
    "    p.axis.major_label_text_color = r.data_source.data['fill_color'][int(i%N)]\n",
    "\n",
    "    # push updates to the plot continuously using the handle (intererrupt the notebook kernel to stop)\n",
    "    push_notebook(handle=target)\n",
    "    time.sleep(0.1)"
   ]
  }
 ],
 "metadata": {
  "kernelspec": {
   "display_name": "Python 3",
   "language": "python",
   "name": "python3"
  },
  "language_info": {
   "codemirror_mode": {
    "name": "ipython",
    "version": 3
   },
   "file_extension": ".py",
   "mimetype": "text/x-python",
   "name": "python",
   "nbconvert_exporter": "python",
   "pygments_lexer": "ipython3",
   "version": "3.8.8"
  }
 },
 "nbformat": 4,
 "nbformat_minor": 5
}
