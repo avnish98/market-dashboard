{
 "cells": [
  {
   "cell_type": "code",
   "execution_count": 1,
   "id": "5f54180d",
   "metadata": {},
   "outputs": [
    {
     "name": "stdout",
     "output_type": "stream",
     "text": [
      "Collecting nsetools\n",
      "  Downloading nsetools-1.0.11-py3-none-any.whl (9.6 kB)\n",
      "Requirement already satisfied: pandas in /opt/conda/lib/python3.8/site-packages (1.2.4)\n",
      "Collecting nsepy\n",
      "  Downloading nsepy-0.8.tar.gz (33 kB)\n",
      "Collecting PyPortfolioOpt\n",
      "  Downloading PyPortfolioOpt-1.4.1-py3-none-any.whl (56 kB)\n",
      "\u001b[K     |████████████████████████████████| 56 kB 6.1 MB/s  eta 0:00:01\n",
      "\u001b[?25hRequirement already satisfied: beautifulsoup4 in /opt/conda/lib/python3.8/site-packages (from nsepy) (4.9.3)\n",
      "Requirement already satisfied: requests in /opt/conda/lib/python3.8/site-packages (from nsepy) (2.25.1)\n",
      "Requirement already satisfied: numpy in /opt/conda/lib/python3.8/site-packages (from nsepy) (1.20.2)\n",
      "Requirement already satisfied: six in /opt/conda/lib/python3.8/site-packages (from nsepy) (1.15.0)\n",
      "Requirement already satisfied: click in /opt/conda/lib/python3.8/site-packages (from nsepy) (7.1.2)\n",
      "Collecting lxml\n",
      "  Downloading lxml-4.6.3-cp38-cp38-manylinux2014_x86_64.whl (6.8 MB)\n",
      "\u001b[K     |████████████████████████████████| 6.8 MB 8.5 MB/s eta 0:00:01     |████████████████████████████▋   | 6.1 MB 8.5 MB/s eta 0:00:01\n",
      "\u001b[?25hCollecting dateutils\n",
      "  Downloading dateutils-0.6.12-py2.py3-none-any.whl (5.7 kB)\n",
      "Requirement already satisfied: python-dateutil>=2.7.3 in /opt/conda/lib/python3.8/site-packages (from pandas) (2.8.1)\n",
      "Requirement already satisfied: pytz>=2017.3 in /opt/conda/lib/python3.8/site-packages (from pandas) (2021.1)\n",
      "Requirement already satisfied: scipy<2.0,>=1.3 in /opt/conda/lib/python3.8/site-packages (from PyPortfolioOpt) (1.6.2)\n",
      "Collecting cvxpy<2.0.0,>=1.1.10\n",
      "  Downloading cvxpy-1.1.12.tar.gz (1.3 MB)\n",
      "\u001b[K     |████████████████████████████████| 1.3 MB 27.2 MB/s eta 0:00:01\n",
      "\u001b[?25h  Installing build dependencies ... \u001b[?25ldone\n",
      "\u001b[?25h  Getting requirements to build wheel ... \u001b[?25ldone\n",
      "\u001b[?25h    Preparing wheel metadata ... \u001b[?25ldone\n",
      "\u001b[?25hCollecting scs>=1.1.6\n",
      "  Downloading scs-2.1.3.tar.gz (147 kB)\n",
      "\u001b[K     |████████████████████████████████| 147 kB 9.1 MB/s eta 0:00:01\n",
      "\u001b[?25hCollecting osqp>=0.4.1\n",
      "  Downloading osqp-0.6.2.post0-cp38-cp38-manylinux2014_x86_64.whl (215 kB)\n",
      "\u001b[K     |████████████████████████████████| 215 kB 7.4 MB/s eta 0:00:01\n",
      "\u001b[?25hCollecting ecos>=2\n",
      "  Downloading ecos-2.0.7.post1.tar.gz (126 kB)\n",
      "\u001b[K     |████████████████████████████████| 126 kB 8.7 MB/s eta 0:00:01\n",
      "\u001b[?25hCollecting qdldl\n",
      "  Downloading qdldl-0.1.5.post0-cp38-cp38-manylinux2014_x86_64.whl (921 kB)\n",
      "\u001b[K     |████████████████████████████████| 921 kB 9.1 MB/s eta 0:00:01\n",
      "\u001b[?25hRequirement already satisfied: soupsieve>1.2 in /opt/conda/lib/python3.8/site-packages (from beautifulsoup4->nsepy) (2.0.1)\n",
      "Requirement already satisfied: certifi>=2017.4.17 in /opt/conda/lib/python3.8/site-packages (from requests->nsepy) (2020.12.5)\n",
      "Requirement already satisfied: idna<3,>=2.5 in /opt/conda/lib/python3.8/site-packages (from requests->nsepy) (2.10)\n",
      "Requirement already satisfied: urllib3<1.27,>=1.21.1 in /opt/conda/lib/python3.8/site-packages (from requests->nsepy) (1.26.4)\n",
      "Requirement already satisfied: chardet<5,>=3.0.2 in /opt/conda/lib/python3.8/site-packages (from requests->nsepy) (4.0.0)\n",
      "Building wheels for collected packages: nsepy, cvxpy, ecos, scs\n",
      "  Building wheel for nsepy (setup.py) ... \u001b[?25ldone\n",
      "\u001b[?25h  Created wheel for nsepy: filename=nsepy-0.8-py3-none-any.whl size=36083 sha256=ca03aa7e860822155bb7f1a7cf9f87f22496d90039f565a7a31d6c40c6442600\n",
      "  Stored in directory: /home/jovyan/.cache/pip/wheels/b9/2c/cb/d74199e422a1dbc20297d10cfff9c54d03e0b5c6694d49ccdd\n",
      "  Building wheel for cvxpy (PEP 517) ... \u001b[?25ldone\n",
      "\u001b[?25h  Created wheel for cvxpy: filename=cvxpy-1.1.12-cp38-cp38-linux_x86_64.whl size=3724553 sha256=4b28163e7ed8b7cc56f052f88135c27ee62321382c31944525b5d1ebcd541160\n",
      "  Stored in directory: /home/jovyan/.cache/pip/wheels/df/06/53/181f6845804251b9a5d843803577d2772f1aea96cb10b51e5f\n",
      "  Building wheel for ecos (setup.py) ... \u001b[?25ldone\n",
      "\u001b[?25h  Created wheel for ecos: filename=ecos-2.0.7.post1-cp38-cp38-linux_x86_64.whl size=236639 sha256=b7758aae811453d39a27f06a4431c15c8a8a687a2dcf87da4531950ceb58b8a9\n",
      "  Stored in directory: /home/jovyan/.cache/pip/wheels/c3/c1/ce/b551b0b3a40c990e1da2ec9aecff62f7c2d43cab8766368e82\n",
      "  Building wheel for scs (setup.py) ... \u001b[?25ldone\n",
      "\u001b[?25h  Created wheel for scs: filename=scs-2.1.3-cp38-cp38-linux_x86_64.whl size=575434 sha256=2dbcb6ab02697bc1f656e598337d0711375031a9ca6b3028d1c0cbf241dda220\n",
      "  Stored in directory: /home/jovyan/.cache/pip/wheels/e2/f4/e2/f46f2e79cc4536a1ace2fe1564291f12be7da3587d6ae08eca\n",
      "Successfully built nsepy cvxpy ecos scs\n",
      "Installing collected packages: qdldl, scs, osqp, ecos, lxml, dateutils, cvxpy, PyPortfolioOpt, nsetools, nsepy\n",
      "Successfully installed PyPortfolioOpt-1.4.1 cvxpy-1.1.12 dateutils-0.6.12 ecos-2.0.7.post1 lxml-4.6.3 nsepy-0.8 nsetools-1.0.11 osqp-0.6.2.post0 qdldl-0.1.5.post0 scs-2.1.3\n"
     ]
    }
   ],
   "source": [
    "!pip install nsetools pandas nsepy PyPortfolioOpt"
   ]
  },
  {
   "cell_type": "code",
   "execution_count": 1,
   "id": "83cdab7b",
   "metadata": {},
   "outputs": [],
   "source": [
    "from fetcher import Nifty500Fetcher\n",
    "\n",
    "nff = Nifty500Fetcher()\n",
    "nff.read_list(update=True)"
   ]
  },
  {
   "cell_type": "code",
   "execution_count": 2,
   "id": "29faa55b",
   "metadata": {},
   "outputs": [
    {
     "name": "stdout",
     "output_type": "stream",
     "text": [
      "Progress: 0.2% Last ticker: 3MINDIA\n",
      "Progress: 0.4% Last ticker: ABB\n",
      "Progress: 0.6% Last ticker: POWERINDIA\n",
      "Progress: 0.8% Last ticker: ACC\n",
      "Progress: 1.0% Last ticker: AIAENG\n"
     ]
    },
    {
     "ename": "KeyboardInterrupt",
     "evalue": "",
     "output_type": "error",
     "traceback": [
      "\u001b[0;31m---------------------------------------------------------------------------\u001b[0m",
      "\u001b[0;31mKeyboardInterrupt\u001b[0m                         Traceback (most recent call last)",
      "\u001b[0;32m<ipython-input-2-5c6484b6f535>\u001b[0m in \u001b[0;36m<module>\u001b[0;34m\u001b[0m\n\u001b[0;32m----> 1\u001b[0;31m \u001b[0mnff\u001b[0m\u001b[0;34m.\u001b[0m\u001b[0mfetch_data\u001b[0m\u001b[0;34m(\u001b[0m\u001b[0;34m)\u001b[0m\u001b[0;34m\u001b[0m\u001b[0;34m\u001b[0m\u001b[0m\n\u001b[0m",
      "\u001b[0;32m~/work/fetcher.py\u001b[0m in \u001b[0;36mfetch_data\u001b[0;34m(self, start_date, end_date, timeout)\u001b[0m\n\u001b[1;32m    257\u001b[0m         \u001b[0;32mfor\u001b[0m \u001b[0mc\u001b[0m \u001b[0;32min\u001b[0m \u001b[0mself\u001b[0m\u001b[0;34m.\u001b[0m\u001b[0mticker_list\u001b[0m\u001b[0;34m:\u001b[0m\u001b[0;34m\u001b[0m\u001b[0;34m\u001b[0m\u001b[0m\n\u001b[1;32m    258\u001b[0m             \u001b[0;32mtry\u001b[0m\u001b[0;34m:\u001b[0m\u001b[0;34m\u001b[0m\u001b[0;34m\u001b[0m\u001b[0m\n\u001b[0;32m--> 259\u001b[0;31m                 \u001b[0mdata\u001b[0m \u001b[0;34m=\u001b[0m \u001b[0mget_history\u001b[0m\u001b[0;34m(\u001b[0m\u001b[0msymbol\u001b[0m\u001b[0;34m=\u001b[0m\u001b[0mc\u001b[0m\u001b[0;34m,\u001b[0m \u001b[0mstart\u001b[0m\u001b[0;34m=\u001b[0m\u001b[0mstart_date\u001b[0m\u001b[0;34m,\u001b[0m \u001b[0mend\u001b[0m\u001b[0;34m=\u001b[0m\u001b[0mend_date\u001b[0m\u001b[0;34m)\u001b[0m\u001b[0;34m\u001b[0m\u001b[0;34m\u001b[0m\u001b[0m\n\u001b[0m\u001b[1;32m    260\u001b[0m                 \u001b[0mdata\u001b[0m\u001b[0;34m.\u001b[0m\u001b[0mto_csv\u001b[0m\u001b[0;34m(\u001b[0m\u001b[0;34m\"{}/{}.csv\"\u001b[0m\u001b[0;34m.\u001b[0m\u001b[0mformat\u001b[0m\u001b[0;34m(\u001b[0m\u001b[0mself\u001b[0m\u001b[0;34m.\u001b[0m\u001b[0mohlc_dir\u001b[0m\u001b[0;34m,\u001b[0m \u001b[0mc\u001b[0m\u001b[0;34m)\u001b[0m\u001b[0;34m)\u001b[0m\u001b[0;34m\u001b[0m\u001b[0;34m\u001b[0m\u001b[0m\n\u001b[1;32m    261\u001b[0m \u001b[0;34m\u001b[0m\u001b[0m\n",
      "\u001b[0;32m/opt/conda/lib/python3.8/site-packages/nsepy/history.py\u001b[0m in \u001b[0;36mget_history\u001b[0;34m(symbol, start, end, index, futures, option_type, expiry_date, strike_price, series)\u001b[0m\n\u001b[1;32m    133\u001b[0m         \u001b[0mt2\u001b[0m\u001b[0;34m.\u001b[0m\u001b[0mstart\u001b[0m\u001b[0;34m(\u001b[0m\u001b[0;34m)\u001b[0m\u001b[0;34m\u001b[0m\u001b[0;34m\u001b[0m\u001b[0m\n\u001b[1;32m    134\u001b[0m         \u001b[0mt1\u001b[0m\u001b[0;34m.\u001b[0m\u001b[0mjoin\u001b[0m\u001b[0;34m(\u001b[0m\u001b[0;34m)\u001b[0m\u001b[0;34m\u001b[0m\u001b[0;34m\u001b[0m\u001b[0m\n\u001b[0;32m--> 135\u001b[0;31m         \u001b[0mt2\u001b[0m\u001b[0;34m.\u001b[0m\u001b[0mjoin\u001b[0m\u001b[0;34m(\u001b[0m\u001b[0;34m)\u001b[0m\u001b[0;34m\u001b[0m\u001b[0;34m\u001b[0m\u001b[0m\n\u001b[0m\u001b[1;32m    136\u001b[0m         \u001b[0;32mreturn\u001b[0m \u001b[0mpd\u001b[0m\u001b[0;34m.\u001b[0m\u001b[0mconcat\u001b[0m\u001b[0;34m(\u001b[0m\u001b[0;34m(\u001b[0m\u001b[0mt1\u001b[0m\u001b[0;34m.\u001b[0m\u001b[0mresult\u001b[0m\u001b[0;34m,\u001b[0m \u001b[0mt2\u001b[0m\u001b[0;34m.\u001b[0m\u001b[0mresult\u001b[0m\u001b[0;34m)\u001b[0m\u001b[0;34m)\u001b[0m\u001b[0;34m\u001b[0m\u001b[0;34m\u001b[0m\u001b[0m\n\u001b[1;32m    137\u001b[0m     \u001b[0;32melse\u001b[0m\u001b[0;34m:\u001b[0m\u001b[0;34m\u001b[0m\u001b[0;34m\u001b[0m\u001b[0m\n",
      "\u001b[0;32m/opt/conda/lib/python3.8/threading.py\u001b[0m in \u001b[0;36mjoin\u001b[0;34m(self, timeout)\u001b[0m\n\u001b[1;32m   1009\u001b[0m \u001b[0;34m\u001b[0m\u001b[0m\n\u001b[1;32m   1010\u001b[0m         \u001b[0;32mif\u001b[0m \u001b[0mtimeout\u001b[0m \u001b[0;32mis\u001b[0m \u001b[0;32mNone\u001b[0m\u001b[0;34m:\u001b[0m\u001b[0;34m\u001b[0m\u001b[0;34m\u001b[0m\u001b[0m\n\u001b[0;32m-> 1011\u001b[0;31m             \u001b[0mself\u001b[0m\u001b[0;34m.\u001b[0m\u001b[0m_wait_for_tstate_lock\u001b[0m\u001b[0;34m(\u001b[0m\u001b[0;34m)\u001b[0m\u001b[0;34m\u001b[0m\u001b[0;34m\u001b[0m\u001b[0m\n\u001b[0m\u001b[1;32m   1012\u001b[0m         \u001b[0;32melse\u001b[0m\u001b[0;34m:\u001b[0m\u001b[0;34m\u001b[0m\u001b[0;34m\u001b[0m\u001b[0m\n\u001b[1;32m   1013\u001b[0m             \u001b[0;31m# the behavior of a negative timeout isn't documented, but\u001b[0m\u001b[0;34m\u001b[0m\u001b[0;34m\u001b[0m\u001b[0;34m\u001b[0m\u001b[0m\n",
      "\u001b[0;32m/opt/conda/lib/python3.8/threading.py\u001b[0m in \u001b[0;36m_wait_for_tstate_lock\u001b[0;34m(self, block, timeout)\u001b[0m\n\u001b[1;32m   1025\u001b[0m         \u001b[0;32mif\u001b[0m \u001b[0mlock\u001b[0m \u001b[0;32mis\u001b[0m \u001b[0;32mNone\u001b[0m\u001b[0;34m:\u001b[0m  \u001b[0;31m# already determined that the C code is done\u001b[0m\u001b[0;34m\u001b[0m\u001b[0;34m\u001b[0m\u001b[0m\n\u001b[1;32m   1026\u001b[0m             \u001b[0;32massert\u001b[0m \u001b[0mself\u001b[0m\u001b[0;34m.\u001b[0m\u001b[0m_is_stopped\u001b[0m\u001b[0;34m\u001b[0m\u001b[0;34m\u001b[0m\u001b[0m\n\u001b[0;32m-> 1027\u001b[0;31m         \u001b[0;32melif\u001b[0m \u001b[0mlock\u001b[0m\u001b[0;34m.\u001b[0m\u001b[0macquire\u001b[0m\u001b[0;34m(\u001b[0m\u001b[0mblock\u001b[0m\u001b[0;34m,\u001b[0m \u001b[0mtimeout\u001b[0m\u001b[0;34m)\u001b[0m\u001b[0;34m:\u001b[0m\u001b[0;34m\u001b[0m\u001b[0;34m\u001b[0m\u001b[0m\n\u001b[0m\u001b[1;32m   1028\u001b[0m             \u001b[0mlock\u001b[0m\u001b[0;34m.\u001b[0m\u001b[0mrelease\u001b[0m\u001b[0;34m(\u001b[0m\u001b[0;34m)\u001b[0m\u001b[0;34m\u001b[0m\u001b[0;34m\u001b[0m\u001b[0m\n\u001b[1;32m   1029\u001b[0m             \u001b[0mself\u001b[0m\u001b[0;34m.\u001b[0m\u001b[0m_stop\u001b[0m\u001b[0;34m(\u001b[0m\u001b[0;34m)\u001b[0m\u001b[0;34m\u001b[0m\u001b[0;34m\u001b[0m\u001b[0m\n",
      "\u001b[0;31mKeyboardInterrupt\u001b[0m: "
     ]
    }
   ],
   "source": [
    "nff.fetch_data()"
   ]
  },
  {
   "cell_type": "code",
   "execution_count": 3,
   "id": "3fdd4c99",
   "metadata": {},
   "outputs": [
    {
     "name": "stdout",
     "output_type": "stream",
     "text": [
      "Progress: 0.2% Last ticker: 3MINDIA\n",
      "Progress: 0.4% Last ticker: ABB\n",
      "Progress: 0.6% Last ticker: POWERINDIA\n",
      "Progress: 0.8% Last ticker: ACC\n",
      "Progress: 1.0% Last ticker: AIAENG\n"
     ]
    },
    {
     "ename": "KeyboardInterrupt",
     "evalue": "",
     "output_type": "error",
     "traceback": [
      "\u001b[0;31m---------------------------------------------------------------------------\u001b[0m",
      "\u001b[0;31mKeyboardInterrupt\u001b[0m                         Traceback (most recent call last)",
      "\u001b[0;32m<ipython-input-3-aac323c57298>\u001b[0m in \u001b[0;36m<module>\u001b[0;34m\u001b[0m\n\u001b[0;32m----> 1\u001b[0;31m \u001b[0mnff\u001b[0m\u001b[0;34m.\u001b[0m\u001b[0mfetch_metadata\u001b[0m\u001b[0;34m(\u001b[0m\u001b[0;34m)\u001b[0m\u001b[0;34m\u001b[0m\u001b[0;34m\u001b[0m\u001b[0m\n\u001b[0m",
      "\u001b[0;32m~/work/fetcher.py\u001b[0m in \u001b[0;36mfetch_metadata\u001b[0;34m(self, timeout)\u001b[0m\n\u001b[1;32m    231\u001b[0m             \u001b[0mprogress_perc\u001b[0m \u001b[0;34m=\u001b[0m \u001b[0mnp\u001b[0m\u001b[0;34m.\u001b[0m\u001b[0mround\u001b[0m\u001b[0;34m(\u001b[0m\u001b[0;34m(\u001b[0m\u001b[0mprogress\u001b[0m\u001b[0;34m/\u001b[0m\u001b[0mnum_tickers\u001b[0m\u001b[0;34m)\u001b[0m\u001b[0;34m*\u001b[0m\u001b[0;36m100\u001b[0m\u001b[0;34m,\u001b[0m \u001b[0;36m2\u001b[0m\u001b[0;34m)\u001b[0m\u001b[0;34m\u001b[0m\u001b[0;34m\u001b[0m\u001b[0m\n\u001b[1;32m    232\u001b[0m             \u001b[0mprint\u001b[0m\u001b[0;34m(\u001b[0m\u001b[0;34m\"Progress: {}% Last ticker: {}\"\u001b[0m\u001b[0;34m.\u001b[0m\u001b[0mformat\u001b[0m\u001b[0;34m(\u001b[0m\u001b[0mprogress_perc\u001b[0m\u001b[0;34m,\u001b[0m \u001b[0mc\u001b[0m\u001b[0;34m)\u001b[0m\u001b[0;34m)\u001b[0m\u001b[0;34m\u001b[0m\u001b[0;34m\u001b[0m\u001b[0m\n\u001b[0;32m--> 233\u001b[0;31m             \u001b[0mtime\u001b[0m\u001b[0;34m.\u001b[0m\u001b[0msleep\u001b[0m\u001b[0;34m(\u001b[0m\u001b[0mtimeout\u001b[0m\u001b[0;34m)\u001b[0m\u001b[0;34m\u001b[0m\u001b[0;34m\u001b[0m\u001b[0m\n\u001b[0m\u001b[1;32m    234\u001b[0m \u001b[0;34m\u001b[0m\u001b[0m\n\u001b[1;32m    235\u001b[0m         \u001b[0mpd\u001b[0m\u001b[0;34m.\u001b[0m\u001b[0mDataFrame\u001b[0m\u001b[0;34m.\u001b[0m\u001b[0mfrom_dict\u001b[0m\u001b[0;34m(\u001b[0m\u001b[0mmeta_data\u001b[0m\u001b[0;34m,\u001b[0m \u001b[0morient\u001b[0m\u001b[0;34m=\u001b[0m\u001b[0;34m'columns'\u001b[0m\u001b[0;34m)\u001b[0m\u001b[0;34m.\u001b[0m\u001b[0mto_csv\u001b[0m\u001b[0;34m(\u001b[0m\u001b[0;34m\"{}/nifty_500_metadata.csv\"\u001b[0m\u001b[0;34m.\u001b[0m\u001b[0mformat\u001b[0m\u001b[0;34m(\u001b[0m\u001b[0mself\u001b[0m\u001b[0;34m.\u001b[0m\u001b[0mmetadata_dir\u001b[0m\u001b[0;34m)\u001b[0m\u001b[0;34m)\u001b[0m\u001b[0;34m\u001b[0m\u001b[0;34m\u001b[0m\u001b[0m\n",
      "\u001b[0;31mKeyboardInterrupt\u001b[0m: "
     ]
    }
   ],
   "source": [
    "nff.fetch_metadata()"
   ]
  },
  {
   "cell_type": "code",
   "execution_count": 2,
   "id": "53fd4620",
   "metadata": {},
   "outputs": [],
   "source": [
    "from cleaner import Nifty500Cleaner\n",
    "\n",
    "nfc = Nifty500Cleaner()\n",
    "nfc.clean_metadata()\n",
    "nfc.clean_ohlc_data()"
   ]
  },
  {
   "cell_type": "code",
   "execution_count": 1,
   "id": "f06ff14c",
   "metadata": {},
   "outputs": [],
   "source": [
    "from processor import StockProcessor\n",
    "\n",
    "sp = StockProcessor('3MINDIA', meta_data_loc='data/cleaned/Metadata/nifty500.json')"
   ]
  },
  {
   "cell_type": "code",
   "execution_count": 2,
   "id": "01ab2cda",
   "metadata": {},
   "outputs": [],
   "source": [
    "sp.process_metrics()"
   ]
  },
  {
   "cell_type": "code",
   "execution_count": 3,
   "id": "ba1b3578",
   "metadata": {},
   "outputs": [
    {
     "data": {
      "text/plain": [
       "{'Ticker': '3MINDIA',\n",
       " 'Company Name': '3M India Ltd.',\n",
       " 'Sector': 'SERVICES',\n",
       " 'Price': 20710.9,\n",
       " 'Book Closure End Date': '26-AUG-20',\n",
       " 'Book Closure Start Date': '21-AUG-20',\n",
       " 'Ex Date': '19-AUG-20',\n",
       " 'Purpose of Last Meeting': 'ANNUAL GENERAL MEETING',\n",
       " 'Record Date': nan,\n",
       " 'OHLC Data Location': 'data/cleaned/OHLC/Nifty500/3MINDIA.csv',\n",
       " 'VWAP': 25297.07,\n",
       " 'Volume': 8051,\n",
       " 'Previous Close': 25494.35,\n",
       " 'Turnover': 20366668890000.0,\n",
       " 'Open': 25499.0,\n",
       " 'High': 25768.6,\n",
       " 'Low': 25104.75,\n",
       " 'Profit Exit': 21746.445,\n",
       " 'Stop Loss': 19675.355000000003,\n",
       " '14MA': 26263.22,\n",
       " '50MA': 25952.74,\n",
       " '200MA': 21873.22,\n",
       " 'Daily Return': 0.17,\n",
       " 'Monthly Return': -6.97,\n",
       " 'Yearly Return': 32.34,\n",
       " 'Volatility': 2885.61}"
      ]
     },
     "execution_count": 3,
     "metadata": {},
     "output_type": "execute_result"
    }
   ],
   "source": [
    "sp.stock.metadata"
   ]
  },
  {
   "cell_type": "code",
   "execution_count": 1,
   "id": "b449d1cf",
   "metadata": {},
   "outputs": [],
   "source": [
    "from processor import IndexProcessor\n",
    "\n",
    "pp = IndexProcessor(\"data/cleaned/OHLC/Nifty500\", \n",
    "                    \"data/cleaned/Metadata/nifty500.json\", \n",
    "                    \"data/cleaned/Metadata/proc_nifty500.json\")"
   ]
  },
  {
   "cell_type": "code",
   "execution_count": 2,
   "id": "ae885357",
   "metadata": {},
   "outputs": [
    {
     "name": "stdout",
     "output_type": "stream",
     "text": [
      "File not present: data/cleaned/OHLC/Nifty500/POWERINDIA.csv\n",
      "File not present: data/cleaned/OHLC/Nifty500/ALOKINDS.csv\n",
      "File not present: data/cleaned/OHLC/Nifty500/BBTC.csv\n",
      "File not present: data/cleaned/OHLC/Nifty500/IRB.csv\n",
      "File not present: data/cleaned/OHLC/Nifty500/M&MFIN.csv\n",
      "File not present: data/cleaned/OHLC/Nifty500/PVR.csv\n",
      "File not present: data/cleaned/OHLC/Nifty500/RELAXO.csv\n",
      "File not present: data/cleaned/OHLC/Nifty500/SBICARD.csv\n",
      "File not present: data/cleaned/OHLC/Nifty500/SUMICHEM.csv\n",
      "File not present: data/cleaned/OHLC/Nifty500/SUVENPHAR.csv\n"
     ]
    }
   ],
   "source": [
    "pp.process_metrics()"
   ]
  },
  {
   "cell_type": "code",
   "execution_count": 3,
   "id": "2345b362",
   "metadata": {},
   "outputs": [
    {
     "data": {
      "text/html": [
       "<div>\n",
       "<style scoped>\n",
       "    .dataframe tbody tr th:only-of-type {\n",
       "        vertical-align: middle;\n",
       "    }\n",
       "\n",
       "    .dataframe tbody tr th {\n",
       "        vertical-align: top;\n",
       "    }\n",
       "\n",
       "    .dataframe thead th {\n",
       "        text-align: right;\n",
       "    }\n",
       "</style>\n",
       "<table border=\"1\" class=\"dataframe\">\n",
       "  <thead>\n",
       "    <tr style=\"text-align: right;\">\n",
       "      <th></th>\n",
       "      <th>Date</th>\n",
       "      <th>Symbol</th>\n",
       "      <th>Series</th>\n",
       "      <th>Prev Close</th>\n",
       "      <th>Open</th>\n",
       "      <th>High</th>\n",
       "      <th>Low</th>\n",
       "      <th>Last</th>\n",
       "      <th>Close</th>\n",
       "      <th>VWAP</th>\n",
       "      <th>...</th>\n",
       "      <th>50MA</th>\n",
       "      <th>200MA</th>\n",
       "      <th>200STD</th>\n",
       "      <th>Daily Return</th>\n",
       "      <th>Monthly Return</th>\n",
       "      <th>Yearly Return</th>\n",
       "      <th>Profit Exit</th>\n",
       "      <th>Stop Loss</th>\n",
       "      <th>Bollinger Band Up</th>\n",
       "      <th>Bollinger Band Down</th>\n",
       "    </tr>\n",
       "  </thead>\n",
       "  <tbody>\n",
       "    <tr>\n",
       "      <th>0</th>\n",
       "      <td>2011-06-01</td>\n",
       "      <td>M&amp;M</td>\n",
       "      <td>EQ</td>\n",
       "      <td>672.10</td>\n",
       "      <td>673.0</td>\n",
       "      <td>683.45</td>\n",
       "      <td>672.10</td>\n",
       "      <td>673.95</td>\n",
       "      <td>675.85</td>\n",
       "      <td>678.20</td>\n",
       "      <td>...</td>\n",
       "      <td>NaN</td>\n",
       "      <td>NaN</td>\n",
       "      <td>NaN</td>\n",
       "      <td>NaN</td>\n",
       "      <td>NaN</td>\n",
       "      <td>NaN</td>\n",
       "      <td>709.64</td>\n",
       "      <td>642.06</td>\n",
       "      <td>NaN</td>\n",
       "      <td>NaN</td>\n",
       "    </tr>\n",
       "    <tr>\n",
       "      <th>1</th>\n",
       "      <td>2011-06-02</td>\n",
       "      <td>M&amp;M</td>\n",
       "      <td>EQ</td>\n",
       "      <td>675.85</td>\n",
       "      <td>669.0</td>\n",
       "      <td>669.65</td>\n",
       "      <td>657.00</td>\n",
       "      <td>662.00</td>\n",
       "      <td>661.50</td>\n",
       "      <td>662.46</td>\n",
       "      <td>...</td>\n",
       "      <td>NaN</td>\n",
       "      <td>NaN</td>\n",
       "      <td>NaN</td>\n",
       "      <td>-2.12</td>\n",
       "      <td>NaN</td>\n",
       "      <td>NaN</td>\n",
       "      <td>694.58</td>\n",
       "      <td>628.42</td>\n",
       "      <td>NaN</td>\n",
       "      <td>NaN</td>\n",
       "    </tr>\n",
       "    <tr>\n",
       "      <th>2</th>\n",
       "      <td>2011-06-03</td>\n",
       "      <td>M&amp;M</td>\n",
       "      <td>EQ</td>\n",
       "      <td>661.50</td>\n",
       "      <td>663.0</td>\n",
       "      <td>673.45</td>\n",
       "      <td>663.00</td>\n",
       "      <td>670.50</td>\n",
       "      <td>669.05</td>\n",
       "      <td>668.81</td>\n",
       "      <td>...</td>\n",
       "      <td>NaN</td>\n",
       "      <td>NaN</td>\n",
       "      <td>NaN</td>\n",
       "      <td>1.14</td>\n",
       "      <td>NaN</td>\n",
       "      <td>NaN</td>\n",
       "      <td>702.50</td>\n",
       "      <td>635.60</td>\n",
       "      <td>NaN</td>\n",
       "      <td>NaN</td>\n",
       "    </tr>\n",
       "    <tr>\n",
       "      <th>3</th>\n",
       "      <td>2011-06-06</td>\n",
       "      <td>M&amp;M</td>\n",
       "      <td>EQ</td>\n",
       "      <td>669.05</td>\n",
       "      <td>663.0</td>\n",
       "      <td>665.00</td>\n",
       "      <td>653.25</td>\n",
       "      <td>657.35</td>\n",
       "      <td>657.60</td>\n",
       "      <td>657.91</td>\n",
       "      <td>...</td>\n",
       "      <td>NaN</td>\n",
       "      <td>NaN</td>\n",
       "      <td>NaN</td>\n",
       "      <td>-1.71</td>\n",
       "      <td>NaN</td>\n",
       "      <td>NaN</td>\n",
       "      <td>690.48</td>\n",
       "      <td>624.72</td>\n",
       "      <td>NaN</td>\n",
       "      <td>NaN</td>\n",
       "    </tr>\n",
       "    <tr>\n",
       "      <th>4</th>\n",
       "      <td>2011-06-07</td>\n",
       "      <td>M&amp;M</td>\n",
       "      <td>EQ</td>\n",
       "      <td>657.60</td>\n",
       "      <td>655.0</td>\n",
       "      <td>666.70</td>\n",
       "      <td>654.10</td>\n",
       "      <td>664.40</td>\n",
       "      <td>664.25</td>\n",
       "      <td>662.42</td>\n",
       "      <td>...</td>\n",
       "      <td>NaN</td>\n",
       "      <td>NaN</td>\n",
       "      <td>NaN</td>\n",
       "      <td>1.01</td>\n",
       "      <td>NaN</td>\n",
       "      <td>NaN</td>\n",
       "      <td>697.46</td>\n",
       "      <td>631.04</td>\n",
       "      <td>NaN</td>\n",
       "      <td>NaN</td>\n",
       "    </tr>\n",
       "    <tr>\n",
       "      <th>...</th>\n",
       "      <td>...</td>\n",
       "      <td>...</td>\n",
       "      <td>...</td>\n",
       "      <td>...</td>\n",
       "      <td>...</td>\n",
       "      <td>...</td>\n",
       "      <td>...</td>\n",
       "      <td>...</td>\n",
       "      <td>...</td>\n",
       "      <td>...</td>\n",
       "      <td>...</td>\n",
       "      <td>...</td>\n",
       "      <td>...</td>\n",
       "      <td>...</td>\n",
       "      <td>...</td>\n",
       "      <td>...</td>\n",
       "      <td>...</td>\n",
       "      <td>...</td>\n",
       "      <td>...</td>\n",
       "      <td>...</td>\n",
       "      <td>...</td>\n",
       "    </tr>\n",
       "    <tr>\n",
       "      <th>2451</th>\n",
       "      <td>2021-04-26</td>\n",
       "      <td>M&amp;M</td>\n",
       "      <td>EQ</td>\n",
       "      <td>777.90</td>\n",
       "      <td>780.0</td>\n",
       "      <td>793.30</td>\n",
       "      <td>775.65</td>\n",
       "      <td>779.80</td>\n",
       "      <td>780.50</td>\n",
       "      <td>782.35</td>\n",
       "      <td>...</td>\n",
       "      <td>835.75</td>\n",
       "      <td>707.89</td>\n",
       "      <td>103.42</td>\n",
       "      <td>0.33</td>\n",
       "      <td>-8.28</td>\n",
       "      <td>129.42</td>\n",
       "      <td>819.52</td>\n",
       "      <td>741.48</td>\n",
       "      <td>825.72</td>\n",
       "      <td>763.49</td>\n",
       "    </tr>\n",
       "    <tr>\n",
       "      <th>2452</th>\n",
       "      <td>2021-04-27</td>\n",
       "      <td>M&amp;M</td>\n",
       "      <td>EQ</td>\n",
       "      <td>780.50</td>\n",
       "      <td>781.0</td>\n",
       "      <td>787.95</td>\n",
       "      <td>777.00</td>\n",
       "      <td>778.95</td>\n",
       "      <td>778.40</td>\n",
       "      <td>780.97</td>\n",
       "      <td>...</td>\n",
       "      <td>833.42</td>\n",
       "      <td>709.03</td>\n",
       "      <td>102.94</td>\n",
       "      <td>-0.27</td>\n",
       "      <td>-8.64</td>\n",
       "      <td>124.00</td>\n",
       "      <td>817.32</td>\n",
       "      <td>739.48</td>\n",
       "      <td>823.83</td>\n",
       "      <td>762.08</td>\n",
       "    </tr>\n",
       "    <tr>\n",
       "      <th>2453</th>\n",
       "      <td>2021-04-28</td>\n",
       "      <td>M&amp;M</td>\n",
       "      <td>EQ</td>\n",
       "      <td>778.40</td>\n",
       "      <td>786.0</td>\n",
       "      <td>801.60</td>\n",
       "      <td>778.85</td>\n",
       "      <td>780.50</td>\n",
       "      <td>782.10</td>\n",
       "      <td>791.37</td>\n",
       "      <td>...</td>\n",
       "      <td>830.78</td>\n",
       "      <td>710.13</td>\n",
       "      <td>102.53</td>\n",
       "      <td>0.48</td>\n",
       "      <td>-9.46</td>\n",
       "      <td>133.95</td>\n",
       "      <td>821.20</td>\n",
       "      <td>743.00</td>\n",
       "      <td>823.71</td>\n",
       "      <td>761.24</td>\n",
       "    </tr>\n",
       "    <tr>\n",
       "      <th>2454</th>\n",
       "      <td>2021-04-29</td>\n",
       "      <td>M&amp;M</td>\n",
       "      <td>EQ</td>\n",
       "      <td>782.10</td>\n",
       "      <td>788.0</td>\n",
       "      <td>792.05</td>\n",
       "      <td>768.60</td>\n",
       "      <td>774.20</td>\n",
       "      <td>774.60</td>\n",
       "      <td>777.24</td>\n",
       "      <td>...</td>\n",
       "      <td>827.98</td>\n",
       "      <td>711.23</td>\n",
       "      <td>102.03</td>\n",
       "      <td>-0.96</td>\n",
       "      <td>-9.49</td>\n",
       "      <td>134.51</td>\n",
       "      <td>813.33</td>\n",
       "      <td>735.87</td>\n",
       "      <td>823.24</td>\n",
       "      <td>759.24</td>\n",
       "    </tr>\n",
       "    <tr>\n",
       "      <th>2455</th>\n",
       "      <td>2021-04-30</td>\n",
       "      <td>M&amp;M</td>\n",
       "      <td>EQ</td>\n",
       "      <td>774.60</td>\n",
       "      <td>768.4</td>\n",
       "      <td>778.40</td>\n",
       "      <td>750.45</td>\n",
       "      <td>753.05</td>\n",
       "      <td>752.55</td>\n",
       "      <td>762.26</td>\n",
       "      <td>...</td>\n",
       "      <td>824.86</td>\n",
       "      <td>712.22</td>\n",
       "      <td>101.48</td>\n",
       "      <td>-2.85</td>\n",
       "      <td>-10.88</td>\n",
       "      <td>124.01</td>\n",
       "      <td>790.18</td>\n",
       "      <td>714.92</td>\n",
       "      <td>825.21</td>\n",
       "      <td>753.03</td>\n",
       "    </tr>\n",
       "  </tbody>\n",
       "</table>\n",
       "<p>2456 rows × 26 columns</p>\n",
       "</div>"
      ],
      "text/plain": [
       "            Date Symbol Series  Prev Close   Open    High     Low    Last  \\\n",
       "0     2011-06-01    M&M     EQ      672.10  673.0  683.45  672.10  673.95   \n",
       "1     2011-06-02    M&M     EQ      675.85  669.0  669.65  657.00  662.00   \n",
       "2     2011-06-03    M&M     EQ      661.50  663.0  673.45  663.00  670.50   \n",
       "3     2011-06-06    M&M     EQ      669.05  663.0  665.00  653.25  657.35   \n",
       "4     2011-06-07    M&M     EQ      657.60  655.0  666.70  654.10  664.40   \n",
       "...          ...    ...    ...         ...    ...     ...     ...     ...   \n",
       "2451  2021-04-26    M&M     EQ      777.90  780.0  793.30  775.65  779.80   \n",
       "2452  2021-04-27    M&M     EQ      780.50  781.0  787.95  777.00  778.95   \n",
       "2453  2021-04-28    M&M     EQ      778.40  786.0  801.60  778.85  780.50   \n",
       "2454  2021-04-29    M&M     EQ      782.10  788.0  792.05  768.60  774.20   \n",
       "2455  2021-04-30    M&M     EQ      774.60  768.4  778.40  750.45  753.05   \n",
       "\n",
       "       Close    VWAP  ...    50MA   200MA  200STD  Daily Return  \\\n",
       "0     675.85  678.20  ...     NaN     NaN     NaN           NaN   \n",
       "1     661.50  662.46  ...     NaN     NaN     NaN         -2.12   \n",
       "2     669.05  668.81  ...     NaN     NaN     NaN          1.14   \n",
       "3     657.60  657.91  ...     NaN     NaN     NaN         -1.71   \n",
       "4     664.25  662.42  ...     NaN     NaN     NaN          1.01   \n",
       "...      ...     ...  ...     ...     ...     ...           ...   \n",
       "2451  780.50  782.35  ...  835.75  707.89  103.42          0.33   \n",
       "2452  778.40  780.97  ...  833.42  709.03  102.94         -0.27   \n",
       "2453  782.10  791.37  ...  830.78  710.13  102.53          0.48   \n",
       "2454  774.60  777.24  ...  827.98  711.23  102.03         -0.96   \n",
       "2455  752.55  762.26  ...  824.86  712.22  101.48         -2.85   \n",
       "\n",
       "      Monthly Return  Yearly Return  Profit Exit  Stop Loss  \\\n",
       "0                NaN            NaN       709.64     642.06   \n",
       "1                NaN            NaN       694.58     628.42   \n",
       "2                NaN            NaN       702.50     635.60   \n",
       "3                NaN            NaN       690.48     624.72   \n",
       "4                NaN            NaN       697.46     631.04   \n",
       "...              ...            ...          ...        ...   \n",
       "2451           -8.28         129.42       819.52     741.48   \n",
       "2452           -8.64         124.00       817.32     739.48   \n",
       "2453           -9.46         133.95       821.20     743.00   \n",
       "2454           -9.49         134.51       813.33     735.87   \n",
       "2455          -10.88         124.01       790.18     714.92   \n",
       "\n",
       "      Bollinger Band Up  Bollinger Band Down  \n",
       "0                   NaN                  NaN  \n",
       "1                   NaN                  NaN  \n",
       "2                   NaN                  NaN  \n",
       "3                   NaN                  NaN  \n",
       "4                   NaN                  NaN  \n",
       "...                 ...                  ...  \n",
       "2451             825.72               763.49  \n",
       "2452             823.83               762.08  \n",
       "2453             823.71               761.24  \n",
       "2454             823.24               759.24  \n",
       "2455             825.21               753.03  \n",
       "\n",
       "[2456 rows x 26 columns]"
      ]
     },
     "execution_count": 3,
     "metadata": {},
     "output_type": "execute_result"
    }
   ],
   "source": [
    "import pandas as pd\n",
    "pd.read_csv('data/cleaned/OHLC/Nifty500/M&M.csv')"
   ]
  },
  {
   "cell_type": "code",
   "execution_count": 1,
   "id": "1c16546d",
   "metadata": {},
   "outputs": [],
   "source": [
    "from processor import IndexProcessor\n",
    "\n",
    "pp = IndexProcessor(\"data/cleaned/OHLC/Nifty500\", \"data/cleaned/Metadata/nifty500.json\")\n",
    "pp.process_close(30)"
   ]
  },
  {
   "cell_type": "code",
   "execution_count": 2,
   "id": "8fc2738e",
   "metadata": {},
   "outputs": [],
   "source": [
    "from optimizer import EffOptimizer, HRPOptimizer, CLAOptimizer\n",
    "\n",
    "opt1 = EffOptimizer(pp)\n",
    "# opt2 = HRPOptimizer(pp)\n",
    "# opt3 = CLAOptimizer(pp)"
   ]
  },
  {
   "cell_type": "code",
   "execution_count": 3,
   "id": "f8ebcbb5",
   "metadata": {},
   "outputs": [
    {
     "name": "stderr",
     "output_type": "stream",
     "text": [
      "/opt/conda/lib/python3.8/site-packages/pypfopt/risk_models.py:68: UserWarning: The covariance matrix is non positive semidefinite. Amending eigenvalues.\n",
      "  warnings.warn(\n",
      "/opt/conda/lib/python3.8/site-packages/pypfopt/risk_models.py:87: UserWarning: Could not fix matrix. Please try a different risk model.\n",
      "  warnings.warn(\n"
     ]
    }
   ],
   "source": [
    "opt1.optimize_max_sharpe()"
   ]
  },
  {
   "cell_type": "code",
   "execution_count": 4,
   "id": "afcc2325",
   "metadata": {},
   "outputs": [
    {
     "data": {
      "text/plain": [
       "{'Expected Annual Return': 35.0,\n",
       " 'Annual Volatility': 24.0,\n",
       " 'Sharpe Ratio': 1.36}"
      ]
     },
     "execution_count": 4,
     "metadata": {},
     "output_type": "execute_result"
    }
   ],
   "source": [
    "opt1.portfolio.statistics"
   ]
  },
  {
   "cell_type": "code",
   "execution_count": 5,
   "id": "67e6d688",
   "metadata": {},
   "outputs": [],
   "source": [
    "opt1.optimize_min_volatility()"
   ]
  },
  {
   "cell_type": "code",
   "execution_count": 6,
   "id": "02c43793",
   "metadata": {},
   "outputs": [
    {
     "data": {
      "text/plain": [
       "{'Expected Annual Return': None,\n",
       " 'Annual Volatility': 11.0,\n",
       " 'Sharpe Ratio': None}"
      ]
     },
     "execution_count": 6,
     "metadata": {},
     "output_type": "execute_result"
    }
   ],
   "source": [
    "opt1.portfolio.statistics"
   ]
  },
  {
   "cell_type": "code",
   "execution_count": 7,
   "id": "e42c51b9",
   "metadata": {},
   "outputs": [],
   "source": [
    "opt2 = HRPOptimizer(pp)\n",
    "opt2.optimize()"
   ]
  },
  {
   "cell_type": "code",
   "execution_count": 10,
   "id": "f702767d",
   "metadata": {},
   "outputs": [
    {
     "data": {
      "text/plain": [
       "{'Expected Annual Return': 54.0,\n",
       " 'Annual Volatility': 12.0,\n",
       " 'Sharpe Ratio': 4.19}"
      ]
     },
     "execution_count": 10,
     "metadata": {},
     "output_type": "execute_result"
    }
   ],
   "source": [
    "opt2.portfolio.statistics"
   ]
  },
  {
   "cell_type": "code",
   "execution_count": 37,
   "id": "5d31ae93",
   "metadata": {},
   "outputs": [
    {
     "data": {
      "text/html": [
       "<div>\n",
       "<style scoped>\n",
       "    .dataframe tbody tr th:only-of-type {\n",
       "        vertical-align: middle;\n",
       "    }\n",
       "\n",
       "    .dataframe tbody tr th {\n",
       "        vertical-align: top;\n",
       "    }\n",
       "\n",
       "    .dataframe thead th {\n",
       "        text-align: right;\n",
       "    }\n",
       "</style>\n",
       "<table border=\"1\" class=\"dataframe\">\n",
       "  <thead>\n",
       "    <tr style=\"text-align: right;\">\n",
       "      <th></th>\n",
       "      <th>PIDILITIND</th>\n",
       "      <th>BHARATRAS</th>\n",
       "      <th>SEQUENT</th>\n",
       "      <th>GRSE</th>\n",
       "      <th>BALRAMCHIN</th>\n",
       "      <th>KNRCON</th>\n",
       "      <th>UBL</th>\n",
       "      <th>APLLTD</th>\n",
       "      <th>BANDHANBNK</th>\n",
       "      <th>ITI</th>\n",
       "      <th>...</th>\n",
       "      <th>NESCO</th>\n",
       "      <th>GREAVESCOT</th>\n",
       "      <th>BAYERCROP</th>\n",
       "      <th>SYNGENE</th>\n",
       "      <th>ORIENTELEC</th>\n",
       "      <th>AEGISCHEM</th>\n",
       "      <th>UPL</th>\n",
       "      <th>SANOFI</th>\n",
       "      <th>CANFINHOME</th>\n",
       "      <th>JUBLFOOD</th>\n",
       "    </tr>\n",
       "    <tr>\n",
       "      <th>Date</th>\n",
       "      <th></th>\n",
       "      <th></th>\n",
       "      <th></th>\n",
       "      <th></th>\n",
       "      <th></th>\n",
       "      <th></th>\n",
       "      <th></th>\n",
       "      <th></th>\n",
       "      <th></th>\n",
       "      <th></th>\n",
       "      <th></th>\n",
       "      <th></th>\n",
       "      <th></th>\n",
       "      <th></th>\n",
       "      <th></th>\n",
       "      <th></th>\n",
       "      <th></th>\n",
       "      <th></th>\n",
       "      <th></th>\n",
       "      <th></th>\n",
       "      <th></th>\n",
       "    </tr>\n",
       "  </thead>\n",
       "  <tbody>\n",
       "    <tr>\n",
       "      <th>2021-04-30</th>\n",
       "      <td>True</td>\n",
       "      <td>True</td>\n",
       "      <td>True</td>\n",
       "      <td>False</td>\n",
       "      <td>True</td>\n",
       "      <td>False</td>\n",
       "      <td>True</td>\n",
       "      <td>True</td>\n",
       "      <td>False</td>\n",
       "      <td>False</td>\n",
       "      <td>...</td>\n",
       "      <td>False</td>\n",
       "      <td>True</td>\n",
       "      <td>True</td>\n",
       "      <td>True</td>\n",
       "      <td>False</td>\n",
       "      <td>True</td>\n",
       "      <td>False</td>\n",
       "      <td>False</td>\n",
       "      <td>True</td>\n",
       "      <td>False</td>\n",
       "    </tr>\n",
       "  </tbody>\n",
       "</table>\n",
       "<p>1 rows × 491 columns</p>\n",
       "</div>"
      ],
      "text/plain": [
       "            PIDILITIND  BHARATRAS  SEQUENT   GRSE  BALRAMCHIN  KNRCON   UBL  \\\n",
       "Date                                                                          \n",
       "2021-04-30        True       True     True  False        True   False  True   \n",
       "\n",
       "            APLLTD  BANDHANBNK    ITI  ...  NESCO  GREAVESCOT  BAYERCROP  \\\n",
       "Date                                   ...                                 \n",
       "2021-04-30    True       False  False  ...  False        True       True   \n",
       "\n",
       "            SYNGENE  ORIENTELEC  AEGISCHEM    UPL  SANOFI  CANFINHOME  \\\n",
       "Date                                                                    \n",
       "2021-04-30     True       False       True  False   False        True   \n",
       "\n",
       "            JUBLFOOD  \n",
       "Date                  \n",
       "2021-04-30     False  \n",
       "\n",
       "[1 rows x 491 columns]"
      ]
     },
     "execution_count": 37,
     "metadata": {},
     "output_type": "execute_result"
    }
   ],
   "source": [
    "temp_df = (pp.close_matrix.pct_change(30).tail(1)*100 > 0)\n",
    "temp_df"
   ]
  },
  {
   "cell_type": "code",
   "execution_count": 3,
   "id": "3a3f644d",
   "metadata": {},
   "outputs": [
    {
     "ename": "KeyboardInterrupt",
     "evalue": "",
     "output_type": "error",
     "traceback": [
      "\u001b[0;31m---------------------------------------------------------------------------\u001b[0m",
      "\u001b[0;31mKeyboardInterrupt\u001b[0m                         Traceback (most recent call last)",
      "\u001b[0;32m<ipython-input-3-0dfe0e1443cd>\u001b[0m in \u001b[0;36m<module>\u001b[0;34m\u001b[0m\n\u001b[1;32m      1\u001b[0m \u001b[0mopt3\u001b[0m \u001b[0;34m=\u001b[0m \u001b[0mCLAOptimizer\u001b[0m\u001b[0;34m(\u001b[0m\u001b[0mpp\u001b[0m\u001b[0;34m)\u001b[0m\u001b[0;34m\u001b[0m\u001b[0;34m\u001b[0m\u001b[0m\n\u001b[0;32m----> 2\u001b[0;31m \u001b[0mopt3\u001b[0m\u001b[0;34m.\u001b[0m\u001b[0moptimize_max_sharpe\u001b[0m\u001b[0;34m(\u001b[0m\u001b[0;34m)\u001b[0m\u001b[0;34m\u001b[0m\u001b[0;34m\u001b[0m\u001b[0m\n\u001b[0m",
      "\u001b[0;32m~/work/optimizer.py\u001b[0m in \u001b[0;36moptimize_max_sharpe\u001b[0;34m(self)\u001b[0m\n\u001b[1;32m     63\u001b[0m \u001b[0;34m\u001b[0m\u001b[0m\n\u001b[1;32m     64\u001b[0m     \u001b[0;32mdef\u001b[0m \u001b[0moptimize_max_sharpe\u001b[0m\u001b[0;34m(\u001b[0m\u001b[0mself\u001b[0m\u001b[0;34m)\u001b[0m\u001b[0;34m:\u001b[0m\u001b[0;34m\u001b[0m\u001b[0;34m\u001b[0m\u001b[0m\n\u001b[0;32m---> 65\u001b[0;31m         \u001b[0mself\u001b[0m\u001b[0;34m.\u001b[0m\u001b[0mportfolio\u001b[0m\u001b[0;34m.\u001b[0m\u001b[0mcomposition\u001b[0m \u001b[0;34m=\u001b[0m \u001b[0mself\u001b[0m\u001b[0;34m.\u001b[0m\u001b[0moptimizer\u001b[0m\u001b[0;34m.\u001b[0m\u001b[0mmax_sharpe\u001b[0m\u001b[0;34m(\u001b[0m\u001b[0;34m)\u001b[0m\u001b[0;34m\u001b[0m\u001b[0;34m\u001b[0m\u001b[0m\n\u001b[0m\u001b[1;32m     66\u001b[0m         self.portfolio.construct(self.processor.meta_data_loc, \n\u001b[1;32m     67\u001b[0m                                  self.optimizer.portfolio_performance())\n",
      "\u001b[0;32m/opt/conda/lib/python3.8/site-packages/pypfopt/cla.py\u001b[0m in \u001b[0;36mmax_sharpe\u001b[0;34m(self)\u001b[0m\n\u001b[1;32m    378\u001b[0m         \"\"\"\n\u001b[1;32m    379\u001b[0m         \u001b[0;32mif\u001b[0m \u001b[0;32mnot\u001b[0m \u001b[0mself\u001b[0m\u001b[0;34m.\u001b[0m\u001b[0mw\u001b[0m\u001b[0;34m:\u001b[0m\u001b[0;34m\u001b[0m\u001b[0;34m\u001b[0m\u001b[0m\n\u001b[0;32m--> 380\u001b[0;31m             \u001b[0mself\u001b[0m\u001b[0;34m.\u001b[0m\u001b[0m_solve\u001b[0m\u001b[0;34m(\u001b[0m\u001b[0;34m)\u001b[0m\u001b[0;34m\u001b[0m\u001b[0;34m\u001b[0m\u001b[0m\n\u001b[0m\u001b[1;32m    381\u001b[0m         \u001b[0;31m# 1) Compute the local max SR portfolio between any two neighbor turning points\u001b[0m\u001b[0;34m\u001b[0m\u001b[0;34m\u001b[0m\u001b[0;34m\u001b[0m\u001b[0m\n\u001b[1;32m    382\u001b[0m         \u001b[0mw_sr\u001b[0m\u001b[0;34m,\u001b[0m \u001b[0msr\u001b[0m \u001b[0;34m=\u001b[0m \u001b[0;34m[\u001b[0m\u001b[0;34m]\u001b[0m\u001b[0;34m,\u001b[0m \u001b[0;34m[\u001b[0m\u001b[0;34m]\u001b[0m\u001b[0;34m\u001b[0m\u001b[0;34m\u001b[0m\u001b[0m\n",
      "\u001b[0;32m/opt/conda/lib/python3.8/site-packages/pypfopt/cla.py\u001b[0m in \u001b[0;36m_solve\u001b[0;34m(self)\u001b[0m\n\u001b[1;32m    326\u001b[0m                 \u001b[0mb\u001b[0m \u001b[0;34m=\u001b[0m \u001b[0mself\u001b[0m\u001b[0;34m.\u001b[0m\u001b[0m_get_b\u001b[0m\u001b[0;34m(\u001b[0m\u001b[0mf\u001b[0m\u001b[0;34m)\u001b[0m\u001b[0;34m\u001b[0m\u001b[0;34m\u001b[0m\u001b[0m\n\u001b[1;32m    327\u001b[0m                 \u001b[0;32mfor\u001b[0m \u001b[0mi\u001b[0m \u001b[0;32min\u001b[0m \u001b[0mb\u001b[0m\u001b[0;34m:\u001b[0m\u001b[0;34m\u001b[0m\u001b[0;34m\u001b[0m\u001b[0m\n\u001b[0;32m--> 328\u001b[0;31m                     \u001b[0mcovarF\u001b[0m\u001b[0;34m,\u001b[0m \u001b[0mcovarFB\u001b[0m\u001b[0;34m,\u001b[0m \u001b[0mmeanF\u001b[0m\u001b[0;34m,\u001b[0m \u001b[0mwB\u001b[0m \u001b[0;34m=\u001b[0m \u001b[0mself\u001b[0m\u001b[0;34m.\u001b[0m\u001b[0m_get_matrices\u001b[0m\u001b[0;34m(\u001b[0m\u001b[0mf\u001b[0m \u001b[0;34m+\u001b[0m \u001b[0;34m[\u001b[0m\u001b[0mi\u001b[0m\u001b[0;34m]\u001b[0m\u001b[0;34m)\u001b[0m\u001b[0;34m\u001b[0m\u001b[0;34m\u001b[0m\u001b[0m\n\u001b[0m\u001b[1;32m    329\u001b[0m                     \u001b[0mcovarF_inv\u001b[0m \u001b[0;34m=\u001b[0m \u001b[0mnp\u001b[0m\u001b[0;34m.\u001b[0m\u001b[0mlinalg\u001b[0m\u001b[0;34m.\u001b[0m\u001b[0minv\u001b[0m\u001b[0;34m(\u001b[0m\u001b[0mcovarF\u001b[0m\u001b[0;34m)\u001b[0m\u001b[0;34m\u001b[0m\u001b[0;34m\u001b[0m\u001b[0m\n\u001b[1;32m    330\u001b[0m                     l, bi = self._compute_lambda(\n",
      "\u001b[0;32m/opt/conda/lib/python3.8/site-packages/pypfopt/cla.py\u001b[0m in \u001b[0;36m_get_matrices\u001b[0;34m(self, f)\u001b[0m\n\u001b[1;32m    182\u001b[0m         \u001b[0mmeanF\u001b[0m \u001b[0;34m=\u001b[0m \u001b[0mself\u001b[0m\u001b[0;34m.\u001b[0m\u001b[0m_reduce_matrix\u001b[0m\u001b[0;34m(\u001b[0m\u001b[0mself\u001b[0m\u001b[0;34m.\u001b[0m\u001b[0mmean\u001b[0m\u001b[0;34m,\u001b[0m \u001b[0mf\u001b[0m\u001b[0;34m,\u001b[0m \u001b[0;34m[\u001b[0m\u001b[0;36m0\u001b[0m\u001b[0;34m]\u001b[0m\u001b[0;34m)\u001b[0m\u001b[0;34m\u001b[0m\u001b[0;34m\u001b[0m\u001b[0m\n\u001b[1;32m    183\u001b[0m         \u001b[0mb\u001b[0m \u001b[0;34m=\u001b[0m \u001b[0mself\u001b[0m\u001b[0;34m.\u001b[0m\u001b[0m_get_b\u001b[0m\u001b[0;34m(\u001b[0m\u001b[0mf\u001b[0m\u001b[0;34m)\u001b[0m\u001b[0;34m\u001b[0m\u001b[0;34m\u001b[0m\u001b[0m\n\u001b[0;32m--> 184\u001b[0;31m         \u001b[0mcovarFB\u001b[0m \u001b[0;34m=\u001b[0m \u001b[0mself\u001b[0m\u001b[0;34m.\u001b[0m\u001b[0m_reduce_matrix\u001b[0m\u001b[0;34m(\u001b[0m\u001b[0mself\u001b[0m\u001b[0;34m.\u001b[0m\u001b[0mcov_matrix\u001b[0m\u001b[0;34m,\u001b[0m \u001b[0mf\u001b[0m\u001b[0;34m,\u001b[0m \u001b[0mb\u001b[0m\u001b[0;34m)\u001b[0m\u001b[0;34m\u001b[0m\u001b[0;34m\u001b[0m\u001b[0m\n\u001b[0m\u001b[1;32m    185\u001b[0m         \u001b[0mwB\u001b[0m \u001b[0;34m=\u001b[0m \u001b[0mself\u001b[0m\u001b[0;34m.\u001b[0m\u001b[0m_reduce_matrix\u001b[0m\u001b[0;34m(\u001b[0m\u001b[0mself\u001b[0m\u001b[0;34m.\u001b[0m\u001b[0mw\u001b[0m\u001b[0;34m[\u001b[0m\u001b[0;34m-\u001b[0m\u001b[0;36m1\u001b[0m\u001b[0;34m]\u001b[0m\u001b[0;34m,\u001b[0m \u001b[0mb\u001b[0m\u001b[0;34m,\u001b[0m \u001b[0;34m[\u001b[0m\u001b[0;36m0\u001b[0m\u001b[0;34m]\u001b[0m\u001b[0;34m)\u001b[0m\u001b[0;34m\u001b[0m\u001b[0;34m\u001b[0m\u001b[0m\n\u001b[1;32m    186\u001b[0m         \u001b[0;32mreturn\u001b[0m \u001b[0mcovarF\u001b[0m\u001b[0;34m,\u001b[0m \u001b[0mcovarFB\u001b[0m\u001b[0;34m,\u001b[0m \u001b[0mmeanF\u001b[0m\u001b[0;34m,\u001b[0m \u001b[0mwB\u001b[0m\u001b[0;34m\u001b[0m\u001b[0;34m\u001b[0m\u001b[0m\n",
      "\u001b[0;32m/opt/conda/lib/python3.8/site-packages/pypfopt/cla.py\u001b[0m in \u001b[0;36m_reduce_matrix\u001b[0;34m(matrix, listX, listY)\u001b[0m\n\u001b[1;32m    205\u001b[0m         \u001b[0;32mfor\u001b[0m \u001b[0mi\u001b[0m \u001b[0;32min\u001b[0m \u001b[0mlistX\u001b[0m\u001b[0;34m[\u001b[0m\u001b[0;36m1\u001b[0m\u001b[0;34m:\u001b[0m\u001b[0;34m]\u001b[0m\u001b[0;34m:\u001b[0m\u001b[0;34m\u001b[0m\u001b[0;34m\u001b[0m\u001b[0m\n\u001b[1;32m    206\u001b[0m             \u001b[0ma\u001b[0m \u001b[0;34m=\u001b[0m \u001b[0mmatrix_\u001b[0m\u001b[0;34m[\u001b[0m\u001b[0mi\u001b[0m \u001b[0;34m:\u001b[0m \u001b[0mi\u001b[0m \u001b[0;34m+\u001b[0m \u001b[0;36m1\u001b[0m\u001b[0;34m,\u001b[0m \u001b[0;34m:\u001b[0m\u001b[0;34m]\u001b[0m\u001b[0;34m\u001b[0m\u001b[0;34m\u001b[0m\u001b[0m\n\u001b[0;32m--> 207\u001b[0;31m             \u001b[0mmatrix__\u001b[0m \u001b[0;34m=\u001b[0m \u001b[0mnp\u001b[0m\u001b[0;34m.\u001b[0m\u001b[0mappend\u001b[0m\u001b[0;34m(\u001b[0m\u001b[0mmatrix__\u001b[0m\u001b[0;34m,\u001b[0m \u001b[0ma\u001b[0m\u001b[0;34m,\u001b[0m \u001b[0;36m0\u001b[0m\u001b[0;34m)\u001b[0m\u001b[0;34m\u001b[0m\u001b[0;34m\u001b[0m\u001b[0m\n\u001b[0m\u001b[1;32m    208\u001b[0m         \u001b[0;32mreturn\u001b[0m \u001b[0mmatrix__\u001b[0m\u001b[0;34m\u001b[0m\u001b[0;34m\u001b[0m\u001b[0m\n\u001b[1;32m    209\u001b[0m \u001b[0;34m\u001b[0m\u001b[0m\n",
      "\u001b[0;32m<__array_function__ internals>\u001b[0m in \u001b[0;36mappend\u001b[0;34m(*args, **kwargs)\u001b[0m\n",
      "\u001b[0;32m/opt/conda/lib/python3.8/site-packages/numpy/lib/function_base.py\u001b[0m in \u001b[0;36mappend\u001b[0;34m(arr, values, axis)\u001b[0m\n\u001b[1;32m   4743\u001b[0m         \u001b[0mvalues\u001b[0m \u001b[0;34m=\u001b[0m \u001b[0mravel\u001b[0m\u001b[0;34m(\u001b[0m\u001b[0mvalues\u001b[0m\u001b[0;34m)\u001b[0m\u001b[0;34m\u001b[0m\u001b[0;34m\u001b[0m\u001b[0m\n\u001b[1;32m   4744\u001b[0m         \u001b[0maxis\u001b[0m \u001b[0;34m=\u001b[0m \u001b[0marr\u001b[0m\u001b[0;34m.\u001b[0m\u001b[0mndim\u001b[0m\u001b[0;34m-\u001b[0m\u001b[0;36m1\u001b[0m\u001b[0;34m\u001b[0m\u001b[0;34m\u001b[0m\u001b[0m\n\u001b[0;32m-> 4745\u001b[0;31m     \u001b[0;32mreturn\u001b[0m \u001b[0mconcatenate\u001b[0m\u001b[0;34m(\u001b[0m\u001b[0;34m(\u001b[0m\u001b[0marr\u001b[0m\u001b[0;34m,\u001b[0m \u001b[0mvalues\u001b[0m\u001b[0;34m)\u001b[0m\u001b[0;34m,\u001b[0m \u001b[0maxis\u001b[0m\u001b[0;34m=\u001b[0m\u001b[0maxis\u001b[0m\u001b[0;34m)\u001b[0m\u001b[0;34m\u001b[0m\u001b[0;34m\u001b[0m\u001b[0m\n\u001b[0m\u001b[1;32m   4746\u001b[0m \u001b[0;34m\u001b[0m\u001b[0m\n\u001b[1;32m   4747\u001b[0m \u001b[0;34m\u001b[0m\u001b[0m\n",
      "\u001b[0;32m<__array_function__ internals>\u001b[0m in \u001b[0;36mconcatenate\u001b[0;34m(*args, **kwargs)\u001b[0m\n",
      "\u001b[0;31mKeyboardInterrupt\u001b[0m: "
     ]
    }
   ],
   "source": [
    "opt3 = CLAOptimizer(pp)\n",
    "opt3.optimize_max_sharpe()"
   ]
  },
  {
   "cell_type": "code",
   "execution_count": null,
   "id": "27d82bd1",
   "metadata": {},
   "outputs": [],
   "source": [
    "opt3.portfolio.statistics"
   ]
  },
  {
   "cell_type": "code",
   "execution_count": null,
   "id": "bb802800",
   "metadata": {},
   "outputs": [],
   "source": [
    "opt3.optimize_min_volatility()\n",
    "opt3.portfolio.statistics"
   ]
  },
  {
   "cell_type": "code",
   "execution_count": null,
   "id": "71259d8b",
   "metadata": {},
   "outputs": [],
   "source": []
  },
  {
   "cell_type": "code",
   "execution_count": 14,
   "id": "125473f5",
   "metadata": {},
   "outputs": [],
   "source": [
    "import pandas as pd\n",
    "df = pd.read_csv('data/raw/nifty_500_metadata.csv')#.to_dict(orient='records')"
   ]
  },
  {
   "cell_type": "code",
   "execution_count": 25,
   "id": "fbaa85c0",
   "metadata": {},
   "outputs": [],
   "source": [
    "some = df[df['symbol']=='M&amp;M'].to_dict(orient='records')"
   ]
  },
  {
   "cell_type": "code",
   "execution_count": 26,
   "id": "24fbc3a3",
   "metadata": {},
   "outputs": [
    {
     "data": {
      "text/plain": [
       "[{'Unnamed: 0': 302,\n",
       "  'pricebandupper': 1005.6,\n",
       "  'symbol': 'M&amp;M',\n",
       "  'applicableMargin': 30.19,\n",
       "  'bcEndDate': '07-AUG-20',\n",
       "  'totalSellQuantity': 19312.0,\n",
       "  'adhocMargin': 9.83,\n",
       "  'companyName': 'Mahindra & Mahindra Limited',\n",
       "  'marketType': 'N',\n",
       "  'exDate': '16-JUL-20',\n",
       "  'bcStartDate': '18-JUL-20',\n",
       "  'css_status_desc': 'Listed',\n",
       "  'dayHigh': 918.55,\n",
       "  'basePrice': 914.2,\n",
       "  'securityVar': 16.86,\n",
       "  'pricebandlower': 822.8,\n",
       "  'sellQuantity5': nan,\n",
       "  'sellQuantity4': nan,\n",
       "  'sellQuantity3': nan,\n",
       "  'cm_adj_high_dt': '08-FEB-21',\n",
       "  'sellQuantity2': nan,\n",
       "  'dayLow': 905.0,\n",
       "  'sellQuantity1': 19312.0,\n",
       "  'quantityTraded': 2484145.0,\n",
       "  'pChange': -0.8,\n",
       "  'totalTradedValue': 22628.33,\n",
       "  'deliveryToTradedQuantity': 23.39,\n",
       "  'totalBuyQuantity': nan,\n",
       "  'averagePrice': 910.91,\n",
       "  'indexVar': nan,\n",
       "  'cm_ffm': 86971.7,\n",
       "  'purpose': 'ANNUAL GENERAL MEETING/DIVIDEND - RS 2.35 PER SHARE',\n",
       "  'buyPrice2': nan,\n",
       "  'secDate': '12-Feb-2021 00:00:00',\n",
       "  'buyPrice1': nan,\n",
       "  'high52': 952.05,\n",
       "  'previousClose': 914.2,\n",
       "  'ndEndDate': nan,\n",
       "  'low52': 245.4,\n",
       "  'buyPrice4': nan,\n",
       "  'buyPrice3': nan,\n",
       "  'recordDate': nan,\n",
       "  'deliveryQuantity': 581042.0,\n",
       "  'buyPrice5': nan,\n",
       "  'priceBand': 'No Band',\n",
       "  'extremeLossMargin': 3.5,\n",
       "  'cm_adj_low_dt': '25-MAR-20',\n",
       "  'varMargin': 16.86,\n",
       "  'sellPrice1': 908.55,\n",
       "  'sellPrice2': nan,\n",
       "  'totalTradedVolume': 2484145.0,\n",
       "  'sellPrice3': nan,\n",
       "  'sellPrice4': nan,\n",
       "  'sellPrice5': nan,\n",
       "  'change': -7.35,\n",
       "  'surv_indicator': nan,\n",
       "  'ndStartDate': nan,\n",
       "  'buyQuantity4': nan,\n",
       "  'isExDateFlag': False,\n",
       "  'buyQuantity3': nan,\n",
       "  'buyQuantity2': nan,\n",
       "  'buyQuantity1': nan,\n",
       "  'series': 'EQ',\n",
       "  'faceValue': 5.0,\n",
       "  'buyQuantity5': nan,\n",
       "  'closePrice': 908.55,\n",
       "  'open': 916.0,\n",
       "  'isinCode': 'INE101A01026',\n",
       "  'lastPrice': 906.85}]"
      ]
     },
     "execution_count": 26,
     "metadata": {},
     "output_type": "execute_result"
    }
   ],
   "source": [
    "some"
   ]
  },
  {
   "cell_type": "code",
   "execution_count": null,
   "id": "d91a775c",
   "metadata": {},
   "outputs": [],
   "source": []
  },
  {
   "cell_type": "code",
   "execution_count": 1,
   "id": "35e26e1f",
   "metadata": {
    "scrolled": true
   },
   "outputs": [],
   "source": [
    "from simulate import Backtesting, Agent\n",
    "from optimizer import EffOptimizer, HRPOptimizer, CLAOptimizer\n",
    "\n",
    "# bt = Backtesting(proc_ohlc_loc=\"data/cleaned/OHLC/Nifty500\", \n",
    "#               proc_metadata_loc=\"data/cleaned/Metadata/nifty500.json\",\n",
    "#              agents=[Agent(EffOptimizer(), 1000000, optimizer_type='min_vol', \n",
    "#                            metadata_loc=\"data/cleaned/Metadata/nifty500.json\")])\n",
    "\n",
    "# bt = Backtesting(proc_ohlc_loc=\"data/cleaned/OHLC/Nifty500\", \n",
    "#               proc_metadata_loc=\"data/cleaned/Metadata/nifty500.json\",\n",
    "#              agents=[Agent(HRPOptimizer(), 1000000, metadata_loc=\"data/cleaned/Metadata/nifty500.json\")])\n",
    "\n",
    "bt = Backtesting(proc_ohlc_loc=\"data/processed/OHLC/Nifty500\", \n",
    "              proc_metadata_loc=\"data/processed/Metadata/nifty500.json\",\n",
    "             agents=[Agent(CLAOptimizer(), 1000000, optimizer_type='min_vol',\n",
    "                           metadata_loc=\"data/processed/Metadata/nifty500.json\", single_day_cash=0.40)])"
   ]
  },
  {
   "cell_type": "code",
   "execution_count": 2,
   "id": "3e34167b",
   "metadata": {
    "scrolled": true
   },
   "outputs": [
    {
     "name": "stdout",
     "output_type": "stream",
     "text": [
      "2011-06-01\n",
      "[]\n",
      "\n",
      "2011-06-02\n",
      "[]\n",
      "\n",
      "2011-06-03\n",
      "[]\n",
      "\n",
      "2011-06-06\n",
      "[]\n",
      "\n",
      "2011-06-07\n",
      "[]\n",
      "\n",
      "2011-06-08\n",
      "[]\n",
      "\n",
      "2011-06-09\n",
      "[]\n",
      "\n",
      "2011-06-10\n",
      "[]\n",
      "\n",
      "2011-06-13\n",
      "[]\n",
      "\n",
      "2011-06-14\n",
      "[]\n",
      "\n",
      "2011-06-15\n",
      "[]\n",
      "\n",
      "2011-06-16\n",
      "[]\n",
      "\n",
      "2011-06-17\n",
      "[]\n",
      "\n",
      "2011-06-20\n",
      "[]\n",
      "\n",
      "2011-06-21\n",
      "[]\n",
      "\n",
      "2011-06-22\n",
      "[]\n",
      "\n",
      "2011-06-23\n",
      "[]\n",
      "\n",
      "2011-06-24\n",
      "[]\n",
      "\n",
      "2011-06-27\n",
      "[]\n",
      "\n",
      "2011-06-28\n",
      "[]\n",
      "\n",
      "2011-06-29\n",
      "[]\n",
      "\n",
      "2011-06-30\n",
      "[]\n",
      "\n",
      "2011-07-01\n",
      "[]\n",
      "\n",
      "2011-07-04\n",
      "[]\n",
      "\n",
      "2011-07-05\n",
      "[]\n",
      "\n",
      "2011-07-06\n",
      "[]\n",
      "\n",
      "2011-07-07\n",
      "[]\n",
      "\n",
      "2011-07-08\n",
      "[]\n",
      "\n",
      "2011-07-11\n",
      "[]\n",
      "\n",
      "2011-07-12\n",
      "[]\n",
      "\n",
      "Reallocation day\n",
      "30\n",
      "2011-07-13\n",
      "['Bought 2 shares of NAUKRI at 1457.0', 'Bought 3 shares of SHRIRAMCIT at 1635.0', 'Bought 2 shares of J&KBANK at 1685.2', 'Bought 3 shares of THERMAX at 1830.0', 'Bought 1 shares of PFIZER at 1458.75', 'Bought 1 shares of SCHAEFFLER at 1178.25', 'Bought 2 shares of SOLARINDS at 1282.8', 'Bought 2 shares of SUDARSCHEM at 1520.0', 'Bought 1 shares of BOSCHLTD at 7058.35', 'Bought 1 shares of GILLETTE at 2135.2', 'Bought 2 shares of TECHM at 1484.5', 'Bought 1 shares of ABBOTINDIA at 1488.1', 'Bought 1 shares of GLAXO at 2330.35', 'Bought 1 shares of GODREJPROP at 811.9', 'Bought 1 shares of WABCOINDIA at 1167.5', 'Bought 1 shares of BAJAJHLDNG at 760.7', 'Bought 1 shares of SANOFI at 2048.15', 'Bought 2 shares of SKFINDIA at 1329.5', 'Bought 2 shares of TORNTPHARM at 1309.4', 'Bought 1 shares of AKZOINDIA at 909.55', 'Bought 2 shares of CANBK at 1019.9', 'Bought 1 shares of ASTRAZEN at 1300.0', 'Bought 1 shares of OIL at 1282.05', 'Bought 1 shares of 3MINDIA at 4151.4', 'Bought 2 shares of BPCL at 1336.3', 'Bought 2 shares of BALMLAWRIE at 1283.6', 'Bought 1 shares of CADILAHC at 931.35', 'Bought 2 shares of SUNDARMFIN at 1118.4', 'Bought 1 shares of TRENT at 1209.1', 'Bought 1 shares of BANKBARODA at 871.95', 'Bought 1 shares of COLPAL at 1003.8', 'Bought 1 shares of JUBLFOOD at 836.6', 'Bought 1 shares of CRISIL at 7252.75', 'Bought 1 shares of ZYDUSWELL at 710.85', 'Bought 1 shares of ABB at 876.6', 'Bought 1 shares of KANSAINER at 887.4', 'Bought 1 shares of ECLERX at 837.15', 'Bought 1 shares of CUMMINSIND at 679.1', 'Bought 1 shares of OFSS at 2290.05', 'Bought 1 shares of HONAUT at 2845.9', 'Bought 1 shares of HEROMOTOCO at 1860.5', 'Bought 1 shares of NESTLEIND at 4314.65', 'Bought 1 shares of PAGEIND at 1902.65', 'Bought 1 shares of PNB at 1119.2', 'Bought 1 shares of BHEL at 1939.3', 'Bought 1 shares of MRF at 7461.9', 'Bought 1 shares of AXISBANK at 1266.4', 'Bought 1 shares of TATAPOWER at 1289.15', 'Bought 1 shares of PGHH at 1968.85', 'Bought 1 shares of SHREECEM at 1745.3', 'Bought 1 shares of SIEMENS at 910.85', 'Bought 1 shares of ULTRACEMCO at 977.8', 'Bought 1 shares of SRTRANSFIN at 658.45', 'Bought 1 shares of BEML at 590.15', 'Bought 1 shares of UBL at 501.65', 'Bought 1 shares of PIIND at 773.35', 'Bought 1 shares of TATAMTRDVR at 581.5', 'Bought 1 shares of PGHL at 657.1', 'Bought 1 shares of ADANIENT at 705.6', 'Bought 1 shares of TATASTEEL at 572.0']\n",
      "\n",
      "2011-07-14\n",
      "['Bought 2 shares of NAUKRI at 1457.0', 'Bought 3 shares of SHRIRAMCIT at 1635.0', 'Bought 2 shares of J&KBANK at 1685.2', 'Bought 3 shares of THERMAX at 1830.0', 'Bought 1 shares of PFIZER at 1458.75', 'Bought 1 shares of SCHAEFFLER at 1178.25', 'Bought 2 shares of SOLARINDS at 1282.8', 'Bought 2 shares of SUDARSCHEM at 1520.0', 'Bought 1 shares of BOSCHLTD at 7058.35', 'Bought 1 shares of GILLETTE at 2135.2', 'Bought 2 shares of TECHM at 1484.5', 'Bought 1 shares of ABBOTINDIA at 1488.1', 'Bought 1 shares of GLAXO at 2330.35', 'Bought 1 shares of GODREJPROP at 811.9', 'Bought 1 shares of WABCOINDIA at 1167.5', 'Bought 1 shares of BAJAJHLDNG at 760.7', 'Bought 1 shares of SANOFI at 2048.15', 'Bought 2 shares of SKFINDIA at 1329.5', 'Bought 2 shares of TORNTPHARM at 1309.4', 'Bought 1 shares of AKZOINDIA at 909.55', 'Bought 2 shares of CANBK at 1019.9', 'Bought 1 shares of ASTRAZEN at 1300.0', 'Bought 1 shares of OIL at 1282.05', 'Bought 1 shares of 3MINDIA at 4151.4', 'Bought 2 shares of BPCL at 1336.3', 'Bought 2 shares of BALMLAWRIE at 1283.6', 'Bought 1 shares of CADILAHC at 931.35', 'Bought 2 shares of SUNDARMFIN at 1118.4', 'Bought 1 shares of TRENT at 1209.1', 'Bought 1 shares of BANKBARODA at 871.95', 'Bought 1 shares of COLPAL at 1003.8', 'Bought 1 shares of JUBLFOOD at 836.6', 'Bought 1 shares of CRISIL at 7252.75', 'Bought 1 shares of ZYDUSWELL at 710.85', 'Bought 1 shares of ABB at 876.6', 'Bought 1 shares of KANSAINER at 887.4', 'Bought 1 shares of ECLERX at 837.15', 'Bought 1 shares of CUMMINSIND at 679.1', 'Bought 1 shares of OFSS at 2290.05', 'Bought 1 shares of HONAUT at 2845.9', 'Bought 1 shares of HEROMOTOCO at 1860.5', 'Bought 1 shares of NESTLEIND at 4314.65', 'Bought 1 shares of PAGEIND at 1902.65', 'Bought 1 shares of PNB at 1119.2', 'Bought 1 shares of BHEL at 1939.3', 'Bought 1 shares of MRF at 7461.9', 'Bought 1 shares of AXISBANK at 1266.4', 'Bought 1 shares of TATAPOWER at 1289.15', 'Bought 1 shares of PGHH at 1968.85', 'Bought 1 shares of SHREECEM at 1745.3', 'Bought 1 shares of SIEMENS at 910.85', 'Bought 1 shares of ULTRACEMCO at 977.8', 'Bought 1 shares of SRTRANSFIN at 658.45', 'Bought 1 shares of BEML at 590.15', 'Bought 1 shares of UBL at 501.65', 'Bought 1 shares of PIIND at 773.35', 'Bought 1 shares of TATAMTRDVR at 581.5', 'Bought 1 shares of PGHL at 657.1', 'Bought 1 shares of ADANIENT at 705.6', 'Bought 1 shares of TATASTEEL at 572.0', 'Sold 1 shares of SHREECEM at 1799.9']\n",
      "\n",
      "Exception list index out of range for ticker SUDARSCHEM for date 2011-07-14\n",
      "2011-07-15\n",
      "['Bought 2 shares of NAUKRI at 1457.0', 'Bought 3 shares of SHRIRAMCIT at 1635.0', 'Bought 2 shares of J&KBANK at 1685.2', 'Bought 3 shares of THERMAX at 1830.0', 'Bought 1 shares of PFIZER at 1458.75', 'Bought 1 shares of SCHAEFFLER at 1178.25', 'Bought 2 shares of SOLARINDS at 1282.8', 'Bought 2 shares of SUDARSCHEM at 1520.0', 'Bought 1 shares of BOSCHLTD at 7058.35', 'Bought 1 shares of GILLETTE at 2135.2', 'Bought 2 shares of TECHM at 1484.5', 'Bought 1 shares of ABBOTINDIA at 1488.1', 'Bought 1 shares of GLAXO at 2330.35', 'Bought 1 shares of GODREJPROP at 811.9', 'Bought 1 shares of WABCOINDIA at 1167.5', 'Bought 1 shares of BAJAJHLDNG at 760.7', 'Bought 1 shares of SANOFI at 2048.15', 'Bought 2 shares of SKFINDIA at 1329.5', 'Bought 2 shares of TORNTPHARM at 1309.4', 'Bought 1 shares of AKZOINDIA at 909.55', 'Bought 2 shares of CANBK at 1019.9', 'Bought 1 shares of ASTRAZEN at 1300.0', 'Bought 1 shares of OIL at 1282.05', 'Bought 1 shares of 3MINDIA at 4151.4', 'Bought 2 shares of BPCL at 1336.3', 'Bought 2 shares of BALMLAWRIE at 1283.6', 'Bought 1 shares of CADILAHC at 931.35', 'Bought 2 shares of SUNDARMFIN at 1118.4', 'Bought 1 shares of TRENT at 1209.1', 'Bought 1 shares of BANKBARODA at 871.95', 'Bought 1 shares of COLPAL at 1003.8', 'Bought 1 shares of JUBLFOOD at 836.6', 'Bought 1 shares of CRISIL at 7252.75', 'Bought 1 shares of ZYDUSWELL at 710.85', 'Bought 1 shares of ABB at 876.6', 'Bought 1 shares of KANSAINER at 887.4', 'Bought 1 shares of ECLERX at 837.15', 'Bought 1 shares of CUMMINSIND at 679.1', 'Bought 1 shares of OFSS at 2290.05', 'Bought 1 shares of HONAUT at 2845.9', 'Bought 1 shares of HEROMOTOCO at 1860.5', 'Bought 1 shares of NESTLEIND at 4314.65', 'Bought 1 shares of PAGEIND at 1902.65', 'Bought 1 shares of PNB at 1119.2', 'Bought 1 shares of BHEL at 1939.3', 'Bought 1 shares of MRF at 7461.9', 'Bought 1 shares of AXISBANK at 1266.4', 'Bought 1 shares of TATAPOWER at 1289.15', 'Bought 1 shares of PGHH at 1968.85', 'Bought 1 shares of SHREECEM at 1745.3', 'Bought 1 shares of SIEMENS at 910.85', 'Bought 1 shares of ULTRACEMCO at 977.8', 'Bought 1 shares of SRTRANSFIN at 658.45', 'Bought 1 shares of BEML at 590.15', 'Bought 1 shares of UBL at 501.65', 'Bought 1 shares of PIIND at 773.35', 'Bought 1 shares of TATAMTRDVR at 581.5', 'Bought 1 shares of PGHL at 657.1', 'Bought 1 shares of ADANIENT at 705.6', 'Bought 1 shares of TATASTEEL at 572.0', 'Sold 1 shares of SHREECEM at 1799.9', 'Sold 1 shares of SCHAEFFLER at 1242.6', 'Sold 1 shares of WABCOINDIA at 1212.35']\n",
      "\n",
      "2011-07-18\n",
      "['Bought 2 shares of NAUKRI at 1457.0', 'Bought 3 shares of SHRIRAMCIT at 1635.0', 'Bought 2 shares of J&KBANK at 1685.2', 'Bought 3 shares of THERMAX at 1830.0', 'Bought 1 shares of PFIZER at 1458.75', 'Bought 1 shares of SCHAEFFLER at 1178.25', 'Bought 2 shares of SOLARINDS at 1282.8', 'Bought 2 shares of SUDARSCHEM at 1520.0', 'Bought 1 shares of BOSCHLTD at 7058.35', 'Bought 1 shares of GILLETTE at 2135.2', 'Bought 2 shares of TECHM at 1484.5', 'Bought 1 shares of ABBOTINDIA at 1488.1', 'Bought 1 shares of GLAXO at 2330.35', 'Bought 1 shares of GODREJPROP at 811.9', 'Bought 1 shares of WABCOINDIA at 1167.5', 'Bought 1 shares of BAJAJHLDNG at 760.7', 'Bought 1 shares of SANOFI at 2048.15', 'Bought 2 shares of SKFINDIA at 1329.5', 'Bought 2 shares of TORNTPHARM at 1309.4', 'Bought 1 shares of AKZOINDIA at 909.55', 'Bought 2 shares of CANBK at 1019.9', 'Bought 1 shares of ASTRAZEN at 1300.0', 'Bought 1 shares of OIL at 1282.05', 'Bought 1 shares of 3MINDIA at 4151.4', 'Bought 2 shares of BPCL at 1336.3', 'Bought 2 shares of BALMLAWRIE at 1283.6', 'Bought 1 shares of CADILAHC at 931.35', 'Bought 2 shares of SUNDARMFIN at 1118.4', 'Bought 1 shares of TRENT at 1209.1', 'Bought 1 shares of BANKBARODA at 871.95', 'Bought 1 shares of COLPAL at 1003.8', 'Bought 1 shares of JUBLFOOD at 836.6', 'Bought 1 shares of CRISIL at 7252.75', 'Bought 1 shares of ZYDUSWELL at 710.85', 'Bought 1 shares of ABB at 876.6', 'Bought 1 shares of KANSAINER at 887.4', 'Bought 1 shares of ECLERX at 837.15', 'Bought 1 shares of CUMMINSIND at 679.1', 'Bought 1 shares of OFSS at 2290.05', 'Bought 1 shares of HONAUT at 2845.9', 'Bought 1 shares of HEROMOTOCO at 1860.5', 'Bought 1 shares of NESTLEIND at 4314.65', 'Bought 1 shares of PAGEIND at 1902.65', 'Bought 1 shares of PNB at 1119.2', 'Bought 1 shares of BHEL at 1939.3', 'Bought 1 shares of MRF at 7461.9', 'Bought 1 shares of AXISBANK at 1266.4', 'Bought 1 shares of TATAPOWER at 1289.15', 'Bought 1 shares of PGHH at 1968.85', 'Bought 1 shares of SHREECEM at 1745.3', 'Bought 1 shares of SIEMENS at 910.85', 'Bought 1 shares of ULTRACEMCO at 977.8', 'Bought 1 shares of SRTRANSFIN at 658.45', 'Bought 1 shares of BEML at 590.15', 'Bought 1 shares of UBL at 501.65', 'Bought 1 shares of PIIND at 773.35', 'Bought 1 shares of TATAMTRDVR at 581.5', 'Bought 1 shares of PGHL at 657.1', 'Bought 1 shares of ADANIENT at 705.6', 'Bought 1 shares of TATASTEEL at 572.0', 'Sold 1 shares of SHREECEM at 1799.9', 'Sold 1 shares of SCHAEFFLER at 1242.6', 'Sold 1 shares of WABCOINDIA at 1212.35', 'Sold 2 shares of SCHAEFFLER at 2527.4', 'Sold 1 shares of ASTRAZEN at 1319.9', 'Sold 1 shares of MRF at 7758.0']\n",
      "\n"
     ]
    },
    {
     "name": "stdout",
     "output_type": "stream",
     "text": [
      "2011-07-19\n",
      "['Bought 2 shares of NAUKRI at 1457.0', 'Bought 3 shares of SHRIRAMCIT at 1635.0', 'Bought 2 shares of J&KBANK at 1685.2', 'Bought 3 shares of THERMAX at 1830.0', 'Bought 1 shares of PFIZER at 1458.75', 'Bought 1 shares of SCHAEFFLER at 1178.25', 'Bought 2 shares of SOLARINDS at 1282.8', 'Bought 2 shares of SUDARSCHEM at 1520.0', 'Bought 1 shares of BOSCHLTD at 7058.35', 'Bought 1 shares of GILLETTE at 2135.2', 'Bought 2 shares of TECHM at 1484.5', 'Bought 1 shares of ABBOTINDIA at 1488.1', 'Bought 1 shares of GLAXO at 2330.35', 'Bought 1 shares of GODREJPROP at 811.9', 'Bought 1 shares of WABCOINDIA at 1167.5', 'Bought 1 shares of BAJAJHLDNG at 760.7', 'Bought 1 shares of SANOFI at 2048.15', 'Bought 2 shares of SKFINDIA at 1329.5', 'Bought 2 shares of TORNTPHARM at 1309.4', 'Bought 1 shares of AKZOINDIA at 909.55', 'Bought 2 shares of CANBK at 1019.9', 'Bought 1 shares of ASTRAZEN at 1300.0', 'Bought 1 shares of OIL at 1282.05', 'Bought 1 shares of 3MINDIA at 4151.4', 'Bought 2 shares of BPCL at 1336.3', 'Bought 2 shares of BALMLAWRIE at 1283.6', 'Bought 1 shares of CADILAHC at 931.35', 'Bought 2 shares of SUNDARMFIN at 1118.4', 'Bought 1 shares of TRENT at 1209.1', 'Bought 1 shares of BANKBARODA at 871.95', 'Bought 1 shares of COLPAL at 1003.8', 'Bought 1 shares of JUBLFOOD at 836.6', 'Bought 1 shares of CRISIL at 7252.75', 'Bought 1 shares of ZYDUSWELL at 710.85', 'Bought 1 shares of ABB at 876.6', 'Bought 1 shares of KANSAINER at 887.4', 'Bought 1 shares of ECLERX at 837.15', 'Bought 1 shares of CUMMINSIND at 679.1', 'Bought 1 shares of OFSS at 2290.05', 'Bought 1 shares of HONAUT at 2845.9', 'Bought 1 shares of HEROMOTOCO at 1860.5', 'Bought 1 shares of NESTLEIND at 4314.65', 'Bought 1 shares of PAGEIND at 1902.65', 'Bought 1 shares of PNB at 1119.2', 'Bought 1 shares of BHEL at 1939.3', 'Bought 1 shares of MRF at 7461.9', 'Bought 1 shares of AXISBANK at 1266.4', 'Bought 1 shares of TATAPOWER at 1289.15', 'Bought 1 shares of PGHH at 1968.85', 'Bought 1 shares of SHREECEM at 1745.3', 'Bought 1 shares of SIEMENS at 910.85', 'Bought 1 shares of ULTRACEMCO at 977.8', 'Bought 1 shares of SRTRANSFIN at 658.45', 'Bought 1 shares of BEML at 590.15', 'Bought 1 shares of UBL at 501.65', 'Bought 1 shares of PIIND at 773.35', 'Bought 1 shares of TATAMTRDVR at 581.5', 'Bought 1 shares of PGHL at 657.1', 'Bought 1 shares of ADANIENT at 705.6', 'Bought 1 shares of TATASTEEL at 572.0', 'Sold 1 shares of SHREECEM at 1799.9', 'Sold 1 shares of SCHAEFFLER at 1242.6', 'Sold 1 shares of WABCOINDIA at 1212.35', 'Sold 2 shares of SCHAEFFLER at 2527.4', 'Sold 1 shares of ASTRAZEN at 1319.9', 'Sold 1 shares of MRF at 7758.0', 'Sold 4 shares of SCHAEFFLER at 5076.8', 'Sold 1 shares of GLAXO at 2301.25', 'Sold 2 shares of ASTRAZEN at 2666.5']\n",
      "\n",
      "2011-07-20\n",
      "['Bought 2 shares of NAUKRI at 1457.0', 'Bought 3 shares of SHRIRAMCIT at 1635.0', 'Bought 2 shares of J&KBANK at 1685.2', 'Bought 3 shares of THERMAX at 1830.0', 'Bought 1 shares of PFIZER at 1458.75', 'Bought 1 shares of SCHAEFFLER at 1178.25', 'Bought 2 shares of SOLARINDS at 1282.8', 'Bought 2 shares of SUDARSCHEM at 1520.0', 'Bought 1 shares of BOSCHLTD at 7058.35', 'Bought 1 shares of GILLETTE at 2135.2', 'Bought 2 shares of TECHM at 1484.5', 'Bought 1 shares of ABBOTINDIA at 1488.1', 'Bought 1 shares of GLAXO at 2330.35', 'Bought 1 shares of GODREJPROP at 811.9', 'Bought 1 shares of WABCOINDIA at 1167.5', 'Bought 1 shares of BAJAJHLDNG at 760.7', 'Bought 1 shares of SANOFI at 2048.15', 'Bought 2 shares of SKFINDIA at 1329.5', 'Bought 2 shares of TORNTPHARM at 1309.4', 'Bought 1 shares of AKZOINDIA at 909.55', 'Bought 2 shares of CANBK at 1019.9', 'Bought 1 shares of ASTRAZEN at 1300.0', 'Bought 1 shares of OIL at 1282.05', 'Bought 1 shares of 3MINDIA at 4151.4', 'Bought 2 shares of BPCL at 1336.3', 'Bought 2 shares of BALMLAWRIE at 1283.6', 'Bought 1 shares of CADILAHC at 931.35', 'Bought 2 shares of SUNDARMFIN at 1118.4', 'Bought 1 shares of TRENT at 1209.1', 'Bought 1 shares of BANKBARODA at 871.95', 'Bought 1 shares of COLPAL at 1003.8', 'Bought 1 shares of JUBLFOOD at 836.6', 'Bought 1 shares of CRISIL at 7252.75', 'Bought 1 shares of ZYDUSWELL at 710.85', 'Bought 1 shares of ABB at 876.6', 'Bought 1 shares of KANSAINER at 887.4', 'Bought 1 shares of ECLERX at 837.15', 'Bought 1 shares of CUMMINSIND at 679.1', 'Bought 1 shares of OFSS at 2290.05', 'Bought 1 shares of HONAUT at 2845.9', 'Bought 1 shares of HEROMOTOCO at 1860.5', 'Bought 1 shares of NESTLEIND at 4314.65', 'Bought 1 shares of PAGEIND at 1902.65', 'Bought 1 shares of PNB at 1119.2', 'Bought 1 shares of BHEL at 1939.3', 'Bought 1 shares of MRF at 7461.9', 'Bought 1 shares of AXISBANK at 1266.4', 'Bought 1 shares of TATAPOWER at 1289.15', 'Bought 1 shares of PGHH at 1968.85', 'Bought 1 shares of SHREECEM at 1745.3', 'Bought 1 shares of SIEMENS at 910.85', 'Bought 1 shares of ULTRACEMCO at 977.8', 'Bought 1 shares of SRTRANSFIN at 658.45', 'Bought 1 shares of BEML at 590.15', 'Bought 1 shares of UBL at 501.65', 'Bought 1 shares of PIIND at 773.35', 'Bought 1 shares of TATAMTRDVR at 581.5', 'Bought 1 shares of PGHL at 657.1', 'Bought 1 shares of ADANIENT at 705.6', 'Bought 1 shares of TATASTEEL at 572.0', 'Sold 1 shares of SHREECEM at 1799.9', 'Sold 1 shares of SCHAEFFLER at 1242.6', 'Sold 1 shares of WABCOINDIA at 1212.35', 'Sold 2 shares of SCHAEFFLER at 2527.4', 'Sold 1 shares of ASTRAZEN at 1319.9', 'Sold 1 shares of MRF at 7758.0', 'Sold 4 shares of SCHAEFFLER at 5076.8', 'Sold 1 shares of GLAXO at 2301.25', 'Sold 2 shares of ASTRAZEN at 2666.5', 'Sold 2 shares of SOLARINDS at 1319.3', 'Sold 1 shares of BOSCHLTD at 7188.95', 'Sold 4 shares of ASTRAZEN at 5344.4']\n",
      "\n",
      "2011-07-21\n",
      "['Bought 2 shares of NAUKRI at 1457.0', 'Bought 3 shares of SHRIRAMCIT at 1635.0', 'Bought 2 shares of J&KBANK at 1685.2', 'Bought 3 shares of THERMAX at 1830.0', 'Bought 1 shares of PFIZER at 1458.75', 'Bought 1 shares of SCHAEFFLER at 1178.25', 'Bought 2 shares of SOLARINDS at 1282.8', 'Bought 2 shares of SUDARSCHEM at 1520.0', 'Bought 1 shares of BOSCHLTD at 7058.35', 'Bought 1 shares of GILLETTE at 2135.2', 'Bought 2 shares of TECHM at 1484.5', 'Bought 1 shares of ABBOTINDIA at 1488.1', 'Bought 1 shares of GLAXO at 2330.35', 'Bought 1 shares of GODREJPROP at 811.9', 'Bought 1 shares of WABCOINDIA at 1167.5', 'Bought 1 shares of BAJAJHLDNG at 760.7', 'Bought 1 shares of SANOFI at 2048.15', 'Bought 2 shares of SKFINDIA at 1329.5', 'Bought 2 shares of TORNTPHARM at 1309.4', 'Bought 1 shares of AKZOINDIA at 909.55', 'Bought 2 shares of CANBK at 1019.9', 'Bought 1 shares of ASTRAZEN at 1300.0', 'Bought 1 shares of OIL at 1282.05', 'Bought 1 shares of 3MINDIA at 4151.4', 'Bought 2 shares of BPCL at 1336.3', 'Bought 2 shares of BALMLAWRIE at 1283.6', 'Bought 1 shares of CADILAHC at 931.35', 'Bought 2 shares of SUNDARMFIN at 1118.4', 'Bought 1 shares of TRENT at 1209.1', 'Bought 1 shares of BANKBARODA at 871.95', 'Bought 1 shares of COLPAL at 1003.8', 'Bought 1 shares of JUBLFOOD at 836.6', 'Bought 1 shares of CRISIL at 7252.75', 'Bought 1 shares of ZYDUSWELL at 710.85', 'Bought 1 shares of ABB at 876.6', 'Bought 1 shares of KANSAINER at 887.4', 'Bought 1 shares of ECLERX at 837.15', 'Bought 1 shares of CUMMINSIND at 679.1', 'Bought 1 shares of OFSS at 2290.05', 'Bought 1 shares of HONAUT at 2845.9', 'Bought 1 shares of HEROMOTOCO at 1860.5', 'Bought 1 shares of NESTLEIND at 4314.65', 'Bought 1 shares of PAGEIND at 1902.65', 'Bought 1 shares of PNB at 1119.2', 'Bought 1 shares of BHEL at 1939.3', 'Bought 1 shares of MRF at 7461.9', 'Bought 1 shares of AXISBANK at 1266.4', 'Bought 1 shares of TATAPOWER at 1289.15', 'Bought 1 shares of PGHH at 1968.85', 'Bought 1 shares of SHREECEM at 1745.3', 'Bought 1 shares of SIEMENS at 910.85', 'Bought 1 shares of ULTRACEMCO at 977.8', 'Bought 1 shares of SRTRANSFIN at 658.45', 'Bought 1 shares of BEML at 590.15', 'Bought 1 shares of UBL at 501.65', 'Bought 1 shares of PIIND at 773.35', 'Bought 1 shares of TATAMTRDVR at 581.5', 'Bought 1 shares of PGHL at 657.1', 'Bought 1 shares of ADANIENT at 705.6', 'Bought 1 shares of TATASTEEL at 572.0', 'Sold 1 shares of SHREECEM at 1799.9', 'Sold 1 shares of SCHAEFFLER at 1242.6', 'Sold 1 shares of WABCOINDIA at 1212.35', 'Sold 2 shares of SCHAEFFLER at 2527.4', 'Sold 1 shares of ASTRAZEN at 1319.9', 'Sold 1 shares of MRF at 7758.0', 'Sold 4 shares of SCHAEFFLER at 5076.8', 'Sold 1 shares of GLAXO at 2301.25', 'Sold 2 shares of ASTRAZEN at 2666.5', 'Sold 2 shares of SOLARINDS at 1319.3', 'Sold 1 shares of BOSCHLTD at 7188.95', 'Sold 4 shares of ASTRAZEN at 5344.4', 'Sold 2 shares of BOSCHLTD at 14439.3', 'Sold 2 shares of GLAXO at 4594.3', 'Sold 2 shares of SKFINDIA at 1264.2', 'Sold 1 shares of OFSS at 2150.4', 'Sold 1 shares of HEROMOTOCO at 1756.9', 'Sold 1 shares of PAGEIND at 2096.65', 'Sold 1 shares of PIIND at 882.35']\n",
      "\n"
     ]
    },
    {
     "name": "stdout",
     "output_type": "stream",
     "text": [
      "2011-07-22\n",
      "['Bought 2 shares of NAUKRI at 1457.0', 'Bought 3 shares of SHRIRAMCIT at 1635.0', 'Bought 2 shares of J&KBANK at 1685.2', 'Bought 3 shares of THERMAX at 1830.0', 'Bought 1 shares of PFIZER at 1458.75', 'Bought 1 shares of SCHAEFFLER at 1178.25', 'Bought 2 shares of SOLARINDS at 1282.8', 'Bought 2 shares of SUDARSCHEM at 1520.0', 'Bought 1 shares of BOSCHLTD at 7058.35', 'Bought 1 shares of GILLETTE at 2135.2', 'Bought 2 shares of TECHM at 1484.5', 'Bought 1 shares of ABBOTINDIA at 1488.1', 'Bought 1 shares of GLAXO at 2330.35', 'Bought 1 shares of GODREJPROP at 811.9', 'Bought 1 shares of WABCOINDIA at 1167.5', 'Bought 1 shares of BAJAJHLDNG at 760.7', 'Bought 1 shares of SANOFI at 2048.15', 'Bought 2 shares of SKFINDIA at 1329.5', 'Bought 2 shares of TORNTPHARM at 1309.4', 'Bought 1 shares of AKZOINDIA at 909.55', 'Bought 2 shares of CANBK at 1019.9', 'Bought 1 shares of ASTRAZEN at 1300.0', 'Bought 1 shares of OIL at 1282.05', 'Bought 1 shares of 3MINDIA at 4151.4', 'Bought 2 shares of BPCL at 1336.3', 'Bought 2 shares of BALMLAWRIE at 1283.6', 'Bought 1 shares of CADILAHC at 931.35', 'Bought 2 shares of SUNDARMFIN at 1118.4', 'Bought 1 shares of TRENT at 1209.1', 'Bought 1 shares of BANKBARODA at 871.95', 'Bought 1 shares of COLPAL at 1003.8', 'Bought 1 shares of JUBLFOOD at 836.6', 'Bought 1 shares of CRISIL at 7252.75', 'Bought 1 shares of ZYDUSWELL at 710.85', 'Bought 1 shares of ABB at 876.6', 'Bought 1 shares of KANSAINER at 887.4', 'Bought 1 shares of ECLERX at 837.15', 'Bought 1 shares of CUMMINSIND at 679.1', 'Bought 1 shares of OFSS at 2290.05', 'Bought 1 shares of HONAUT at 2845.9', 'Bought 1 shares of HEROMOTOCO at 1860.5', 'Bought 1 shares of NESTLEIND at 4314.65', 'Bought 1 shares of PAGEIND at 1902.65', 'Bought 1 shares of PNB at 1119.2', 'Bought 1 shares of BHEL at 1939.3', 'Bought 1 shares of MRF at 7461.9', 'Bought 1 shares of AXISBANK at 1266.4', 'Bought 1 shares of TATAPOWER at 1289.15', 'Bought 1 shares of PGHH at 1968.85', 'Bought 1 shares of SHREECEM at 1745.3', 'Bought 1 shares of SIEMENS at 910.85', 'Bought 1 shares of ULTRACEMCO at 977.8', 'Bought 1 shares of SRTRANSFIN at 658.45', 'Bought 1 shares of BEML at 590.15', 'Bought 1 shares of UBL at 501.65', 'Bought 1 shares of PIIND at 773.35', 'Bought 1 shares of TATAMTRDVR at 581.5', 'Bought 1 shares of PGHL at 657.1', 'Bought 1 shares of ADANIENT at 705.6', 'Bought 1 shares of TATASTEEL at 572.0', 'Sold 1 shares of SHREECEM at 1799.9', 'Sold 1 shares of SCHAEFFLER at 1242.6', 'Sold 1 shares of WABCOINDIA at 1212.35', 'Sold 2 shares of SCHAEFFLER at 2527.4', 'Sold 1 shares of ASTRAZEN at 1319.9', 'Sold 1 shares of MRF at 7758.0', 'Sold 4 shares of SCHAEFFLER at 5076.8', 'Sold 1 shares of GLAXO at 2301.25', 'Sold 2 shares of ASTRAZEN at 2666.5', 'Sold 2 shares of SOLARINDS at 1319.3', 'Sold 1 shares of BOSCHLTD at 7188.95', 'Sold 4 shares of ASTRAZEN at 5344.4', 'Sold 2 shares of BOSCHLTD at 14439.3', 'Sold 2 shares of GLAXO at 4594.3', 'Sold 2 shares of SKFINDIA at 1264.2', 'Sold 1 shares of OFSS at 2150.4', 'Sold 1 shares of HEROMOTOCO at 1756.9', 'Sold 1 shares of PAGEIND at 2096.65', 'Sold 1 shares of PIIND at 882.35', 'Sold 8 shares of ASTRAZEN at 10760.0', 'Sold 1 shares of CADILAHC at 877.0', 'Sold 1 shares of CRISIL at 7970.6', 'Sold 2 shares of PAGEIND at 4397.8', 'Sold 2 shares of PIIND at 1800.9']\n",
      "\n",
      "2011-07-25\n",
      "['Bought 2 shares of NAUKRI at 1457.0', 'Bought 3 shares of SHRIRAMCIT at 1635.0', 'Bought 2 shares of J&KBANK at 1685.2', 'Bought 3 shares of THERMAX at 1830.0', 'Bought 1 shares of PFIZER at 1458.75', 'Bought 1 shares of SCHAEFFLER at 1178.25', 'Bought 2 shares of SOLARINDS at 1282.8', 'Bought 2 shares of SUDARSCHEM at 1520.0', 'Bought 1 shares of BOSCHLTD at 7058.35', 'Bought 1 shares of GILLETTE at 2135.2', 'Bought 2 shares of TECHM at 1484.5', 'Bought 1 shares of ABBOTINDIA at 1488.1', 'Bought 1 shares of GLAXO at 2330.35', 'Bought 1 shares of GODREJPROP at 811.9', 'Bought 1 shares of WABCOINDIA at 1167.5', 'Bought 1 shares of BAJAJHLDNG at 760.7', 'Bought 1 shares of SANOFI at 2048.15', 'Bought 2 shares of SKFINDIA at 1329.5', 'Bought 2 shares of TORNTPHARM at 1309.4', 'Bought 1 shares of AKZOINDIA at 909.55', 'Bought 2 shares of CANBK at 1019.9', 'Bought 1 shares of ASTRAZEN at 1300.0', 'Bought 1 shares of OIL at 1282.05', 'Bought 1 shares of 3MINDIA at 4151.4', 'Bought 2 shares of BPCL at 1336.3', 'Bought 2 shares of BALMLAWRIE at 1283.6', 'Bought 1 shares of CADILAHC at 931.35', 'Bought 2 shares of SUNDARMFIN at 1118.4', 'Bought 1 shares of TRENT at 1209.1', 'Bought 1 shares of BANKBARODA at 871.95', 'Bought 1 shares of COLPAL at 1003.8', 'Bought 1 shares of JUBLFOOD at 836.6', 'Bought 1 shares of CRISIL at 7252.75', 'Bought 1 shares of ZYDUSWELL at 710.85', 'Bought 1 shares of ABB at 876.6', 'Bought 1 shares of KANSAINER at 887.4', 'Bought 1 shares of ECLERX at 837.15', 'Bought 1 shares of CUMMINSIND at 679.1', 'Bought 1 shares of OFSS at 2290.05', 'Bought 1 shares of HONAUT at 2845.9', 'Bought 1 shares of HEROMOTOCO at 1860.5', 'Bought 1 shares of NESTLEIND at 4314.65', 'Bought 1 shares of PAGEIND at 1902.65', 'Bought 1 shares of PNB at 1119.2', 'Bought 1 shares of BHEL at 1939.3', 'Bought 1 shares of MRF at 7461.9', 'Bought 1 shares of AXISBANK at 1266.4', 'Bought 1 shares of TATAPOWER at 1289.15', 'Bought 1 shares of PGHH at 1968.85', 'Bought 1 shares of SHREECEM at 1745.3', 'Bought 1 shares of SIEMENS at 910.85', 'Bought 1 shares of ULTRACEMCO at 977.8', 'Bought 1 shares of SRTRANSFIN at 658.45', 'Bought 1 shares of BEML at 590.15', 'Bought 1 shares of UBL at 501.65', 'Bought 1 shares of PIIND at 773.35', 'Bought 1 shares of TATAMTRDVR at 581.5', 'Bought 1 shares of PGHL at 657.1', 'Bought 1 shares of ADANIENT at 705.6', 'Bought 1 shares of TATASTEEL at 572.0', 'Sold 1 shares of SHREECEM at 1799.9', 'Sold 1 shares of SCHAEFFLER at 1242.6', 'Sold 1 shares of WABCOINDIA at 1212.35', 'Sold 2 shares of SCHAEFFLER at 2527.4', 'Sold 1 shares of ASTRAZEN at 1319.9', 'Sold 1 shares of MRF at 7758.0', 'Sold 4 shares of SCHAEFFLER at 5076.8', 'Sold 1 shares of GLAXO at 2301.25', 'Sold 2 shares of ASTRAZEN at 2666.5', 'Sold 2 shares of SOLARINDS at 1319.3', 'Sold 1 shares of BOSCHLTD at 7188.95', 'Sold 4 shares of ASTRAZEN at 5344.4', 'Sold 2 shares of BOSCHLTD at 14439.3', 'Sold 2 shares of GLAXO at 4594.3', 'Sold 2 shares of SKFINDIA at 1264.2', 'Sold 1 shares of OFSS at 2150.4', 'Sold 1 shares of HEROMOTOCO at 1756.9', 'Sold 1 shares of PAGEIND at 2096.65', 'Sold 1 shares of PIIND at 882.35', 'Sold 8 shares of ASTRAZEN at 10760.0', 'Sold 1 shares of CADILAHC at 877.0', 'Sold 1 shares of CRISIL at 7970.6', 'Sold 2 shares of PAGEIND at 4397.8', 'Sold 2 shares of PIIND at 1800.9', 'Sold 2 shares of NAUKRI at 1507.0', 'Sold 8 shares of SCHAEFFLER at 10689.6', 'Sold 1 shares of 3MINDIA at 4509.7', 'Sold 2 shares of CADILAHC at 1743.2', 'Sold 2 shares of CRISIL at 15926.1', 'Sold 4 shares of PAGEIND at 9164.4', 'Sold 4 shares of PIIND at 3661.2', 'Sold 1 shares of ADANIENT at 737.55']\n",
      "\n",
      "2011-07-26\n",
      "['Bought 2 shares of NAUKRI at 1457.0', 'Bought 3 shares of SHRIRAMCIT at 1635.0', 'Bought 2 shares of J&KBANK at 1685.2', 'Bought 3 shares of THERMAX at 1830.0', 'Bought 1 shares of PFIZER at 1458.75', 'Bought 1 shares of SCHAEFFLER at 1178.25', 'Bought 2 shares of SOLARINDS at 1282.8', 'Bought 2 shares of SUDARSCHEM at 1520.0', 'Bought 1 shares of BOSCHLTD at 7058.35', 'Bought 1 shares of GILLETTE at 2135.2', 'Bought 2 shares of TECHM at 1484.5', 'Bought 1 shares of ABBOTINDIA at 1488.1', 'Bought 1 shares of GLAXO at 2330.35', 'Bought 1 shares of GODREJPROP at 811.9', 'Bought 1 shares of WABCOINDIA at 1167.5', 'Bought 1 shares of BAJAJHLDNG at 760.7', 'Bought 1 shares of SANOFI at 2048.15', 'Bought 2 shares of SKFINDIA at 1329.5', 'Bought 2 shares of TORNTPHARM at 1309.4', 'Bought 1 shares of AKZOINDIA at 909.55', 'Bought 2 shares of CANBK at 1019.9', 'Bought 1 shares of ASTRAZEN at 1300.0', 'Bought 1 shares of OIL at 1282.05', 'Bought 1 shares of 3MINDIA at 4151.4', 'Bought 2 shares of BPCL at 1336.3', 'Bought 2 shares of BALMLAWRIE at 1283.6', 'Bought 1 shares of CADILAHC at 931.35', 'Bought 2 shares of SUNDARMFIN at 1118.4', 'Bought 1 shares of TRENT at 1209.1', 'Bought 1 shares of BANKBARODA at 871.95', 'Bought 1 shares of COLPAL at 1003.8', 'Bought 1 shares of JUBLFOOD at 836.6', 'Bought 1 shares of CRISIL at 7252.75', 'Bought 1 shares of ZYDUSWELL at 710.85', 'Bought 1 shares of ABB at 876.6', 'Bought 1 shares of KANSAINER at 887.4', 'Bought 1 shares of ECLERX at 837.15', 'Bought 1 shares of CUMMINSIND at 679.1', 'Bought 1 shares of OFSS at 2290.05', 'Bought 1 shares of HONAUT at 2845.9', 'Bought 1 shares of HEROMOTOCO at 1860.5', 'Bought 1 shares of NESTLEIND at 4314.65', 'Bought 1 shares of PAGEIND at 1902.65', 'Bought 1 shares of PNB at 1119.2', 'Bought 1 shares of BHEL at 1939.3', 'Bought 1 shares of MRF at 7461.9', 'Bought 1 shares of AXISBANK at 1266.4', 'Bought 1 shares of TATAPOWER at 1289.15', 'Bought 1 shares of PGHH at 1968.85', 'Bought 1 shares of SHREECEM at 1745.3', 'Bought 1 shares of SIEMENS at 910.85', 'Bought 1 shares of ULTRACEMCO at 977.8', 'Bought 1 shares of SRTRANSFIN at 658.45', 'Bought 1 shares of BEML at 590.15', 'Bought 1 shares of UBL at 501.65', 'Bought 1 shares of PIIND at 773.35', 'Bought 1 shares of TATAMTRDVR at 581.5', 'Bought 1 shares of PGHL at 657.1', 'Bought 1 shares of ADANIENT at 705.6', 'Bought 1 shares of TATASTEEL at 572.0', 'Sold 1 shares of SHREECEM at 1799.9', 'Sold 1 shares of SCHAEFFLER at 1242.6', 'Sold 1 shares of WABCOINDIA at 1212.35', 'Sold 2 shares of SCHAEFFLER at 2527.4', 'Sold 1 shares of ASTRAZEN at 1319.9', 'Sold 1 shares of MRF at 7758.0', 'Sold 4 shares of SCHAEFFLER at 5076.8', 'Sold 1 shares of GLAXO at 2301.25', 'Sold 2 shares of ASTRAZEN at 2666.5', 'Sold 2 shares of SOLARINDS at 1319.3', 'Sold 1 shares of BOSCHLTD at 7188.95', 'Sold 4 shares of ASTRAZEN at 5344.4', 'Sold 2 shares of BOSCHLTD at 14439.3', 'Sold 2 shares of GLAXO at 4594.3', 'Sold 2 shares of SKFINDIA at 1264.2', 'Sold 1 shares of OFSS at 2150.4', 'Sold 1 shares of HEROMOTOCO at 1756.9', 'Sold 1 shares of PAGEIND at 2096.65', 'Sold 1 shares of PIIND at 882.35', 'Sold 8 shares of ASTRAZEN at 10760.0', 'Sold 1 shares of CADILAHC at 877.0', 'Sold 1 shares of CRISIL at 7970.6', 'Sold 2 shares of PAGEIND at 4397.8', 'Sold 2 shares of PIIND at 1800.9', 'Sold 2 shares of NAUKRI at 1507.0', 'Sold 8 shares of SCHAEFFLER at 10689.6', 'Sold 1 shares of 3MINDIA at 4509.7', 'Sold 2 shares of CADILAHC at 1743.2', 'Sold 2 shares of CRISIL at 15926.1', 'Sold 4 shares of PAGEIND at 9164.4', 'Sold 4 shares of PIIND at 3661.2', 'Sold 1 shares of ADANIENT at 737.55', 'Sold 16 shares of SCHAEFFLER at 21563.2', 'Sold 1 shares of GILLETTE at 2291.7', 'Sold 2 shares of TECHM at 1544.2', 'Sold 1 shares of AKZOINDIA at 978.8', 'Sold 2 shares of 3MINDIA at 9057.4', 'Sold 1 shares of BANKBARODA at 913.7', 'Sold 4 shares of CRISIL at 32705.0', 'Sold 8 shares of PAGEIND at 18645.6', 'Sold 1 shares of PNB at 1197.0', 'Sold 1 shares of SIEMENS at 944.35', 'Sold 8 shares of PIIND at 7450.8', 'Sold 2 shares of ADANIENT at 1500.8']\n",
      "\n"
     ]
    },
    {
     "name": "stdout",
     "output_type": "stream",
     "text": [
      "2011-07-27\n",
      "['Bought 2 shares of NAUKRI at 1457.0', 'Bought 3 shares of SHRIRAMCIT at 1635.0', 'Bought 2 shares of J&KBANK at 1685.2', 'Bought 3 shares of THERMAX at 1830.0', 'Bought 1 shares of PFIZER at 1458.75', 'Bought 1 shares of SCHAEFFLER at 1178.25', 'Bought 2 shares of SOLARINDS at 1282.8', 'Bought 2 shares of SUDARSCHEM at 1520.0', 'Bought 1 shares of BOSCHLTD at 7058.35', 'Bought 1 shares of GILLETTE at 2135.2', 'Bought 2 shares of TECHM at 1484.5', 'Bought 1 shares of ABBOTINDIA at 1488.1', 'Bought 1 shares of GLAXO at 2330.35', 'Bought 1 shares of GODREJPROP at 811.9', 'Bought 1 shares of WABCOINDIA at 1167.5', 'Bought 1 shares of BAJAJHLDNG at 760.7', 'Bought 1 shares of SANOFI at 2048.15', 'Bought 2 shares of SKFINDIA at 1329.5', 'Bought 2 shares of TORNTPHARM at 1309.4', 'Bought 1 shares of AKZOINDIA at 909.55', 'Bought 2 shares of CANBK at 1019.9', 'Bought 1 shares of ASTRAZEN at 1300.0', 'Bought 1 shares of OIL at 1282.05', 'Bought 1 shares of 3MINDIA at 4151.4', 'Bought 2 shares of BPCL at 1336.3', 'Bought 2 shares of BALMLAWRIE at 1283.6', 'Bought 1 shares of CADILAHC at 931.35', 'Bought 2 shares of SUNDARMFIN at 1118.4', 'Bought 1 shares of TRENT at 1209.1', 'Bought 1 shares of BANKBARODA at 871.95', 'Bought 1 shares of COLPAL at 1003.8', 'Bought 1 shares of JUBLFOOD at 836.6', 'Bought 1 shares of CRISIL at 7252.75', 'Bought 1 shares of ZYDUSWELL at 710.85', 'Bought 1 shares of ABB at 876.6', 'Bought 1 shares of KANSAINER at 887.4', 'Bought 1 shares of ECLERX at 837.15', 'Bought 1 shares of CUMMINSIND at 679.1', 'Bought 1 shares of OFSS at 2290.05', 'Bought 1 shares of HONAUT at 2845.9', 'Bought 1 shares of HEROMOTOCO at 1860.5', 'Bought 1 shares of NESTLEIND at 4314.65', 'Bought 1 shares of PAGEIND at 1902.65', 'Bought 1 shares of PNB at 1119.2', 'Bought 1 shares of BHEL at 1939.3', 'Bought 1 shares of MRF at 7461.9', 'Bought 1 shares of AXISBANK at 1266.4', 'Bought 1 shares of TATAPOWER at 1289.15', 'Bought 1 shares of PGHH at 1968.85', 'Bought 1 shares of SHREECEM at 1745.3', 'Bought 1 shares of SIEMENS at 910.85', 'Bought 1 shares of ULTRACEMCO at 977.8', 'Bought 1 shares of SRTRANSFIN at 658.45', 'Bought 1 shares of BEML at 590.15', 'Bought 1 shares of UBL at 501.65', 'Bought 1 shares of PIIND at 773.35', 'Bought 1 shares of TATAMTRDVR at 581.5', 'Bought 1 shares of PGHL at 657.1', 'Bought 1 shares of ADANIENT at 705.6', 'Bought 1 shares of TATASTEEL at 572.0', 'Sold 1 shares of SHREECEM at 1799.9', 'Sold 1 shares of SCHAEFFLER at 1242.6', 'Sold 1 shares of WABCOINDIA at 1212.35', 'Sold 2 shares of SCHAEFFLER at 2527.4', 'Sold 1 shares of ASTRAZEN at 1319.9', 'Sold 1 shares of MRF at 7758.0', 'Sold 4 shares of SCHAEFFLER at 5076.8', 'Sold 1 shares of GLAXO at 2301.25', 'Sold 2 shares of ASTRAZEN at 2666.5', 'Sold 2 shares of SOLARINDS at 1319.3', 'Sold 1 shares of BOSCHLTD at 7188.95', 'Sold 4 shares of ASTRAZEN at 5344.4', 'Sold 2 shares of BOSCHLTD at 14439.3', 'Sold 2 shares of GLAXO at 4594.3', 'Sold 2 shares of SKFINDIA at 1264.2', 'Sold 1 shares of OFSS at 2150.4', 'Sold 1 shares of HEROMOTOCO at 1756.9', 'Sold 1 shares of PAGEIND at 2096.65', 'Sold 1 shares of PIIND at 882.35', 'Sold 8 shares of ASTRAZEN at 10760.0', 'Sold 1 shares of CADILAHC at 877.0', 'Sold 1 shares of CRISIL at 7970.6', 'Sold 2 shares of PAGEIND at 4397.8', 'Sold 2 shares of PIIND at 1800.9', 'Sold 2 shares of NAUKRI at 1507.0', 'Sold 8 shares of SCHAEFFLER at 10689.6', 'Sold 1 shares of 3MINDIA at 4509.7', 'Sold 2 shares of CADILAHC at 1743.2', 'Sold 2 shares of CRISIL at 15926.1', 'Sold 4 shares of PAGEIND at 9164.4', 'Sold 4 shares of PIIND at 3661.2', 'Sold 1 shares of ADANIENT at 737.55', 'Sold 16 shares of SCHAEFFLER at 21563.2', 'Sold 1 shares of GILLETTE at 2291.7', 'Sold 2 shares of TECHM at 1544.2', 'Sold 1 shares of AKZOINDIA at 978.8', 'Sold 2 shares of 3MINDIA at 9057.4', 'Sold 1 shares of BANKBARODA at 913.7', 'Sold 4 shares of CRISIL at 32705.0', 'Sold 8 shares of PAGEIND at 18645.6', 'Sold 1 shares of PNB at 1197.0', 'Sold 1 shares of SIEMENS at 944.35', 'Sold 8 shares of PIIND at 7450.8', 'Sold 2 shares of ADANIENT at 1500.8', 'Sold 32 shares of SCHAEFFLER at 43606.4', 'Sold 4 shares of SOLARINDS at 2686.2', 'Sold 2 shares of GILLETTE at 4573.9', 'Sold 4 shares of TECHM at 3105.8', 'Sold 4 shares of 3MINDIA at 17926.4', 'Sold 8 shares of CRISIL at 65999.2', 'Sold 16 shares of PAGEIND at 36901.6', 'Sold 1 shares of PGHH at 1943.95', 'Sold 1 shares of BEML at 557.35', 'Sold 4 shares of ADANIENT at 3045.2']\n",
      "\n",
      "2011-07-28\n",
      "['Bought 2 shares of NAUKRI at 1457.0', 'Bought 3 shares of SHRIRAMCIT at 1635.0', 'Bought 2 shares of J&KBANK at 1685.2', 'Bought 3 shares of THERMAX at 1830.0', 'Bought 1 shares of PFIZER at 1458.75', 'Bought 1 shares of SCHAEFFLER at 1178.25', 'Bought 2 shares of SOLARINDS at 1282.8', 'Bought 2 shares of SUDARSCHEM at 1520.0', 'Bought 1 shares of BOSCHLTD at 7058.35', 'Bought 1 shares of GILLETTE at 2135.2', 'Bought 2 shares of TECHM at 1484.5', 'Bought 1 shares of ABBOTINDIA at 1488.1', 'Bought 1 shares of GLAXO at 2330.35', 'Bought 1 shares of GODREJPROP at 811.9', 'Bought 1 shares of WABCOINDIA at 1167.5', 'Bought 1 shares of BAJAJHLDNG at 760.7', 'Bought 1 shares of SANOFI at 2048.15', 'Bought 2 shares of SKFINDIA at 1329.5', 'Bought 2 shares of TORNTPHARM at 1309.4', 'Bought 1 shares of AKZOINDIA at 909.55', 'Bought 2 shares of CANBK at 1019.9', 'Bought 1 shares of ASTRAZEN at 1300.0', 'Bought 1 shares of OIL at 1282.05', 'Bought 1 shares of 3MINDIA at 4151.4', 'Bought 2 shares of BPCL at 1336.3', 'Bought 2 shares of BALMLAWRIE at 1283.6', 'Bought 1 shares of CADILAHC at 931.35', 'Bought 2 shares of SUNDARMFIN at 1118.4', 'Bought 1 shares of TRENT at 1209.1', 'Bought 1 shares of BANKBARODA at 871.95', 'Bought 1 shares of COLPAL at 1003.8', 'Bought 1 shares of JUBLFOOD at 836.6', 'Bought 1 shares of CRISIL at 7252.75', 'Bought 1 shares of ZYDUSWELL at 710.85', 'Bought 1 shares of ABB at 876.6', 'Bought 1 shares of KANSAINER at 887.4', 'Bought 1 shares of ECLERX at 837.15', 'Bought 1 shares of CUMMINSIND at 679.1', 'Bought 1 shares of OFSS at 2290.05', 'Bought 1 shares of HONAUT at 2845.9', 'Bought 1 shares of HEROMOTOCO at 1860.5', 'Bought 1 shares of NESTLEIND at 4314.65', 'Bought 1 shares of PAGEIND at 1902.65', 'Bought 1 shares of PNB at 1119.2', 'Bought 1 shares of BHEL at 1939.3', 'Bought 1 shares of MRF at 7461.9', 'Bought 1 shares of AXISBANK at 1266.4', 'Bought 1 shares of TATAPOWER at 1289.15', 'Bought 1 shares of PGHH at 1968.85', 'Bought 1 shares of SHREECEM at 1745.3', 'Bought 1 shares of SIEMENS at 910.85', 'Bought 1 shares of ULTRACEMCO at 977.8', 'Bought 1 shares of SRTRANSFIN at 658.45', 'Bought 1 shares of BEML at 590.15', 'Bought 1 shares of UBL at 501.65', 'Bought 1 shares of PIIND at 773.35', 'Bought 1 shares of TATAMTRDVR at 581.5', 'Bought 1 shares of PGHL at 657.1', 'Bought 1 shares of ADANIENT at 705.6', 'Bought 1 shares of TATASTEEL at 572.0', 'Sold 1 shares of SHREECEM at 1799.9', 'Sold 1 shares of SCHAEFFLER at 1242.6', 'Sold 1 shares of WABCOINDIA at 1212.35', 'Sold 2 shares of SCHAEFFLER at 2527.4', 'Sold 1 shares of ASTRAZEN at 1319.9', 'Sold 1 shares of MRF at 7758.0', 'Sold 4 shares of SCHAEFFLER at 5076.8', 'Sold 1 shares of GLAXO at 2301.25', 'Sold 2 shares of ASTRAZEN at 2666.5', 'Sold 2 shares of SOLARINDS at 1319.3', 'Sold 1 shares of BOSCHLTD at 7188.95', 'Sold 4 shares of ASTRAZEN at 5344.4', 'Sold 2 shares of BOSCHLTD at 14439.3', 'Sold 2 shares of GLAXO at 4594.3', 'Sold 2 shares of SKFINDIA at 1264.2', 'Sold 1 shares of OFSS at 2150.4', 'Sold 1 shares of HEROMOTOCO at 1756.9', 'Sold 1 shares of PAGEIND at 2096.65', 'Sold 1 shares of PIIND at 882.35', 'Sold 8 shares of ASTRAZEN at 10760.0', 'Sold 1 shares of CADILAHC at 877.0', 'Sold 1 shares of CRISIL at 7970.6', 'Sold 2 shares of PAGEIND at 4397.8', 'Sold 2 shares of PIIND at 1800.9', 'Sold 2 shares of NAUKRI at 1507.0', 'Sold 8 shares of SCHAEFFLER at 10689.6', 'Sold 1 shares of 3MINDIA at 4509.7', 'Sold 2 shares of CADILAHC at 1743.2', 'Sold 2 shares of CRISIL at 15926.1', 'Sold 4 shares of PAGEIND at 9164.4', 'Sold 4 shares of PIIND at 3661.2', 'Sold 1 shares of ADANIENT at 737.55', 'Sold 16 shares of SCHAEFFLER at 21563.2', 'Sold 1 shares of GILLETTE at 2291.7', 'Sold 2 shares of TECHM at 1544.2', 'Sold 1 shares of AKZOINDIA at 978.8', 'Sold 2 shares of 3MINDIA at 9057.4', 'Sold 1 shares of BANKBARODA at 913.7', 'Sold 4 shares of CRISIL at 32705.0', 'Sold 8 shares of PAGEIND at 18645.6', 'Sold 1 shares of PNB at 1197.0', 'Sold 1 shares of SIEMENS at 944.35', 'Sold 8 shares of PIIND at 7450.8', 'Sold 2 shares of ADANIENT at 1500.8', 'Sold 32 shares of SCHAEFFLER at 43606.4', 'Sold 4 shares of SOLARINDS at 2686.2', 'Sold 2 shares of GILLETTE at 4573.9', 'Sold 4 shares of TECHM at 3105.8', 'Sold 4 shares of 3MINDIA at 17926.4', 'Sold 8 shares of CRISIL at 65999.2', 'Sold 16 shares of PAGEIND at 36901.6', 'Sold 1 shares of PGHH at 1943.95', 'Sold 1 shares of BEML at 557.35', 'Sold 4 shares of ADANIENT at 3045.2', 'Sold 64 shares of SCHAEFFLER at 87881.6', 'Sold 2 shares of SUDARSCHEM at 1470.0', 'Sold 4 shares of GILLETTE at 9156.0', 'Sold 8 shares of TECHM at 6314.8', 'Sold 1 shares of ABBOTINDIA at 1454.75', 'Sold 2 shares of AKZOINDIA at 2045.8', 'Sold 2 shares of CANBK at 992.2', 'Sold 8 shares of 3MINDIA at 36134.8', 'Sold 16 shares of CRISIL at 140050.4', 'Sold 1 shares of BHEL at 1821.85', 'Sold 2 shares of PGHH at 3829.0', 'Sold 16 shares of PIIND at 17867.2', 'Sold 8 shares of ADANIENT at 6080.0']\n",
      "\n"
     ]
    },
    {
     "name": "stdout",
     "output_type": "stream",
     "text": [
      "2011-07-29\n",
      "['Bought 2 shares of NAUKRI at 1457.0', 'Bought 3 shares of SHRIRAMCIT at 1635.0', 'Bought 2 shares of J&KBANK at 1685.2', 'Bought 3 shares of THERMAX at 1830.0', 'Bought 1 shares of PFIZER at 1458.75', 'Bought 1 shares of SCHAEFFLER at 1178.25', 'Bought 2 shares of SOLARINDS at 1282.8', 'Bought 2 shares of SUDARSCHEM at 1520.0', 'Bought 1 shares of BOSCHLTD at 7058.35', 'Bought 1 shares of GILLETTE at 2135.2', 'Bought 2 shares of TECHM at 1484.5', 'Bought 1 shares of ABBOTINDIA at 1488.1', 'Bought 1 shares of GLAXO at 2330.35', 'Bought 1 shares of GODREJPROP at 811.9', 'Bought 1 shares of WABCOINDIA at 1167.5', 'Bought 1 shares of BAJAJHLDNG at 760.7', 'Bought 1 shares of SANOFI at 2048.15', 'Bought 2 shares of SKFINDIA at 1329.5', 'Bought 2 shares of TORNTPHARM at 1309.4', 'Bought 1 shares of AKZOINDIA at 909.55', 'Bought 2 shares of CANBK at 1019.9', 'Bought 1 shares of ASTRAZEN at 1300.0', 'Bought 1 shares of OIL at 1282.05', 'Bought 1 shares of 3MINDIA at 4151.4', 'Bought 2 shares of BPCL at 1336.3', 'Bought 2 shares of BALMLAWRIE at 1283.6', 'Bought 1 shares of CADILAHC at 931.35', 'Bought 2 shares of SUNDARMFIN at 1118.4', 'Bought 1 shares of TRENT at 1209.1', 'Bought 1 shares of BANKBARODA at 871.95', 'Bought 1 shares of COLPAL at 1003.8', 'Bought 1 shares of JUBLFOOD at 836.6', 'Bought 1 shares of CRISIL at 7252.75', 'Bought 1 shares of ZYDUSWELL at 710.85', 'Bought 1 shares of ABB at 876.6', 'Bought 1 shares of KANSAINER at 887.4', 'Bought 1 shares of ECLERX at 837.15', 'Bought 1 shares of CUMMINSIND at 679.1', 'Bought 1 shares of OFSS at 2290.05', 'Bought 1 shares of HONAUT at 2845.9', 'Bought 1 shares of HEROMOTOCO at 1860.5', 'Bought 1 shares of NESTLEIND at 4314.65', 'Bought 1 shares of PAGEIND at 1902.65', 'Bought 1 shares of PNB at 1119.2', 'Bought 1 shares of BHEL at 1939.3', 'Bought 1 shares of MRF at 7461.9', 'Bought 1 shares of AXISBANK at 1266.4', 'Bought 1 shares of TATAPOWER at 1289.15', 'Bought 1 shares of PGHH at 1968.85', 'Bought 1 shares of SHREECEM at 1745.3', 'Bought 1 shares of SIEMENS at 910.85', 'Bought 1 shares of ULTRACEMCO at 977.8', 'Bought 1 shares of SRTRANSFIN at 658.45', 'Bought 1 shares of BEML at 590.15', 'Bought 1 shares of UBL at 501.65', 'Bought 1 shares of PIIND at 773.35', 'Bought 1 shares of TATAMTRDVR at 581.5', 'Bought 1 shares of PGHL at 657.1', 'Bought 1 shares of ADANIENT at 705.6', 'Bought 1 shares of TATASTEEL at 572.0', 'Sold 1 shares of SHREECEM at 1799.9', 'Sold 1 shares of SCHAEFFLER at 1242.6', 'Sold 1 shares of WABCOINDIA at 1212.35', 'Sold 2 shares of SCHAEFFLER at 2527.4', 'Sold 1 shares of ASTRAZEN at 1319.9', 'Sold 1 shares of MRF at 7758.0', 'Sold 4 shares of SCHAEFFLER at 5076.8', 'Sold 1 shares of GLAXO at 2301.25', 'Sold 2 shares of ASTRAZEN at 2666.5', 'Sold 2 shares of SOLARINDS at 1319.3', 'Sold 1 shares of BOSCHLTD at 7188.95', 'Sold 4 shares of ASTRAZEN at 5344.4', 'Sold 2 shares of BOSCHLTD at 14439.3', 'Sold 2 shares of GLAXO at 4594.3', 'Sold 2 shares of SKFINDIA at 1264.2', 'Sold 1 shares of OFSS at 2150.4', 'Sold 1 shares of HEROMOTOCO at 1756.9', 'Sold 1 shares of PAGEIND at 2096.65', 'Sold 1 shares of PIIND at 882.35', 'Sold 8 shares of ASTRAZEN at 10760.0', 'Sold 1 shares of CADILAHC at 877.0', 'Sold 1 shares of CRISIL at 7970.6', 'Sold 2 shares of PAGEIND at 4397.8', 'Sold 2 shares of PIIND at 1800.9', 'Sold 2 shares of NAUKRI at 1507.0', 'Sold 8 shares of SCHAEFFLER at 10689.6', 'Sold 1 shares of 3MINDIA at 4509.7', 'Sold 2 shares of CADILAHC at 1743.2', 'Sold 2 shares of CRISIL at 15926.1', 'Sold 4 shares of PAGEIND at 9164.4', 'Sold 4 shares of PIIND at 3661.2', 'Sold 1 shares of ADANIENT at 737.55', 'Sold 16 shares of SCHAEFFLER at 21563.2', 'Sold 1 shares of GILLETTE at 2291.7', 'Sold 2 shares of TECHM at 1544.2', 'Sold 1 shares of AKZOINDIA at 978.8', 'Sold 2 shares of 3MINDIA at 9057.4', 'Sold 1 shares of BANKBARODA at 913.7', 'Sold 4 shares of CRISIL at 32705.0', 'Sold 8 shares of PAGEIND at 18645.6', 'Sold 1 shares of PNB at 1197.0', 'Sold 1 shares of SIEMENS at 944.35', 'Sold 8 shares of PIIND at 7450.8', 'Sold 2 shares of ADANIENT at 1500.8', 'Sold 32 shares of SCHAEFFLER at 43606.4', 'Sold 4 shares of SOLARINDS at 2686.2', 'Sold 2 shares of GILLETTE at 4573.9', 'Sold 4 shares of TECHM at 3105.8', 'Sold 4 shares of 3MINDIA at 17926.4', 'Sold 8 shares of CRISIL at 65999.2', 'Sold 16 shares of PAGEIND at 36901.6', 'Sold 1 shares of PGHH at 1943.95', 'Sold 1 shares of BEML at 557.35', 'Sold 4 shares of ADANIENT at 3045.2', 'Sold 64 shares of SCHAEFFLER at 87881.6', 'Sold 2 shares of SUDARSCHEM at 1470.0', 'Sold 4 shares of GILLETTE at 9156.0', 'Sold 8 shares of TECHM at 6314.8', 'Sold 1 shares of ABBOTINDIA at 1454.75', 'Sold 2 shares of AKZOINDIA at 2045.8', 'Sold 2 shares of CANBK at 992.2', 'Sold 8 shares of 3MINDIA at 36134.8', 'Sold 16 shares of CRISIL at 140050.4', 'Sold 1 shares of BHEL at 1821.85', 'Sold 2 shares of PGHH at 3829.0', 'Sold 16 shares of PIIND at 17867.2', 'Sold 8 shares of ADANIENT at 6080.0', 'Sold 2 shares of J&KBANK at 1768.9', 'Sold 3 shares of THERMAX at 1732.9499999999998', 'Sold 1 shares of PFIZER at 1515.55', 'Sold 4 shares of SUDARSCHEM at 2897.8', 'Sold 4 shares of GLAXO at 9524.4', 'Sold 4 shares of AKZOINDIA at 4086.2', 'Sold 4 shares of CANBK at 1909.0', 'Sold 16 shares of ASTRAZEN at 22349.6', 'Sold 16 shares of 3MINDIA at 74258.4', 'Sold 1 shares of ECLERX at 820.05', 'Sold 1 shares of CUMMINSIND at 654.45', 'Sold 4 shares of PGHH at 7624.2', 'Sold 2 shares of BEML at 1092.9', 'Sold 32 shares of PIIND at 35456.0']\n",
      "\n",
      "2011-08-01\n",
      "['Bought 2 shares of NAUKRI at 1457.0', 'Bought 3 shares of SHRIRAMCIT at 1635.0', 'Bought 2 shares of J&KBANK at 1685.2', 'Bought 3 shares of THERMAX at 1830.0', 'Bought 1 shares of PFIZER at 1458.75', 'Bought 1 shares of SCHAEFFLER at 1178.25', 'Bought 2 shares of SOLARINDS at 1282.8', 'Bought 2 shares of SUDARSCHEM at 1520.0', 'Bought 1 shares of BOSCHLTD at 7058.35', 'Bought 1 shares of GILLETTE at 2135.2', 'Bought 2 shares of TECHM at 1484.5', 'Bought 1 shares of ABBOTINDIA at 1488.1', 'Bought 1 shares of GLAXO at 2330.35', 'Bought 1 shares of GODREJPROP at 811.9', 'Bought 1 shares of WABCOINDIA at 1167.5', 'Bought 1 shares of BAJAJHLDNG at 760.7', 'Bought 1 shares of SANOFI at 2048.15', 'Bought 2 shares of SKFINDIA at 1329.5', 'Bought 2 shares of TORNTPHARM at 1309.4', 'Bought 1 shares of AKZOINDIA at 909.55', 'Bought 2 shares of CANBK at 1019.9', 'Bought 1 shares of ASTRAZEN at 1300.0', 'Bought 1 shares of OIL at 1282.05', 'Bought 1 shares of 3MINDIA at 4151.4', 'Bought 2 shares of BPCL at 1336.3', 'Bought 2 shares of BALMLAWRIE at 1283.6', 'Bought 1 shares of CADILAHC at 931.35', 'Bought 2 shares of SUNDARMFIN at 1118.4', 'Bought 1 shares of TRENT at 1209.1', 'Bought 1 shares of BANKBARODA at 871.95', 'Bought 1 shares of COLPAL at 1003.8', 'Bought 1 shares of JUBLFOOD at 836.6', 'Bought 1 shares of CRISIL at 7252.75', 'Bought 1 shares of ZYDUSWELL at 710.85', 'Bought 1 shares of ABB at 876.6', 'Bought 1 shares of KANSAINER at 887.4', 'Bought 1 shares of ECLERX at 837.15', 'Bought 1 shares of CUMMINSIND at 679.1', 'Bought 1 shares of OFSS at 2290.05', 'Bought 1 shares of HONAUT at 2845.9', 'Bought 1 shares of HEROMOTOCO at 1860.5', 'Bought 1 shares of NESTLEIND at 4314.65', 'Bought 1 shares of PAGEIND at 1902.65', 'Bought 1 shares of PNB at 1119.2', 'Bought 1 shares of BHEL at 1939.3', 'Bought 1 shares of MRF at 7461.9', 'Bought 1 shares of AXISBANK at 1266.4', 'Bought 1 shares of TATAPOWER at 1289.15', 'Bought 1 shares of PGHH at 1968.85', 'Bought 1 shares of SHREECEM at 1745.3', 'Bought 1 shares of SIEMENS at 910.85', 'Bought 1 shares of ULTRACEMCO at 977.8', 'Bought 1 shares of SRTRANSFIN at 658.45', 'Bought 1 shares of BEML at 590.15', 'Bought 1 shares of UBL at 501.65', 'Bought 1 shares of PIIND at 773.35', 'Bought 1 shares of TATAMTRDVR at 581.5', 'Bought 1 shares of PGHL at 657.1', 'Bought 1 shares of ADANIENT at 705.6', 'Bought 1 shares of TATASTEEL at 572.0', 'Sold 1 shares of SHREECEM at 1799.9', 'Sold 1 shares of SCHAEFFLER at 1242.6', 'Sold 1 shares of WABCOINDIA at 1212.35', 'Sold 2 shares of SCHAEFFLER at 2527.4', 'Sold 1 shares of ASTRAZEN at 1319.9', 'Sold 1 shares of MRF at 7758.0', 'Sold 4 shares of SCHAEFFLER at 5076.8', 'Sold 1 shares of GLAXO at 2301.25', 'Sold 2 shares of ASTRAZEN at 2666.5', 'Sold 2 shares of SOLARINDS at 1319.3', 'Sold 1 shares of BOSCHLTD at 7188.95', 'Sold 4 shares of ASTRAZEN at 5344.4', 'Sold 2 shares of BOSCHLTD at 14439.3', 'Sold 2 shares of GLAXO at 4594.3', 'Sold 2 shares of SKFINDIA at 1264.2', 'Sold 1 shares of OFSS at 2150.4', 'Sold 1 shares of HEROMOTOCO at 1756.9', 'Sold 1 shares of PAGEIND at 2096.65', 'Sold 1 shares of PIIND at 882.35', 'Sold 8 shares of ASTRAZEN at 10760.0', 'Sold 1 shares of CADILAHC at 877.0', 'Sold 1 shares of CRISIL at 7970.6', 'Sold 2 shares of PAGEIND at 4397.8', 'Sold 2 shares of PIIND at 1800.9', 'Sold 2 shares of NAUKRI at 1507.0', 'Sold 8 shares of SCHAEFFLER at 10689.6', 'Sold 1 shares of 3MINDIA at 4509.7', 'Sold 2 shares of CADILAHC at 1743.2', 'Sold 2 shares of CRISIL at 15926.1', 'Sold 4 shares of PAGEIND at 9164.4', 'Sold 4 shares of PIIND at 3661.2', 'Sold 1 shares of ADANIENT at 737.55', 'Sold 16 shares of SCHAEFFLER at 21563.2', 'Sold 1 shares of GILLETTE at 2291.7', 'Sold 2 shares of TECHM at 1544.2', 'Sold 1 shares of AKZOINDIA at 978.8', 'Sold 2 shares of 3MINDIA at 9057.4', 'Sold 1 shares of BANKBARODA at 913.7', 'Sold 4 shares of CRISIL at 32705.0', 'Sold 8 shares of PAGEIND at 18645.6', 'Sold 1 shares of PNB at 1197.0', 'Sold 1 shares of SIEMENS at 944.35', 'Sold 8 shares of PIIND at 7450.8', 'Sold 2 shares of ADANIENT at 1500.8', 'Sold 32 shares of SCHAEFFLER at 43606.4', 'Sold 4 shares of SOLARINDS at 2686.2', 'Sold 2 shares of GILLETTE at 4573.9', 'Sold 4 shares of TECHM at 3105.8', 'Sold 4 shares of 3MINDIA at 17926.4', 'Sold 8 shares of CRISIL at 65999.2', 'Sold 16 shares of PAGEIND at 36901.6', 'Sold 1 shares of PGHH at 1943.95', 'Sold 1 shares of BEML at 557.35', 'Sold 4 shares of ADANIENT at 3045.2', 'Sold 64 shares of SCHAEFFLER at 87881.6', 'Sold 2 shares of SUDARSCHEM at 1470.0', 'Sold 4 shares of GILLETTE at 9156.0', 'Sold 8 shares of TECHM at 6314.8', 'Sold 1 shares of ABBOTINDIA at 1454.75', 'Sold 2 shares of AKZOINDIA at 2045.8', 'Sold 2 shares of CANBK at 992.2', 'Sold 8 shares of 3MINDIA at 36134.8', 'Sold 16 shares of CRISIL at 140050.4', 'Sold 1 shares of BHEL at 1821.85', 'Sold 2 shares of PGHH at 3829.0', 'Sold 16 shares of PIIND at 17867.2', 'Sold 8 shares of ADANIENT at 6080.0', 'Sold 2 shares of J&KBANK at 1768.9', 'Sold 3 shares of THERMAX at 1732.9499999999998', 'Sold 1 shares of PFIZER at 1515.55', 'Sold 4 shares of SUDARSCHEM at 2897.8', 'Sold 4 shares of GLAXO at 9524.4', 'Sold 4 shares of AKZOINDIA at 4086.2', 'Sold 4 shares of CANBK at 1909.0', 'Sold 16 shares of ASTRAZEN at 22349.6', 'Sold 16 shares of 3MINDIA at 74258.4', 'Sold 1 shares of ECLERX at 820.05', 'Sold 1 shares of CUMMINSIND at 654.45', 'Sold 4 shares of PGHH at 7624.2', 'Sold 2 shares of BEML at 1092.9', 'Sold 32 shares of PIIND at 35456.0', 'Sold 6 shares of THERMAX at 3431.1000000000004', 'Sold 2 shares of PFIZER at 3068.4', 'Sold 8 shares of SUDARSCHEM at 5760.0', 'Sold 2 shares of WABCOINDIA at 2583.8', 'Sold 8 shares of CANBK at 3671.6', 'Sold 32 shares of ASTRAZEN at 45163.2', 'Sold 2 shares of ECLERX at 1619.4', 'Sold 2 shares of CUMMINSIND at 1282.1', 'Sold 1 shares of SRTRANSFIN at 640.55', 'Sold 16 shares of ADANIENT at 9368.0']\n",
      "\n"
     ]
    },
    {
     "name": "stdout",
     "output_type": "stream",
     "text": [
      "2011-08-02\n",
      "['Bought 2 shares of NAUKRI at 1457.0', 'Bought 3 shares of SHRIRAMCIT at 1635.0', 'Bought 2 shares of J&KBANK at 1685.2', 'Bought 3 shares of THERMAX at 1830.0', 'Bought 1 shares of PFIZER at 1458.75', 'Bought 1 shares of SCHAEFFLER at 1178.25', 'Bought 2 shares of SOLARINDS at 1282.8', 'Bought 2 shares of SUDARSCHEM at 1520.0', 'Bought 1 shares of BOSCHLTD at 7058.35', 'Bought 1 shares of GILLETTE at 2135.2', 'Bought 2 shares of TECHM at 1484.5', 'Bought 1 shares of ABBOTINDIA at 1488.1', 'Bought 1 shares of GLAXO at 2330.35', 'Bought 1 shares of GODREJPROP at 811.9', 'Bought 1 shares of WABCOINDIA at 1167.5', 'Bought 1 shares of BAJAJHLDNG at 760.7', 'Bought 1 shares of SANOFI at 2048.15', 'Bought 2 shares of SKFINDIA at 1329.5', 'Bought 2 shares of TORNTPHARM at 1309.4', 'Bought 1 shares of AKZOINDIA at 909.55', 'Bought 2 shares of CANBK at 1019.9', 'Bought 1 shares of ASTRAZEN at 1300.0', 'Bought 1 shares of OIL at 1282.05', 'Bought 1 shares of 3MINDIA at 4151.4', 'Bought 2 shares of BPCL at 1336.3', 'Bought 2 shares of BALMLAWRIE at 1283.6', 'Bought 1 shares of CADILAHC at 931.35', 'Bought 2 shares of SUNDARMFIN at 1118.4', 'Bought 1 shares of TRENT at 1209.1', 'Bought 1 shares of BANKBARODA at 871.95', 'Bought 1 shares of COLPAL at 1003.8', 'Bought 1 shares of JUBLFOOD at 836.6', 'Bought 1 shares of CRISIL at 7252.75', 'Bought 1 shares of ZYDUSWELL at 710.85', 'Bought 1 shares of ABB at 876.6', 'Bought 1 shares of KANSAINER at 887.4', 'Bought 1 shares of ECLERX at 837.15', 'Bought 1 shares of CUMMINSIND at 679.1', 'Bought 1 shares of OFSS at 2290.05', 'Bought 1 shares of HONAUT at 2845.9', 'Bought 1 shares of HEROMOTOCO at 1860.5', 'Bought 1 shares of NESTLEIND at 4314.65', 'Bought 1 shares of PAGEIND at 1902.65', 'Bought 1 shares of PNB at 1119.2', 'Bought 1 shares of BHEL at 1939.3', 'Bought 1 shares of MRF at 7461.9', 'Bought 1 shares of AXISBANK at 1266.4', 'Bought 1 shares of TATAPOWER at 1289.15', 'Bought 1 shares of PGHH at 1968.85', 'Bought 1 shares of SHREECEM at 1745.3', 'Bought 1 shares of SIEMENS at 910.85', 'Bought 1 shares of ULTRACEMCO at 977.8', 'Bought 1 shares of SRTRANSFIN at 658.45', 'Bought 1 shares of BEML at 590.15', 'Bought 1 shares of UBL at 501.65', 'Bought 1 shares of PIIND at 773.35', 'Bought 1 shares of TATAMTRDVR at 581.5', 'Bought 1 shares of PGHL at 657.1', 'Bought 1 shares of ADANIENT at 705.6', 'Bought 1 shares of TATASTEEL at 572.0', 'Sold 1 shares of SHREECEM at 1799.9', 'Sold 1 shares of SCHAEFFLER at 1242.6', 'Sold 1 shares of WABCOINDIA at 1212.35', 'Sold 2 shares of SCHAEFFLER at 2527.4', 'Sold 1 shares of ASTRAZEN at 1319.9', 'Sold 1 shares of MRF at 7758.0', 'Sold 4 shares of SCHAEFFLER at 5076.8', 'Sold 1 shares of GLAXO at 2301.25', 'Sold 2 shares of ASTRAZEN at 2666.5', 'Sold 2 shares of SOLARINDS at 1319.3', 'Sold 1 shares of BOSCHLTD at 7188.95', 'Sold 4 shares of ASTRAZEN at 5344.4', 'Sold 2 shares of BOSCHLTD at 14439.3', 'Sold 2 shares of GLAXO at 4594.3', 'Sold 2 shares of SKFINDIA at 1264.2', 'Sold 1 shares of OFSS at 2150.4', 'Sold 1 shares of HEROMOTOCO at 1756.9', 'Sold 1 shares of PAGEIND at 2096.65', 'Sold 1 shares of PIIND at 882.35', 'Sold 8 shares of ASTRAZEN at 10760.0', 'Sold 1 shares of CADILAHC at 877.0', 'Sold 1 shares of CRISIL at 7970.6', 'Sold 2 shares of PAGEIND at 4397.8', 'Sold 2 shares of PIIND at 1800.9', 'Sold 2 shares of NAUKRI at 1507.0', 'Sold 8 shares of SCHAEFFLER at 10689.6', 'Sold 1 shares of 3MINDIA at 4509.7', 'Sold 2 shares of CADILAHC at 1743.2', 'Sold 2 shares of CRISIL at 15926.1', 'Sold 4 shares of PAGEIND at 9164.4', 'Sold 4 shares of PIIND at 3661.2', 'Sold 1 shares of ADANIENT at 737.55', 'Sold 16 shares of SCHAEFFLER at 21563.2', 'Sold 1 shares of GILLETTE at 2291.7', 'Sold 2 shares of TECHM at 1544.2', 'Sold 1 shares of AKZOINDIA at 978.8', 'Sold 2 shares of 3MINDIA at 9057.4', 'Sold 1 shares of BANKBARODA at 913.7', 'Sold 4 shares of CRISIL at 32705.0', 'Sold 8 shares of PAGEIND at 18645.6', 'Sold 1 shares of PNB at 1197.0', 'Sold 1 shares of SIEMENS at 944.35', 'Sold 8 shares of PIIND at 7450.8', 'Sold 2 shares of ADANIENT at 1500.8', 'Sold 32 shares of SCHAEFFLER at 43606.4', 'Sold 4 shares of SOLARINDS at 2686.2', 'Sold 2 shares of GILLETTE at 4573.9', 'Sold 4 shares of TECHM at 3105.8', 'Sold 4 shares of 3MINDIA at 17926.4', 'Sold 8 shares of CRISIL at 65999.2', 'Sold 16 shares of PAGEIND at 36901.6', 'Sold 1 shares of PGHH at 1943.95', 'Sold 1 shares of BEML at 557.35', 'Sold 4 shares of ADANIENT at 3045.2', 'Sold 64 shares of SCHAEFFLER at 87881.6', 'Sold 2 shares of SUDARSCHEM at 1470.0', 'Sold 4 shares of GILLETTE at 9156.0', 'Sold 8 shares of TECHM at 6314.8', 'Sold 1 shares of ABBOTINDIA at 1454.75', 'Sold 2 shares of AKZOINDIA at 2045.8', 'Sold 2 shares of CANBK at 992.2', 'Sold 8 shares of 3MINDIA at 36134.8', 'Sold 16 shares of CRISIL at 140050.4', 'Sold 1 shares of BHEL at 1821.85', 'Sold 2 shares of PGHH at 3829.0', 'Sold 16 shares of PIIND at 17867.2', 'Sold 8 shares of ADANIENT at 6080.0', 'Sold 2 shares of J&KBANK at 1768.9', 'Sold 3 shares of THERMAX at 1732.9499999999998', 'Sold 1 shares of PFIZER at 1515.55', 'Sold 4 shares of SUDARSCHEM at 2897.8', 'Sold 4 shares of GLAXO at 9524.4', 'Sold 4 shares of AKZOINDIA at 4086.2', 'Sold 4 shares of CANBK at 1909.0', 'Sold 16 shares of ASTRAZEN at 22349.6', 'Sold 16 shares of 3MINDIA at 74258.4', 'Sold 1 shares of ECLERX at 820.05', 'Sold 1 shares of CUMMINSIND at 654.45', 'Sold 4 shares of PGHH at 7624.2', 'Sold 2 shares of BEML at 1092.9', 'Sold 32 shares of PIIND at 35456.0', 'Sold 6 shares of THERMAX at 3431.1000000000004', 'Sold 2 shares of PFIZER at 3068.4', 'Sold 8 shares of SUDARSCHEM at 5760.0', 'Sold 2 shares of WABCOINDIA at 2583.8', 'Sold 8 shares of CANBK at 3671.6', 'Sold 32 shares of ASTRAZEN at 45163.2', 'Sold 2 shares of ECLERX at 1619.4', 'Sold 2 shares of CUMMINSIND at 1282.1', 'Sold 1 shares of SRTRANSFIN at 640.55', 'Sold 16 shares of ADANIENT at 9368.0', 'Sold 4 shares of J&KBANK at 3539.2', 'Sold 12 shares of THERMAX at 6664.200000000001', 'Sold 4 shares of PFIZER at 6128.6', 'Sold 8 shares of SOLARINDS at 5854.0', 'Sold 16 shares of SUDARSCHEM at 11507.2', 'Sold 16 shares of CANBK at 7246.4', 'Sold 64 shares of ASTRAZEN at 90387.2', 'Sold 4 shares of ECLERX at 3223.6', 'Sold 4 shares of CUMMINSIND at 2527.8', 'Sold 2 shares of SRTRANSFIN at 1255.2']\n",
      "\n",
      "2011-08-03\n",
      "['Bought 2 shares of NAUKRI at 1457.0', 'Bought 3 shares of SHRIRAMCIT at 1635.0', 'Bought 2 shares of J&KBANK at 1685.2', 'Bought 3 shares of THERMAX at 1830.0', 'Bought 1 shares of PFIZER at 1458.75', 'Bought 1 shares of SCHAEFFLER at 1178.25', 'Bought 2 shares of SOLARINDS at 1282.8', 'Bought 2 shares of SUDARSCHEM at 1520.0', 'Bought 1 shares of BOSCHLTD at 7058.35', 'Bought 1 shares of GILLETTE at 2135.2', 'Bought 2 shares of TECHM at 1484.5', 'Bought 1 shares of ABBOTINDIA at 1488.1', 'Bought 1 shares of GLAXO at 2330.35', 'Bought 1 shares of GODREJPROP at 811.9', 'Bought 1 shares of WABCOINDIA at 1167.5', 'Bought 1 shares of BAJAJHLDNG at 760.7', 'Bought 1 shares of SANOFI at 2048.15', 'Bought 2 shares of SKFINDIA at 1329.5', 'Bought 2 shares of TORNTPHARM at 1309.4', 'Bought 1 shares of AKZOINDIA at 909.55', 'Bought 2 shares of CANBK at 1019.9', 'Bought 1 shares of ASTRAZEN at 1300.0', 'Bought 1 shares of OIL at 1282.05', 'Bought 1 shares of 3MINDIA at 4151.4', 'Bought 2 shares of BPCL at 1336.3', 'Bought 2 shares of BALMLAWRIE at 1283.6', 'Bought 1 shares of CADILAHC at 931.35', 'Bought 2 shares of SUNDARMFIN at 1118.4', 'Bought 1 shares of TRENT at 1209.1', 'Bought 1 shares of BANKBARODA at 871.95', 'Bought 1 shares of COLPAL at 1003.8', 'Bought 1 shares of JUBLFOOD at 836.6', 'Bought 1 shares of CRISIL at 7252.75', 'Bought 1 shares of ZYDUSWELL at 710.85', 'Bought 1 shares of ABB at 876.6', 'Bought 1 shares of KANSAINER at 887.4', 'Bought 1 shares of ECLERX at 837.15', 'Bought 1 shares of CUMMINSIND at 679.1', 'Bought 1 shares of OFSS at 2290.05', 'Bought 1 shares of HONAUT at 2845.9', 'Bought 1 shares of HEROMOTOCO at 1860.5', 'Bought 1 shares of NESTLEIND at 4314.65', 'Bought 1 shares of PAGEIND at 1902.65', 'Bought 1 shares of PNB at 1119.2', 'Bought 1 shares of BHEL at 1939.3', 'Bought 1 shares of MRF at 7461.9', 'Bought 1 shares of AXISBANK at 1266.4', 'Bought 1 shares of TATAPOWER at 1289.15', 'Bought 1 shares of PGHH at 1968.85', 'Bought 1 shares of SHREECEM at 1745.3', 'Bought 1 shares of SIEMENS at 910.85', 'Bought 1 shares of ULTRACEMCO at 977.8', 'Bought 1 shares of SRTRANSFIN at 658.45', 'Bought 1 shares of BEML at 590.15', 'Bought 1 shares of UBL at 501.65', 'Bought 1 shares of PIIND at 773.35', 'Bought 1 shares of TATAMTRDVR at 581.5', 'Bought 1 shares of PGHL at 657.1', 'Bought 1 shares of ADANIENT at 705.6', 'Bought 1 shares of TATASTEEL at 572.0', 'Sold 1 shares of SHREECEM at 1799.9', 'Sold 1 shares of SCHAEFFLER at 1242.6', 'Sold 1 shares of WABCOINDIA at 1212.35', 'Sold 2 shares of SCHAEFFLER at 2527.4', 'Sold 1 shares of ASTRAZEN at 1319.9', 'Sold 1 shares of MRF at 7758.0', 'Sold 4 shares of SCHAEFFLER at 5076.8', 'Sold 1 shares of GLAXO at 2301.25', 'Sold 2 shares of ASTRAZEN at 2666.5', 'Sold 2 shares of SOLARINDS at 1319.3', 'Sold 1 shares of BOSCHLTD at 7188.95', 'Sold 4 shares of ASTRAZEN at 5344.4', 'Sold 2 shares of BOSCHLTD at 14439.3', 'Sold 2 shares of GLAXO at 4594.3', 'Sold 2 shares of SKFINDIA at 1264.2', 'Sold 1 shares of OFSS at 2150.4', 'Sold 1 shares of HEROMOTOCO at 1756.9', 'Sold 1 shares of PAGEIND at 2096.65', 'Sold 1 shares of PIIND at 882.35', 'Sold 8 shares of ASTRAZEN at 10760.0', 'Sold 1 shares of CADILAHC at 877.0', 'Sold 1 shares of CRISIL at 7970.6', 'Sold 2 shares of PAGEIND at 4397.8', 'Sold 2 shares of PIIND at 1800.9', 'Sold 2 shares of NAUKRI at 1507.0', 'Sold 8 shares of SCHAEFFLER at 10689.6', 'Sold 1 shares of 3MINDIA at 4509.7', 'Sold 2 shares of CADILAHC at 1743.2', 'Sold 2 shares of CRISIL at 15926.1', 'Sold 4 shares of PAGEIND at 9164.4', 'Sold 4 shares of PIIND at 3661.2', 'Sold 1 shares of ADANIENT at 737.55', 'Sold 16 shares of SCHAEFFLER at 21563.2', 'Sold 1 shares of GILLETTE at 2291.7', 'Sold 2 shares of TECHM at 1544.2', 'Sold 1 shares of AKZOINDIA at 978.8', 'Sold 2 shares of 3MINDIA at 9057.4', 'Sold 1 shares of BANKBARODA at 913.7', 'Sold 4 shares of CRISIL at 32705.0', 'Sold 8 shares of PAGEIND at 18645.6', 'Sold 1 shares of PNB at 1197.0', 'Sold 1 shares of SIEMENS at 944.35', 'Sold 8 shares of PIIND at 7450.8', 'Sold 2 shares of ADANIENT at 1500.8', 'Sold 32 shares of SCHAEFFLER at 43606.4', 'Sold 4 shares of SOLARINDS at 2686.2', 'Sold 2 shares of GILLETTE at 4573.9', 'Sold 4 shares of TECHM at 3105.8', 'Sold 4 shares of 3MINDIA at 17926.4', 'Sold 8 shares of CRISIL at 65999.2', 'Sold 16 shares of PAGEIND at 36901.6', 'Sold 1 shares of PGHH at 1943.95', 'Sold 1 shares of BEML at 557.35', 'Sold 4 shares of ADANIENT at 3045.2', 'Sold 64 shares of SCHAEFFLER at 87881.6', 'Sold 2 shares of SUDARSCHEM at 1470.0', 'Sold 4 shares of GILLETTE at 9156.0', 'Sold 8 shares of TECHM at 6314.8', 'Sold 1 shares of ABBOTINDIA at 1454.75', 'Sold 2 shares of AKZOINDIA at 2045.8', 'Sold 2 shares of CANBK at 992.2', 'Sold 8 shares of 3MINDIA at 36134.8', 'Sold 16 shares of CRISIL at 140050.4', 'Sold 1 shares of BHEL at 1821.85', 'Sold 2 shares of PGHH at 3829.0', 'Sold 16 shares of PIIND at 17867.2', 'Sold 8 shares of ADANIENT at 6080.0', 'Sold 2 shares of J&KBANK at 1768.9', 'Sold 3 shares of THERMAX at 1732.9499999999998', 'Sold 1 shares of PFIZER at 1515.55', 'Sold 4 shares of SUDARSCHEM at 2897.8', 'Sold 4 shares of GLAXO at 9524.4', 'Sold 4 shares of AKZOINDIA at 4086.2', 'Sold 4 shares of CANBK at 1909.0', 'Sold 16 shares of ASTRAZEN at 22349.6', 'Sold 16 shares of 3MINDIA at 74258.4', 'Sold 1 shares of ECLERX at 820.05', 'Sold 1 shares of CUMMINSIND at 654.45', 'Sold 4 shares of PGHH at 7624.2', 'Sold 2 shares of BEML at 1092.9', 'Sold 32 shares of PIIND at 35456.0', 'Sold 6 shares of THERMAX at 3431.1000000000004', 'Sold 2 shares of PFIZER at 3068.4', 'Sold 8 shares of SUDARSCHEM at 5760.0', 'Sold 2 shares of WABCOINDIA at 2583.8', 'Sold 8 shares of CANBK at 3671.6', 'Sold 32 shares of ASTRAZEN at 45163.2', 'Sold 2 shares of ECLERX at 1619.4', 'Sold 2 shares of CUMMINSIND at 1282.1', 'Sold 1 shares of SRTRANSFIN at 640.55', 'Sold 16 shares of ADANIENT at 9368.0', 'Sold 4 shares of J&KBANK at 3539.2', 'Sold 12 shares of THERMAX at 6664.200000000001', 'Sold 4 shares of PFIZER at 6128.6', 'Sold 8 shares of SOLARINDS at 5854.0', 'Sold 16 shares of SUDARSCHEM at 11507.2', 'Sold 16 shares of CANBK at 7246.4', 'Sold 64 shares of ASTRAZEN at 90387.2', 'Sold 4 shares of ECLERX at 3223.6', 'Sold 4 shares of CUMMINSIND at 2527.8', 'Sold 2 shares of SRTRANSFIN at 1255.2', 'Sold 24 shares of THERMAX at 12874.800000000001', 'Sold 16 shares of SOLARINDS at 11749.6', 'Sold 32 shares of SUDARSCHEM at 22883.2', 'Sold 1 shares of GODREJPROP at 747.45', 'Sold 32 shares of CANBK at 13862.4', 'Sold 8 shares of ECLERX at 6400.4', 'Sold 8 shares of CUMMINSIND at 4931.2', 'Sold 4 shares of SRTRANSFIN at 2477.6']\n",
      "\n"
     ]
    },
    {
     "name": "stdout",
     "output_type": "stream",
     "text": [
      "2011-08-04\n",
      "['Bought 2 shares of NAUKRI at 1457.0', 'Bought 3 shares of SHRIRAMCIT at 1635.0', 'Bought 2 shares of J&KBANK at 1685.2', 'Bought 3 shares of THERMAX at 1830.0', 'Bought 1 shares of PFIZER at 1458.75', 'Bought 1 shares of SCHAEFFLER at 1178.25', 'Bought 2 shares of SOLARINDS at 1282.8', 'Bought 2 shares of SUDARSCHEM at 1520.0', 'Bought 1 shares of BOSCHLTD at 7058.35', 'Bought 1 shares of GILLETTE at 2135.2', 'Bought 2 shares of TECHM at 1484.5', 'Bought 1 shares of ABBOTINDIA at 1488.1', 'Bought 1 shares of GLAXO at 2330.35', 'Bought 1 shares of GODREJPROP at 811.9', 'Bought 1 shares of WABCOINDIA at 1167.5', 'Bought 1 shares of BAJAJHLDNG at 760.7', 'Bought 1 shares of SANOFI at 2048.15', 'Bought 2 shares of SKFINDIA at 1329.5', 'Bought 2 shares of TORNTPHARM at 1309.4', 'Bought 1 shares of AKZOINDIA at 909.55', 'Bought 2 shares of CANBK at 1019.9', 'Bought 1 shares of ASTRAZEN at 1300.0', 'Bought 1 shares of OIL at 1282.05', 'Bought 1 shares of 3MINDIA at 4151.4', 'Bought 2 shares of BPCL at 1336.3', 'Bought 2 shares of BALMLAWRIE at 1283.6', 'Bought 1 shares of CADILAHC at 931.35', 'Bought 2 shares of SUNDARMFIN at 1118.4', 'Bought 1 shares of TRENT at 1209.1', 'Bought 1 shares of BANKBARODA at 871.95', 'Bought 1 shares of COLPAL at 1003.8', 'Bought 1 shares of JUBLFOOD at 836.6', 'Bought 1 shares of CRISIL at 7252.75', 'Bought 1 shares of ZYDUSWELL at 710.85', 'Bought 1 shares of ABB at 876.6', 'Bought 1 shares of KANSAINER at 887.4', 'Bought 1 shares of ECLERX at 837.15', 'Bought 1 shares of CUMMINSIND at 679.1', 'Bought 1 shares of OFSS at 2290.05', 'Bought 1 shares of HONAUT at 2845.9', 'Bought 1 shares of HEROMOTOCO at 1860.5', 'Bought 1 shares of NESTLEIND at 4314.65', 'Bought 1 shares of PAGEIND at 1902.65', 'Bought 1 shares of PNB at 1119.2', 'Bought 1 shares of BHEL at 1939.3', 'Bought 1 shares of MRF at 7461.9', 'Bought 1 shares of AXISBANK at 1266.4', 'Bought 1 shares of TATAPOWER at 1289.15', 'Bought 1 shares of PGHH at 1968.85', 'Bought 1 shares of SHREECEM at 1745.3', 'Bought 1 shares of SIEMENS at 910.85', 'Bought 1 shares of ULTRACEMCO at 977.8', 'Bought 1 shares of SRTRANSFIN at 658.45', 'Bought 1 shares of BEML at 590.15', 'Bought 1 shares of UBL at 501.65', 'Bought 1 shares of PIIND at 773.35', 'Bought 1 shares of TATAMTRDVR at 581.5', 'Bought 1 shares of PGHL at 657.1', 'Bought 1 shares of ADANIENT at 705.6', 'Bought 1 shares of TATASTEEL at 572.0', 'Sold 1 shares of SHREECEM at 1799.9', 'Sold 1 shares of SCHAEFFLER at 1242.6', 'Sold 1 shares of WABCOINDIA at 1212.35', 'Sold 2 shares of SCHAEFFLER at 2527.4', 'Sold 1 shares of ASTRAZEN at 1319.9', 'Sold 1 shares of MRF at 7758.0', 'Sold 4 shares of SCHAEFFLER at 5076.8', 'Sold 1 shares of GLAXO at 2301.25', 'Sold 2 shares of ASTRAZEN at 2666.5', 'Sold 2 shares of SOLARINDS at 1319.3', 'Sold 1 shares of BOSCHLTD at 7188.95', 'Sold 4 shares of ASTRAZEN at 5344.4', 'Sold 2 shares of BOSCHLTD at 14439.3', 'Sold 2 shares of GLAXO at 4594.3', 'Sold 2 shares of SKFINDIA at 1264.2', 'Sold 1 shares of OFSS at 2150.4', 'Sold 1 shares of HEROMOTOCO at 1756.9', 'Sold 1 shares of PAGEIND at 2096.65', 'Sold 1 shares of PIIND at 882.35', 'Sold 8 shares of ASTRAZEN at 10760.0', 'Sold 1 shares of CADILAHC at 877.0', 'Sold 1 shares of CRISIL at 7970.6', 'Sold 2 shares of PAGEIND at 4397.8', 'Sold 2 shares of PIIND at 1800.9', 'Sold 2 shares of NAUKRI at 1507.0', 'Sold 8 shares of SCHAEFFLER at 10689.6', 'Sold 1 shares of 3MINDIA at 4509.7', 'Sold 2 shares of CADILAHC at 1743.2', 'Sold 2 shares of CRISIL at 15926.1', 'Sold 4 shares of PAGEIND at 9164.4', 'Sold 4 shares of PIIND at 3661.2', 'Sold 1 shares of ADANIENT at 737.55', 'Sold 16 shares of SCHAEFFLER at 21563.2', 'Sold 1 shares of GILLETTE at 2291.7', 'Sold 2 shares of TECHM at 1544.2', 'Sold 1 shares of AKZOINDIA at 978.8', 'Sold 2 shares of 3MINDIA at 9057.4', 'Sold 1 shares of BANKBARODA at 913.7', 'Sold 4 shares of CRISIL at 32705.0', 'Sold 8 shares of PAGEIND at 18645.6', 'Sold 1 shares of PNB at 1197.0', 'Sold 1 shares of SIEMENS at 944.35', 'Sold 8 shares of PIIND at 7450.8', 'Sold 2 shares of ADANIENT at 1500.8', 'Sold 32 shares of SCHAEFFLER at 43606.4', 'Sold 4 shares of SOLARINDS at 2686.2', 'Sold 2 shares of GILLETTE at 4573.9', 'Sold 4 shares of TECHM at 3105.8', 'Sold 4 shares of 3MINDIA at 17926.4', 'Sold 8 shares of CRISIL at 65999.2', 'Sold 16 shares of PAGEIND at 36901.6', 'Sold 1 shares of PGHH at 1943.95', 'Sold 1 shares of BEML at 557.35', 'Sold 4 shares of ADANIENT at 3045.2', 'Sold 64 shares of SCHAEFFLER at 87881.6', 'Sold 2 shares of SUDARSCHEM at 1470.0', 'Sold 4 shares of GILLETTE at 9156.0', 'Sold 8 shares of TECHM at 6314.8', 'Sold 1 shares of ABBOTINDIA at 1454.75', 'Sold 2 shares of AKZOINDIA at 2045.8', 'Sold 2 shares of CANBK at 992.2', 'Sold 8 shares of 3MINDIA at 36134.8', 'Sold 16 shares of CRISIL at 140050.4', 'Sold 1 shares of BHEL at 1821.85', 'Sold 2 shares of PGHH at 3829.0', 'Sold 16 shares of PIIND at 17867.2', 'Sold 8 shares of ADANIENT at 6080.0', 'Sold 2 shares of J&KBANK at 1768.9', 'Sold 3 shares of THERMAX at 1732.9499999999998', 'Sold 1 shares of PFIZER at 1515.55', 'Sold 4 shares of SUDARSCHEM at 2897.8', 'Sold 4 shares of GLAXO at 9524.4', 'Sold 4 shares of AKZOINDIA at 4086.2', 'Sold 4 shares of CANBK at 1909.0', 'Sold 16 shares of ASTRAZEN at 22349.6', 'Sold 16 shares of 3MINDIA at 74258.4', 'Sold 1 shares of ECLERX at 820.05', 'Sold 1 shares of CUMMINSIND at 654.45', 'Sold 4 shares of PGHH at 7624.2', 'Sold 2 shares of BEML at 1092.9', 'Sold 32 shares of PIIND at 35456.0', 'Sold 6 shares of THERMAX at 3431.1000000000004', 'Sold 2 shares of PFIZER at 3068.4', 'Sold 8 shares of SUDARSCHEM at 5760.0', 'Sold 2 shares of WABCOINDIA at 2583.8', 'Sold 8 shares of CANBK at 3671.6', 'Sold 32 shares of ASTRAZEN at 45163.2', 'Sold 2 shares of ECLERX at 1619.4', 'Sold 2 shares of CUMMINSIND at 1282.1', 'Sold 1 shares of SRTRANSFIN at 640.55', 'Sold 16 shares of ADANIENT at 9368.0', 'Sold 4 shares of J&KBANK at 3539.2', 'Sold 12 shares of THERMAX at 6664.200000000001', 'Sold 4 shares of PFIZER at 6128.6', 'Sold 8 shares of SOLARINDS at 5854.0', 'Sold 16 shares of SUDARSCHEM at 11507.2', 'Sold 16 shares of CANBK at 7246.4', 'Sold 64 shares of ASTRAZEN at 90387.2', 'Sold 4 shares of ECLERX at 3223.6', 'Sold 4 shares of CUMMINSIND at 2527.8', 'Sold 2 shares of SRTRANSFIN at 1255.2', 'Sold 24 shares of THERMAX at 12874.800000000001', 'Sold 16 shares of SOLARINDS at 11749.6', 'Sold 32 shares of SUDARSCHEM at 22883.2', 'Sold 1 shares of GODREJPROP at 747.45', 'Sold 32 shares of CANBK at 13862.4', 'Sold 8 shares of ECLERX at 6400.4', 'Sold 8 shares of CUMMINSIND at 4931.2', 'Sold 4 shares of SRTRANSFIN at 2477.6', 'Sold 48 shares of THERMAX at 24744.0', 'Sold 32 shares of SOLARINDS at 23387.2', 'Sold 2 shares of GODREJPROP at 1477.8', 'Sold 64 shares of CANBK at 27302.4', 'Sold 2 shares of SUNDARMFIN at 1088.4', 'Sold 16 shares of ECLERX at 12587.2', 'Sold 16 shares of CUMMINSIND at 9763.2', 'Sold 1 shares of HONAUT at 2672.15', 'Sold 8 shares of SRTRANSFIN at 4758.4']\n",
      "\n",
      "2011-08-05\n",
      "['Bought 2 shares of NAUKRI at 1457.0', 'Bought 3 shares of SHRIRAMCIT at 1635.0', 'Bought 2 shares of J&KBANK at 1685.2', 'Bought 3 shares of THERMAX at 1830.0', 'Bought 1 shares of PFIZER at 1458.75', 'Bought 1 shares of SCHAEFFLER at 1178.25', 'Bought 2 shares of SOLARINDS at 1282.8', 'Bought 2 shares of SUDARSCHEM at 1520.0', 'Bought 1 shares of BOSCHLTD at 7058.35', 'Bought 1 shares of GILLETTE at 2135.2', 'Bought 2 shares of TECHM at 1484.5', 'Bought 1 shares of ABBOTINDIA at 1488.1', 'Bought 1 shares of GLAXO at 2330.35', 'Bought 1 shares of GODREJPROP at 811.9', 'Bought 1 shares of WABCOINDIA at 1167.5', 'Bought 1 shares of BAJAJHLDNG at 760.7', 'Bought 1 shares of SANOFI at 2048.15', 'Bought 2 shares of SKFINDIA at 1329.5', 'Bought 2 shares of TORNTPHARM at 1309.4', 'Bought 1 shares of AKZOINDIA at 909.55', 'Bought 2 shares of CANBK at 1019.9', 'Bought 1 shares of ASTRAZEN at 1300.0', 'Bought 1 shares of OIL at 1282.05', 'Bought 1 shares of 3MINDIA at 4151.4', 'Bought 2 shares of BPCL at 1336.3', 'Bought 2 shares of BALMLAWRIE at 1283.6', 'Bought 1 shares of CADILAHC at 931.35', 'Bought 2 shares of SUNDARMFIN at 1118.4', 'Bought 1 shares of TRENT at 1209.1', 'Bought 1 shares of BANKBARODA at 871.95', 'Bought 1 shares of COLPAL at 1003.8', 'Bought 1 shares of JUBLFOOD at 836.6', 'Bought 1 shares of CRISIL at 7252.75', 'Bought 1 shares of ZYDUSWELL at 710.85', 'Bought 1 shares of ABB at 876.6', 'Bought 1 shares of KANSAINER at 887.4', 'Bought 1 shares of ECLERX at 837.15', 'Bought 1 shares of CUMMINSIND at 679.1', 'Bought 1 shares of OFSS at 2290.05', 'Bought 1 shares of HONAUT at 2845.9', 'Bought 1 shares of HEROMOTOCO at 1860.5', 'Bought 1 shares of NESTLEIND at 4314.65', 'Bought 1 shares of PAGEIND at 1902.65', 'Bought 1 shares of PNB at 1119.2', 'Bought 1 shares of BHEL at 1939.3', 'Bought 1 shares of MRF at 7461.9', 'Bought 1 shares of AXISBANK at 1266.4', 'Bought 1 shares of TATAPOWER at 1289.15', 'Bought 1 shares of PGHH at 1968.85', 'Bought 1 shares of SHREECEM at 1745.3', 'Bought 1 shares of SIEMENS at 910.85', 'Bought 1 shares of ULTRACEMCO at 977.8', 'Bought 1 shares of SRTRANSFIN at 658.45', 'Bought 1 shares of BEML at 590.15', 'Bought 1 shares of UBL at 501.65', 'Bought 1 shares of PIIND at 773.35', 'Bought 1 shares of TATAMTRDVR at 581.5', 'Bought 1 shares of PGHL at 657.1', 'Bought 1 shares of ADANIENT at 705.6', 'Bought 1 shares of TATASTEEL at 572.0', 'Sold 1 shares of SHREECEM at 1799.9', 'Sold 1 shares of SCHAEFFLER at 1242.6', 'Sold 1 shares of WABCOINDIA at 1212.35', 'Sold 2 shares of SCHAEFFLER at 2527.4', 'Sold 1 shares of ASTRAZEN at 1319.9', 'Sold 1 shares of MRF at 7758.0', 'Sold 4 shares of SCHAEFFLER at 5076.8', 'Sold 1 shares of GLAXO at 2301.25', 'Sold 2 shares of ASTRAZEN at 2666.5', 'Sold 2 shares of SOLARINDS at 1319.3', 'Sold 1 shares of BOSCHLTD at 7188.95', 'Sold 4 shares of ASTRAZEN at 5344.4', 'Sold 2 shares of BOSCHLTD at 14439.3', 'Sold 2 shares of GLAXO at 4594.3', 'Sold 2 shares of SKFINDIA at 1264.2', 'Sold 1 shares of OFSS at 2150.4', 'Sold 1 shares of HEROMOTOCO at 1756.9', 'Sold 1 shares of PAGEIND at 2096.65', 'Sold 1 shares of PIIND at 882.35', 'Sold 8 shares of ASTRAZEN at 10760.0', 'Sold 1 shares of CADILAHC at 877.0', 'Sold 1 shares of CRISIL at 7970.6', 'Sold 2 shares of PAGEIND at 4397.8', 'Sold 2 shares of PIIND at 1800.9', 'Sold 2 shares of NAUKRI at 1507.0', 'Sold 8 shares of SCHAEFFLER at 10689.6', 'Sold 1 shares of 3MINDIA at 4509.7', 'Sold 2 shares of CADILAHC at 1743.2', 'Sold 2 shares of CRISIL at 15926.1', 'Sold 4 shares of PAGEIND at 9164.4', 'Sold 4 shares of PIIND at 3661.2', 'Sold 1 shares of ADANIENT at 737.55', 'Sold 16 shares of SCHAEFFLER at 21563.2', 'Sold 1 shares of GILLETTE at 2291.7', 'Sold 2 shares of TECHM at 1544.2', 'Sold 1 shares of AKZOINDIA at 978.8', 'Sold 2 shares of 3MINDIA at 9057.4', 'Sold 1 shares of BANKBARODA at 913.7', 'Sold 4 shares of CRISIL at 32705.0', 'Sold 8 shares of PAGEIND at 18645.6', 'Sold 1 shares of PNB at 1197.0', 'Sold 1 shares of SIEMENS at 944.35', 'Sold 8 shares of PIIND at 7450.8', 'Sold 2 shares of ADANIENT at 1500.8', 'Sold 32 shares of SCHAEFFLER at 43606.4', 'Sold 4 shares of SOLARINDS at 2686.2', 'Sold 2 shares of GILLETTE at 4573.9', 'Sold 4 shares of TECHM at 3105.8', 'Sold 4 shares of 3MINDIA at 17926.4', 'Sold 8 shares of CRISIL at 65999.2', 'Sold 16 shares of PAGEIND at 36901.6', 'Sold 1 shares of PGHH at 1943.95', 'Sold 1 shares of BEML at 557.35', 'Sold 4 shares of ADANIENT at 3045.2', 'Sold 64 shares of SCHAEFFLER at 87881.6', 'Sold 2 shares of SUDARSCHEM at 1470.0', 'Sold 4 shares of GILLETTE at 9156.0', 'Sold 8 shares of TECHM at 6314.8', 'Sold 1 shares of ABBOTINDIA at 1454.75', 'Sold 2 shares of AKZOINDIA at 2045.8', 'Sold 2 shares of CANBK at 992.2', 'Sold 8 shares of 3MINDIA at 36134.8', 'Sold 16 shares of CRISIL at 140050.4', 'Sold 1 shares of BHEL at 1821.85', 'Sold 2 shares of PGHH at 3829.0', 'Sold 16 shares of PIIND at 17867.2', 'Sold 8 shares of ADANIENT at 6080.0', 'Sold 2 shares of J&KBANK at 1768.9', 'Sold 3 shares of THERMAX at 1732.9499999999998', 'Sold 1 shares of PFIZER at 1515.55', 'Sold 4 shares of SUDARSCHEM at 2897.8', 'Sold 4 shares of GLAXO at 9524.4', 'Sold 4 shares of AKZOINDIA at 4086.2', 'Sold 4 shares of CANBK at 1909.0', 'Sold 16 shares of ASTRAZEN at 22349.6', 'Sold 16 shares of 3MINDIA at 74258.4', 'Sold 1 shares of ECLERX at 820.05', 'Sold 1 shares of CUMMINSIND at 654.45', 'Sold 4 shares of PGHH at 7624.2', 'Sold 2 shares of BEML at 1092.9', 'Sold 32 shares of PIIND at 35456.0', 'Sold 6 shares of THERMAX at 3431.1000000000004', 'Sold 2 shares of PFIZER at 3068.4', 'Sold 8 shares of SUDARSCHEM at 5760.0', 'Sold 2 shares of WABCOINDIA at 2583.8', 'Sold 8 shares of CANBK at 3671.6', 'Sold 32 shares of ASTRAZEN at 45163.2', 'Sold 2 shares of ECLERX at 1619.4', 'Sold 2 shares of CUMMINSIND at 1282.1', 'Sold 1 shares of SRTRANSFIN at 640.55', 'Sold 16 shares of ADANIENT at 9368.0', 'Sold 4 shares of J&KBANK at 3539.2', 'Sold 12 shares of THERMAX at 6664.200000000001', 'Sold 4 shares of PFIZER at 6128.6', 'Sold 8 shares of SOLARINDS at 5854.0', 'Sold 16 shares of SUDARSCHEM at 11507.2', 'Sold 16 shares of CANBK at 7246.4', 'Sold 64 shares of ASTRAZEN at 90387.2', 'Sold 4 shares of ECLERX at 3223.6', 'Sold 4 shares of CUMMINSIND at 2527.8', 'Sold 2 shares of SRTRANSFIN at 1255.2', 'Sold 24 shares of THERMAX at 12874.800000000001', 'Sold 16 shares of SOLARINDS at 11749.6', 'Sold 32 shares of SUDARSCHEM at 22883.2', 'Sold 1 shares of GODREJPROP at 747.45', 'Sold 32 shares of CANBK at 13862.4', 'Sold 8 shares of ECLERX at 6400.4', 'Sold 8 shares of CUMMINSIND at 4931.2', 'Sold 4 shares of SRTRANSFIN at 2477.6', 'Sold 48 shares of THERMAX at 24744.0', 'Sold 32 shares of SOLARINDS at 23387.2', 'Sold 2 shares of GODREJPROP at 1477.8', 'Sold 64 shares of CANBK at 27302.4', 'Sold 2 shares of SUNDARMFIN at 1088.4', 'Sold 16 shares of ECLERX at 12587.2', 'Sold 16 shares of CUMMINSIND at 9763.2', 'Sold 1 shares of HONAUT at 2672.15', 'Sold 8 shares of SRTRANSFIN at 4758.4', 'Sold 96 shares of THERMAX at 49142.399999999994', 'Sold 2 shares of ABBOTINDIA at 2881.0', 'Sold 2 shares of TORNTPHARM at 1280.3', 'Sold 2 shares of BPCL at 1377.2', 'Sold 4 shares of SUNDARMFIN at 2141.6', 'Sold 1 shares of JUBLFOOD at 809.5', 'Sold 2 shares of HONAUT at 5279.6', 'Sold 2 shares of SHREECEM at 3407.6', 'Sold 16 shares of SRTRANSFIN at 9457.6']\n",
      "\n"
     ]
    },
    {
     "name": "stdout",
     "output_type": "stream",
     "text": [
      "2011-08-08\n",
      "['Bought 2 shares of NAUKRI at 1457.0', 'Bought 3 shares of SHRIRAMCIT at 1635.0', 'Bought 2 shares of J&KBANK at 1685.2', 'Bought 3 shares of THERMAX at 1830.0', 'Bought 1 shares of PFIZER at 1458.75', 'Bought 1 shares of SCHAEFFLER at 1178.25', 'Bought 2 shares of SOLARINDS at 1282.8', 'Bought 2 shares of SUDARSCHEM at 1520.0', 'Bought 1 shares of BOSCHLTD at 7058.35', 'Bought 1 shares of GILLETTE at 2135.2', 'Bought 2 shares of TECHM at 1484.5', 'Bought 1 shares of ABBOTINDIA at 1488.1', 'Bought 1 shares of GLAXO at 2330.35', 'Bought 1 shares of GODREJPROP at 811.9', 'Bought 1 shares of WABCOINDIA at 1167.5', 'Bought 1 shares of BAJAJHLDNG at 760.7', 'Bought 1 shares of SANOFI at 2048.15', 'Bought 2 shares of SKFINDIA at 1329.5', 'Bought 2 shares of TORNTPHARM at 1309.4', 'Bought 1 shares of AKZOINDIA at 909.55', 'Bought 2 shares of CANBK at 1019.9', 'Bought 1 shares of ASTRAZEN at 1300.0', 'Bought 1 shares of OIL at 1282.05', 'Bought 1 shares of 3MINDIA at 4151.4', 'Bought 2 shares of BPCL at 1336.3', 'Bought 2 shares of BALMLAWRIE at 1283.6', 'Bought 1 shares of CADILAHC at 931.35', 'Bought 2 shares of SUNDARMFIN at 1118.4', 'Bought 1 shares of TRENT at 1209.1', 'Bought 1 shares of BANKBARODA at 871.95', 'Bought 1 shares of COLPAL at 1003.8', 'Bought 1 shares of JUBLFOOD at 836.6', 'Bought 1 shares of CRISIL at 7252.75', 'Bought 1 shares of ZYDUSWELL at 710.85', 'Bought 1 shares of ABB at 876.6', 'Bought 1 shares of KANSAINER at 887.4', 'Bought 1 shares of ECLERX at 837.15', 'Bought 1 shares of CUMMINSIND at 679.1', 'Bought 1 shares of OFSS at 2290.05', 'Bought 1 shares of HONAUT at 2845.9', 'Bought 1 shares of HEROMOTOCO at 1860.5', 'Bought 1 shares of NESTLEIND at 4314.65', 'Bought 1 shares of PAGEIND at 1902.65', 'Bought 1 shares of PNB at 1119.2', 'Bought 1 shares of BHEL at 1939.3', 'Bought 1 shares of MRF at 7461.9', 'Bought 1 shares of AXISBANK at 1266.4', 'Bought 1 shares of TATAPOWER at 1289.15', 'Bought 1 shares of PGHH at 1968.85', 'Bought 1 shares of SHREECEM at 1745.3', 'Bought 1 shares of SIEMENS at 910.85', 'Bought 1 shares of ULTRACEMCO at 977.8', 'Bought 1 shares of SRTRANSFIN at 658.45', 'Bought 1 shares of BEML at 590.15', 'Bought 1 shares of UBL at 501.65', 'Bought 1 shares of PIIND at 773.35', 'Bought 1 shares of TATAMTRDVR at 581.5', 'Bought 1 shares of PGHL at 657.1', 'Bought 1 shares of ADANIENT at 705.6', 'Bought 1 shares of TATASTEEL at 572.0', 'Sold 1 shares of SHREECEM at 1799.9', 'Sold 1 shares of SCHAEFFLER at 1242.6', 'Sold 1 shares of WABCOINDIA at 1212.35', 'Sold 2 shares of SCHAEFFLER at 2527.4', 'Sold 1 shares of ASTRAZEN at 1319.9', 'Sold 1 shares of MRF at 7758.0', 'Sold 4 shares of SCHAEFFLER at 5076.8', 'Sold 1 shares of GLAXO at 2301.25', 'Sold 2 shares of ASTRAZEN at 2666.5', 'Sold 2 shares of SOLARINDS at 1319.3', 'Sold 1 shares of BOSCHLTD at 7188.95', 'Sold 4 shares of ASTRAZEN at 5344.4', 'Sold 2 shares of BOSCHLTD at 14439.3', 'Sold 2 shares of GLAXO at 4594.3', 'Sold 2 shares of SKFINDIA at 1264.2', 'Sold 1 shares of OFSS at 2150.4', 'Sold 1 shares of HEROMOTOCO at 1756.9', 'Sold 1 shares of PAGEIND at 2096.65', 'Sold 1 shares of PIIND at 882.35', 'Sold 8 shares of ASTRAZEN at 10760.0', 'Sold 1 shares of CADILAHC at 877.0', 'Sold 1 shares of CRISIL at 7970.6', 'Sold 2 shares of PAGEIND at 4397.8', 'Sold 2 shares of PIIND at 1800.9', 'Sold 2 shares of NAUKRI at 1507.0', 'Sold 8 shares of SCHAEFFLER at 10689.6', 'Sold 1 shares of 3MINDIA at 4509.7', 'Sold 2 shares of CADILAHC at 1743.2', 'Sold 2 shares of CRISIL at 15926.1', 'Sold 4 shares of PAGEIND at 9164.4', 'Sold 4 shares of PIIND at 3661.2', 'Sold 1 shares of ADANIENT at 737.55', 'Sold 16 shares of SCHAEFFLER at 21563.2', 'Sold 1 shares of GILLETTE at 2291.7', 'Sold 2 shares of TECHM at 1544.2', 'Sold 1 shares of AKZOINDIA at 978.8', 'Sold 2 shares of 3MINDIA at 9057.4', 'Sold 1 shares of BANKBARODA at 913.7', 'Sold 4 shares of CRISIL at 32705.0', 'Sold 8 shares of PAGEIND at 18645.6', 'Sold 1 shares of PNB at 1197.0', 'Sold 1 shares of SIEMENS at 944.35', 'Sold 8 shares of PIIND at 7450.8', 'Sold 2 shares of ADANIENT at 1500.8', 'Sold 32 shares of SCHAEFFLER at 43606.4', 'Sold 4 shares of SOLARINDS at 2686.2', 'Sold 2 shares of GILLETTE at 4573.9', 'Sold 4 shares of TECHM at 3105.8', 'Sold 4 shares of 3MINDIA at 17926.4', 'Sold 8 shares of CRISIL at 65999.2', 'Sold 16 shares of PAGEIND at 36901.6', 'Sold 1 shares of PGHH at 1943.95', 'Sold 1 shares of BEML at 557.35', 'Sold 4 shares of ADANIENT at 3045.2', 'Sold 64 shares of SCHAEFFLER at 87881.6', 'Sold 2 shares of SUDARSCHEM at 1470.0', 'Sold 4 shares of GILLETTE at 9156.0', 'Sold 8 shares of TECHM at 6314.8', 'Sold 1 shares of ABBOTINDIA at 1454.75', 'Sold 2 shares of AKZOINDIA at 2045.8', 'Sold 2 shares of CANBK at 992.2', 'Sold 8 shares of 3MINDIA at 36134.8', 'Sold 16 shares of CRISIL at 140050.4', 'Sold 1 shares of BHEL at 1821.85', 'Sold 2 shares of PGHH at 3829.0', 'Sold 16 shares of PIIND at 17867.2', 'Sold 8 shares of ADANIENT at 6080.0', 'Sold 2 shares of J&KBANK at 1768.9', 'Sold 3 shares of THERMAX at 1732.9499999999998', 'Sold 1 shares of PFIZER at 1515.55', 'Sold 4 shares of SUDARSCHEM at 2897.8', 'Sold 4 shares of GLAXO at 9524.4', 'Sold 4 shares of AKZOINDIA at 4086.2', 'Sold 4 shares of CANBK at 1909.0', 'Sold 16 shares of ASTRAZEN at 22349.6', 'Sold 16 shares of 3MINDIA at 74258.4', 'Sold 1 shares of ECLERX at 820.05', 'Sold 1 shares of CUMMINSIND at 654.45', 'Sold 4 shares of PGHH at 7624.2', 'Sold 2 shares of BEML at 1092.9', 'Sold 32 shares of PIIND at 35456.0', 'Sold 6 shares of THERMAX at 3431.1000000000004', 'Sold 2 shares of PFIZER at 3068.4', 'Sold 8 shares of SUDARSCHEM at 5760.0', 'Sold 2 shares of WABCOINDIA at 2583.8', 'Sold 8 shares of CANBK at 3671.6', 'Sold 32 shares of ASTRAZEN at 45163.2', 'Sold 2 shares of ECLERX at 1619.4', 'Sold 2 shares of CUMMINSIND at 1282.1', 'Sold 1 shares of SRTRANSFIN at 640.55', 'Sold 16 shares of ADANIENT at 9368.0', 'Sold 4 shares of J&KBANK at 3539.2', 'Sold 12 shares of THERMAX at 6664.200000000001', 'Sold 4 shares of PFIZER at 6128.6', 'Sold 8 shares of SOLARINDS at 5854.0', 'Sold 16 shares of SUDARSCHEM at 11507.2', 'Sold 16 shares of CANBK at 7246.4', 'Sold 64 shares of ASTRAZEN at 90387.2', 'Sold 4 shares of ECLERX at 3223.6', 'Sold 4 shares of CUMMINSIND at 2527.8', 'Sold 2 shares of SRTRANSFIN at 1255.2', 'Sold 24 shares of THERMAX at 12874.800000000001', 'Sold 16 shares of SOLARINDS at 11749.6', 'Sold 32 shares of SUDARSCHEM at 22883.2', 'Sold 1 shares of GODREJPROP at 747.45', 'Sold 32 shares of CANBK at 13862.4', 'Sold 8 shares of ECLERX at 6400.4', 'Sold 8 shares of CUMMINSIND at 4931.2', 'Sold 4 shares of SRTRANSFIN at 2477.6', 'Sold 48 shares of THERMAX at 24744.0', 'Sold 32 shares of SOLARINDS at 23387.2', 'Sold 2 shares of GODREJPROP at 1477.8', 'Sold 64 shares of CANBK at 27302.4', 'Sold 2 shares of SUNDARMFIN at 1088.4', 'Sold 16 shares of ECLERX at 12587.2', 'Sold 16 shares of CUMMINSIND at 9763.2', 'Sold 1 shares of HONAUT at 2672.15', 'Sold 8 shares of SRTRANSFIN at 4758.4', 'Sold 96 shares of THERMAX at 49142.399999999994', 'Sold 2 shares of ABBOTINDIA at 2881.0', 'Sold 2 shares of TORNTPHARM at 1280.3', 'Sold 2 shares of BPCL at 1377.2', 'Sold 4 shares of SUNDARMFIN at 2141.6', 'Sold 1 shares of JUBLFOOD at 809.5', 'Sold 2 shares of HONAUT at 5279.6', 'Sold 2 shares of SHREECEM at 3407.6', 'Sold 16 shares of SRTRANSFIN at 9457.6', 'Sold 8 shares of GLAXO at 17607.2', 'Sold 4 shares of GODREJPROP at 2874.8', 'Sold 4 shares of TORNTPHARM at 2525.6', 'Sold 4 shares of BPCL at 2809.2', 'Sold 2 shares of BALMLAWRIE at 1260.3', 'Sold 8 shares of SUNDARMFIN at 4240.8', 'Sold 1 shares of TRENT at 1167.7', 'Sold 2 shares of JUBLFOOD at 1528.0', 'Sold 1 shares of ABB at 822.25', 'Sold 32 shares of ECLERX at 25132.8', 'Sold 4 shares of HONAUT at 10279.0', 'Sold 2 shares of BHEL at 3422.7', 'Sold 1 shares of TATAPOWER at 1233.35', 'Sold 4 shares of BEML at 2000.0', 'Sold 1 shares of TATAMTRDVR at 487.5', 'Sold 1 shares of PGHL at 646.95', 'Sold 1 shares of TATASTEEL at 532.95']\n",
      "\n",
      "2011-08-09\n",
      "['Bought 2 shares of NAUKRI at 1457.0', 'Bought 3 shares of SHRIRAMCIT at 1635.0', 'Bought 2 shares of J&KBANK at 1685.2', 'Bought 3 shares of THERMAX at 1830.0', 'Bought 1 shares of PFIZER at 1458.75', 'Bought 1 shares of SCHAEFFLER at 1178.25', 'Bought 2 shares of SOLARINDS at 1282.8', 'Bought 2 shares of SUDARSCHEM at 1520.0', 'Bought 1 shares of BOSCHLTD at 7058.35', 'Bought 1 shares of GILLETTE at 2135.2', 'Bought 2 shares of TECHM at 1484.5', 'Bought 1 shares of ABBOTINDIA at 1488.1', 'Bought 1 shares of GLAXO at 2330.35', 'Bought 1 shares of GODREJPROP at 811.9', 'Bought 1 shares of WABCOINDIA at 1167.5', 'Bought 1 shares of BAJAJHLDNG at 760.7', 'Bought 1 shares of SANOFI at 2048.15', 'Bought 2 shares of SKFINDIA at 1329.5', 'Bought 2 shares of TORNTPHARM at 1309.4', 'Bought 1 shares of AKZOINDIA at 909.55', 'Bought 2 shares of CANBK at 1019.9', 'Bought 1 shares of ASTRAZEN at 1300.0', 'Bought 1 shares of OIL at 1282.05', 'Bought 1 shares of 3MINDIA at 4151.4', 'Bought 2 shares of BPCL at 1336.3', 'Bought 2 shares of BALMLAWRIE at 1283.6', 'Bought 1 shares of CADILAHC at 931.35', 'Bought 2 shares of SUNDARMFIN at 1118.4', 'Bought 1 shares of TRENT at 1209.1', 'Bought 1 shares of BANKBARODA at 871.95', 'Bought 1 shares of COLPAL at 1003.8', 'Bought 1 shares of JUBLFOOD at 836.6', 'Bought 1 shares of CRISIL at 7252.75', 'Bought 1 shares of ZYDUSWELL at 710.85', 'Bought 1 shares of ABB at 876.6', 'Bought 1 shares of KANSAINER at 887.4', 'Bought 1 shares of ECLERX at 837.15', 'Bought 1 shares of CUMMINSIND at 679.1', 'Bought 1 shares of OFSS at 2290.05', 'Bought 1 shares of HONAUT at 2845.9', 'Bought 1 shares of HEROMOTOCO at 1860.5', 'Bought 1 shares of NESTLEIND at 4314.65', 'Bought 1 shares of PAGEIND at 1902.65', 'Bought 1 shares of PNB at 1119.2', 'Bought 1 shares of BHEL at 1939.3', 'Bought 1 shares of MRF at 7461.9', 'Bought 1 shares of AXISBANK at 1266.4', 'Bought 1 shares of TATAPOWER at 1289.15', 'Bought 1 shares of PGHH at 1968.85', 'Bought 1 shares of SHREECEM at 1745.3', 'Bought 1 shares of SIEMENS at 910.85', 'Bought 1 shares of ULTRACEMCO at 977.8', 'Bought 1 shares of SRTRANSFIN at 658.45', 'Bought 1 shares of BEML at 590.15', 'Bought 1 shares of UBL at 501.65', 'Bought 1 shares of PIIND at 773.35', 'Bought 1 shares of TATAMTRDVR at 581.5', 'Bought 1 shares of PGHL at 657.1', 'Bought 1 shares of ADANIENT at 705.6', 'Bought 1 shares of TATASTEEL at 572.0', 'Sold 1 shares of SHREECEM at 1799.9', 'Sold 1 shares of SCHAEFFLER at 1242.6', 'Sold 1 shares of WABCOINDIA at 1212.35', 'Sold 2 shares of SCHAEFFLER at 2527.4', 'Sold 1 shares of ASTRAZEN at 1319.9', 'Sold 1 shares of MRF at 7758.0', 'Sold 4 shares of SCHAEFFLER at 5076.8', 'Sold 1 shares of GLAXO at 2301.25', 'Sold 2 shares of ASTRAZEN at 2666.5', 'Sold 2 shares of SOLARINDS at 1319.3', 'Sold 1 shares of BOSCHLTD at 7188.95', 'Sold 4 shares of ASTRAZEN at 5344.4', 'Sold 2 shares of BOSCHLTD at 14439.3', 'Sold 2 shares of GLAXO at 4594.3', 'Sold 2 shares of SKFINDIA at 1264.2', 'Sold 1 shares of OFSS at 2150.4', 'Sold 1 shares of HEROMOTOCO at 1756.9', 'Sold 1 shares of PAGEIND at 2096.65', 'Sold 1 shares of PIIND at 882.35', 'Sold 8 shares of ASTRAZEN at 10760.0', 'Sold 1 shares of CADILAHC at 877.0', 'Sold 1 shares of CRISIL at 7970.6', 'Sold 2 shares of PAGEIND at 4397.8', 'Sold 2 shares of PIIND at 1800.9', 'Sold 2 shares of NAUKRI at 1507.0', 'Sold 8 shares of SCHAEFFLER at 10689.6', 'Sold 1 shares of 3MINDIA at 4509.7', 'Sold 2 shares of CADILAHC at 1743.2', 'Sold 2 shares of CRISIL at 15926.1', 'Sold 4 shares of PAGEIND at 9164.4', 'Sold 4 shares of PIIND at 3661.2', 'Sold 1 shares of ADANIENT at 737.55', 'Sold 16 shares of SCHAEFFLER at 21563.2', 'Sold 1 shares of GILLETTE at 2291.7', 'Sold 2 shares of TECHM at 1544.2', 'Sold 1 shares of AKZOINDIA at 978.8', 'Sold 2 shares of 3MINDIA at 9057.4', 'Sold 1 shares of BANKBARODA at 913.7', 'Sold 4 shares of CRISIL at 32705.0', 'Sold 8 shares of PAGEIND at 18645.6', 'Sold 1 shares of PNB at 1197.0', 'Sold 1 shares of SIEMENS at 944.35', 'Sold 8 shares of PIIND at 7450.8', 'Sold 2 shares of ADANIENT at 1500.8', 'Sold 32 shares of SCHAEFFLER at 43606.4', 'Sold 4 shares of SOLARINDS at 2686.2', 'Sold 2 shares of GILLETTE at 4573.9', 'Sold 4 shares of TECHM at 3105.8', 'Sold 4 shares of 3MINDIA at 17926.4', 'Sold 8 shares of CRISIL at 65999.2', 'Sold 16 shares of PAGEIND at 36901.6', 'Sold 1 shares of PGHH at 1943.95', 'Sold 1 shares of BEML at 557.35', 'Sold 4 shares of ADANIENT at 3045.2', 'Sold 64 shares of SCHAEFFLER at 87881.6', 'Sold 2 shares of SUDARSCHEM at 1470.0', 'Sold 4 shares of GILLETTE at 9156.0', 'Sold 8 shares of TECHM at 6314.8', 'Sold 1 shares of ABBOTINDIA at 1454.75', 'Sold 2 shares of AKZOINDIA at 2045.8', 'Sold 2 shares of CANBK at 992.2', 'Sold 8 shares of 3MINDIA at 36134.8', 'Sold 16 shares of CRISIL at 140050.4', 'Sold 1 shares of BHEL at 1821.85', 'Sold 2 shares of PGHH at 3829.0', 'Sold 16 shares of PIIND at 17867.2', 'Sold 8 shares of ADANIENT at 6080.0', 'Sold 2 shares of J&KBANK at 1768.9', 'Sold 3 shares of THERMAX at 1732.9499999999998', 'Sold 1 shares of PFIZER at 1515.55', 'Sold 4 shares of SUDARSCHEM at 2897.8', 'Sold 4 shares of GLAXO at 9524.4', 'Sold 4 shares of AKZOINDIA at 4086.2', 'Sold 4 shares of CANBK at 1909.0', 'Sold 16 shares of ASTRAZEN at 22349.6', 'Sold 16 shares of 3MINDIA at 74258.4', 'Sold 1 shares of ECLERX at 820.05', 'Sold 1 shares of CUMMINSIND at 654.45', 'Sold 4 shares of PGHH at 7624.2', 'Sold 2 shares of BEML at 1092.9', 'Sold 32 shares of PIIND at 35456.0', 'Sold 6 shares of THERMAX at 3431.1000000000004', 'Sold 2 shares of PFIZER at 3068.4', 'Sold 8 shares of SUDARSCHEM at 5760.0', 'Sold 2 shares of WABCOINDIA at 2583.8', 'Sold 8 shares of CANBK at 3671.6', 'Sold 32 shares of ASTRAZEN at 45163.2', 'Sold 2 shares of ECLERX at 1619.4', 'Sold 2 shares of CUMMINSIND at 1282.1', 'Sold 1 shares of SRTRANSFIN at 640.55', 'Sold 16 shares of ADANIENT at 9368.0', 'Sold 4 shares of J&KBANK at 3539.2', 'Sold 12 shares of THERMAX at 6664.200000000001', 'Sold 4 shares of PFIZER at 6128.6', 'Sold 8 shares of SOLARINDS at 5854.0', 'Sold 16 shares of SUDARSCHEM at 11507.2', 'Sold 16 shares of CANBK at 7246.4', 'Sold 64 shares of ASTRAZEN at 90387.2', 'Sold 4 shares of ECLERX at 3223.6', 'Sold 4 shares of CUMMINSIND at 2527.8', 'Sold 2 shares of SRTRANSFIN at 1255.2', 'Sold 24 shares of THERMAX at 12874.800000000001', 'Sold 16 shares of SOLARINDS at 11749.6', 'Sold 32 shares of SUDARSCHEM at 22883.2', 'Sold 1 shares of GODREJPROP at 747.45', 'Sold 32 shares of CANBK at 13862.4', 'Sold 8 shares of ECLERX at 6400.4', 'Sold 8 shares of CUMMINSIND at 4931.2', 'Sold 4 shares of SRTRANSFIN at 2477.6', 'Sold 48 shares of THERMAX at 24744.0', 'Sold 32 shares of SOLARINDS at 23387.2', 'Sold 2 shares of GODREJPROP at 1477.8', 'Sold 64 shares of CANBK at 27302.4', 'Sold 2 shares of SUNDARMFIN at 1088.4', 'Sold 16 shares of ECLERX at 12587.2', 'Sold 16 shares of CUMMINSIND at 9763.2', 'Sold 1 shares of HONAUT at 2672.15', 'Sold 8 shares of SRTRANSFIN at 4758.4', 'Sold 96 shares of THERMAX at 49142.399999999994', 'Sold 2 shares of ABBOTINDIA at 2881.0', 'Sold 2 shares of TORNTPHARM at 1280.3', 'Sold 2 shares of BPCL at 1377.2', 'Sold 4 shares of SUNDARMFIN at 2141.6', 'Sold 1 shares of JUBLFOOD at 809.5', 'Sold 2 shares of HONAUT at 5279.6', 'Sold 2 shares of SHREECEM at 3407.6', 'Sold 16 shares of SRTRANSFIN at 9457.6', 'Sold 8 shares of GLAXO at 17607.2', 'Sold 4 shares of GODREJPROP at 2874.8', 'Sold 4 shares of TORNTPHARM at 2525.6', 'Sold 4 shares of BPCL at 2809.2', 'Sold 2 shares of BALMLAWRIE at 1260.3', 'Sold 8 shares of SUNDARMFIN at 4240.8', 'Sold 1 shares of TRENT at 1167.7', 'Sold 2 shares of JUBLFOOD at 1528.0', 'Sold 1 shares of ABB at 822.25', 'Sold 32 shares of ECLERX at 25132.8', 'Sold 4 shares of HONAUT at 10279.0', 'Sold 2 shares of BHEL at 3422.7', 'Sold 1 shares of TATAPOWER at 1233.35', 'Sold 4 shares of BEML at 2000.0', 'Sold 1 shares of TATAMTRDVR at 487.5', 'Sold 1 shares of PGHL at 646.95', 'Sold 1 shares of TATASTEEL at 532.95', 'Sold 16 shares of TECHM at 11412.8', 'Sold 16 shares of GLAXO at 34184.8', 'Sold 8 shares of TORNTPHARM at 4977.6', 'Sold 1 shares of OIL at 1347.2', 'Sold 8 shares of BPCL at 5623.6', 'Sold 4 shares of BALMLAWRIE at 2501.0', 'Sold 16 shares of SUNDARMFIN at 8345.6', 'Sold 2 shares of TRENT at 2291.4', 'Sold 1 shares of COLPAL at 947.65', 'Sold 4 shares of JUBLFOOD at 3058.8', 'Sold 2 shares of ABB at 1614.1', 'Sold 64 shares of ECLERX at 48972.8', 'Sold 8 shares of HONAUT at 19923.2', 'Sold 1 shares of NESTLEIND at 4133.8', 'Sold 2 shares of TATAPOWER at 2412.3', 'Sold 2 shares of SIEMENS at 1744.9', 'Sold 8 shares of BEML at 3926.4', 'Sold 2 shares of TATAMTRDVR at 924.8', 'Sold 2 shares of PGHL at 1260.9', 'Sold 2 shares of TATASTEEL at 1018.2']\n",
      "\n"
     ]
    },
    {
     "name": "stdout",
     "output_type": "stream",
     "text": [
      "2011-08-10\n",
      "['Bought 2 shares of NAUKRI at 1457.0', 'Bought 3 shares of SHRIRAMCIT at 1635.0', 'Bought 2 shares of J&KBANK at 1685.2', 'Bought 3 shares of THERMAX at 1830.0', 'Bought 1 shares of PFIZER at 1458.75', 'Bought 1 shares of SCHAEFFLER at 1178.25', 'Bought 2 shares of SOLARINDS at 1282.8', 'Bought 2 shares of SUDARSCHEM at 1520.0', 'Bought 1 shares of BOSCHLTD at 7058.35', 'Bought 1 shares of GILLETTE at 2135.2', 'Bought 2 shares of TECHM at 1484.5', 'Bought 1 shares of ABBOTINDIA at 1488.1', 'Bought 1 shares of GLAXO at 2330.35', 'Bought 1 shares of GODREJPROP at 811.9', 'Bought 1 shares of WABCOINDIA at 1167.5', 'Bought 1 shares of BAJAJHLDNG at 760.7', 'Bought 1 shares of SANOFI at 2048.15', 'Bought 2 shares of SKFINDIA at 1329.5', 'Bought 2 shares of TORNTPHARM at 1309.4', 'Bought 1 shares of AKZOINDIA at 909.55', 'Bought 2 shares of CANBK at 1019.9', 'Bought 1 shares of ASTRAZEN at 1300.0', 'Bought 1 shares of OIL at 1282.05', 'Bought 1 shares of 3MINDIA at 4151.4', 'Bought 2 shares of BPCL at 1336.3', 'Bought 2 shares of BALMLAWRIE at 1283.6', 'Bought 1 shares of CADILAHC at 931.35', 'Bought 2 shares of SUNDARMFIN at 1118.4', 'Bought 1 shares of TRENT at 1209.1', 'Bought 1 shares of BANKBARODA at 871.95', 'Bought 1 shares of COLPAL at 1003.8', 'Bought 1 shares of JUBLFOOD at 836.6', 'Bought 1 shares of CRISIL at 7252.75', 'Bought 1 shares of ZYDUSWELL at 710.85', 'Bought 1 shares of ABB at 876.6', 'Bought 1 shares of KANSAINER at 887.4', 'Bought 1 shares of ECLERX at 837.15', 'Bought 1 shares of CUMMINSIND at 679.1', 'Bought 1 shares of OFSS at 2290.05', 'Bought 1 shares of HONAUT at 2845.9', 'Bought 1 shares of HEROMOTOCO at 1860.5', 'Bought 1 shares of NESTLEIND at 4314.65', 'Bought 1 shares of PAGEIND at 1902.65', 'Bought 1 shares of PNB at 1119.2', 'Bought 1 shares of BHEL at 1939.3', 'Bought 1 shares of MRF at 7461.9', 'Bought 1 shares of AXISBANK at 1266.4', 'Bought 1 shares of TATAPOWER at 1289.15', 'Bought 1 shares of PGHH at 1968.85', 'Bought 1 shares of SHREECEM at 1745.3', 'Bought 1 shares of SIEMENS at 910.85', 'Bought 1 shares of ULTRACEMCO at 977.8', 'Bought 1 shares of SRTRANSFIN at 658.45', 'Bought 1 shares of BEML at 590.15', 'Bought 1 shares of UBL at 501.65', 'Bought 1 shares of PIIND at 773.35', 'Bought 1 shares of TATAMTRDVR at 581.5', 'Bought 1 shares of PGHL at 657.1', 'Bought 1 shares of ADANIENT at 705.6', 'Bought 1 shares of TATASTEEL at 572.0', 'Sold 1 shares of SHREECEM at 1799.9', 'Sold 1 shares of SCHAEFFLER at 1242.6', 'Sold 1 shares of WABCOINDIA at 1212.35', 'Sold 2 shares of SCHAEFFLER at 2527.4', 'Sold 1 shares of ASTRAZEN at 1319.9', 'Sold 1 shares of MRF at 7758.0', 'Sold 4 shares of SCHAEFFLER at 5076.8', 'Sold 1 shares of GLAXO at 2301.25', 'Sold 2 shares of ASTRAZEN at 2666.5', 'Sold 2 shares of SOLARINDS at 1319.3', 'Sold 1 shares of BOSCHLTD at 7188.95', 'Sold 4 shares of ASTRAZEN at 5344.4', 'Sold 2 shares of BOSCHLTD at 14439.3', 'Sold 2 shares of GLAXO at 4594.3', 'Sold 2 shares of SKFINDIA at 1264.2', 'Sold 1 shares of OFSS at 2150.4', 'Sold 1 shares of HEROMOTOCO at 1756.9', 'Sold 1 shares of PAGEIND at 2096.65', 'Sold 1 shares of PIIND at 882.35', 'Sold 8 shares of ASTRAZEN at 10760.0', 'Sold 1 shares of CADILAHC at 877.0', 'Sold 1 shares of CRISIL at 7970.6', 'Sold 2 shares of PAGEIND at 4397.8', 'Sold 2 shares of PIIND at 1800.9', 'Sold 2 shares of NAUKRI at 1507.0', 'Sold 8 shares of SCHAEFFLER at 10689.6', 'Sold 1 shares of 3MINDIA at 4509.7', 'Sold 2 shares of CADILAHC at 1743.2', 'Sold 2 shares of CRISIL at 15926.1', 'Sold 4 shares of PAGEIND at 9164.4', 'Sold 4 shares of PIIND at 3661.2', 'Sold 1 shares of ADANIENT at 737.55', 'Sold 16 shares of SCHAEFFLER at 21563.2', 'Sold 1 shares of GILLETTE at 2291.7', 'Sold 2 shares of TECHM at 1544.2', 'Sold 1 shares of AKZOINDIA at 978.8', 'Sold 2 shares of 3MINDIA at 9057.4', 'Sold 1 shares of BANKBARODA at 913.7', 'Sold 4 shares of CRISIL at 32705.0', 'Sold 8 shares of PAGEIND at 18645.6', 'Sold 1 shares of PNB at 1197.0', 'Sold 1 shares of SIEMENS at 944.35', 'Sold 8 shares of PIIND at 7450.8', 'Sold 2 shares of ADANIENT at 1500.8', 'Sold 32 shares of SCHAEFFLER at 43606.4', 'Sold 4 shares of SOLARINDS at 2686.2', 'Sold 2 shares of GILLETTE at 4573.9', 'Sold 4 shares of TECHM at 3105.8', 'Sold 4 shares of 3MINDIA at 17926.4', 'Sold 8 shares of CRISIL at 65999.2', 'Sold 16 shares of PAGEIND at 36901.6', 'Sold 1 shares of PGHH at 1943.95', 'Sold 1 shares of BEML at 557.35', 'Sold 4 shares of ADANIENT at 3045.2', 'Sold 64 shares of SCHAEFFLER at 87881.6', 'Sold 2 shares of SUDARSCHEM at 1470.0', 'Sold 4 shares of GILLETTE at 9156.0', 'Sold 8 shares of TECHM at 6314.8', 'Sold 1 shares of ABBOTINDIA at 1454.75', 'Sold 2 shares of AKZOINDIA at 2045.8', 'Sold 2 shares of CANBK at 992.2', 'Sold 8 shares of 3MINDIA at 36134.8', 'Sold 16 shares of CRISIL at 140050.4', 'Sold 1 shares of BHEL at 1821.85', 'Sold 2 shares of PGHH at 3829.0', 'Sold 16 shares of PIIND at 17867.2', 'Sold 8 shares of ADANIENT at 6080.0', 'Sold 2 shares of J&KBANK at 1768.9', 'Sold 3 shares of THERMAX at 1732.9499999999998', 'Sold 1 shares of PFIZER at 1515.55', 'Sold 4 shares of SUDARSCHEM at 2897.8', 'Sold 4 shares of GLAXO at 9524.4', 'Sold 4 shares of AKZOINDIA at 4086.2', 'Sold 4 shares of CANBK at 1909.0', 'Sold 16 shares of ASTRAZEN at 22349.6', 'Sold 16 shares of 3MINDIA at 74258.4', 'Sold 1 shares of ECLERX at 820.05', 'Sold 1 shares of CUMMINSIND at 654.45', 'Sold 4 shares of PGHH at 7624.2', 'Sold 2 shares of BEML at 1092.9', 'Sold 32 shares of PIIND at 35456.0', 'Sold 6 shares of THERMAX at 3431.1000000000004', 'Sold 2 shares of PFIZER at 3068.4', 'Sold 8 shares of SUDARSCHEM at 5760.0', 'Sold 2 shares of WABCOINDIA at 2583.8', 'Sold 8 shares of CANBK at 3671.6', 'Sold 32 shares of ASTRAZEN at 45163.2', 'Sold 2 shares of ECLERX at 1619.4', 'Sold 2 shares of CUMMINSIND at 1282.1', 'Sold 1 shares of SRTRANSFIN at 640.55', 'Sold 16 shares of ADANIENT at 9368.0', 'Sold 4 shares of J&KBANK at 3539.2', 'Sold 12 shares of THERMAX at 6664.200000000001', 'Sold 4 shares of PFIZER at 6128.6', 'Sold 8 shares of SOLARINDS at 5854.0', 'Sold 16 shares of SUDARSCHEM at 11507.2', 'Sold 16 shares of CANBK at 7246.4', 'Sold 64 shares of ASTRAZEN at 90387.2', 'Sold 4 shares of ECLERX at 3223.6', 'Sold 4 shares of CUMMINSIND at 2527.8', 'Sold 2 shares of SRTRANSFIN at 1255.2', 'Sold 24 shares of THERMAX at 12874.800000000001', 'Sold 16 shares of SOLARINDS at 11749.6', 'Sold 32 shares of SUDARSCHEM at 22883.2', 'Sold 1 shares of GODREJPROP at 747.45', 'Sold 32 shares of CANBK at 13862.4', 'Sold 8 shares of ECLERX at 6400.4', 'Sold 8 shares of CUMMINSIND at 4931.2', 'Sold 4 shares of SRTRANSFIN at 2477.6', 'Sold 48 shares of THERMAX at 24744.0', 'Sold 32 shares of SOLARINDS at 23387.2', 'Sold 2 shares of GODREJPROP at 1477.8', 'Sold 64 shares of CANBK at 27302.4', 'Sold 2 shares of SUNDARMFIN at 1088.4', 'Sold 16 shares of ECLERX at 12587.2', 'Sold 16 shares of CUMMINSIND at 9763.2', 'Sold 1 shares of HONAUT at 2672.15', 'Sold 8 shares of SRTRANSFIN at 4758.4', 'Sold 96 shares of THERMAX at 49142.399999999994', 'Sold 2 shares of ABBOTINDIA at 2881.0', 'Sold 2 shares of TORNTPHARM at 1280.3', 'Sold 2 shares of BPCL at 1377.2', 'Sold 4 shares of SUNDARMFIN at 2141.6', 'Sold 1 shares of JUBLFOOD at 809.5', 'Sold 2 shares of HONAUT at 5279.6', 'Sold 2 shares of SHREECEM at 3407.6', 'Sold 16 shares of SRTRANSFIN at 9457.6', 'Sold 8 shares of GLAXO at 17607.2', 'Sold 4 shares of GODREJPROP at 2874.8', 'Sold 4 shares of TORNTPHARM at 2525.6', 'Sold 4 shares of BPCL at 2809.2', 'Sold 2 shares of BALMLAWRIE at 1260.3', 'Sold 8 shares of SUNDARMFIN at 4240.8', 'Sold 1 shares of TRENT at 1167.7', 'Sold 2 shares of JUBLFOOD at 1528.0', 'Sold 1 shares of ABB at 822.25', 'Sold 32 shares of ECLERX at 25132.8', 'Sold 4 shares of HONAUT at 10279.0', 'Sold 2 shares of BHEL at 3422.7', 'Sold 1 shares of TATAPOWER at 1233.35', 'Sold 4 shares of BEML at 2000.0', 'Sold 1 shares of TATAMTRDVR at 487.5', 'Sold 1 shares of PGHL at 646.95', 'Sold 1 shares of TATASTEEL at 532.95', 'Sold 16 shares of TECHM at 11412.8', 'Sold 16 shares of GLAXO at 34184.8', 'Sold 8 shares of TORNTPHARM at 4977.6', 'Sold 1 shares of OIL at 1347.2', 'Sold 8 shares of BPCL at 5623.6', 'Sold 4 shares of BALMLAWRIE at 2501.0', 'Sold 16 shares of SUNDARMFIN at 8345.6', 'Sold 2 shares of TRENT at 2291.4', 'Sold 1 shares of COLPAL at 947.65', 'Sold 4 shares of JUBLFOOD at 3058.8', 'Sold 2 shares of ABB at 1614.1', 'Sold 64 shares of ECLERX at 48972.8', 'Sold 8 shares of HONAUT at 19923.2', 'Sold 1 shares of NESTLEIND at 4133.8', 'Sold 2 shares of TATAPOWER at 2412.3', 'Sold 2 shares of SIEMENS at 1744.9', 'Sold 8 shares of BEML at 3926.4', 'Sold 2 shares of TATAMTRDVR at 924.8', 'Sold 2 shares of PGHL at 1260.9', 'Sold 2 shares of TATASTEEL at 1018.2', 'Sold 4 shares of NAUKRI at 2830.8', 'Sold 8 shares of PFIZER at 11163.2', 'Sold 8 shares of GILLETTE at 16461.2', 'Sold 32 shares of GLAXO at 67588.8', 'Sold 8 shares of GODREJPROP at 5520.0', 'Sold 1 shares of SANOFI at 2034.0', 'Sold 16 shares of TORNTPHARM at 9872.8', 'Sold 2 shares of OIL at 2705.5', 'Sold 8 shares of BALMLAWRIE at 4964.0', 'Sold 32 shares of SUNDARMFIN at 16550.4', 'Sold 4 shares of TRENT at 4501.4', 'Sold 2 shares of BANKBARODA at 1697.9', 'Sold 2 shares of COLPAL at 1863.4', 'Sold 8 shares of JUBLFOOD at 6118.0', 'Sold 4 shares of ABB at 3222.2', 'Sold 128 shares of ECLERX at 97299.2', 'Sold 2 shares of OFSS at 3963.3', 'Sold 16 shares of HONAUT at 39269.6', 'Sold 1 shares of AXISBANK at 1205.2', 'Sold 4 shares of TATAPOWER at 4709.2', 'Sold 4 shares of SIEMENS at 3500.6', 'Sold 16 shares of BEML at 7685.6', 'Sold 4 shares of TATAMTRDVR at 1797.2', 'Sold 4 shares of PGHL at 2505.6', 'Sold 4 shares of TATASTEEL at 1940.6']\n",
      "\n"
     ]
    },
    {
     "name": "stdout",
     "output_type": "stream",
     "text": [
      "2011-08-11\n",
      "['Bought 2 shares of NAUKRI at 1457.0', 'Bought 3 shares of SHRIRAMCIT at 1635.0', 'Bought 2 shares of J&KBANK at 1685.2', 'Bought 3 shares of THERMAX at 1830.0', 'Bought 1 shares of PFIZER at 1458.75', 'Bought 1 shares of SCHAEFFLER at 1178.25', 'Bought 2 shares of SOLARINDS at 1282.8', 'Bought 2 shares of SUDARSCHEM at 1520.0', 'Bought 1 shares of BOSCHLTD at 7058.35', 'Bought 1 shares of GILLETTE at 2135.2', 'Bought 2 shares of TECHM at 1484.5', 'Bought 1 shares of ABBOTINDIA at 1488.1', 'Bought 1 shares of GLAXO at 2330.35', 'Bought 1 shares of GODREJPROP at 811.9', 'Bought 1 shares of WABCOINDIA at 1167.5', 'Bought 1 shares of BAJAJHLDNG at 760.7', 'Bought 1 shares of SANOFI at 2048.15', 'Bought 2 shares of SKFINDIA at 1329.5', 'Bought 2 shares of TORNTPHARM at 1309.4', 'Bought 1 shares of AKZOINDIA at 909.55', 'Bought 2 shares of CANBK at 1019.9', 'Bought 1 shares of ASTRAZEN at 1300.0', 'Bought 1 shares of OIL at 1282.05', 'Bought 1 shares of 3MINDIA at 4151.4', 'Bought 2 shares of BPCL at 1336.3', 'Bought 2 shares of BALMLAWRIE at 1283.6', 'Bought 1 shares of CADILAHC at 931.35', 'Bought 2 shares of SUNDARMFIN at 1118.4', 'Bought 1 shares of TRENT at 1209.1', 'Bought 1 shares of BANKBARODA at 871.95', 'Bought 1 shares of COLPAL at 1003.8', 'Bought 1 shares of JUBLFOOD at 836.6', 'Bought 1 shares of CRISIL at 7252.75', 'Bought 1 shares of ZYDUSWELL at 710.85', 'Bought 1 shares of ABB at 876.6', 'Bought 1 shares of KANSAINER at 887.4', 'Bought 1 shares of ECLERX at 837.15', 'Bought 1 shares of CUMMINSIND at 679.1', 'Bought 1 shares of OFSS at 2290.05', 'Bought 1 shares of HONAUT at 2845.9', 'Bought 1 shares of HEROMOTOCO at 1860.5', 'Bought 1 shares of NESTLEIND at 4314.65', 'Bought 1 shares of PAGEIND at 1902.65', 'Bought 1 shares of PNB at 1119.2', 'Bought 1 shares of BHEL at 1939.3', 'Bought 1 shares of MRF at 7461.9', 'Bought 1 shares of AXISBANK at 1266.4', 'Bought 1 shares of TATAPOWER at 1289.15', 'Bought 1 shares of PGHH at 1968.85', 'Bought 1 shares of SHREECEM at 1745.3', 'Bought 1 shares of SIEMENS at 910.85', 'Bought 1 shares of ULTRACEMCO at 977.8', 'Bought 1 shares of SRTRANSFIN at 658.45', 'Bought 1 shares of BEML at 590.15', 'Bought 1 shares of UBL at 501.65', 'Bought 1 shares of PIIND at 773.35', 'Bought 1 shares of TATAMTRDVR at 581.5', 'Bought 1 shares of PGHL at 657.1', 'Bought 1 shares of ADANIENT at 705.6', 'Bought 1 shares of TATASTEEL at 572.0', 'Sold 1 shares of SHREECEM at 1799.9', 'Sold 1 shares of SCHAEFFLER at 1242.6', 'Sold 1 shares of WABCOINDIA at 1212.35', 'Sold 2 shares of SCHAEFFLER at 2527.4', 'Sold 1 shares of ASTRAZEN at 1319.9', 'Sold 1 shares of MRF at 7758.0', 'Sold 4 shares of SCHAEFFLER at 5076.8', 'Sold 1 shares of GLAXO at 2301.25', 'Sold 2 shares of ASTRAZEN at 2666.5', 'Sold 2 shares of SOLARINDS at 1319.3', 'Sold 1 shares of BOSCHLTD at 7188.95', 'Sold 4 shares of ASTRAZEN at 5344.4', 'Sold 2 shares of BOSCHLTD at 14439.3', 'Sold 2 shares of GLAXO at 4594.3', 'Sold 2 shares of SKFINDIA at 1264.2', 'Sold 1 shares of OFSS at 2150.4', 'Sold 1 shares of HEROMOTOCO at 1756.9', 'Sold 1 shares of PAGEIND at 2096.65', 'Sold 1 shares of PIIND at 882.35', 'Sold 8 shares of ASTRAZEN at 10760.0', 'Sold 1 shares of CADILAHC at 877.0', 'Sold 1 shares of CRISIL at 7970.6', 'Sold 2 shares of PAGEIND at 4397.8', 'Sold 2 shares of PIIND at 1800.9', 'Sold 2 shares of NAUKRI at 1507.0', 'Sold 8 shares of SCHAEFFLER at 10689.6', 'Sold 1 shares of 3MINDIA at 4509.7', 'Sold 2 shares of CADILAHC at 1743.2', 'Sold 2 shares of CRISIL at 15926.1', 'Sold 4 shares of PAGEIND at 9164.4', 'Sold 4 shares of PIIND at 3661.2', 'Sold 1 shares of ADANIENT at 737.55', 'Sold 16 shares of SCHAEFFLER at 21563.2', 'Sold 1 shares of GILLETTE at 2291.7', 'Sold 2 shares of TECHM at 1544.2', 'Sold 1 shares of AKZOINDIA at 978.8', 'Sold 2 shares of 3MINDIA at 9057.4', 'Sold 1 shares of BANKBARODA at 913.7', 'Sold 4 shares of CRISIL at 32705.0', 'Sold 8 shares of PAGEIND at 18645.6', 'Sold 1 shares of PNB at 1197.0', 'Sold 1 shares of SIEMENS at 944.35', 'Sold 8 shares of PIIND at 7450.8', 'Sold 2 shares of ADANIENT at 1500.8', 'Sold 32 shares of SCHAEFFLER at 43606.4', 'Sold 4 shares of SOLARINDS at 2686.2', 'Sold 2 shares of GILLETTE at 4573.9', 'Sold 4 shares of TECHM at 3105.8', 'Sold 4 shares of 3MINDIA at 17926.4', 'Sold 8 shares of CRISIL at 65999.2', 'Sold 16 shares of PAGEIND at 36901.6', 'Sold 1 shares of PGHH at 1943.95', 'Sold 1 shares of BEML at 557.35', 'Sold 4 shares of ADANIENT at 3045.2', 'Sold 64 shares of SCHAEFFLER at 87881.6', 'Sold 2 shares of SUDARSCHEM at 1470.0', 'Sold 4 shares of GILLETTE at 9156.0', 'Sold 8 shares of TECHM at 6314.8', 'Sold 1 shares of ABBOTINDIA at 1454.75', 'Sold 2 shares of AKZOINDIA at 2045.8', 'Sold 2 shares of CANBK at 992.2', 'Sold 8 shares of 3MINDIA at 36134.8', 'Sold 16 shares of CRISIL at 140050.4', 'Sold 1 shares of BHEL at 1821.85', 'Sold 2 shares of PGHH at 3829.0', 'Sold 16 shares of PIIND at 17867.2', 'Sold 8 shares of ADANIENT at 6080.0', 'Sold 2 shares of J&KBANK at 1768.9', 'Sold 3 shares of THERMAX at 1732.9499999999998', 'Sold 1 shares of PFIZER at 1515.55', 'Sold 4 shares of SUDARSCHEM at 2897.8', 'Sold 4 shares of GLAXO at 9524.4', 'Sold 4 shares of AKZOINDIA at 4086.2', 'Sold 4 shares of CANBK at 1909.0', 'Sold 16 shares of ASTRAZEN at 22349.6', 'Sold 16 shares of 3MINDIA at 74258.4', 'Sold 1 shares of ECLERX at 820.05', 'Sold 1 shares of CUMMINSIND at 654.45', 'Sold 4 shares of PGHH at 7624.2', 'Sold 2 shares of BEML at 1092.9', 'Sold 32 shares of PIIND at 35456.0', 'Sold 6 shares of THERMAX at 3431.1000000000004', 'Sold 2 shares of PFIZER at 3068.4', 'Sold 8 shares of SUDARSCHEM at 5760.0', 'Sold 2 shares of WABCOINDIA at 2583.8', 'Sold 8 shares of CANBK at 3671.6', 'Sold 32 shares of ASTRAZEN at 45163.2', 'Sold 2 shares of ECLERX at 1619.4', 'Sold 2 shares of CUMMINSIND at 1282.1', 'Sold 1 shares of SRTRANSFIN at 640.55', 'Sold 16 shares of ADANIENT at 9368.0', 'Sold 4 shares of J&KBANK at 3539.2', 'Sold 12 shares of THERMAX at 6664.200000000001', 'Sold 4 shares of PFIZER at 6128.6', 'Sold 8 shares of SOLARINDS at 5854.0', 'Sold 16 shares of SUDARSCHEM at 11507.2', 'Sold 16 shares of CANBK at 7246.4', 'Sold 64 shares of ASTRAZEN at 90387.2', 'Sold 4 shares of ECLERX at 3223.6', 'Sold 4 shares of CUMMINSIND at 2527.8', 'Sold 2 shares of SRTRANSFIN at 1255.2', 'Sold 24 shares of THERMAX at 12874.800000000001', 'Sold 16 shares of SOLARINDS at 11749.6', 'Sold 32 shares of SUDARSCHEM at 22883.2', 'Sold 1 shares of GODREJPROP at 747.45', 'Sold 32 shares of CANBK at 13862.4', 'Sold 8 shares of ECLERX at 6400.4', 'Sold 8 shares of CUMMINSIND at 4931.2', 'Sold 4 shares of SRTRANSFIN at 2477.6', 'Sold 48 shares of THERMAX at 24744.0', 'Sold 32 shares of SOLARINDS at 23387.2', 'Sold 2 shares of GODREJPROP at 1477.8', 'Sold 64 shares of CANBK at 27302.4', 'Sold 2 shares of SUNDARMFIN at 1088.4', 'Sold 16 shares of ECLERX at 12587.2', 'Sold 16 shares of CUMMINSIND at 9763.2', 'Sold 1 shares of HONAUT at 2672.15', 'Sold 8 shares of SRTRANSFIN at 4758.4', 'Sold 96 shares of THERMAX at 49142.399999999994', 'Sold 2 shares of ABBOTINDIA at 2881.0', 'Sold 2 shares of TORNTPHARM at 1280.3', 'Sold 2 shares of BPCL at 1377.2', 'Sold 4 shares of SUNDARMFIN at 2141.6', 'Sold 1 shares of JUBLFOOD at 809.5', 'Sold 2 shares of HONAUT at 5279.6', 'Sold 2 shares of SHREECEM at 3407.6', 'Sold 16 shares of SRTRANSFIN at 9457.6', 'Sold 8 shares of GLAXO at 17607.2', 'Sold 4 shares of GODREJPROP at 2874.8', 'Sold 4 shares of TORNTPHARM at 2525.6', 'Sold 4 shares of BPCL at 2809.2', 'Sold 2 shares of BALMLAWRIE at 1260.3', 'Sold 8 shares of SUNDARMFIN at 4240.8', 'Sold 1 shares of TRENT at 1167.7', 'Sold 2 shares of JUBLFOOD at 1528.0', 'Sold 1 shares of ABB at 822.25', 'Sold 32 shares of ECLERX at 25132.8', 'Sold 4 shares of HONAUT at 10279.0', 'Sold 2 shares of BHEL at 3422.7', 'Sold 1 shares of TATAPOWER at 1233.35', 'Sold 4 shares of BEML at 2000.0', 'Sold 1 shares of TATAMTRDVR at 487.5', 'Sold 1 shares of PGHL at 646.95', 'Sold 1 shares of TATASTEEL at 532.95', 'Sold 16 shares of TECHM at 11412.8', 'Sold 16 shares of GLAXO at 34184.8', 'Sold 8 shares of TORNTPHARM at 4977.6', 'Sold 1 shares of OIL at 1347.2', 'Sold 8 shares of BPCL at 5623.6', 'Sold 4 shares of BALMLAWRIE at 2501.0', 'Sold 16 shares of SUNDARMFIN at 8345.6', 'Sold 2 shares of TRENT at 2291.4', 'Sold 1 shares of COLPAL at 947.65', 'Sold 4 shares of JUBLFOOD at 3058.8', 'Sold 2 shares of ABB at 1614.1', 'Sold 64 shares of ECLERX at 48972.8', 'Sold 8 shares of HONAUT at 19923.2', 'Sold 1 shares of NESTLEIND at 4133.8', 'Sold 2 shares of TATAPOWER at 2412.3', 'Sold 2 shares of SIEMENS at 1744.9', 'Sold 8 shares of BEML at 3926.4', 'Sold 2 shares of TATAMTRDVR at 924.8', 'Sold 2 shares of PGHL at 1260.9', 'Sold 2 shares of TATASTEEL at 1018.2', 'Sold 4 shares of NAUKRI at 2830.8', 'Sold 8 shares of PFIZER at 11163.2', 'Sold 8 shares of GILLETTE at 16461.2', 'Sold 32 shares of GLAXO at 67588.8', 'Sold 8 shares of GODREJPROP at 5520.0', 'Sold 1 shares of SANOFI at 2034.0', 'Sold 16 shares of TORNTPHARM at 9872.8', 'Sold 2 shares of OIL at 2705.5', 'Sold 8 shares of BALMLAWRIE at 4964.0', 'Sold 32 shares of SUNDARMFIN at 16550.4', 'Sold 4 shares of TRENT at 4501.4', 'Sold 2 shares of BANKBARODA at 1697.9', 'Sold 2 shares of COLPAL at 1863.4', 'Sold 8 shares of JUBLFOOD at 6118.0', 'Sold 4 shares of ABB at 3222.2', 'Sold 128 shares of ECLERX at 97299.2', 'Sold 2 shares of OFSS at 3963.3', 'Sold 16 shares of HONAUT at 39269.6', 'Sold 1 shares of AXISBANK at 1205.2', 'Sold 4 shares of TATAPOWER at 4709.2', 'Sold 4 shares of SIEMENS at 3500.6', 'Sold 16 shares of BEML at 7685.6', 'Sold 4 shares of TATAMTRDVR at 1797.2', 'Sold 4 shares of PGHL at 2505.6', 'Sold 4 shares of TATASTEEL at 1940.6', 'Sold 64 shares of GLAXO at 135580.8', 'Sold 4 shares of COLPAL at 3729.6', 'Sold 8 shares of ABB at 6379.6', 'Sold 2 shares of HEROMOTOCO at 3767.9', 'Sold 8 shares of TATAPOWER at 9408.8', 'Sold 8 shares of TATASTEEL at 3879.6']\n",
      "\n"
     ]
    },
    {
     "name": "stdout",
     "output_type": "stream",
     "text": [
      "2011-08-12\n",
      "['Bought 2 shares of NAUKRI at 1457.0', 'Bought 3 shares of SHRIRAMCIT at 1635.0', 'Bought 2 shares of J&KBANK at 1685.2', 'Bought 3 shares of THERMAX at 1830.0', 'Bought 1 shares of PFIZER at 1458.75', 'Bought 1 shares of SCHAEFFLER at 1178.25', 'Bought 2 shares of SOLARINDS at 1282.8', 'Bought 2 shares of SUDARSCHEM at 1520.0', 'Bought 1 shares of BOSCHLTD at 7058.35', 'Bought 1 shares of GILLETTE at 2135.2', 'Bought 2 shares of TECHM at 1484.5', 'Bought 1 shares of ABBOTINDIA at 1488.1', 'Bought 1 shares of GLAXO at 2330.35', 'Bought 1 shares of GODREJPROP at 811.9', 'Bought 1 shares of WABCOINDIA at 1167.5', 'Bought 1 shares of BAJAJHLDNG at 760.7', 'Bought 1 shares of SANOFI at 2048.15', 'Bought 2 shares of SKFINDIA at 1329.5', 'Bought 2 shares of TORNTPHARM at 1309.4', 'Bought 1 shares of AKZOINDIA at 909.55', 'Bought 2 shares of CANBK at 1019.9', 'Bought 1 shares of ASTRAZEN at 1300.0', 'Bought 1 shares of OIL at 1282.05', 'Bought 1 shares of 3MINDIA at 4151.4', 'Bought 2 shares of BPCL at 1336.3', 'Bought 2 shares of BALMLAWRIE at 1283.6', 'Bought 1 shares of CADILAHC at 931.35', 'Bought 2 shares of SUNDARMFIN at 1118.4', 'Bought 1 shares of TRENT at 1209.1', 'Bought 1 shares of BANKBARODA at 871.95', 'Bought 1 shares of COLPAL at 1003.8', 'Bought 1 shares of JUBLFOOD at 836.6', 'Bought 1 shares of CRISIL at 7252.75', 'Bought 1 shares of ZYDUSWELL at 710.85', 'Bought 1 shares of ABB at 876.6', 'Bought 1 shares of KANSAINER at 887.4', 'Bought 1 shares of ECLERX at 837.15', 'Bought 1 shares of CUMMINSIND at 679.1', 'Bought 1 shares of OFSS at 2290.05', 'Bought 1 shares of HONAUT at 2845.9', 'Bought 1 shares of HEROMOTOCO at 1860.5', 'Bought 1 shares of NESTLEIND at 4314.65', 'Bought 1 shares of PAGEIND at 1902.65', 'Bought 1 shares of PNB at 1119.2', 'Bought 1 shares of BHEL at 1939.3', 'Bought 1 shares of MRF at 7461.9', 'Bought 1 shares of AXISBANK at 1266.4', 'Bought 1 shares of TATAPOWER at 1289.15', 'Bought 1 shares of PGHH at 1968.85', 'Bought 1 shares of SHREECEM at 1745.3', 'Bought 1 shares of SIEMENS at 910.85', 'Bought 1 shares of ULTRACEMCO at 977.8', 'Bought 1 shares of SRTRANSFIN at 658.45', 'Bought 1 shares of BEML at 590.15', 'Bought 1 shares of UBL at 501.65', 'Bought 1 shares of PIIND at 773.35', 'Bought 1 shares of TATAMTRDVR at 581.5', 'Bought 1 shares of PGHL at 657.1', 'Bought 1 shares of ADANIENT at 705.6', 'Bought 1 shares of TATASTEEL at 572.0', 'Sold 1 shares of SHREECEM at 1799.9', 'Sold 1 shares of SCHAEFFLER at 1242.6', 'Sold 1 shares of WABCOINDIA at 1212.35', 'Sold 2 shares of SCHAEFFLER at 2527.4', 'Sold 1 shares of ASTRAZEN at 1319.9', 'Sold 1 shares of MRF at 7758.0', 'Sold 4 shares of SCHAEFFLER at 5076.8', 'Sold 1 shares of GLAXO at 2301.25', 'Sold 2 shares of ASTRAZEN at 2666.5', 'Sold 2 shares of SOLARINDS at 1319.3', 'Sold 1 shares of BOSCHLTD at 7188.95', 'Sold 4 shares of ASTRAZEN at 5344.4', 'Sold 2 shares of BOSCHLTD at 14439.3', 'Sold 2 shares of GLAXO at 4594.3', 'Sold 2 shares of SKFINDIA at 1264.2', 'Sold 1 shares of OFSS at 2150.4', 'Sold 1 shares of HEROMOTOCO at 1756.9', 'Sold 1 shares of PAGEIND at 2096.65', 'Sold 1 shares of PIIND at 882.35', 'Sold 8 shares of ASTRAZEN at 10760.0', 'Sold 1 shares of CADILAHC at 877.0', 'Sold 1 shares of CRISIL at 7970.6', 'Sold 2 shares of PAGEIND at 4397.8', 'Sold 2 shares of PIIND at 1800.9', 'Sold 2 shares of NAUKRI at 1507.0', 'Sold 8 shares of SCHAEFFLER at 10689.6', 'Sold 1 shares of 3MINDIA at 4509.7', 'Sold 2 shares of CADILAHC at 1743.2', 'Sold 2 shares of CRISIL at 15926.1', 'Sold 4 shares of PAGEIND at 9164.4', 'Sold 4 shares of PIIND at 3661.2', 'Sold 1 shares of ADANIENT at 737.55', 'Sold 16 shares of SCHAEFFLER at 21563.2', 'Sold 1 shares of GILLETTE at 2291.7', 'Sold 2 shares of TECHM at 1544.2', 'Sold 1 shares of AKZOINDIA at 978.8', 'Sold 2 shares of 3MINDIA at 9057.4', 'Sold 1 shares of BANKBARODA at 913.7', 'Sold 4 shares of CRISIL at 32705.0', 'Sold 8 shares of PAGEIND at 18645.6', 'Sold 1 shares of PNB at 1197.0', 'Sold 1 shares of SIEMENS at 944.35', 'Sold 8 shares of PIIND at 7450.8', 'Sold 2 shares of ADANIENT at 1500.8', 'Sold 32 shares of SCHAEFFLER at 43606.4', 'Sold 4 shares of SOLARINDS at 2686.2', 'Sold 2 shares of GILLETTE at 4573.9', 'Sold 4 shares of TECHM at 3105.8', 'Sold 4 shares of 3MINDIA at 17926.4', 'Sold 8 shares of CRISIL at 65999.2', 'Sold 16 shares of PAGEIND at 36901.6', 'Sold 1 shares of PGHH at 1943.95', 'Sold 1 shares of BEML at 557.35', 'Sold 4 shares of ADANIENT at 3045.2', 'Sold 64 shares of SCHAEFFLER at 87881.6', 'Sold 2 shares of SUDARSCHEM at 1470.0', 'Sold 4 shares of GILLETTE at 9156.0', 'Sold 8 shares of TECHM at 6314.8', 'Sold 1 shares of ABBOTINDIA at 1454.75', 'Sold 2 shares of AKZOINDIA at 2045.8', 'Sold 2 shares of CANBK at 992.2', 'Sold 8 shares of 3MINDIA at 36134.8', 'Sold 16 shares of CRISIL at 140050.4', 'Sold 1 shares of BHEL at 1821.85', 'Sold 2 shares of PGHH at 3829.0', 'Sold 16 shares of PIIND at 17867.2', 'Sold 8 shares of ADANIENT at 6080.0', 'Sold 2 shares of J&KBANK at 1768.9', 'Sold 3 shares of THERMAX at 1732.9499999999998', 'Sold 1 shares of PFIZER at 1515.55', 'Sold 4 shares of SUDARSCHEM at 2897.8', 'Sold 4 shares of GLAXO at 9524.4', 'Sold 4 shares of AKZOINDIA at 4086.2', 'Sold 4 shares of CANBK at 1909.0', 'Sold 16 shares of ASTRAZEN at 22349.6', 'Sold 16 shares of 3MINDIA at 74258.4', 'Sold 1 shares of ECLERX at 820.05', 'Sold 1 shares of CUMMINSIND at 654.45', 'Sold 4 shares of PGHH at 7624.2', 'Sold 2 shares of BEML at 1092.9', 'Sold 32 shares of PIIND at 35456.0', 'Sold 6 shares of THERMAX at 3431.1000000000004', 'Sold 2 shares of PFIZER at 3068.4', 'Sold 8 shares of SUDARSCHEM at 5760.0', 'Sold 2 shares of WABCOINDIA at 2583.8', 'Sold 8 shares of CANBK at 3671.6', 'Sold 32 shares of ASTRAZEN at 45163.2', 'Sold 2 shares of ECLERX at 1619.4', 'Sold 2 shares of CUMMINSIND at 1282.1', 'Sold 1 shares of SRTRANSFIN at 640.55', 'Sold 16 shares of ADANIENT at 9368.0', 'Sold 4 shares of J&KBANK at 3539.2', 'Sold 12 shares of THERMAX at 6664.200000000001', 'Sold 4 shares of PFIZER at 6128.6', 'Sold 8 shares of SOLARINDS at 5854.0', 'Sold 16 shares of SUDARSCHEM at 11507.2', 'Sold 16 shares of CANBK at 7246.4', 'Sold 64 shares of ASTRAZEN at 90387.2', 'Sold 4 shares of ECLERX at 3223.6', 'Sold 4 shares of CUMMINSIND at 2527.8', 'Sold 2 shares of SRTRANSFIN at 1255.2', 'Sold 24 shares of THERMAX at 12874.800000000001', 'Sold 16 shares of SOLARINDS at 11749.6', 'Sold 32 shares of SUDARSCHEM at 22883.2', 'Sold 1 shares of GODREJPROP at 747.45', 'Sold 32 shares of CANBK at 13862.4', 'Sold 8 shares of ECLERX at 6400.4', 'Sold 8 shares of CUMMINSIND at 4931.2', 'Sold 4 shares of SRTRANSFIN at 2477.6', 'Sold 48 shares of THERMAX at 24744.0', 'Sold 32 shares of SOLARINDS at 23387.2', 'Sold 2 shares of GODREJPROP at 1477.8', 'Sold 64 shares of CANBK at 27302.4', 'Sold 2 shares of SUNDARMFIN at 1088.4', 'Sold 16 shares of ECLERX at 12587.2', 'Sold 16 shares of CUMMINSIND at 9763.2', 'Sold 1 shares of HONAUT at 2672.15', 'Sold 8 shares of SRTRANSFIN at 4758.4', 'Sold 96 shares of THERMAX at 49142.399999999994', 'Sold 2 shares of ABBOTINDIA at 2881.0', 'Sold 2 shares of TORNTPHARM at 1280.3', 'Sold 2 shares of BPCL at 1377.2', 'Sold 4 shares of SUNDARMFIN at 2141.6', 'Sold 1 shares of JUBLFOOD at 809.5', 'Sold 2 shares of HONAUT at 5279.6', 'Sold 2 shares of SHREECEM at 3407.6', 'Sold 16 shares of SRTRANSFIN at 9457.6', 'Sold 8 shares of GLAXO at 17607.2', 'Sold 4 shares of GODREJPROP at 2874.8', 'Sold 4 shares of TORNTPHARM at 2525.6', 'Sold 4 shares of BPCL at 2809.2', 'Sold 2 shares of BALMLAWRIE at 1260.3', 'Sold 8 shares of SUNDARMFIN at 4240.8', 'Sold 1 shares of TRENT at 1167.7', 'Sold 2 shares of JUBLFOOD at 1528.0', 'Sold 1 shares of ABB at 822.25', 'Sold 32 shares of ECLERX at 25132.8', 'Sold 4 shares of HONAUT at 10279.0', 'Sold 2 shares of BHEL at 3422.7', 'Sold 1 shares of TATAPOWER at 1233.35', 'Sold 4 shares of BEML at 2000.0', 'Sold 1 shares of TATAMTRDVR at 487.5', 'Sold 1 shares of PGHL at 646.95', 'Sold 1 shares of TATASTEEL at 532.95', 'Sold 16 shares of TECHM at 11412.8', 'Sold 16 shares of GLAXO at 34184.8', 'Sold 8 shares of TORNTPHARM at 4977.6', 'Sold 1 shares of OIL at 1347.2', 'Sold 8 shares of BPCL at 5623.6', 'Sold 4 shares of BALMLAWRIE at 2501.0', 'Sold 16 shares of SUNDARMFIN at 8345.6', 'Sold 2 shares of TRENT at 2291.4', 'Sold 1 shares of COLPAL at 947.65', 'Sold 4 shares of JUBLFOOD at 3058.8', 'Sold 2 shares of ABB at 1614.1', 'Sold 64 shares of ECLERX at 48972.8', 'Sold 8 shares of HONAUT at 19923.2', 'Sold 1 shares of NESTLEIND at 4133.8', 'Sold 2 shares of TATAPOWER at 2412.3', 'Sold 2 shares of SIEMENS at 1744.9', 'Sold 8 shares of BEML at 3926.4', 'Sold 2 shares of TATAMTRDVR at 924.8', 'Sold 2 shares of PGHL at 1260.9', 'Sold 2 shares of TATASTEEL at 1018.2', 'Sold 4 shares of NAUKRI at 2830.8', 'Sold 8 shares of PFIZER at 11163.2', 'Sold 8 shares of GILLETTE at 16461.2', 'Sold 32 shares of GLAXO at 67588.8', 'Sold 8 shares of GODREJPROP at 5520.0', 'Sold 1 shares of SANOFI at 2034.0', 'Sold 16 shares of TORNTPHARM at 9872.8', 'Sold 2 shares of OIL at 2705.5', 'Sold 8 shares of BALMLAWRIE at 4964.0', 'Sold 32 shares of SUNDARMFIN at 16550.4', 'Sold 4 shares of TRENT at 4501.4', 'Sold 2 shares of BANKBARODA at 1697.9', 'Sold 2 shares of COLPAL at 1863.4', 'Sold 8 shares of JUBLFOOD at 6118.0', 'Sold 4 shares of ABB at 3222.2', 'Sold 128 shares of ECLERX at 97299.2', 'Sold 2 shares of OFSS at 3963.3', 'Sold 16 shares of HONAUT at 39269.6', 'Sold 1 shares of AXISBANK at 1205.2', 'Sold 4 shares of TATAPOWER at 4709.2', 'Sold 4 shares of SIEMENS at 3500.6', 'Sold 16 shares of BEML at 7685.6', 'Sold 4 shares of TATAMTRDVR at 1797.2', 'Sold 4 shares of PGHL at 2505.6', 'Sold 4 shares of TATASTEEL at 1940.6', 'Sold 64 shares of GLAXO at 135580.8', 'Sold 4 shares of COLPAL at 3729.6', 'Sold 8 shares of ABB at 6379.6', 'Sold 2 shares of HEROMOTOCO at 3767.9', 'Sold 8 shares of TATAPOWER at 9408.8', 'Sold 8 shares of TATASTEEL at 3879.6', 'Sold 3 shares of SHRIRAMCIT at 1713.6000000000001', 'Sold 2 shares of SANOFI at 4036.3', 'Sold 16 shares of BALMLAWRIE at 9844.8', 'Sold 4 shares of BANKBARODA at 3345.6', 'Sold 32 shares of PAGEIND at 82387.2', 'Sold 16 shares of TATAPOWER at 17992.8', 'Sold 16 shares of TATASTEEL at 7750.4']\n",
      "\n"
     ]
    },
    {
     "name": "stdout",
     "output_type": "stream",
     "text": [
      "2011-08-16\n",
      "['Bought 2 shares of NAUKRI at 1457.0', 'Bought 3 shares of SHRIRAMCIT at 1635.0', 'Bought 2 shares of J&KBANK at 1685.2', 'Bought 3 shares of THERMAX at 1830.0', 'Bought 1 shares of PFIZER at 1458.75', 'Bought 1 shares of SCHAEFFLER at 1178.25', 'Bought 2 shares of SOLARINDS at 1282.8', 'Bought 2 shares of SUDARSCHEM at 1520.0', 'Bought 1 shares of BOSCHLTD at 7058.35', 'Bought 1 shares of GILLETTE at 2135.2', 'Bought 2 shares of TECHM at 1484.5', 'Bought 1 shares of ABBOTINDIA at 1488.1', 'Bought 1 shares of GLAXO at 2330.35', 'Bought 1 shares of GODREJPROP at 811.9', 'Bought 1 shares of WABCOINDIA at 1167.5', 'Bought 1 shares of BAJAJHLDNG at 760.7', 'Bought 1 shares of SANOFI at 2048.15', 'Bought 2 shares of SKFINDIA at 1329.5', 'Bought 2 shares of TORNTPHARM at 1309.4', 'Bought 1 shares of AKZOINDIA at 909.55', 'Bought 2 shares of CANBK at 1019.9', 'Bought 1 shares of ASTRAZEN at 1300.0', 'Bought 1 shares of OIL at 1282.05', 'Bought 1 shares of 3MINDIA at 4151.4', 'Bought 2 shares of BPCL at 1336.3', 'Bought 2 shares of BALMLAWRIE at 1283.6', 'Bought 1 shares of CADILAHC at 931.35', 'Bought 2 shares of SUNDARMFIN at 1118.4', 'Bought 1 shares of TRENT at 1209.1', 'Bought 1 shares of BANKBARODA at 871.95', 'Bought 1 shares of COLPAL at 1003.8', 'Bought 1 shares of JUBLFOOD at 836.6', 'Bought 1 shares of CRISIL at 7252.75', 'Bought 1 shares of ZYDUSWELL at 710.85', 'Bought 1 shares of ABB at 876.6', 'Bought 1 shares of KANSAINER at 887.4', 'Bought 1 shares of ECLERX at 837.15', 'Bought 1 shares of CUMMINSIND at 679.1', 'Bought 1 shares of OFSS at 2290.05', 'Bought 1 shares of HONAUT at 2845.9', 'Bought 1 shares of HEROMOTOCO at 1860.5', 'Bought 1 shares of NESTLEIND at 4314.65', 'Bought 1 shares of PAGEIND at 1902.65', 'Bought 1 shares of PNB at 1119.2', 'Bought 1 shares of BHEL at 1939.3', 'Bought 1 shares of MRF at 7461.9', 'Bought 1 shares of AXISBANK at 1266.4', 'Bought 1 shares of TATAPOWER at 1289.15', 'Bought 1 shares of PGHH at 1968.85', 'Bought 1 shares of SHREECEM at 1745.3', 'Bought 1 shares of SIEMENS at 910.85', 'Bought 1 shares of ULTRACEMCO at 977.8', 'Bought 1 shares of SRTRANSFIN at 658.45', 'Bought 1 shares of BEML at 590.15', 'Bought 1 shares of UBL at 501.65', 'Bought 1 shares of PIIND at 773.35', 'Bought 1 shares of TATAMTRDVR at 581.5', 'Bought 1 shares of PGHL at 657.1', 'Bought 1 shares of ADANIENT at 705.6', 'Bought 1 shares of TATASTEEL at 572.0', 'Sold 1 shares of SHREECEM at 1799.9', 'Sold 1 shares of SCHAEFFLER at 1242.6', 'Sold 1 shares of WABCOINDIA at 1212.35', 'Sold 2 shares of SCHAEFFLER at 2527.4', 'Sold 1 shares of ASTRAZEN at 1319.9', 'Sold 1 shares of MRF at 7758.0', 'Sold 4 shares of SCHAEFFLER at 5076.8', 'Sold 1 shares of GLAXO at 2301.25', 'Sold 2 shares of ASTRAZEN at 2666.5', 'Sold 2 shares of SOLARINDS at 1319.3', 'Sold 1 shares of BOSCHLTD at 7188.95', 'Sold 4 shares of ASTRAZEN at 5344.4', 'Sold 2 shares of BOSCHLTD at 14439.3', 'Sold 2 shares of GLAXO at 4594.3', 'Sold 2 shares of SKFINDIA at 1264.2', 'Sold 1 shares of OFSS at 2150.4', 'Sold 1 shares of HEROMOTOCO at 1756.9', 'Sold 1 shares of PAGEIND at 2096.65', 'Sold 1 shares of PIIND at 882.35', 'Sold 8 shares of ASTRAZEN at 10760.0', 'Sold 1 shares of CADILAHC at 877.0', 'Sold 1 shares of CRISIL at 7970.6', 'Sold 2 shares of PAGEIND at 4397.8', 'Sold 2 shares of PIIND at 1800.9', 'Sold 2 shares of NAUKRI at 1507.0', 'Sold 8 shares of SCHAEFFLER at 10689.6', 'Sold 1 shares of 3MINDIA at 4509.7', 'Sold 2 shares of CADILAHC at 1743.2', 'Sold 2 shares of CRISIL at 15926.1', 'Sold 4 shares of PAGEIND at 9164.4', 'Sold 4 shares of PIIND at 3661.2', 'Sold 1 shares of ADANIENT at 737.55', 'Sold 16 shares of SCHAEFFLER at 21563.2', 'Sold 1 shares of GILLETTE at 2291.7', 'Sold 2 shares of TECHM at 1544.2', 'Sold 1 shares of AKZOINDIA at 978.8', 'Sold 2 shares of 3MINDIA at 9057.4', 'Sold 1 shares of BANKBARODA at 913.7', 'Sold 4 shares of CRISIL at 32705.0', 'Sold 8 shares of PAGEIND at 18645.6', 'Sold 1 shares of PNB at 1197.0', 'Sold 1 shares of SIEMENS at 944.35', 'Sold 8 shares of PIIND at 7450.8', 'Sold 2 shares of ADANIENT at 1500.8', 'Sold 32 shares of SCHAEFFLER at 43606.4', 'Sold 4 shares of SOLARINDS at 2686.2', 'Sold 2 shares of GILLETTE at 4573.9', 'Sold 4 shares of TECHM at 3105.8', 'Sold 4 shares of 3MINDIA at 17926.4', 'Sold 8 shares of CRISIL at 65999.2', 'Sold 16 shares of PAGEIND at 36901.6', 'Sold 1 shares of PGHH at 1943.95', 'Sold 1 shares of BEML at 557.35', 'Sold 4 shares of ADANIENT at 3045.2', 'Sold 64 shares of SCHAEFFLER at 87881.6', 'Sold 2 shares of SUDARSCHEM at 1470.0', 'Sold 4 shares of GILLETTE at 9156.0', 'Sold 8 shares of TECHM at 6314.8', 'Sold 1 shares of ABBOTINDIA at 1454.75', 'Sold 2 shares of AKZOINDIA at 2045.8', 'Sold 2 shares of CANBK at 992.2', 'Sold 8 shares of 3MINDIA at 36134.8', 'Sold 16 shares of CRISIL at 140050.4', 'Sold 1 shares of BHEL at 1821.85', 'Sold 2 shares of PGHH at 3829.0', 'Sold 16 shares of PIIND at 17867.2', 'Sold 8 shares of ADANIENT at 6080.0', 'Sold 2 shares of J&KBANK at 1768.9', 'Sold 3 shares of THERMAX at 1732.9499999999998', 'Sold 1 shares of PFIZER at 1515.55', 'Sold 4 shares of SUDARSCHEM at 2897.8', 'Sold 4 shares of GLAXO at 9524.4', 'Sold 4 shares of AKZOINDIA at 4086.2', 'Sold 4 shares of CANBK at 1909.0', 'Sold 16 shares of ASTRAZEN at 22349.6', 'Sold 16 shares of 3MINDIA at 74258.4', 'Sold 1 shares of ECLERX at 820.05', 'Sold 1 shares of CUMMINSIND at 654.45', 'Sold 4 shares of PGHH at 7624.2', 'Sold 2 shares of BEML at 1092.9', 'Sold 32 shares of PIIND at 35456.0', 'Sold 6 shares of THERMAX at 3431.1000000000004', 'Sold 2 shares of PFIZER at 3068.4', 'Sold 8 shares of SUDARSCHEM at 5760.0', 'Sold 2 shares of WABCOINDIA at 2583.8', 'Sold 8 shares of CANBK at 3671.6', 'Sold 32 shares of ASTRAZEN at 45163.2', 'Sold 2 shares of ECLERX at 1619.4', 'Sold 2 shares of CUMMINSIND at 1282.1', 'Sold 1 shares of SRTRANSFIN at 640.55', 'Sold 16 shares of ADANIENT at 9368.0', 'Sold 4 shares of J&KBANK at 3539.2', 'Sold 12 shares of THERMAX at 6664.200000000001', 'Sold 4 shares of PFIZER at 6128.6', 'Sold 8 shares of SOLARINDS at 5854.0', 'Sold 16 shares of SUDARSCHEM at 11507.2', 'Sold 16 shares of CANBK at 7246.4', 'Sold 64 shares of ASTRAZEN at 90387.2', 'Sold 4 shares of ECLERX at 3223.6', 'Sold 4 shares of CUMMINSIND at 2527.8', 'Sold 2 shares of SRTRANSFIN at 1255.2', 'Sold 24 shares of THERMAX at 12874.800000000001', 'Sold 16 shares of SOLARINDS at 11749.6', 'Sold 32 shares of SUDARSCHEM at 22883.2', 'Sold 1 shares of GODREJPROP at 747.45', 'Sold 32 shares of CANBK at 13862.4', 'Sold 8 shares of ECLERX at 6400.4', 'Sold 8 shares of CUMMINSIND at 4931.2', 'Sold 4 shares of SRTRANSFIN at 2477.6', 'Sold 48 shares of THERMAX at 24744.0', 'Sold 32 shares of SOLARINDS at 23387.2', 'Sold 2 shares of GODREJPROP at 1477.8', 'Sold 64 shares of CANBK at 27302.4', 'Sold 2 shares of SUNDARMFIN at 1088.4', 'Sold 16 shares of ECLERX at 12587.2', 'Sold 16 shares of CUMMINSIND at 9763.2', 'Sold 1 shares of HONAUT at 2672.15', 'Sold 8 shares of SRTRANSFIN at 4758.4', 'Sold 96 shares of THERMAX at 49142.399999999994', 'Sold 2 shares of ABBOTINDIA at 2881.0', 'Sold 2 shares of TORNTPHARM at 1280.3', 'Sold 2 shares of BPCL at 1377.2', 'Sold 4 shares of SUNDARMFIN at 2141.6', 'Sold 1 shares of JUBLFOOD at 809.5', 'Sold 2 shares of HONAUT at 5279.6', 'Sold 2 shares of SHREECEM at 3407.6', 'Sold 16 shares of SRTRANSFIN at 9457.6', 'Sold 8 shares of GLAXO at 17607.2', 'Sold 4 shares of GODREJPROP at 2874.8', 'Sold 4 shares of TORNTPHARM at 2525.6', 'Sold 4 shares of BPCL at 2809.2', 'Sold 2 shares of BALMLAWRIE at 1260.3', 'Sold 8 shares of SUNDARMFIN at 4240.8', 'Sold 1 shares of TRENT at 1167.7', 'Sold 2 shares of JUBLFOOD at 1528.0', 'Sold 1 shares of ABB at 822.25', 'Sold 32 shares of ECLERX at 25132.8', 'Sold 4 shares of HONAUT at 10279.0', 'Sold 2 shares of BHEL at 3422.7', 'Sold 1 shares of TATAPOWER at 1233.35', 'Sold 4 shares of BEML at 2000.0', 'Sold 1 shares of TATAMTRDVR at 487.5', 'Sold 1 shares of PGHL at 646.95', 'Sold 1 shares of TATASTEEL at 532.95', 'Sold 16 shares of TECHM at 11412.8', 'Sold 16 shares of GLAXO at 34184.8', 'Sold 8 shares of TORNTPHARM at 4977.6', 'Sold 1 shares of OIL at 1347.2', 'Sold 8 shares of BPCL at 5623.6', 'Sold 4 shares of BALMLAWRIE at 2501.0', 'Sold 16 shares of SUNDARMFIN at 8345.6', 'Sold 2 shares of TRENT at 2291.4', 'Sold 1 shares of COLPAL at 947.65', 'Sold 4 shares of JUBLFOOD at 3058.8', 'Sold 2 shares of ABB at 1614.1', 'Sold 64 shares of ECLERX at 48972.8', 'Sold 8 shares of HONAUT at 19923.2', 'Sold 1 shares of NESTLEIND at 4133.8', 'Sold 2 shares of TATAPOWER at 2412.3', 'Sold 2 shares of SIEMENS at 1744.9', 'Sold 8 shares of BEML at 3926.4', 'Sold 2 shares of TATAMTRDVR at 924.8', 'Sold 2 shares of PGHL at 1260.9', 'Sold 2 shares of TATASTEEL at 1018.2', 'Sold 4 shares of NAUKRI at 2830.8', 'Sold 8 shares of PFIZER at 11163.2', 'Sold 8 shares of GILLETTE at 16461.2', 'Sold 32 shares of GLAXO at 67588.8', 'Sold 8 shares of GODREJPROP at 5520.0', 'Sold 1 shares of SANOFI at 2034.0', 'Sold 16 shares of TORNTPHARM at 9872.8', 'Sold 2 shares of OIL at 2705.5', 'Sold 8 shares of BALMLAWRIE at 4964.0', 'Sold 32 shares of SUNDARMFIN at 16550.4', 'Sold 4 shares of TRENT at 4501.4', 'Sold 2 shares of BANKBARODA at 1697.9', 'Sold 2 shares of COLPAL at 1863.4', 'Sold 8 shares of JUBLFOOD at 6118.0', 'Sold 4 shares of ABB at 3222.2', 'Sold 128 shares of ECLERX at 97299.2', 'Sold 2 shares of OFSS at 3963.3', 'Sold 16 shares of HONAUT at 39269.6', 'Sold 1 shares of AXISBANK at 1205.2', 'Sold 4 shares of TATAPOWER at 4709.2', 'Sold 4 shares of SIEMENS at 3500.6', 'Sold 16 shares of BEML at 7685.6', 'Sold 4 shares of TATAMTRDVR at 1797.2', 'Sold 4 shares of PGHL at 2505.6', 'Sold 4 shares of TATASTEEL at 1940.6', 'Sold 64 shares of GLAXO at 135580.8', 'Sold 4 shares of COLPAL at 3729.6', 'Sold 8 shares of ABB at 6379.6', 'Sold 2 shares of HEROMOTOCO at 3767.9', 'Sold 8 shares of TATAPOWER at 9408.8', 'Sold 8 shares of TATASTEEL at 3879.6', 'Sold 3 shares of SHRIRAMCIT at 1713.6000000000001', 'Sold 2 shares of SANOFI at 4036.3', 'Sold 16 shares of BALMLAWRIE at 9844.8', 'Sold 4 shares of BANKBARODA at 3345.6', 'Sold 32 shares of PAGEIND at 82387.2', 'Sold 16 shares of TATAPOWER at 17992.8', 'Sold 16 shares of TATASTEEL at 7750.4', 'Sold 6 shares of SHRIRAMCIT at 3419.7000000000003', 'Sold 8 shares of J&KBANK at 6619.6', 'Sold 4 shares of BOSCHLTD at 29411.4', 'Sold 4 shares of ABBOTINDIA at 5630.8', 'Sold 8 shares of BANKBARODA at 6602.0', 'Sold 8 shares of COLPAL at 7361.2', 'Sold 4 shares of HEROMOTOCO at 7561.0', 'Sold 32 shares of TATAPOWER at 34736.0', 'Sold 1 shares of UBL at 446.35']\n",
      "\n"
     ]
    },
    {
     "name": "stdout",
     "output_type": "stream",
     "text": [
      "2011-08-17\n",
      "['Bought 2 shares of NAUKRI at 1457.0', 'Bought 3 shares of SHRIRAMCIT at 1635.0', 'Bought 2 shares of J&KBANK at 1685.2', 'Bought 3 shares of THERMAX at 1830.0', 'Bought 1 shares of PFIZER at 1458.75', 'Bought 1 shares of SCHAEFFLER at 1178.25', 'Bought 2 shares of SOLARINDS at 1282.8', 'Bought 2 shares of SUDARSCHEM at 1520.0', 'Bought 1 shares of BOSCHLTD at 7058.35', 'Bought 1 shares of GILLETTE at 2135.2', 'Bought 2 shares of TECHM at 1484.5', 'Bought 1 shares of ABBOTINDIA at 1488.1', 'Bought 1 shares of GLAXO at 2330.35', 'Bought 1 shares of GODREJPROP at 811.9', 'Bought 1 shares of WABCOINDIA at 1167.5', 'Bought 1 shares of BAJAJHLDNG at 760.7', 'Bought 1 shares of SANOFI at 2048.15', 'Bought 2 shares of SKFINDIA at 1329.5', 'Bought 2 shares of TORNTPHARM at 1309.4', 'Bought 1 shares of AKZOINDIA at 909.55', 'Bought 2 shares of CANBK at 1019.9', 'Bought 1 shares of ASTRAZEN at 1300.0', 'Bought 1 shares of OIL at 1282.05', 'Bought 1 shares of 3MINDIA at 4151.4', 'Bought 2 shares of BPCL at 1336.3', 'Bought 2 shares of BALMLAWRIE at 1283.6', 'Bought 1 shares of CADILAHC at 931.35', 'Bought 2 shares of SUNDARMFIN at 1118.4', 'Bought 1 shares of TRENT at 1209.1', 'Bought 1 shares of BANKBARODA at 871.95', 'Bought 1 shares of COLPAL at 1003.8', 'Bought 1 shares of JUBLFOOD at 836.6', 'Bought 1 shares of CRISIL at 7252.75', 'Bought 1 shares of ZYDUSWELL at 710.85', 'Bought 1 shares of ABB at 876.6', 'Bought 1 shares of KANSAINER at 887.4', 'Bought 1 shares of ECLERX at 837.15', 'Bought 1 shares of CUMMINSIND at 679.1', 'Bought 1 shares of OFSS at 2290.05', 'Bought 1 shares of HONAUT at 2845.9', 'Bought 1 shares of HEROMOTOCO at 1860.5', 'Bought 1 shares of NESTLEIND at 4314.65', 'Bought 1 shares of PAGEIND at 1902.65', 'Bought 1 shares of PNB at 1119.2', 'Bought 1 shares of BHEL at 1939.3', 'Bought 1 shares of MRF at 7461.9', 'Bought 1 shares of AXISBANK at 1266.4', 'Bought 1 shares of TATAPOWER at 1289.15', 'Bought 1 shares of PGHH at 1968.85', 'Bought 1 shares of SHREECEM at 1745.3', 'Bought 1 shares of SIEMENS at 910.85', 'Bought 1 shares of ULTRACEMCO at 977.8', 'Bought 1 shares of SRTRANSFIN at 658.45', 'Bought 1 shares of BEML at 590.15', 'Bought 1 shares of UBL at 501.65', 'Bought 1 shares of PIIND at 773.35', 'Bought 1 shares of TATAMTRDVR at 581.5', 'Bought 1 shares of PGHL at 657.1', 'Bought 1 shares of ADANIENT at 705.6', 'Bought 1 shares of TATASTEEL at 572.0', 'Sold 1 shares of SHREECEM at 1799.9', 'Sold 1 shares of SCHAEFFLER at 1242.6', 'Sold 1 shares of WABCOINDIA at 1212.35', 'Sold 2 shares of SCHAEFFLER at 2527.4', 'Sold 1 shares of ASTRAZEN at 1319.9', 'Sold 1 shares of MRF at 7758.0', 'Sold 4 shares of SCHAEFFLER at 5076.8', 'Sold 1 shares of GLAXO at 2301.25', 'Sold 2 shares of ASTRAZEN at 2666.5', 'Sold 2 shares of SOLARINDS at 1319.3', 'Sold 1 shares of BOSCHLTD at 7188.95', 'Sold 4 shares of ASTRAZEN at 5344.4', 'Sold 2 shares of BOSCHLTD at 14439.3', 'Sold 2 shares of GLAXO at 4594.3', 'Sold 2 shares of SKFINDIA at 1264.2', 'Sold 1 shares of OFSS at 2150.4', 'Sold 1 shares of HEROMOTOCO at 1756.9', 'Sold 1 shares of PAGEIND at 2096.65', 'Sold 1 shares of PIIND at 882.35', 'Sold 8 shares of ASTRAZEN at 10760.0', 'Sold 1 shares of CADILAHC at 877.0', 'Sold 1 shares of CRISIL at 7970.6', 'Sold 2 shares of PAGEIND at 4397.8', 'Sold 2 shares of PIIND at 1800.9', 'Sold 2 shares of NAUKRI at 1507.0', 'Sold 8 shares of SCHAEFFLER at 10689.6', 'Sold 1 shares of 3MINDIA at 4509.7', 'Sold 2 shares of CADILAHC at 1743.2', 'Sold 2 shares of CRISIL at 15926.1', 'Sold 4 shares of PAGEIND at 9164.4', 'Sold 4 shares of PIIND at 3661.2', 'Sold 1 shares of ADANIENT at 737.55', 'Sold 16 shares of SCHAEFFLER at 21563.2', 'Sold 1 shares of GILLETTE at 2291.7', 'Sold 2 shares of TECHM at 1544.2', 'Sold 1 shares of AKZOINDIA at 978.8', 'Sold 2 shares of 3MINDIA at 9057.4', 'Sold 1 shares of BANKBARODA at 913.7', 'Sold 4 shares of CRISIL at 32705.0', 'Sold 8 shares of PAGEIND at 18645.6', 'Sold 1 shares of PNB at 1197.0', 'Sold 1 shares of SIEMENS at 944.35', 'Sold 8 shares of PIIND at 7450.8', 'Sold 2 shares of ADANIENT at 1500.8', 'Sold 32 shares of SCHAEFFLER at 43606.4', 'Sold 4 shares of SOLARINDS at 2686.2', 'Sold 2 shares of GILLETTE at 4573.9', 'Sold 4 shares of TECHM at 3105.8', 'Sold 4 shares of 3MINDIA at 17926.4', 'Sold 8 shares of CRISIL at 65999.2', 'Sold 16 shares of PAGEIND at 36901.6', 'Sold 1 shares of PGHH at 1943.95', 'Sold 1 shares of BEML at 557.35', 'Sold 4 shares of ADANIENT at 3045.2', 'Sold 64 shares of SCHAEFFLER at 87881.6', 'Sold 2 shares of SUDARSCHEM at 1470.0', 'Sold 4 shares of GILLETTE at 9156.0', 'Sold 8 shares of TECHM at 6314.8', 'Sold 1 shares of ABBOTINDIA at 1454.75', 'Sold 2 shares of AKZOINDIA at 2045.8', 'Sold 2 shares of CANBK at 992.2', 'Sold 8 shares of 3MINDIA at 36134.8', 'Sold 16 shares of CRISIL at 140050.4', 'Sold 1 shares of BHEL at 1821.85', 'Sold 2 shares of PGHH at 3829.0', 'Sold 16 shares of PIIND at 17867.2', 'Sold 8 shares of ADANIENT at 6080.0', 'Sold 2 shares of J&KBANK at 1768.9', 'Sold 3 shares of THERMAX at 1732.9499999999998', 'Sold 1 shares of PFIZER at 1515.55', 'Sold 4 shares of SUDARSCHEM at 2897.8', 'Sold 4 shares of GLAXO at 9524.4', 'Sold 4 shares of AKZOINDIA at 4086.2', 'Sold 4 shares of CANBK at 1909.0', 'Sold 16 shares of ASTRAZEN at 22349.6', 'Sold 16 shares of 3MINDIA at 74258.4', 'Sold 1 shares of ECLERX at 820.05', 'Sold 1 shares of CUMMINSIND at 654.45', 'Sold 4 shares of PGHH at 7624.2', 'Sold 2 shares of BEML at 1092.9', 'Sold 32 shares of PIIND at 35456.0', 'Sold 6 shares of THERMAX at 3431.1000000000004', 'Sold 2 shares of PFIZER at 3068.4', 'Sold 8 shares of SUDARSCHEM at 5760.0', 'Sold 2 shares of WABCOINDIA at 2583.8', 'Sold 8 shares of CANBK at 3671.6', 'Sold 32 shares of ASTRAZEN at 45163.2', 'Sold 2 shares of ECLERX at 1619.4', 'Sold 2 shares of CUMMINSIND at 1282.1', 'Sold 1 shares of SRTRANSFIN at 640.55', 'Sold 16 shares of ADANIENT at 9368.0', 'Sold 4 shares of J&KBANK at 3539.2', 'Sold 12 shares of THERMAX at 6664.200000000001', 'Sold 4 shares of PFIZER at 6128.6', 'Sold 8 shares of SOLARINDS at 5854.0', 'Sold 16 shares of SUDARSCHEM at 11507.2', 'Sold 16 shares of CANBK at 7246.4', 'Sold 64 shares of ASTRAZEN at 90387.2', 'Sold 4 shares of ECLERX at 3223.6', 'Sold 4 shares of CUMMINSIND at 2527.8', 'Sold 2 shares of SRTRANSFIN at 1255.2', 'Sold 24 shares of THERMAX at 12874.800000000001', 'Sold 16 shares of SOLARINDS at 11749.6', 'Sold 32 shares of SUDARSCHEM at 22883.2', 'Sold 1 shares of GODREJPROP at 747.45', 'Sold 32 shares of CANBK at 13862.4', 'Sold 8 shares of ECLERX at 6400.4', 'Sold 8 shares of CUMMINSIND at 4931.2', 'Sold 4 shares of SRTRANSFIN at 2477.6', 'Sold 48 shares of THERMAX at 24744.0', 'Sold 32 shares of SOLARINDS at 23387.2', 'Sold 2 shares of GODREJPROP at 1477.8', 'Sold 64 shares of CANBK at 27302.4', 'Sold 2 shares of SUNDARMFIN at 1088.4', 'Sold 16 shares of ECLERX at 12587.2', 'Sold 16 shares of CUMMINSIND at 9763.2', 'Sold 1 shares of HONAUT at 2672.15', 'Sold 8 shares of SRTRANSFIN at 4758.4', 'Sold 96 shares of THERMAX at 49142.399999999994', 'Sold 2 shares of ABBOTINDIA at 2881.0', 'Sold 2 shares of TORNTPHARM at 1280.3', 'Sold 2 shares of BPCL at 1377.2', 'Sold 4 shares of SUNDARMFIN at 2141.6', 'Sold 1 shares of JUBLFOOD at 809.5', 'Sold 2 shares of HONAUT at 5279.6', 'Sold 2 shares of SHREECEM at 3407.6', 'Sold 16 shares of SRTRANSFIN at 9457.6', 'Sold 8 shares of GLAXO at 17607.2', 'Sold 4 shares of GODREJPROP at 2874.8', 'Sold 4 shares of TORNTPHARM at 2525.6', 'Sold 4 shares of BPCL at 2809.2', 'Sold 2 shares of BALMLAWRIE at 1260.3', 'Sold 8 shares of SUNDARMFIN at 4240.8', 'Sold 1 shares of TRENT at 1167.7', 'Sold 2 shares of JUBLFOOD at 1528.0', 'Sold 1 shares of ABB at 822.25', 'Sold 32 shares of ECLERX at 25132.8', 'Sold 4 shares of HONAUT at 10279.0', 'Sold 2 shares of BHEL at 3422.7', 'Sold 1 shares of TATAPOWER at 1233.35', 'Sold 4 shares of BEML at 2000.0', 'Sold 1 shares of TATAMTRDVR at 487.5', 'Sold 1 shares of PGHL at 646.95', 'Sold 1 shares of TATASTEEL at 532.95', 'Sold 16 shares of TECHM at 11412.8', 'Sold 16 shares of GLAXO at 34184.8', 'Sold 8 shares of TORNTPHARM at 4977.6', 'Sold 1 shares of OIL at 1347.2', 'Sold 8 shares of BPCL at 5623.6', 'Sold 4 shares of BALMLAWRIE at 2501.0', 'Sold 16 shares of SUNDARMFIN at 8345.6', 'Sold 2 shares of TRENT at 2291.4', 'Sold 1 shares of COLPAL at 947.65', 'Sold 4 shares of JUBLFOOD at 3058.8', 'Sold 2 shares of ABB at 1614.1', 'Sold 64 shares of ECLERX at 48972.8', 'Sold 8 shares of HONAUT at 19923.2', 'Sold 1 shares of NESTLEIND at 4133.8', 'Sold 2 shares of TATAPOWER at 2412.3', 'Sold 2 shares of SIEMENS at 1744.9', 'Sold 8 shares of BEML at 3926.4', 'Sold 2 shares of TATAMTRDVR at 924.8', 'Sold 2 shares of PGHL at 1260.9', 'Sold 2 shares of TATASTEEL at 1018.2', 'Sold 4 shares of NAUKRI at 2830.8', 'Sold 8 shares of PFIZER at 11163.2', 'Sold 8 shares of GILLETTE at 16461.2', 'Sold 32 shares of GLAXO at 67588.8', 'Sold 8 shares of GODREJPROP at 5520.0', 'Sold 1 shares of SANOFI at 2034.0', 'Sold 16 shares of TORNTPHARM at 9872.8', 'Sold 2 shares of OIL at 2705.5', 'Sold 8 shares of BALMLAWRIE at 4964.0', 'Sold 32 shares of SUNDARMFIN at 16550.4', 'Sold 4 shares of TRENT at 4501.4', 'Sold 2 shares of BANKBARODA at 1697.9', 'Sold 2 shares of COLPAL at 1863.4', 'Sold 8 shares of JUBLFOOD at 6118.0', 'Sold 4 shares of ABB at 3222.2', 'Sold 128 shares of ECLERX at 97299.2', 'Sold 2 shares of OFSS at 3963.3', 'Sold 16 shares of HONAUT at 39269.6', 'Sold 1 shares of AXISBANK at 1205.2', 'Sold 4 shares of TATAPOWER at 4709.2', 'Sold 4 shares of SIEMENS at 3500.6', 'Sold 16 shares of BEML at 7685.6', 'Sold 4 shares of TATAMTRDVR at 1797.2', 'Sold 4 shares of PGHL at 2505.6', 'Sold 4 shares of TATASTEEL at 1940.6', 'Sold 64 shares of GLAXO at 135580.8', 'Sold 4 shares of COLPAL at 3729.6', 'Sold 8 shares of ABB at 6379.6', 'Sold 2 shares of HEROMOTOCO at 3767.9', 'Sold 8 shares of TATAPOWER at 9408.8', 'Sold 8 shares of TATASTEEL at 3879.6', 'Sold 3 shares of SHRIRAMCIT at 1713.6000000000001', 'Sold 2 shares of SANOFI at 4036.3', 'Sold 16 shares of BALMLAWRIE at 9844.8', 'Sold 4 shares of BANKBARODA at 3345.6', 'Sold 32 shares of PAGEIND at 82387.2', 'Sold 16 shares of TATAPOWER at 17992.8', 'Sold 16 shares of TATASTEEL at 7750.4', 'Sold 6 shares of SHRIRAMCIT at 3419.7000000000003', 'Sold 8 shares of J&KBANK at 6619.6', 'Sold 4 shares of BOSCHLTD at 29411.4', 'Sold 4 shares of ABBOTINDIA at 5630.8', 'Sold 8 shares of BANKBARODA at 6602.0', 'Sold 8 shares of COLPAL at 7361.2', 'Sold 4 shares of HEROMOTOCO at 7561.0', 'Sold 32 shares of TATAPOWER at 34736.0', 'Sold 1 shares of UBL at 446.35', 'Sold 16 shares of J&KBANK at 13166.4', 'Sold 16 shares of BANKBARODA at 12817.6', 'Sold 16 shares of COLPAL at 14539.2', 'Sold 4 shares of OFSS at 7537.6', 'Sold 64 shares of PAGEIND at 169020.8', 'Sold 64 shares of TATAPOWER at 69126.4', 'Sold 4 shares of SHREECEM at 6522.6', 'Sold 2 shares of UBL at 884.4']\n",
      "\n"
     ]
    },
    {
     "name": "stdout",
     "output_type": "stream",
     "text": [
      "2011-08-18\n",
      "['Bought 2 shares of NAUKRI at 1457.0', 'Bought 3 shares of SHRIRAMCIT at 1635.0', 'Bought 2 shares of J&KBANK at 1685.2', 'Bought 3 shares of THERMAX at 1830.0', 'Bought 1 shares of PFIZER at 1458.75', 'Bought 1 shares of SCHAEFFLER at 1178.25', 'Bought 2 shares of SOLARINDS at 1282.8', 'Bought 2 shares of SUDARSCHEM at 1520.0', 'Bought 1 shares of BOSCHLTD at 7058.35', 'Bought 1 shares of GILLETTE at 2135.2', 'Bought 2 shares of TECHM at 1484.5', 'Bought 1 shares of ABBOTINDIA at 1488.1', 'Bought 1 shares of GLAXO at 2330.35', 'Bought 1 shares of GODREJPROP at 811.9', 'Bought 1 shares of WABCOINDIA at 1167.5', 'Bought 1 shares of BAJAJHLDNG at 760.7', 'Bought 1 shares of SANOFI at 2048.15', 'Bought 2 shares of SKFINDIA at 1329.5', 'Bought 2 shares of TORNTPHARM at 1309.4', 'Bought 1 shares of AKZOINDIA at 909.55', 'Bought 2 shares of CANBK at 1019.9', 'Bought 1 shares of ASTRAZEN at 1300.0', 'Bought 1 shares of OIL at 1282.05', 'Bought 1 shares of 3MINDIA at 4151.4', 'Bought 2 shares of BPCL at 1336.3', 'Bought 2 shares of BALMLAWRIE at 1283.6', 'Bought 1 shares of CADILAHC at 931.35', 'Bought 2 shares of SUNDARMFIN at 1118.4', 'Bought 1 shares of TRENT at 1209.1', 'Bought 1 shares of BANKBARODA at 871.95', 'Bought 1 shares of COLPAL at 1003.8', 'Bought 1 shares of JUBLFOOD at 836.6', 'Bought 1 shares of CRISIL at 7252.75', 'Bought 1 shares of ZYDUSWELL at 710.85', 'Bought 1 shares of ABB at 876.6', 'Bought 1 shares of KANSAINER at 887.4', 'Bought 1 shares of ECLERX at 837.15', 'Bought 1 shares of CUMMINSIND at 679.1', 'Bought 1 shares of OFSS at 2290.05', 'Bought 1 shares of HONAUT at 2845.9', 'Bought 1 shares of HEROMOTOCO at 1860.5', 'Bought 1 shares of NESTLEIND at 4314.65', 'Bought 1 shares of PAGEIND at 1902.65', 'Bought 1 shares of PNB at 1119.2', 'Bought 1 shares of BHEL at 1939.3', 'Bought 1 shares of MRF at 7461.9', 'Bought 1 shares of AXISBANK at 1266.4', 'Bought 1 shares of TATAPOWER at 1289.15', 'Bought 1 shares of PGHH at 1968.85', 'Bought 1 shares of SHREECEM at 1745.3', 'Bought 1 shares of SIEMENS at 910.85', 'Bought 1 shares of ULTRACEMCO at 977.8', 'Bought 1 shares of SRTRANSFIN at 658.45', 'Bought 1 shares of BEML at 590.15', 'Bought 1 shares of UBL at 501.65', 'Bought 1 shares of PIIND at 773.35', 'Bought 1 shares of TATAMTRDVR at 581.5', 'Bought 1 shares of PGHL at 657.1', 'Bought 1 shares of ADANIENT at 705.6', 'Bought 1 shares of TATASTEEL at 572.0', 'Sold 1 shares of SHREECEM at 1799.9', 'Sold 1 shares of SCHAEFFLER at 1242.6', 'Sold 1 shares of WABCOINDIA at 1212.35', 'Sold 2 shares of SCHAEFFLER at 2527.4', 'Sold 1 shares of ASTRAZEN at 1319.9', 'Sold 1 shares of MRF at 7758.0', 'Sold 4 shares of SCHAEFFLER at 5076.8', 'Sold 1 shares of GLAXO at 2301.25', 'Sold 2 shares of ASTRAZEN at 2666.5', 'Sold 2 shares of SOLARINDS at 1319.3', 'Sold 1 shares of BOSCHLTD at 7188.95', 'Sold 4 shares of ASTRAZEN at 5344.4', 'Sold 2 shares of BOSCHLTD at 14439.3', 'Sold 2 shares of GLAXO at 4594.3', 'Sold 2 shares of SKFINDIA at 1264.2', 'Sold 1 shares of OFSS at 2150.4', 'Sold 1 shares of HEROMOTOCO at 1756.9', 'Sold 1 shares of PAGEIND at 2096.65', 'Sold 1 shares of PIIND at 882.35', 'Sold 8 shares of ASTRAZEN at 10760.0', 'Sold 1 shares of CADILAHC at 877.0', 'Sold 1 shares of CRISIL at 7970.6', 'Sold 2 shares of PAGEIND at 4397.8', 'Sold 2 shares of PIIND at 1800.9', 'Sold 2 shares of NAUKRI at 1507.0', 'Sold 8 shares of SCHAEFFLER at 10689.6', 'Sold 1 shares of 3MINDIA at 4509.7', 'Sold 2 shares of CADILAHC at 1743.2', 'Sold 2 shares of CRISIL at 15926.1', 'Sold 4 shares of PAGEIND at 9164.4', 'Sold 4 shares of PIIND at 3661.2', 'Sold 1 shares of ADANIENT at 737.55', 'Sold 16 shares of SCHAEFFLER at 21563.2', 'Sold 1 shares of GILLETTE at 2291.7', 'Sold 2 shares of TECHM at 1544.2', 'Sold 1 shares of AKZOINDIA at 978.8', 'Sold 2 shares of 3MINDIA at 9057.4', 'Sold 1 shares of BANKBARODA at 913.7', 'Sold 4 shares of CRISIL at 32705.0', 'Sold 8 shares of PAGEIND at 18645.6', 'Sold 1 shares of PNB at 1197.0', 'Sold 1 shares of SIEMENS at 944.35', 'Sold 8 shares of PIIND at 7450.8', 'Sold 2 shares of ADANIENT at 1500.8', 'Sold 32 shares of SCHAEFFLER at 43606.4', 'Sold 4 shares of SOLARINDS at 2686.2', 'Sold 2 shares of GILLETTE at 4573.9', 'Sold 4 shares of TECHM at 3105.8', 'Sold 4 shares of 3MINDIA at 17926.4', 'Sold 8 shares of CRISIL at 65999.2', 'Sold 16 shares of PAGEIND at 36901.6', 'Sold 1 shares of PGHH at 1943.95', 'Sold 1 shares of BEML at 557.35', 'Sold 4 shares of ADANIENT at 3045.2', 'Sold 64 shares of SCHAEFFLER at 87881.6', 'Sold 2 shares of SUDARSCHEM at 1470.0', 'Sold 4 shares of GILLETTE at 9156.0', 'Sold 8 shares of TECHM at 6314.8', 'Sold 1 shares of ABBOTINDIA at 1454.75', 'Sold 2 shares of AKZOINDIA at 2045.8', 'Sold 2 shares of CANBK at 992.2', 'Sold 8 shares of 3MINDIA at 36134.8', 'Sold 16 shares of CRISIL at 140050.4', 'Sold 1 shares of BHEL at 1821.85', 'Sold 2 shares of PGHH at 3829.0', 'Sold 16 shares of PIIND at 17867.2', 'Sold 8 shares of ADANIENT at 6080.0', 'Sold 2 shares of J&KBANK at 1768.9', 'Sold 3 shares of THERMAX at 1732.9499999999998', 'Sold 1 shares of PFIZER at 1515.55', 'Sold 4 shares of SUDARSCHEM at 2897.8', 'Sold 4 shares of GLAXO at 9524.4', 'Sold 4 shares of AKZOINDIA at 4086.2', 'Sold 4 shares of CANBK at 1909.0', 'Sold 16 shares of ASTRAZEN at 22349.6', 'Sold 16 shares of 3MINDIA at 74258.4', 'Sold 1 shares of ECLERX at 820.05', 'Sold 1 shares of CUMMINSIND at 654.45', 'Sold 4 shares of PGHH at 7624.2', 'Sold 2 shares of BEML at 1092.9', 'Sold 32 shares of PIIND at 35456.0', 'Sold 6 shares of THERMAX at 3431.1000000000004', 'Sold 2 shares of PFIZER at 3068.4', 'Sold 8 shares of SUDARSCHEM at 5760.0', 'Sold 2 shares of WABCOINDIA at 2583.8', 'Sold 8 shares of CANBK at 3671.6', 'Sold 32 shares of ASTRAZEN at 45163.2', 'Sold 2 shares of ECLERX at 1619.4', 'Sold 2 shares of CUMMINSIND at 1282.1', 'Sold 1 shares of SRTRANSFIN at 640.55', 'Sold 16 shares of ADANIENT at 9368.0', 'Sold 4 shares of J&KBANK at 3539.2', 'Sold 12 shares of THERMAX at 6664.200000000001', 'Sold 4 shares of PFIZER at 6128.6', 'Sold 8 shares of SOLARINDS at 5854.0', 'Sold 16 shares of SUDARSCHEM at 11507.2', 'Sold 16 shares of CANBK at 7246.4', 'Sold 64 shares of ASTRAZEN at 90387.2', 'Sold 4 shares of ECLERX at 3223.6', 'Sold 4 shares of CUMMINSIND at 2527.8', 'Sold 2 shares of SRTRANSFIN at 1255.2', 'Sold 24 shares of THERMAX at 12874.800000000001', 'Sold 16 shares of SOLARINDS at 11749.6', 'Sold 32 shares of SUDARSCHEM at 22883.2', 'Sold 1 shares of GODREJPROP at 747.45', 'Sold 32 shares of CANBK at 13862.4', 'Sold 8 shares of ECLERX at 6400.4', 'Sold 8 shares of CUMMINSIND at 4931.2', 'Sold 4 shares of SRTRANSFIN at 2477.6', 'Sold 48 shares of THERMAX at 24744.0', 'Sold 32 shares of SOLARINDS at 23387.2', 'Sold 2 shares of GODREJPROP at 1477.8', 'Sold 64 shares of CANBK at 27302.4', 'Sold 2 shares of SUNDARMFIN at 1088.4', 'Sold 16 shares of ECLERX at 12587.2', 'Sold 16 shares of CUMMINSIND at 9763.2', 'Sold 1 shares of HONAUT at 2672.15', 'Sold 8 shares of SRTRANSFIN at 4758.4', 'Sold 96 shares of THERMAX at 49142.399999999994', 'Sold 2 shares of ABBOTINDIA at 2881.0', 'Sold 2 shares of TORNTPHARM at 1280.3', 'Sold 2 shares of BPCL at 1377.2', 'Sold 4 shares of SUNDARMFIN at 2141.6', 'Sold 1 shares of JUBLFOOD at 809.5', 'Sold 2 shares of HONAUT at 5279.6', 'Sold 2 shares of SHREECEM at 3407.6', 'Sold 16 shares of SRTRANSFIN at 9457.6', 'Sold 8 shares of GLAXO at 17607.2', 'Sold 4 shares of GODREJPROP at 2874.8', 'Sold 4 shares of TORNTPHARM at 2525.6', 'Sold 4 shares of BPCL at 2809.2', 'Sold 2 shares of BALMLAWRIE at 1260.3', 'Sold 8 shares of SUNDARMFIN at 4240.8', 'Sold 1 shares of TRENT at 1167.7', 'Sold 2 shares of JUBLFOOD at 1528.0', 'Sold 1 shares of ABB at 822.25', 'Sold 32 shares of ECLERX at 25132.8', 'Sold 4 shares of HONAUT at 10279.0', 'Sold 2 shares of BHEL at 3422.7', 'Sold 1 shares of TATAPOWER at 1233.35', 'Sold 4 shares of BEML at 2000.0', 'Sold 1 shares of TATAMTRDVR at 487.5', 'Sold 1 shares of PGHL at 646.95', 'Sold 1 shares of TATASTEEL at 532.95', 'Sold 16 shares of TECHM at 11412.8', 'Sold 16 shares of GLAXO at 34184.8', 'Sold 8 shares of TORNTPHARM at 4977.6', 'Sold 1 shares of OIL at 1347.2', 'Sold 8 shares of BPCL at 5623.6', 'Sold 4 shares of BALMLAWRIE at 2501.0', 'Sold 16 shares of SUNDARMFIN at 8345.6', 'Sold 2 shares of TRENT at 2291.4', 'Sold 1 shares of COLPAL at 947.65', 'Sold 4 shares of JUBLFOOD at 3058.8', 'Sold 2 shares of ABB at 1614.1', 'Sold 64 shares of ECLERX at 48972.8', 'Sold 8 shares of HONAUT at 19923.2', 'Sold 1 shares of NESTLEIND at 4133.8', 'Sold 2 shares of TATAPOWER at 2412.3', 'Sold 2 shares of SIEMENS at 1744.9', 'Sold 8 shares of BEML at 3926.4', 'Sold 2 shares of TATAMTRDVR at 924.8', 'Sold 2 shares of PGHL at 1260.9', 'Sold 2 shares of TATASTEEL at 1018.2', 'Sold 4 shares of NAUKRI at 2830.8', 'Sold 8 shares of PFIZER at 11163.2', 'Sold 8 shares of GILLETTE at 16461.2', 'Sold 32 shares of GLAXO at 67588.8', 'Sold 8 shares of GODREJPROP at 5520.0', 'Sold 1 shares of SANOFI at 2034.0', 'Sold 16 shares of TORNTPHARM at 9872.8', 'Sold 2 shares of OIL at 2705.5', 'Sold 8 shares of BALMLAWRIE at 4964.0', 'Sold 32 shares of SUNDARMFIN at 16550.4', 'Sold 4 shares of TRENT at 4501.4', 'Sold 2 shares of BANKBARODA at 1697.9', 'Sold 2 shares of COLPAL at 1863.4', 'Sold 8 shares of JUBLFOOD at 6118.0', 'Sold 4 shares of ABB at 3222.2', 'Sold 128 shares of ECLERX at 97299.2', 'Sold 2 shares of OFSS at 3963.3', 'Sold 16 shares of HONAUT at 39269.6', 'Sold 1 shares of AXISBANK at 1205.2', 'Sold 4 shares of TATAPOWER at 4709.2', 'Sold 4 shares of SIEMENS at 3500.6', 'Sold 16 shares of BEML at 7685.6', 'Sold 4 shares of TATAMTRDVR at 1797.2', 'Sold 4 shares of PGHL at 2505.6', 'Sold 4 shares of TATASTEEL at 1940.6', 'Sold 64 shares of GLAXO at 135580.8', 'Sold 4 shares of COLPAL at 3729.6', 'Sold 8 shares of ABB at 6379.6', 'Sold 2 shares of HEROMOTOCO at 3767.9', 'Sold 8 shares of TATAPOWER at 9408.8', 'Sold 8 shares of TATASTEEL at 3879.6', 'Sold 3 shares of SHRIRAMCIT at 1713.6000000000001', 'Sold 2 shares of SANOFI at 4036.3', 'Sold 16 shares of BALMLAWRIE at 9844.8', 'Sold 4 shares of BANKBARODA at 3345.6', 'Sold 32 shares of PAGEIND at 82387.2', 'Sold 16 shares of TATAPOWER at 17992.8', 'Sold 16 shares of TATASTEEL at 7750.4', 'Sold 6 shares of SHRIRAMCIT at 3419.7000000000003', 'Sold 8 shares of J&KBANK at 6619.6', 'Sold 4 shares of BOSCHLTD at 29411.4', 'Sold 4 shares of ABBOTINDIA at 5630.8', 'Sold 8 shares of BANKBARODA at 6602.0', 'Sold 8 shares of COLPAL at 7361.2', 'Sold 4 shares of HEROMOTOCO at 7561.0', 'Sold 32 shares of TATAPOWER at 34736.0', 'Sold 1 shares of UBL at 446.35', 'Sold 16 shares of J&KBANK at 13166.4', 'Sold 16 shares of BANKBARODA at 12817.6', 'Sold 16 shares of COLPAL at 14539.2', 'Sold 4 shares of OFSS at 7537.6', 'Sold 64 shares of PAGEIND at 169020.8', 'Sold 64 shares of TATAPOWER at 69126.4', 'Sold 4 shares of SHREECEM at 6522.6', 'Sold 2 shares of UBL at 884.4', 'Sold 8 shares of NAUKRI at 5619.6', 'Sold 32 shares of J&KBANK at 26024.0', 'Sold 1 shares of BAJAJHLDNG at 724.9', 'Sold 32 shares of BANKBARODA at 25368.0', 'Sold 16 shares of JUBLFOOD at 15156.0', 'Sold 8 shares of OFSS at 14923.6', 'Sold 8 shares of HEROMOTOCO at 15516.4', 'Sold 2 shares of MRF at 13485.5', 'Sold 4 shares of UBL at 1750.6', 'Sold 64 shares of PIIND at 34723.2']\n",
      "\n"
     ]
    },
    {
     "name": "stdout",
     "output_type": "stream",
     "text": [
      "2011-08-19\n",
      "['Bought 2 shares of NAUKRI at 1457.0', 'Bought 3 shares of SHRIRAMCIT at 1635.0', 'Bought 2 shares of J&KBANK at 1685.2', 'Bought 3 shares of THERMAX at 1830.0', 'Bought 1 shares of PFIZER at 1458.75', 'Bought 1 shares of SCHAEFFLER at 1178.25', 'Bought 2 shares of SOLARINDS at 1282.8', 'Bought 2 shares of SUDARSCHEM at 1520.0', 'Bought 1 shares of BOSCHLTD at 7058.35', 'Bought 1 shares of GILLETTE at 2135.2', 'Bought 2 shares of TECHM at 1484.5', 'Bought 1 shares of ABBOTINDIA at 1488.1', 'Bought 1 shares of GLAXO at 2330.35', 'Bought 1 shares of GODREJPROP at 811.9', 'Bought 1 shares of WABCOINDIA at 1167.5', 'Bought 1 shares of BAJAJHLDNG at 760.7', 'Bought 1 shares of SANOFI at 2048.15', 'Bought 2 shares of SKFINDIA at 1329.5', 'Bought 2 shares of TORNTPHARM at 1309.4', 'Bought 1 shares of AKZOINDIA at 909.55', 'Bought 2 shares of CANBK at 1019.9', 'Bought 1 shares of ASTRAZEN at 1300.0', 'Bought 1 shares of OIL at 1282.05', 'Bought 1 shares of 3MINDIA at 4151.4', 'Bought 2 shares of BPCL at 1336.3', 'Bought 2 shares of BALMLAWRIE at 1283.6', 'Bought 1 shares of CADILAHC at 931.35', 'Bought 2 shares of SUNDARMFIN at 1118.4', 'Bought 1 shares of TRENT at 1209.1', 'Bought 1 shares of BANKBARODA at 871.95', 'Bought 1 shares of COLPAL at 1003.8', 'Bought 1 shares of JUBLFOOD at 836.6', 'Bought 1 shares of CRISIL at 7252.75', 'Bought 1 shares of ZYDUSWELL at 710.85', 'Bought 1 shares of ABB at 876.6', 'Bought 1 shares of KANSAINER at 887.4', 'Bought 1 shares of ECLERX at 837.15', 'Bought 1 shares of CUMMINSIND at 679.1', 'Bought 1 shares of OFSS at 2290.05', 'Bought 1 shares of HONAUT at 2845.9', 'Bought 1 shares of HEROMOTOCO at 1860.5', 'Bought 1 shares of NESTLEIND at 4314.65', 'Bought 1 shares of PAGEIND at 1902.65', 'Bought 1 shares of PNB at 1119.2', 'Bought 1 shares of BHEL at 1939.3', 'Bought 1 shares of MRF at 7461.9', 'Bought 1 shares of AXISBANK at 1266.4', 'Bought 1 shares of TATAPOWER at 1289.15', 'Bought 1 shares of PGHH at 1968.85', 'Bought 1 shares of SHREECEM at 1745.3', 'Bought 1 shares of SIEMENS at 910.85', 'Bought 1 shares of ULTRACEMCO at 977.8', 'Bought 1 shares of SRTRANSFIN at 658.45', 'Bought 1 shares of BEML at 590.15', 'Bought 1 shares of UBL at 501.65', 'Bought 1 shares of PIIND at 773.35', 'Bought 1 shares of TATAMTRDVR at 581.5', 'Bought 1 shares of PGHL at 657.1', 'Bought 1 shares of ADANIENT at 705.6', 'Bought 1 shares of TATASTEEL at 572.0', 'Sold 1 shares of SHREECEM at 1799.9', 'Sold 1 shares of SCHAEFFLER at 1242.6', 'Sold 1 shares of WABCOINDIA at 1212.35', 'Sold 2 shares of SCHAEFFLER at 2527.4', 'Sold 1 shares of ASTRAZEN at 1319.9', 'Sold 1 shares of MRF at 7758.0', 'Sold 4 shares of SCHAEFFLER at 5076.8', 'Sold 1 shares of GLAXO at 2301.25', 'Sold 2 shares of ASTRAZEN at 2666.5', 'Sold 2 shares of SOLARINDS at 1319.3', 'Sold 1 shares of BOSCHLTD at 7188.95', 'Sold 4 shares of ASTRAZEN at 5344.4', 'Sold 2 shares of BOSCHLTD at 14439.3', 'Sold 2 shares of GLAXO at 4594.3', 'Sold 2 shares of SKFINDIA at 1264.2', 'Sold 1 shares of OFSS at 2150.4', 'Sold 1 shares of HEROMOTOCO at 1756.9', 'Sold 1 shares of PAGEIND at 2096.65', 'Sold 1 shares of PIIND at 882.35', 'Sold 8 shares of ASTRAZEN at 10760.0', 'Sold 1 shares of CADILAHC at 877.0', 'Sold 1 shares of CRISIL at 7970.6', 'Sold 2 shares of PAGEIND at 4397.8', 'Sold 2 shares of PIIND at 1800.9', 'Sold 2 shares of NAUKRI at 1507.0', 'Sold 8 shares of SCHAEFFLER at 10689.6', 'Sold 1 shares of 3MINDIA at 4509.7', 'Sold 2 shares of CADILAHC at 1743.2', 'Sold 2 shares of CRISIL at 15926.1', 'Sold 4 shares of PAGEIND at 9164.4', 'Sold 4 shares of PIIND at 3661.2', 'Sold 1 shares of ADANIENT at 737.55', 'Sold 16 shares of SCHAEFFLER at 21563.2', 'Sold 1 shares of GILLETTE at 2291.7', 'Sold 2 shares of TECHM at 1544.2', 'Sold 1 shares of AKZOINDIA at 978.8', 'Sold 2 shares of 3MINDIA at 9057.4', 'Sold 1 shares of BANKBARODA at 913.7', 'Sold 4 shares of CRISIL at 32705.0', 'Sold 8 shares of PAGEIND at 18645.6', 'Sold 1 shares of PNB at 1197.0', 'Sold 1 shares of SIEMENS at 944.35', 'Sold 8 shares of PIIND at 7450.8', 'Sold 2 shares of ADANIENT at 1500.8', 'Sold 32 shares of SCHAEFFLER at 43606.4', 'Sold 4 shares of SOLARINDS at 2686.2', 'Sold 2 shares of GILLETTE at 4573.9', 'Sold 4 shares of TECHM at 3105.8', 'Sold 4 shares of 3MINDIA at 17926.4', 'Sold 8 shares of CRISIL at 65999.2', 'Sold 16 shares of PAGEIND at 36901.6', 'Sold 1 shares of PGHH at 1943.95', 'Sold 1 shares of BEML at 557.35', 'Sold 4 shares of ADANIENT at 3045.2', 'Sold 64 shares of SCHAEFFLER at 87881.6', 'Sold 2 shares of SUDARSCHEM at 1470.0', 'Sold 4 shares of GILLETTE at 9156.0', 'Sold 8 shares of TECHM at 6314.8', 'Sold 1 shares of ABBOTINDIA at 1454.75', 'Sold 2 shares of AKZOINDIA at 2045.8', 'Sold 2 shares of CANBK at 992.2', 'Sold 8 shares of 3MINDIA at 36134.8', 'Sold 16 shares of CRISIL at 140050.4', 'Sold 1 shares of BHEL at 1821.85', 'Sold 2 shares of PGHH at 3829.0', 'Sold 16 shares of PIIND at 17867.2', 'Sold 8 shares of ADANIENT at 6080.0', 'Sold 2 shares of J&KBANK at 1768.9', 'Sold 3 shares of THERMAX at 1732.9499999999998', 'Sold 1 shares of PFIZER at 1515.55', 'Sold 4 shares of SUDARSCHEM at 2897.8', 'Sold 4 shares of GLAXO at 9524.4', 'Sold 4 shares of AKZOINDIA at 4086.2', 'Sold 4 shares of CANBK at 1909.0', 'Sold 16 shares of ASTRAZEN at 22349.6', 'Sold 16 shares of 3MINDIA at 74258.4', 'Sold 1 shares of ECLERX at 820.05', 'Sold 1 shares of CUMMINSIND at 654.45', 'Sold 4 shares of PGHH at 7624.2', 'Sold 2 shares of BEML at 1092.9', 'Sold 32 shares of PIIND at 35456.0', 'Sold 6 shares of THERMAX at 3431.1000000000004', 'Sold 2 shares of PFIZER at 3068.4', 'Sold 8 shares of SUDARSCHEM at 5760.0', 'Sold 2 shares of WABCOINDIA at 2583.8', 'Sold 8 shares of CANBK at 3671.6', 'Sold 32 shares of ASTRAZEN at 45163.2', 'Sold 2 shares of ECLERX at 1619.4', 'Sold 2 shares of CUMMINSIND at 1282.1', 'Sold 1 shares of SRTRANSFIN at 640.55', 'Sold 16 shares of ADANIENT at 9368.0', 'Sold 4 shares of J&KBANK at 3539.2', 'Sold 12 shares of THERMAX at 6664.200000000001', 'Sold 4 shares of PFIZER at 6128.6', 'Sold 8 shares of SOLARINDS at 5854.0', 'Sold 16 shares of SUDARSCHEM at 11507.2', 'Sold 16 shares of CANBK at 7246.4', 'Sold 64 shares of ASTRAZEN at 90387.2', 'Sold 4 shares of ECLERX at 3223.6', 'Sold 4 shares of CUMMINSIND at 2527.8', 'Sold 2 shares of SRTRANSFIN at 1255.2', 'Sold 24 shares of THERMAX at 12874.800000000001', 'Sold 16 shares of SOLARINDS at 11749.6', 'Sold 32 shares of SUDARSCHEM at 22883.2', 'Sold 1 shares of GODREJPROP at 747.45', 'Sold 32 shares of CANBK at 13862.4', 'Sold 8 shares of ECLERX at 6400.4', 'Sold 8 shares of CUMMINSIND at 4931.2', 'Sold 4 shares of SRTRANSFIN at 2477.6', 'Sold 48 shares of THERMAX at 24744.0', 'Sold 32 shares of SOLARINDS at 23387.2', 'Sold 2 shares of GODREJPROP at 1477.8', 'Sold 64 shares of CANBK at 27302.4', 'Sold 2 shares of SUNDARMFIN at 1088.4', 'Sold 16 shares of ECLERX at 12587.2', 'Sold 16 shares of CUMMINSIND at 9763.2', 'Sold 1 shares of HONAUT at 2672.15', 'Sold 8 shares of SRTRANSFIN at 4758.4', 'Sold 96 shares of THERMAX at 49142.399999999994', 'Sold 2 shares of ABBOTINDIA at 2881.0', 'Sold 2 shares of TORNTPHARM at 1280.3', 'Sold 2 shares of BPCL at 1377.2', 'Sold 4 shares of SUNDARMFIN at 2141.6', 'Sold 1 shares of JUBLFOOD at 809.5', 'Sold 2 shares of HONAUT at 5279.6', 'Sold 2 shares of SHREECEM at 3407.6', 'Sold 16 shares of SRTRANSFIN at 9457.6', 'Sold 8 shares of GLAXO at 17607.2', 'Sold 4 shares of GODREJPROP at 2874.8', 'Sold 4 shares of TORNTPHARM at 2525.6', 'Sold 4 shares of BPCL at 2809.2', 'Sold 2 shares of BALMLAWRIE at 1260.3', 'Sold 8 shares of SUNDARMFIN at 4240.8', 'Sold 1 shares of TRENT at 1167.7', 'Sold 2 shares of JUBLFOOD at 1528.0', 'Sold 1 shares of ABB at 822.25', 'Sold 32 shares of ECLERX at 25132.8', 'Sold 4 shares of HONAUT at 10279.0', 'Sold 2 shares of BHEL at 3422.7', 'Sold 1 shares of TATAPOWER at 1233.35', 'Sold 4 shares of BEML at 2000.0', 'Sold 1 shares of TATAMTRDVR at 487.5', 'Sold 1 shares of PGHL at 646.95', 'Sold 1 shares of TATASTEEL at 532.95', 'Sold 16 shares of TECHM at 11412.8', 'Sold 16 shares of GLAXO at 34184.8', 'Sold 8 shares of TORNTPHARM at 4977.6', 'Sold 1 shares of OIL at 1347.2', 'Sold 8 shares of BPCL at 5623.6', 'Sold 4 shares of BALMLAWRIE at 2501.0', 'Sold 16 shares of SUNDARMFIN at 8345.6', 'Sold 2 shares of TRENT at 2291.4', 'Sold 1 shares of COLPAL at 947.65', 'Sold 4 shares of JUBLFOOD at 3058.8', 'Sold 2 shares of ABB at 1614.1', 'Sold 64 shares of ECLERX at 48972.8', 'Sold 8 shares of HONAUT at 19923.2', 'Sold 1 shares of NESTLEIND at 4133.8', 'Sold 2 shares of TATAPOWER at 2412.3', 'Sold 2 shares of SIEMENS at 1744.9', 'Sold 8 shares of BEML at 3926.4', 'Sold 2 shares of TATAMTRDVR at 924.8', 'Sold 2 shares of PGHL at 1260.9', 'Sold 2 shares of TATASTEEL at 1018.2', 'Sold 4 shares of NAUKRI at 2830.8', 'Sold 8 shares of PFIZER at 11163.2', 'Sold 8 shares of GILLETTE at 16461.2', 'Sold 32 shares of GLAXO at 67588.8', 'Sold 8 shares of GODREJPROP at 5520.0', 'Sold 1 shares of SANOFI at 2034.0', 'Sold 16 shares of TORNTPHARM at 9872.8', 'Sold 2 shares of OIL at 2705.5', 'Sold 8 shares of BALMLAWRIE at 4964.0', 'Sold 32 shares of SUNDARMFIN at 16550.4', 'Sold 4 shares of TRENT at 4501.4', 'Sold 2 shares of BANKBARODA at 1697.9', 'Sold 2 shares of COLPAL at 1863.4', 'Sold 8 shares of JUBLFOOD at 6118.0', 'Sold 4 shares of ABB at 3222.2', 'Sold 128 shares of ECLERX at 97299.2', 'Sold 2 shares of OFSS at 3963.3', 'Sold 16 shares of HONAUT at 39269.6', 'Sold 1 shares of AXISBANK at 1205.2', 'Sold 4 shares of TATAPOWER at 4709.2', 'Sold 4 shares of SIEMENS at 3500.6', 'Sold 16 shares of BEML at 7685.6', 'Sold 4 shares of TATAMTRDVR at 1797.2', 'Sold 4 shares of PGHL at 2505.6', 'Sold 4 shares of TATASTEEL at 1940.6', 'Sold 64 shares of GLAXO at 135580.8', 'Sold 4 shares of COLPAL at 3729.6', 'Sold 8 shares of ABB at 6379.6', 'Sold 2 shares of HEROMOTOCO at 3767.9', 'Sold 8 shares of TATAPOWER at 9408.8', 'Sold 8 shares of TATASTEEL at 3879.6', 'Sold 3 shares of SHRIRAMCIT at 1713.6000000000001', 'Sold 2 shares of SANOFI at 4036.3', 'Sold 16 shares of BALMLAWRIE at 9844.8', 'Sold 4 shares of BANKBARODA at 3345.6', 'Sold 32 shares of PAGEIND at 82387.2', 'Sold 16 shares of TATAPOWER at 17992.8', 'Sold 16 shares of TATASTEEL at 7750.4', 'Sold 6 shares of SHRIRAMCIT at 3419.7000000000003', 'Sold 8 shares of J&KBANK at 6619.6', 'Sold 4 shares of BOSCHLTD at 29411.4', 'Sold 4 shares of ABBOTINDIA at 5630.8', 'Sold 8 shares of BANKBARODA at 6602.0', 'Sold 8 shares of COLPAL at 7361.2', 'Sold 4 shares of HEROMOTOCO at 7561.0', 'Sold 32 shares of TATAPOWER at 34736.0', 'Sold 1 shares of UBL at 446.35', 'Sold 16 shares of J&KBANK at 13166.4', 'Sold 16 shares of BANKBARODA at 12817.6', 'Sold 16 shares of COLPAL at 14539.2', 'Sold 4 shares of OFSS at 7537.6', 'Sold 64 shares of PAGEIND at 169020.8', 'Sold 64 shares of TATAPOWER at 69126.4', 'Sold 4 shares of SHREECEM at 6522.6', 'Sold 2 shares of UBL at 884.4', 'Sold 8 shares of NAUKRI at 5619.6', 'Sold 32 shares of J&KBANK at 26024.0', 'Sold 1 shares of BAJAJHLDNG at 724.9', 'Sold 32 shares of BANKBARODA at 25368.0', 'Sold 16 shares of JUBLFOOD at 15156.0', 'Sold 8 shares of OFSS at 14923.6', 'Sold 8 shares of HEROMOTOCO at 15516.4', 'Sold 2 shares of MRF at 13485.5', 'Sold 4 shares of UBL at 1750.6', 'Sold 64 shares of PIIND at 34723.2', 'Sold 64 shares of J&KBANK at 51161.6', 'Sold 32 shares of TECHM at 21142.4', 'Sold 4 shares of CADILAHC at 3239.6', 'Sold 64 shares of BANKBARODA at 48518.4', 'Sold 16 shares of OFSS at 29461.6', 'Sold 16 shares of HEROMOTOCO at 31259.2', 'Sold 2 shares of PNB at 2023.1', 'Sold 4 shares of MRF at 26173.0', 'Sold 2 shares of AXISBANK at 2218.5', 'Sold 8 shares of UBL at 3457.6', 'Sold 128 shares of PIIND at 69414.4']\n",
      "\n"
     ]
    },
    {
     "name": "stdout",
     "output_type": "stream",
     "text": [
      "2011-08-22\n",
      "['Bought 2 shares of NAUKRI at 1457.0', 'Bought 3 shares of SHRIRAMCIT at 1635.0', 'Bought 2 shares of J&KBANK at 1685.2', 'Bought 3 shares of THERMAX at 1830.0', 'Bought 1 shares of PFIZER at 1458.75', 'Bought 1 shares of SCHAEFFLER at 1178.25', 'Bought 2 shares of SOLARINDS at 1282.8', 'Bought 2 shares of SUDARSCHEM at 1520.0', 'Bought 1 shares of BOSCHLTD at 7058.35', 'Bought 1 shares of GILLETTE at 2135.2', 'Bought 2 shares of TECHM at 1484.5', 'Bought 1 shares of ABBOTINDIA at 1488.1', 'Bought 1 shares of GLAXO at 2330.35', 'Bought 1 shares of GODREJPROP at 811.9', 'Bought 1 shares of WABCOINDIA at 1167.5', 'Bought 1 shares of BAJAJHLDNG at 760.7', 'Bought 1 shares of SANOFI at 2048.15', 'Bought 2 shares of SKFINDIA at 1329.5', 'Bought 2 shares of TORNTPHARM at 1309.4', 'Bought 1 shares of AKZOINDIA at 909.55', 'Bought 2 shares of CANBK at 1019.9', 'Bought 1 shares of ASTRAZEN at 1300.0', 'Bought 1 shares of OIL at 1282.05', 'Bought 1 shares of 3MINDIA at 4151.4', 'Bought 2 shares of BPCL at 1336.3', 'Bought 2 shares of BALMLAWRIE at 1283.6', 'Bought 1 shares of CADILAHC at 931.35', 'Bought 2 shares of SUNDARMFIN at 1118.4', 'Bought 1 shares of TRENT at 1209.1', 'Bought 1 shares of BANKBARODA at 871.95', 'Bought 1 shares of COLPAL at 1003.8', 'Bought 1 shares of JUBLFOOD at 836.6', 'Bought 1 shares of CRISIL at 7252.75', 'Bought 1 shares of ZYDUSWELL at 710.85', 'Bought 1 shares of ABB at 876.6', 'Bought 1 shares of KANSAINER at 887.4', 'Bought 1 shares of ECLERX at 837.15', 'Bought 1 shares of CUMMINSIND at 679.1', 'Bought 1 shares of OFSS at 2290.05', 'Bought 1 shares of HONAUT at 2845.9', 'Bought 1 shares of HEROMOTOCO at 1860.5', 'Bought 1 shares of NESTLEIND at 4314.65', 'Bought 1 shares of PAGEIND at 1902.65', 'Bought 1 shares of PNB at 1119.2', 'Bought 1 shares of BHEL at 1939.3', 'Bought 1 shares of MRF at 7461.9', 'Bought 1 shares of AXISBANK at 1266.4', 'Bought 1 shares of TATAPOWER at 1289.15', 'Bought 1 shares of PGHH at 1968.85', 'Bought 1 shares of SHREECEM at 1745.3', 'Bought 1 shares of SIEMENS at 910.85', 'Bought 1 shares of ULTRACEMCO at 977.8', 'Bought 1 shares of SRTRANSFIN at 658.45', 'Bought 1 shares of BEML at 590.15', 'Bought 1 shares of UBL at 501.65', 'Bought 1 shares of PIIND at 773.35', 'Bought 1 shares of TATAMTRDVR at 581.5', 'Bought 1 shares of PGHL at 657.1', 'Bought 1 shares of ADANIENT at 705.6', 'Bought 1 shares of TATASTEEL at 572.0', 'Sold 1 shares of SHREECEM at 1799.9', 'Sold 1 shares of SCHAEFFLER at 1242.6', 'Sold 1 shares of WABCOINDIA at 1212.35', 'Sold 2 shares of SCHAEFFLER at 2527.4', 'Sold 1 shares of ASTRAZEN at 1319.9', 'Sold 1 shares of MRF at 7758.0', 'Sold 4 shares of SCHAEFFLER at 5076.8', 'Sold 1 shares of GLAXO at 2301.25', 'Sold 2 shares of ASTRAZEN at 2666.5', 'Sold 2 shares of SOLARINDS at 1319.3', 'Sold 1 shares of BOSCHLTD at 7188.95', 'Sold 4 shares of ASTRAZEN at 5344.4', 'Sold 2 shares of BOSCHLTD at 14439.3', 'Sold 2 shares of GLAXO at 4594.3', 'Sold 2 shares of SKFINDIA at 1264.2', 'Sold 1 shares of OFSS at 2150.4', 'Sold 1 shares of HEROMOTOCO at 1756.9', 'Sold 1 shares of PAGEIND at 2096.65', 'Sold 1 shares of PIIND at 882.35', 'Sold 8 shares of ASTRAZEN at 10760.0', 'Sold 1 shares of CADILAHC at 877.0', 'Sold 1 shares of CRISIL at 7970.6', 'Sold 2 shares of PAGEIND at 4397.8', 'Sold 2 shares of PIIND at 1800.9', 'Sold 2 shares of NAUKRI at 1507.0', 'Sold 8 shares of SCHAEFFLER at 10689.6', 'Sold 1 shares of 3MINDIA at 4509.7', 'Sold 2 shares of CADILAHC at 1743.2', 'Sold 2 shares of CRISIL at 15926.1', 'Sold 4 shares of PAGEIND at 9164.4', 'Sold 4 shares of PIIND at 3661.2', 'Sold 1 shares of ADANIENT at 737.55', 'Sold 16 shares of SCHAEFFLER at 21563.2', 'Sold 1 shares of GILLETTE at 2291.7', 'Sold 2 shares of TECHM at 1544.2', 'Sold 1 shares of AKZOINDIA at 978.8', 'Sold 2 shares of 3MINDIA at 9057.4', 'Sold 1 shares of BANKBARODA at 913.7', 'Sold 4 shares of CRISIL at 32705.0', 'Sold 8 shares of PAGEIND at 18645.6', 'Sold 1 shares of PNB at 1197.0', 'Sold 1 shares of SIEMENS at 944.35', 'Sold 8 shares of PIIND at 7450.8', 'Sold 2 shares of ADANIENT at 1500.8', 'Sold 32 shares of SCHAEFFLER at 43606.4', 'Sold 4 shares of SOLARINDS at 2686.2', 'Sold 2 shares of GILLETTE at 4573.9', 'Sold 4 shares of TECHM at 3105.8', 'Sold 4 shares of 3MINDIA at 17926.4', 'Sold 8 shares of CRISIL at 65999.2', 'Sold 16 shares of PAGEIND at 36901.6', 'Sold 1 shares of PGHH at 1943.95', 'Sold 1 shares of BEML at 557.35', 'Sold 4 shares of ADANIENT at 3045.2', 'Sold 64 shares of SCHAEFFLER at 87881.6', 'Sold 2 shares of SUDARSCHEM at 1470.0', 'Sold 4 shares of GILLETTE at 9156.0', 'Sold 8 shares of TECHM at 6314.8', 'Sold 1 shares of ABBOTINDIA at 1454.75', 'Sold 2 shares of AKZOINDIA at 2045.8', 'Sold 2 shares of CANBK at 992.2', 'Sold 8 shares of 3MINDIA at 36134.8', 'Sold 16 shares of CRISIL at 140050.4', 'Sold 1 shares of BHEL at 1821.85', 'Sold 2 shares of PGHH at 3829.0', 'Sold 16 shares of PIIND at 17867.2', 'Sold 8 shares of ADANIENT at 6080.0', 'Sold 2 shares of J&KBANK at 1768.9', 'Sold 3 shares of THERMAX at 1732.9499999999998', 'Sold 1 shares of PFIZER at 1515.55', 'Sold 4 shares of SUDARSCHEM at 2897.8', 'Sold 4 shares of GLAXO at 9524.4', 'Sold 4 shares of AKZOINDIA at 4086.2', 'Sold 4 shares of CANBK at 1909.0', 'Sold 16 shares of ASTRAZEN at 22349.6', 'Sold 16 shares of 3MINDIA at 74258.4', 'Sold 1 shares of ECLERX at 820.05', 'Sold 1 shares of CUMMINSIND at 654.45', 'Sold 4 shares of PGHH at 7624.2', 'Sold 2 shares of BEML at 1092.9', 'Sold 32 shares of PIIND at 35456.0', 'Sold 6 shares of THERMAX at 3431.1000000000004', 'Sold 2 shares of PFIZER at 3068.4', 'Sold 8 shares of SUDARSCHEM at 5760.0', 'Sold 2 shares of WABCOINDIA at 2583.8', 'Sold 8 shares of CANBK at 3671.6', 'Sold 32 shares of ASTRAZEN at 45163.2', 'Sold 2 shares of ECLERX at 1619.4', 'Sold 2 shares of CUMMINSIND at 1282.1', 'Sold 1 shares of SRTRANSFIN at 640.55', 'Sold 16 shares of ADANIENT at 9368.0', 'Sold 4 shares of J&KBANK at 3539.2', 'Sold 12 shares of THERMAX at 6664.200000000001', 'Sold 4 shares of PFIZER at 6128.6', 'Sold 8 shares of SOLARINDS at 5854.0', 'Sold 16 shares of SUDARSCHEM at 11507.2', 'Sold 16 shares of CANBK at 7246.4', 'Sold 64 shares of ASTRAZEN at 90387.2', 'Sold 4 shares of ECLERX at 3223.6', 'Sold 4 shares of CUMMINSIND at 2527.8', 'Sold 2 shares of SRTRANSFIN at 1255.2', 'Sold 24 shares of THERMAX at 12874.800000000001', 'Sold 16 shares of SOLARINDS at 11749.6', 'Sold 32 shares of SUDARSCHEM at 22883.2', 'Sold 1 shares of GODREJPROP at 747.45', 'Sold 32 shares of CANBK at 13862.4', 'Sold 8 shares of ECLERX at 6400.4', 'Sold 8 shares of CUMMINSIND at 4931.2', 'Sold 4 shares of SRTRANSFIN at 2477.6', 'Sold 48 shares of THERMAX at 24744.0', 'Sold 32 shares of SOLARINDS at 23387.2', 'Sold 2 shares of GODREJPROP at 1477.8', 'Sold 64 shares of CANBK at 27302.4', 'Sold 2 shares of SUNDARMFIN at 1088.4', 'Sold 16 shares of ECLERX at 12587.2', 'Sold 16 shares of CUMMINSIND at 9763.2', 'Sold 1 shares of HONAUT at 2672.15', 'Sold 8 shares of SRTRANSFIN at 4758.4', 'Sold 96 shares of THERMAX at 49142.399999999994', 'Sold 2 shares of ABBOTINDIA at 2881.0', 'Sold 2 shares of TORNTPHARM at 1280.3', 'Sold 2 shares of BPCL at 1377.2', 'Sold 4 shares of SUNDARMFIN at 2141.6', 'Sold 1 shares of JUBLFOOD at 809.5', 'Sold 2 shares of HONAUT at 5279.6', 'Sold 2 shares of SHREECEM at 3407.6', 'Sold 16 shares of SRTRANSFIN at 9457.6', 'Sold 8 shares of GLAXO at 17607.2', 'Sold 4 shares of GODREJPROP at 2874.8', 'Sold 4 shares of TORNTPHARM at 2525.6', 'Sold 4 shares of BPCL at 2809.2', 'Sold 2 shares of BALMLAWRIE at 1260.3', 'Sold 8 shares of SUNDARMFIN at 4240.8', 'Sold 1 shares of TRENT at 1167.7', 'Sold 2 shares of JUBLFOOD at 1528.0', 'Sold 1 shares of ABB at 822.25', 'Sold 32 shares of ECLERX at 25132.8', 'Sold 4 shares of HONAUT at 10279.0', 'Sold 2 shares of BHEL at 3422.7', 'Sold 1 shares of TATAPOWER at 1233.35', 'Sold 4 shares of BEML at 2000.0', 'Sold 1 shares of TATAMTRDVR at 487.5', 'Sold 1 shares of PGHL at 646.95', 'Sold 1 shares of TATASTEEL at 532.95', 'Sold 16 shares of TECHM at 11412.8', 'Sold 16 shares of GLAXO at 34184.8', 'Sold 8 shares of TORNTPHARM at 4977.6', 'Sold 1 shares of OIL at 1347.2', 'Sold 8 shares of BPCL at 5623.6', 'Sold 4 shares of BALMLAWRIE at 2501.0', 'Sold 16 shares of SUNDARMFIN at 8345.6', 'Sold 2 shares of TRENT at 2291.4', 'Sold 1 shares of COLPAL at 947.65', 'Sold 4 shares of JUBLFOOD at 3058.8', 'Sold 2 shares of ABB at 1614.1', 'Sold 64 shares of ECLERX at 48972.8', 'Sold 8 shares of HONAUT at 19923.2', 'Sold 1 shares of NESTLEIND at 4133.8', 'Sold 2 shares of TATAPOWER at 2412.3', 'Sold 2 shares of SIEMENS at 1744.9', 'Sold 8 shares of BEML at 3926.4', 'Sold 2 shares of TATAMTRDVR at 924.8', 'Sold 2 shares of PGHL at 1260.9', 'Sold 2 shares of TATASTEEL at 1018.2', 'Sold 4 shares of NAUKRI at 2830.8', 'Sold 8 shares of PFIZER at 11163.2', 'Sold 8 shares of GILLETTE at 16461.2', 'Sold 32 shares of GLAXO at 67588.8', 'Sold 8 shares of GODREJPROP at 5520.0', 'Sold 1 shares of SANOFI at 2034.0', 'Sold 16 shares of TORNTPHARM at 9872.8', 'Sold 2 shares of OIL at 2705.5', 'Sold 8 shares of BALMLAWRIE at 4964.0', 'Sold 32 shares of SUNDARMFIN at 16550.4', 'Sold 4 shares of TRENT at 4501.4', 'Sold 2 shares of BANKBARODA at 1697.9', 'Sold 2 shares of COLPAL at 1863.4', 'Sold 8 shares of JUBLFOOD at 6118.0', 'Sold 4 shares of ABB at 3222.2', 'Sold 128 shares of ECLERX at 97299.2', 'Sold 2 shares of OFSS at 3963.3', 'Sold 16 shares of HONAUT at 39269.6', 'Sold 1 shares of AXISBANK at 1205.2', 'Sold 4 shares of TATAPOWER at 4709.2', 'Sold 4 shares of SIEMENS at 3500.6', 'Sold 16 shares of BEML at 7685.6', 'Sold 4 shares of TATAMTRDVR at 1797.2', 'Sold 4 shares of PGHL at 2505.6', 'Sold 4 shares of TATASTEEL at 1940.6', 'Sold 64 shares of GLAXO at 135580.8', 'Sold 4 shares of COLPAL at 3729.6', 'Sold 8 shares of ABB at 6379.6', 'Sold 2 shares of HEROMOTOCO at 3767.9', 'Sold 8 shares of TATAPOWER at 9408.8', 'Sold 8 shares of TATASTEEL at 3879.6', 'Sold 3 shares of SHRIRAMCIT at 1713.6000000000001', 'Sold 2 shares of SANOFI at 4036.3', 'Sold 16 shares of BALMLAWRIE at 9844.8', 'Sold 4 shares of BANKBARODA at 3345.6', 'Sold 32 shares of PAGEIND at 82387.2', 'Sold 16 shares of TATAPOWER at 17992.8', 'Sold 16 shares of TATASTEEL at 7750.4', 'Sold 6 shares of SHRIRAMCIT at 3419.7000000000003', 'Sold 8 shares of J&KBANK at 6619.6', 'Sold 4 shares of BOSCHLTD at 29411.4', 'Sold 4 shares of ABBOTINDIA at 5630.8', 'Sold 8 shares of BANKBARODA at 6602.0', 'Sold 8 shares of COLPAL at 7361.2', 'Sold 4 shares of HEROMOTOCO at 7561.0', 'Sold 32 shares of TATAPOWER at 34736.0', 'Sold 1 shares of UBL at 446.35', 'Sold 16 shares of J&KBANK at 13166.4', 'Sold 16 shares of BANKBARODA at 12817.6', 'Sold 16 shares of COLPAL at 14539.2', 'Sold 4 shares of OFSS at 7537.6', 'Sold 64 shares of PAGEIND at 169020.8', 'Sold 64 shares of TATAPOWER at 69126.4', 'Sold 4 shares of SHREECEM at 6522.6', 'Sold 2 shares of UBL at 884.4', 'Sold 8 shares of NAUKRI at 5619.6', 'Sold 32 shares of J&KBANK at 26024.0', 'Sold 1 shares of BAJAJHLDNG at 724.9', 'Sold 32 shares of BANKBARODA at 25368.0', 'Sold 16 shares of JUBLFOOD at 15156.0', 'Sold 8 shares of OFSS at 14923.6', 'Sold 8 shares of HEROMOTOCO at 15516.4', 'Sold 2 shares of MRF at 13485.5', 'Sold 4 shares of UBL at 1750.6', 'Sold 64 shares of PIIND at 34723.2', 'Sold 64 shares of J&KBANK at 51161.6', 'Sold 32 shares of TECHM at 21142.4', 'Sold 4 shares of CADILAHC at 3239.6', 'Sold 64 shares of BANKBARODA at 48518.4', 'Sold 16 shares of OFSS at 29461.6', 'Sold 16 shares of HEROMOTOCO at 31259.2', 'Sold 2 shares of PNB at 2023.1', 'Sold 4 shares of MRF at 26173.0', 'Sold 2 shares of AXISBANK at 2218.5', 'Sold 8 shares of UBL at 3457.6', 'Sold 128 shares of PIIND at 69414.4', 'Sold 128 shares of J&KBANK at 100921.6', 'Sold 64 shares of TECHM at 40832.0', 'Sold 2 shares of BAJAJHLDNG at 1445.0', 'Sold 4 shares of SKFINDIA at 2485.6', 'Sold 32 shares of 3MINDIA at 153462.4', 'Sold 8 shares of CADILAHC at 6455.6', 'Sold 128 shares of BANKBARODA at 95289.6', 'Sold 1 shares of KANSAINER at 853.75', 'Sold 32 shares of OFSS at 56849.6', 'Sold 32 shares of HEROMOTOCO at 63798.4', 'Sold 4 shares of PNB at 3966.4', 'Sold 8 shares of MRF at 51173.6', 'Sold 4 shares of AXISBANK at 4278.4', 'Sold 16 shares of UBL at 6645.6', 'Sold 256 shares of PIIND at 138944.0']\n",
      "\n"
     ]
    },
    {
     "name": "stdout",
     "output_type": "stream",
     "text": [
      "2011-08-23\n",
      "['Bought 2 shares of NAUKRI at 1457.0', 'Bought 3 shares of SHRIRAMCIT at 1635.0', 'Bought 2 shares of J&KBANK at 1685.2', 'Bought 3 shares of THERMAX at 1830.0', 'Bought 1 shares of PFIZER at 1458.75', 'Bought 1 shares of SCHAEFFLER at 1178.25', 'Bought 2 shares of SOLARINDS at 1282.8', 'Bought 2 shares of SUDARSCHEM at 1520.0', 'Bought 1 shares of BOSCHLTD at 7058.35', 'Bought 1 shares of GILLETTE at 2135.2', 'Bought 2 shares of TECHM at 1484.5', 'Bought 1 shares of ABBOTINDIA at 1488.1', 'Bought 1 shares of GLAXO at 2330.35', 'Bought 1 shares of GODREJPROP at 811.9', 'Bought 1 shares of WABCOINDIA at 1167.5', 'Bought 1 shares of BAJAJHLDNG at 760.7', 'Bought 1 shares of SANOFI at 2048.15', 'Bought 2 shares of SKFINDIA at 1329.5', 'Bought 2 shares of TORNTPHARM at 1309.4', 'Bought 1 shares of AKZOINDIA at 909.55', 'Bought 2 shares of CANBK at 1019.9', 'Bought 1 shares of ASTRAZEN at 1300.0', 'Bought 1 shares of OIL at 1282.05', 'Bought 1 shares of 3MINDIA at 4151.4', 'Bought 2 shares of BPCL at 1336.3', 'Bought 2 shares of BALMLAWRIE at 1283.6', 'Bought 1 shares of CADILAHC at 931.35', 'Bought 2 shares of SUNDARMFIN at 1118.4', 'Bought 1 shares of TRENT at 1209.1', 'Bought 1 shares of BANKBARODA at 871.95', 'Bought 1 shares of COLPAL at 1003.8', 'Bought 1 shares of JUBLFOOD at 836.6', 'Bought 1 shares of CRISIL at 7252.75', 'Bought 1 shares of ZYDUSWELL at 710.85', 'Bought 1 shares of ABB at 876.6', 'Bought 1 shares of KANSAINER at 887.4', 'Bought 1 shares of ECLERX at 837.15', 'Bought 1 shares of CUMMINSIND at 679.1', 'Bought 1 shares of OFSS at 2290.05', 'Bought 1 shares of HONAUT at 2845.9', 'Bought 1 shares of HEROMOTOCO at 1860.5', 'Bought 1 shares of NESTLEIND at 4314.65', 'Bought 1 shares of PAGEIND at 1902.65', 'Bought 1 shares of PNB at 1119.2', 'Bought 1 shares of BHEL at 1939.3', 'Bought 1 shares of MRF at 7461.9', 'Bought 1 shares of AXISBANK at 1266.4', 'Bought 1 shares of TATAPOWER at 1289.15', 'Bought 1 shares of PGHH at 1968.85', 'Bought 1 shares of SHREECEM at 1745.3', 'Bought 1 shares of SIEMENS at 910.85', 'Bought 1 shares of ULTRACEMCO at 977.8', 'Bought 1 shares of SRTRANSFIN at 658.45', 'Bought 1 shares of BEML at 590.15', 'Bought 1 shares of UBL at 501.65', 'Bought 1 shares of PIIND at 773.35', 'Bought 1 shares of TATAMTRDVR at 581.5', 'Bought 1 shares of PGHL at 657.1', 'Bought 1 shares of ADANIENT at 705.6', 'Bought 1 shares of TATASTEEL at 572.0', 'Sold 1 shares of SHREECEM at 1799.9', 'Sold 1 shares of SCHAEFFLER at 1242.6', 'Sold 1 shares of WABCOINDIA at 1212.35', 'Sold 2 shares of SCHAEFFLER at 2527.4', 'Sold 1 shares of ASTRAZEN at 1319.9', 'Sold 1 shares of MRF at 7758.0', 'Sold 4 shares of SCHAEFFLER at 5076.8', 'Sold 1 shares of GLAXO at 2301.25', 'Sold 2 shares of ASTRAZEN at 2666.5', 'Sold 2 shares of SOLARINDS at 1319.3', 'Sold 1 shares of BOSCHLTD at 7188.95', 'Sold 4 shares of ASTRAZEN at 5344.4', 'Sold 2 shares of BOSCHLTD at 14439.3', 'Sold 2 shares of GLAXO at 4594.3', 'Sold 2 shares of SKFINDIA at 1264.2', 'Sold 1 shares of OFSS at 2150.4', 'Sold 1 shares of HEROMOTOCO at 1756.9', 'Sold 1 shares of PAGEIND at 2096.65', 'Sold 1 shares of PIIND at 882.35', 'Sold 8 shares of ASTRAZEN at 10760.0', 'Sold 1 shares of CADILAHC at 877.0', 'Sold 1 shares of CRISIL at 7970.6', 'Sold 2 shares of PAGEIND at 4397.8', 'Sold 2 shares of PIIND at 1800.9', 'Sold 2 shares of NAUKRI at 1507.0', 'Sold 8 shares of SCHAEFFLER at 10689.6', 'Sold 1 shares of 3MINDIA at 4509.7', 'Sold 2 shares of CADILAHC at 1743.2', 'Sold 2 shares of CRISIL at 15926.1', 'Sold 4 shares of PAGEIND at 9164.4', 'Sold 4 shares of PIIND at 3661.2', 'Sold 1 shares of ADANIENT at 737.55', 'Sold 16 shares of SCHAEFFLER at 21563.2', 'Sold 1 shares of GILLETTE at 2291.7', 'Sold 2 shares of TECHM at 1544.2', 'Sold 1 shares of AKZOINDIA at 978.8', 'Sold 2 shares of 3MINDIA at 9057.4', 'Sold 1 shares of BANKBARODA at 913.7', 'Sold 4 shares of CRISIL at 32705.0', 'Sold 8 shares of PAGEIND at 18645.6', 'Sold 1 shares of PNB at 1197.0', 'Sold 1 shares of SIEMENS at 944.35', 'Sold 8 shares of PIIND at 7450.8', 'Sold 2 shares of ADANIENT at 1500.8', 'Sold 32 shares of SCHAEFFLER at 43606.4', 'Sold 4 shares of SOLARINDS at 2686.2', 'Sold 2 shares of GILLETTE at 4573.9', 'Sold 4 shares of TECHM at 3105.8', 'Sold 4 shares of 3MINDIA at 17926.4', 'Sold 8 shares of CRISIL at 65999.2', 'Sold 16 shares of PAGEIND at 36901.6', 'Sold 1 shares of PGHH at 1943.95', 'Sold 1 shares of BEML at 557.35', 'Sold 4 shares of ADANIENT at 3045.2', 'Sold 64 shares of SCHAEFFLER at 87881.6', 'Sold 2 shares of SUDARSCHEM at 1470.0', 'Sold 4 shares of GILLETTE at 9156.0', 'Sold 8 shares of TECHM at 6314.8', 'Sold 1 shares of ABBOTINDIA at 1454.75', 'Sold 2 shares of AKZOINDIA at 2045.8', 'Sold 2 shares of CANBK at 992.2', 'Sold 8 shares of 3MINDIA at 36134.8', 'Sold 16 shares of CRISIL at 140050.4', 'Sold 1 shares of BHEL at 1821.85', 'Sold 2 shares of PGHH at 3829.0', 'Sold 16 shares of PIIND at 17867.2', 'Sold 8 shares of ADANIENT at 6080.0', 'Sold 2 shares of J&KBANK at 1768.9', 'Sold 3 shares of THERMAX at 1732.9499999999998', 'Sold 1 shares of PFIZER at 1515.55', 'Sold 4 shares of SUDARSCHEM at 2897.8', 'Sold 4 shares of GLAXO at 9524.4', 'Sold 4 shares of AKZOINDIA at 4086.2', 'Sold 4 shares of CANBK at 1909.0', 'Sold 16 shares of ASTRAZEN at 22349.6', 'Sold 16 shares of 3MINDIA at 74258.4', 'Sold 1 shares of ECLERX at 820.05', 'Sold 1 shares of CUMMINSIND at 654.45', 'Sold 4 shares of PGHH at 7624.2', 'Sold 2 shares of BEML at 1092.9', 'Sold 32 shares of PIIND at 35456.0', 'Sold 6 shares of THERMAX at 3431.1000000000004', 'Sold 2 shares of PFIZER at 3068.4', 'Sold 8 shares of SUDARSCHEM at 5760.0', 'Sold 2 shares of WABCOINDIA at 2583.8', 'Sold 8 shares of CANBK at 3671.6', 'Sold 32 shares of ASTRAZEN at 45163.2', 'Sold 2 shares of ECLERX at 1619.4', 'Sold 2 shares of CUMMINSIND at 1282.1', 'Sold 1 shares of SRTRANSFIN at 640.55', 'Sold 16 shares of ADANIENT at 9368.0', 'Sold 4 shares of J&KBANK at 3539.2', 'Sold 12 shares of THERMAX at 6664.200000000001', 'Sold 4 shares of PFIZER at 6128.6', 'Sold 8 shares of SOLARINDS at 5854.0', 'Sold 16 shares of SUDARSCHEM at 11507.2', 'Sold 16 shares of CANBK at 7246.4', 'Sold 64 shares of ASTRAZEN at 90387.2', 'Sold 4 shares of ECLERX at 3223.6', 'Sold 4 shares of CUMMINSIND at 2527.8', 'Sold 2 shares of SRTRANSFIN at 1255.2', 'Sold 24 shares of THERMAX at 12874.800000000001', 'Sold 16 shares of SOLARINDS at 11749.6', 'Sold 32 shares of SUDARSCHEM at 22883.2', 'Sold 1 shares of GODREJPROP at 747.45', 'Sold 32 shares of CANBK at 13862.4', 'Sold 8 shares of ECLERX at 6400.4', 'Sold 8 shares of CUMMINSIND at 4931.2', 'Sold 4 shares of SRTRANSFIN at 2477.6', 'Sold 48 shares of THERMAX at 24744.0', 'Sold 32 shares of SOLARINDS at 23387.2', 'Sold 2 shares of GODREJPROP at 1477.8', 'Sold 64 shares of CANBK at 27302.4', 'Sold 2 shares of SUNDARMFIN at 1088.4', 'Sold 16 shares of ECLERX at 12587.2', 'Sold 16 shares of CUMMINSIND at 9763.2', 'Sold 1 shares of HONAUT at 2672.15', 'Sold 8 shares of SRTRANSFIN at 4758.4', 'Sold 96 shares of THERMAX at 49142.399999999994', 'Sold 2 shares of ABBOTINDIA at 2881.0', 'Sold 2 shares of TORNTPHARM at 1280.3', 'Sold 2 shares of BPCL at 1377.2', 'Sold 4 shares of SUNDARMFIN at 2141.6', 'Sold 1 shares of JUBLFOOD at 809.5', 'Sold 2 shares of HONAUT at 5279.6', 'Sold 2 shares of SHREECEM at 3407.6', 'Sold 16 shares of SRTRANSFIN at 9457.6', 'Sold 8 shares of GLAXO at 17607.2', 'Sold 4 shares of GODREJPROP at 2874.8', 'Sold 4 shares of TORNTPHARM at 2525.6', 'Sold 4 shares of BPCL at 2809.2', 'Sold 2 shares of BALMLAWRIE at 1260.3', 'Sold 8 shares of SUNDARMFIN at 4240.8', 'Sold 1 shares of TRENT at 1167.7', 'Sold 2 shares of JUBLFOOD at 1528.0', 'Sold 1 shares of ABB at 822.25', 'Sold 32 shares of ECLERX at 25132.8', 'Sold 4 shares of HONAUT at 10279.0', 'Sold 2 shares of BHEL at 3422.7', 'Sold 1 shares of TATAPOWER at 1233.35', 'Sold 4 shares of BEML at 2000.0', 'Sold 1 shares of TATAMTRDVR at 487.5', 'Sold 1 shares of PGHL at 646.95', 'Sold 1 shares of TATASTEEL at 532.95', 'Sold 16 shares of TECHM at 11412.8', 'Sold 16 shares of GLAXO at 34184.8', 'Sold 8 shares of TORNTPHARM at 4977.6', 'Sold 1 shares of OIL at 1347.2', 'Sold 8 shares of BPCL at 5623.6', 'Sold 4 shares of BALMLAWRIE at 2501.0', 'Sold 16 shares of SUNDARMFIN at 8345.6', 'Sold 2 shares of TRENT at 2291.4', 'Sold 1 shares of COLPAL at 947.65', 'Sold 4 shares of JUBLFOOD at 3058.8', 'Sold 2 shares of ABB at 1614.1', 'Sold 64 shares of ECLERX at 48972.8', 'Sold 8 shares of HONAUT at 19923.2', 'Sold 1 shares of NESTLEIND at 4133.8', 'Sold 2 shares of TATAPOWER at 2412.3', 'Sold 2 shares of SIEMENS at 1744.9', 'Sold 8 shares of BEML at 3926.4', 'Sold 2 shares of TATAMTRDVR at 924.8', 'Sold 2 shares of PGHL at 1260.9', 'Sold 2 shares of TATASTEEL at 1018.2', 'Sold 4 shares of NAUKRI at 2830.8', 'Sold 8 shares of PFIZER at 11163.2', 'Sold 8 shares of GILLETTE at 16461.2', 'Sold 32 shares of GLAXO at 67588.8', 'Sold 8 shares of GODREJPROP at 5520.0', 'Sold 1 shares of SANOFI at 2034.0', 'Sold 16 shares of TORNTPHARM at 9872.8', 'Sold 2 shares of OIL at 2705.5', 'Sold 8 shares of BALMLAWRIE at 4964.0', 'Sold 32 shares of SUNDARMFIN at 16550.4', 'Sold 4 shares of TRENT at 4501.4', 'Sold 2 shares of BANKBARODA at 1697.9', 'Sold 2 shares of COLPAL at 1863.4', 'Sold 8 shares of JUBLFOOD at 6118.0', 'Sold 4 shares of ABB at 3222.2', 'Sold 128 shares of ECLERX at 97299.2', 'Sold 2 shares of OFSS at 3963.3', 'Sold 16 shares of HONAUT at 39269.6', 'Sold 1 shares of AXISBANK at 1205.2', 'Sold 4 shares of TATAPOWER at 4709.2', 'Sold 4 shares of SIEMENS at 3500.6', 'Sold 16 shares of BEML at 7685.6', 'Sold 4 shares of TATAMTRDVR at 1797.2', 'Sold 4 shares of PGHL at 2505.6', 'Sold 4 shares of TATASTEEL at 1940.6', 'Sold 64 shares of GLAXO at 135580.8', 'Sold 4 shares of COLPAL at 3729.6', 'Sold 8 shares of ABB at 6379.6', 'Sold 2 shares of HEROMOTOCO at 3767.9', 'Sold 8 shares of TATAPOWER at 9408.8', 'Sold 8 shares of TATASTEEL at 3879.6', 'Sold 3 shares of SHRIRAMCIT at 1713.6000000000001', 'Sold 2 shares of SANOFI at 4036.3', 'Sold 16 shares of BALMLAWRIE at 9844.8', 'Sold 4 shares of BANKBARODA at 3345.6', 'Sold 32 shares of PAGEIND at 82387.2', 'Sold 16 shares of TATAPOWER at 17992.8', 'Sold 16 shares of TATASTEEL at 7750.4', 'Sold 6 shares of SHRIRAMCIT at 3419.7000000000003', 'Sold 8 shares of J&KBANK at 6619.6', 'Sold 4 shares of BOSCHLTD at 29411.4', 'Sold 4 shares of ABBOTINDIA at 5630.8', 'Sold 8 shares of BANKBARODA at 6602.0', 'Sold 8 shares of COLPAL at 7361.2', 'Sold 4 shares of HEROMOTOCO at 7561.0', 'Sold 32 shares of TATAPOWER at 34736.0', 'Sold 1 shares of UBL at 446.35', 'Sold 16 shares of J&KBANK at 13166.4', 'Sold 16 shares of BANKBARODA at 12817.6', 'Sold 16 shares of COLPAL at 14539.2', 'Sold 4 shares of OFSS at 7537.6', 'Sold 64 shares of PAGEIND at 169020.8', 'Sold 64 shares of TATAPOWER at 69126.4', 'Sold 4 shares of SHREECEM at 6522.6', 'Sold 2 shares of UBL at 884.4', 'Sold 8 shares of NAUKRI at 5619.6', 'Sold 32 shares of J&KBANK at 26024.0', 'Sold 1 shares of BAJAJHLDNG at 724.9', 'Sold 32 shares of BANKBARODA at 25368.0', 'Sold 16 shares of JUBLFOOD at 15156.0', 'Sold 8 shares of OFSS at 14923.6', 'Sold 8 shares of HEROMOTOCO at 15516.4', 'Sold 2 shares of MRF at 13485.5', 'Sold 4 shares of UBL at 1750.6', 'Sold 64 shares of PIIND at 34723.2', 'Sold 64 shares of J&KBANK at 51161.6', 'Sold 32 shares of TECHM at 21142.4', 'Sold 4 shares of CADILAHC at 3239.6', 'Sold 64 shares of BANKBARODA at 48518.4', 'Sold 16 shares of OFSS at 29461.6', 'Sold 16 shares of HEROMOTOCO at 31259.2', 'Sold 2 shares of PNB at 2023.1', 'Sold 4 shares of MRF at 26173.0', 'Sold 2 shares of AXISBANK at 2218.5', 'Sold 8 shares of UBL at 3457.6', 'Sold 128 shares of PIIND at 69414.4', 'Sold 128 shares of J&KBANK at 100921.6', 'Sold 64 shares of TECHM at 40832.0', 'Sold 2 shares of BAJAJHLDNG at 1445.0', 'Sold 4 shares of SKFINDIA at 2485.6', 'Sold 32 shares of 3MINDIA at 153462.4', 'Sold 8 shares of CADILAHC at 6455.6', 'Sold 128 shares of BANKBARODA at 95289.6', 'Sold 1 shares of KANSAINER at 853.75', 'Sold 32 shares of OFSS at 56849.6', 'Sold 32 shares of HEROMOTOCO at 63798.4', 'Sold 4 shares of PNB at 3966.4', 'Sold 8 shares of MRF at 51173.6', 'Sold 4 shares of AXISBANK at 4278.4', 'Sold 16 shares of UBL at 6645.6', 'Sold 256 shares of PIIND at 138944.0', 'Sold 16 shares of PFIZER at 21248.0', 'Sold 128 shares of TECHM at 81516.8', 'Sold 256 shares of BANKBARODA at 187558.4', 'Sold 256 shares of ECLERX at 184588.8', 'Sold 64 shares of HEROMOTOCO at 128489.6', 'Sold 8 shares of PNB at 7840.8', 'Sold 8 shares of AXISBANK at 8408.8']\n",
      "\n"
     ]
    },
    {
     "name": "stdout",
     "output_type": "stream",
     "text": [
      "2011-08-24\n",
      "['Bought 2 shares of NAUKRI at 1457.0', 'Bought 3 shares of SHRIRAMCIT at 1635.0', 'Bought 2 shares of J&KBANK at 1685.2', 'Bought 3 shares of THERMAX at 1830.0', 'Bought 1 shares of PFIZER at 1458.75', 'Bought 1 shares of SCHAEFFLER at 1178.25', 'Bought 2 shares of SOLARINDS at 1282.8', 'Bought 2 shares of SUDARSCHEM at 1520.0', 'Bought 1 shares of BOSCHLTD at 7058.35', 'Bought 1 shares of GILLETTE at 2135.2', 'Bought 2 shares of TECHM at 1484.5', 'Bought 1 shares of ABBOTINDIA at 1488.1', 'Bought 1 shares of GLAXO at 2330.35', 'Bought 1 shares of GODREJPROP at 811.9', 'Bought 1 shares of WABCOINDIA at 1167.5', 'Bought 1 shares of BAJAJHLDNG at 760.7', 'Bought 1 shares of SANOFI at 2048.15', 'Bought 2 shares of SKFINDIA at 1329.5', 'Bought 2 shares of TORNTPHARM at 1309.4', 'Bought 1 shares of AKZOINDIA at 909.55', 'Bought 2 shares of CANBK at 1019.9', 'Bought 1 shares of ASTRAZEN at 1300.0', 'Bought 1 shares of OIL at 1282.05', 'Bought 1 shares of 3MINDIA at 4151.4', 'Bought 2 shares of BPCL at 1336.3', 'Bought 2 shares of BALMLAWRIE at 1283.6', 'Bought 1 shares of CADILAHC at 931.35', 'Bought 2 shares of SUNDARMFIN at 1118.4', 'Bought 1 shares of TRENT at 1209.1', 'Bought 1 shares of BANKBARODA at 871.95', 'Bought 1 shares of COLPAL at 1003.8', 'Bought 1 shares of JUBLFOOD at 836.6', 'Bought 1 shares of CRISIL at 7252.75', 'Bought 1 shares of ZYDUSWELL at 710.85', 'Bought 1 shares of ABB at 876.6', 'Bought 1 shares of KANSAINER at 887.4', 'Bought 1 shares of ECLERX at 837.15', 'Bought 1 shares of CUMMINSIND at 679.1', 'Bought 1 shares of OFSS at 2290.05', 'Bought 1 shares of HONAUT at 2845.9', 'Bought 1 shares of HEROMOTOCO at 1860.5', 'Bought 1 shares of NESTLEIND at 4314.65', 'Bought 1 shares of PAGEIND at 1902.65', 'Bought 1 shares of PNB at 1119.2', 'Bought 1 shares of BHEL at 1939.3', 'Bought 1 shares of MRF at 7461.9', 'Bought 1 shares of AXISBANK at 1266.4', 'Bought 1 shares of TATAPOWER at 1289.15', 'Bought 1 shares of PGHH at 1968.85', 'Bought 1 shares of SHREECEM at 1745.3', 'Bought 1 shares of SIEMENS at 910.85', 'Bought 1 shares of ULTRACEMCO at 977.8', 'Bought 1 shares of SRTRANSFIN at 658.45', 'Bought 1 shares of BEML at 590.15', 'Bought 1 shares of UBL at 501.65', 'Bought 1 shares of PIIND at 773.35', 'Bought 1 shares of TATAMTRDVR at 581.5', 'Bought 1 shares of PGHL at 657.1', 'Bought 1 shares of ADANIENT at 705.6', 'Bought 1 shares of TATASTEEL at 572.0', 'Sold 1 shares of SHREECEM at 1799.9', 'Sold 1 shares of SCHAEFFLER at 1242.6', 'Sold 1 shares of WABCOINDIA at 1212.35', 'Sold 2 shares of SCHAEFFLER at 2527.4', 'Sold 1 shares of ASTRAZEN at 1319.9', 'Sold 1 shares of MRF at 7758.0', 'Sold 4 shares of SCHAEFFLER at 5076.8', 'Sold 1 shares of GLAXO at 2301.25', 'Sold 2 shares of ASTRAZEN at 2666.5', 'Sold 2 shares of SOLARINDS at 1319.3', 'Sold 1 shares of BOSCHLTD at 7188.95', 'Sold 4 shares of ASTRAZEN at 5344.4', 'Sold 2 shares of BOSCHLTD at 14439.3', 'Sold 2 shares of GLAXO at 4594.3', 'Sold 2 shares of SKFINDIA at 1264.2', 'Sold 1 shares of OFSS at 2150.4', 'Sold 1 shares of HEROMOTOCO at 1756.9', 'Sold 1 shares of PAGEIND at 2096.65', 'Sold 1 shares of PIIND at 882.35', 'Sold 8 shares of ASTRAZEN at 10760.0', 'Sold 1 shares of CADILAHC at 877.0', 'Sold 1 shares of CRISIL at 7970.6', 'Sold 2 shares of PAGEIND at 4397.8', 'Sold 2 shares of PIIND at 1800.9', 'Sold 2 shares of NAUKRI at 1507.0', 'Sold 8 shares of SCHAEFFLER at 10689.6', 'Sold 1 shares of 3MINDIA at 4509.7', 'Sold 2 shares of CADILAHC at 1743.2', 'Sold 2 shares of CRISIL at 15926.1', 'Sold 4 shares of PAGEIND at 9164.4', 'Sold 4 shares of PIIND at 3661.2', 'Sold 1 shares of ADANIENT at 737.55', 'Sold 16 shares of SCHAEFFLER at 21563.2', 'Sold 1 shares of GILLETTE at 2291.7', 'Sold 2 shares of TECHM at 1544.2', 'Sold 1 shares of AKZOINDIA at 978.8', 'Sold 2 shares of 3MINDIA at 9057.4', 'Sold 1 shares of BANKBARODA at 913.7', 'Sold 4 shares of CRISIL at 32705.0', 'Sold 8 shares of PAGEIND at 18645.6', 'Sold 1 shares of PNB at 1197.0', 'Sold 1 shares of SIEMENS at 944.35', 'Sold 8 shares of PIIND at 7450.8', 'Sold 2 shares of ADANIENT at 1500.8', 'Sold 32 shares of SCHAEFFLER at 43606.4', 'Sold 4 shares of SOLARINDS at 2686.2', 'Sold 2 shares of GILLETTE at 4573.9', 'Sold 4 shares of TECHM at 3105.8', 'Sold 4 shares of 3MINDIA at 17926.4', 'Sold 8 shares of CRISIL at 65999.2', 'Sold 16 shares of PAGEIND at 36901.6', 'Sold 1 shares of PGHH at 1943.95', 'Sold 1 shares of BEML at 557.35', 'Sold 4 shares of ADANIENT at 3045.2', 'Sold 64 shares of SCHAEFFLER at 87881.6', 'Sold 2 shares of SUDARSCHEM at 1470.0', 'Sold 4 shares of GILLETTE at 9156.0', 'Sold 8 shares of TECHM at 6314.8', 'Sold 1 shares of ABBOTINDIA at 1454.75', 'Sold 2 shares of AKZOINDIA at 2045.8', 'Sold 2 shares of CANBK at 992.2', 'Sold 8 shares of 3MINDIA at 36134.8', 'Sold 16 shares of CRISIL at 140050.4', 'Sold 1 shares of BHEL at 1821.85', 'Sold 2 shares of PGHH at 3829.0', 'Sold 16 shares of PIIND at 17867.2', 'Sold 8 shares of ADANIENT at 6080.0', 'Sold 2 shares of J&KBANK at 1768.9', 'Sold 3 shares of THERMAX at 1732.9499999999998', 'Sold 1 shares of PFIZER at 1515.55', 'Sold 4 shares of SUDARSCHEM at 2897.8', 'Sold 4 shares of GLAXO at 9524.4', 'Sold 4 shares of AKZOINDIA at 4086.2', 'Sold 4 shares of CANBK at 1909.0', 'Sold 16 shares of ASTRAZEN at 22349.6', 'Sold 16 shares of 3MINDIA at 74258.4', 'Sold 1 shares of ECLERX at 820.05', 'Sold 1 shares of CUMMINSIND at 654.45', 'Sold 4 shares of PGHH at 7624.2', 'Sold 2 shares of BEML at 1092.9', 'Sold 32 shares of PIIND at 35456.0', 'Sold 6 shares of THERMAX at 3431.1000000000004', 'Sold 2 shares of PFIZER at 3068.4', 'Sold 8 shares of SUDARSCHEM at 5760.0', 'Sold 2 shares of WABCOINDIA at 2583.8', 'Sold 8 shares of CANBK at 3671.6', 'Sold 32 shares of ASTRAZEN at 45163.2', 'Sold 2 shares of ECLERX at 1619.4', 'Sold 2 shares of CUMMINSIND at 1282.1', 'Sold 1 shares of SRTRANSFIN at 640.55', 'Sold 16 shares of ADANIENT at 9368.0', 'Sold 4 shares of J&KBANK at 3539.2', 'Sold 12 shares of THERMAX at 6664.200000000001', 'Sold 4 shares of PFIZER at 6128.6', 'Sold 8 shares of SOLARINDS at 5854.0', 'Sold 16 shares of SUDARSCHEM at 11507.2', 'Sold 16 shares of CANBK at 7246.4', 'Sold 64 shares of ASTRAZEN at 90387.2', 'Sold 4 shares of ECLERX at 3223.6', 'Sold 4 shares of CUMMINSIND at 2527.8', 'Sold 2 shares of SRTRANSFIN at 1255.2', 'Sold 24 shares of THERMAX at 12874.800000000001', 'Sold 16 shares of SOLARINDS at 11749.6', 'Sold 32 shares of SUDARSCHEM at 22883.2', 'Sold 1 shares of GODREJPROP at 747.45', 'Sold 32 shares of CANBK at 13862.4', 'Sold 8 shares of ECLERX at 6400.4', 'Sold 8 shares of CUMMINSIND at 4931.2', 'Sold 4 shares of SRTRANSFIN at 2477.6', 'Sold 48 shares of THERMAX at 24744.0', 'Sold 32 shares of SOLARINDS at 23387.2', 'Sold 2 shares of GODREJPROP at 1477.8', 'Sold 64 shares of CANBK at 27302.4', 'Sold 2 shares of SUNDARMFIN at 1088.4', 'Sold 16 shares of ECLERX at 12587.2', 'Sold 16 shares of CUMMINSIND at 9763.2', 'Sold 1 shares of HONAUT at 2672.15', 'Sold 8 shares of SRTRANSFIN at 4758.4', 'Sold 96 shares of THERMAX at 49142.399999999994', 'Sold 2 shares of ABBOTINDIA at 2881.0', 'Sold 2 shares of TORNTPHARM at 1280.3', 'Sold 2 shares of BPCL at 1377.2', 'Sold 4 shares of SUNDARMFIN at 2141.6', 'Sold 1 shares of JUBLFOOD at 809.5', 'Sold 2 shares of HONAUT at 5279.6', 'Sold 2 shares of SHREECEM at 3407.6', 'Sold 16 shares of SRTRANSFIN at 9457.6', 'Sold 8 shares of GLAXO at 17607.2', 'Sold 4 shares of GODREJPROP at 2874.8', 'Sold 4 shares of TORNTPHARM at 2525.6', 'Sold 4 shares of BPCL at 2809.2', 'Sold 2 shares of BALMLAWRIE at 1260.3', 'Sold 8 shares of SUNDARMFIN at 4240.8', 'Sold 1 shares of TRENT at 1167.7', 'Sold 2 shares of JUBLFOOD at 1528.0', 'Sold 1 shares of ABB at 822.25', 'Sold 32 shares of ECLERX at 25132.8', 'Sold 4 shares of HONAUT at 10279.0', 'Sold 2 shares of BHEL at 3422.7', 'Sold 1 shares of TATAPOWER at 1233.35', 'Sold 4 shares of BEML at 2000.0', 'Sold 1 shares of TATAMTRDVR at 487.5', 'Sold 1 shares of PGHL at 646.95', 'Sold 1 shares of TATASTEEL at 532.95', 'Sold 16 shares of TECHM at 11412.8', 'Sold 16 shares of GLAXO at 34184.8', 'Sold 8 shares of TORNTPHARM at 4977.6', 'Sold 1 shares of OIL at 1347.2', 'Sold 8 shares of BPCL at 5623.6', 'Sold 4 shares of BALMLAWRIE at 2501.0', 'Sold 16 shares of SUNDARMFIN at 8345.6', 'Sold 2 shares of TRENT at 2291.4', 'Sold 1 shares of COLPAL at 947.65', 'Sold 4 shares of JUBLFOOD at 3058.8', 'Sold 2 shares of ABB at 1614.1', 'Sold 64 shares of ECLERX at 48972.8', 'Sold 8 shares of HONAUT at 19923.2', 'Sold 1 shares of NESTLEIND at 4133.8', 'Sold 2 shares of TATAPOWER at 2412.3', 'Sold 2 shares of SIEMENS at 1744.9', 'Sold 8 shares of BEML at 3926.4', 'Sold 2 shares of TATAMTRDVR at 924.8', 'Sold 2 shares of PGHL at 1260.9', 'Sold 2 shares of TATASTEEL at 1018.2', 'Sold 4 shares of NAUKRI at 2830.8', 'Sold 8 shares of PFIZER at 11163.2', 'Sold 8 shares of GILLETTE at 16461.2', 'Sold 32 shares of GLAXO at 67588.8', 'Sold 8 shares of GODREJPROP at 5520.0', 'Sold 1 shares of SANOFI at 2034.0', 'Sold 16 shares of TORNTPHARM at 9872.8', 'Sold 2 shares of OIL at 2705.5', 'Sold 8 shares of BALMLAWRIE at 4964.0', 'Sold 32 shares of SUNDARMFIN at 16550.4', 'Sold 4 shares of TRENT at 4501.4', 'Sold 2 shares of BANKBARODA at 1697.9', 'Sold 2 shares of COLPAL at 1863.4', 'Sold 8 shares of JUBLFOOD at 6118.0', 'Sold 4 shares of ABB at 3222.2', 'Sold 128 shares of ECLERX at 97299.2', 'Sold 2 shares of OFSS at 3963.3', 'Sold 16 shares of HONAUT at 39269.6', 'Sold 1 shares of AXISBANK at 1205.2', 'Sold 4 shares of TATAPOWER at 4709.2', 'Sold 4 shares of SIEMENS at 3500.6', 'Sold 16 shares of BEML at 7685.6', 'Sold 4 shares of TATAMTRDVR at 1797.2', 'Sold 4 shares of PGHL at 2505.6', 'Sold 4 shares of TATASTEEL at 1940.6', 'Sold 64 shares of GLAXO at 135580.8', 'Sold 4 shares of COLPAL at 3729.6', 'Sold 8 shares of ABB at 6379.6', 'Sold 2 shares of HEROMOTOCO at 3767.9', 'Sold 8 shares of TATAPOWER at 9408.8', 'Sold 8 shares of TATASTEEL at 3879.6', 'Sold 3 shares of SHRIRAMCIT at 1713.6000000000001', 'Sold 2 shares of SANOFI at 4036.3', 'Sold 16 shares of BALMLAWRIE at 9844.8', 'Sold 4 shares of BANKBARODA at 3345.6', 'Sold 32 shares of PAGEIND at 82387.2', 'Sold 16 shares of TATAPOWER at 17992.8', 'Sold 16 shares of TATASTEEL at 7750.4', 'Sold 6 shares of SHRIRAMCIT at 3419.7000000000003', 'Sold 8 shares of J&KBANK at 6619.6', 'Sold 4 shares of BOSCHLTD at 29411.4', 'Sold 4 shares of ABBOTINDIA at 5630.8', 'Sold 8 shares of BANKBARODA at 6602.0', 'Sold 8 shares of COLPAL at 7361.2', 'Sold 4 shares of HEROMOTOCO at 7561.0', 'Sold 32 shares of TATAPOWER at 34736.0', 'Sold 1 shares of UBL at 446.35', 'Sold 16 shares of J&KBANK at 13166.4', 'Sold 16 shares of BANKBARODA at 12817.6', 'Sold 16 shares of COLPAL at 14539.2', 'Sold 4 shares of OFSS at 7537.6', 'Sold 64 shares of PAGEIND at 169020.8', 'Sold 64 shares of TATAPOWER at 69126.4', 'Sold 4 shares of SHREECEM at 6522.6', 'Sold 2 shares of UBL at 884.4', 'Sold 8 shares of NAUKRI at 5619.6', 'Sold 32 shares of J&KBANK at 26024.0', 'Sold 1 shares of BAJAJHLDNG at 724.9', 'Sold 32 shares of BANKBARODA at 25368.0', 'Sold 16 shares of JUBLFOOD at 15156.0', 'Sold 8 shares of OFSS at 14923.6', 'Sold 8 shares of HEROMOTOCO at 15516.4', 'Sold 2 shares of MRF at 13485.5', 'Sold 4 shares of UBL at 1750.6', 'Sold 64 shares of PIIND at 34723.2', 'Sold 64 shares of J&KBANK at 51161.6', 'Sold 32 shares of TECHM at 21142.4', 'Sold 4 shares of CADILAHC at 3239.6', 'Sold 64 shares of BANKBARODA at 48518.4', 'Sold 16 shares of OFSS at 29461.6', 'Sold 16 shares of HEROMOTOCO at 31259.2', 'Sold 2 shares of PNB at 2023.1', 'Sold 4 shares of MRF at 26173.0', 'Sold 2 shares of AXISBANK at 2218.5', 'Sold 8 shares of UBL at 3457.6', 'Sold 128 shares of PIIND at 69414.4', 'Sold 128 shares of J&KBANK at 100921.6', 'Sold 64 shares of TECHM at 40832.0', 'Sold 2 shares of BAJAJHLDNG at 1445.0', 'Sold 4 shares of SKFINDIA at 2485.6', 'Sold 32 shares of 3MINDIA at 153462.4', 'Sold 8 shares of CADILAHC at 6455.6', 'Sold 128 shares of BANKBARODA at 95289.6', 'Sold 1 shares of KANSAINER at 853.75', 'Sold 32 shares of OFSS at 56849.6', 'Sold 32 shares of HEROMOTOCO at 63798.4', 'Sold 4 shares of PNB at 3966.4', 'Sold 8 shares of MRF at 51173.6', 'Sold 4 shares of AXISBANK at 4278.4', 'Sold 16 shares of UBL at 6645.6', 'Sold 256 shares of PIIND at 138944.0', 'Sold 16 shares of PFIZER at 21248.0', 'Sold 128 shares of TECHM at 81516.8', 'Sold 256 shares of BANKBARODA at 187558.4', 'Sold 256 shares of ECLERX at 184588.8', 'Sold 64 shares of HEROMOTOCO at 128489.6', 'Sold 8 shares of PNB at 7840.8', 'Sold 8 shares of AXISBANK at 8408.8', 'Sold 8 shares of SKFINDIA at 5038.0', 'Sold 512 shares of ECLERX at 368435.2', 'Sold 1 shares of ULTRACEMCO at 1060.6']\n",
      "\n"
     ]
    },
    {
     "name": "stdout",
     "output_type": "stream",
     "text": [
      "Reallocation day\n",
      "60\n"
     ]
    },
    {
     "ename": "KeyboardInterrupt",
     "evalue": "",
     "output_type": "error",
     "traceback": [
      "\u001b[0;31m---------------------------------------------------------------------------\u001b[0m",
      "\u001b[0;31mKeyboardInterrupt\u001b[0m                         Traceback (most recent call last)",
      "\u001b[0;32m<ipython-input-2-dcd0d238200e>\u001b[0m in \u001b[0;36m<module>\u001b[0;34m\u001b[0m\n\u001b[0;32m----> 1\u001b[0;31m \u001b[0mbt\u001b[0m\u001b[0;34m.\u001b[0m\u001b[0mbacktest\u001b[0m\u001b[0;34m(\u001b[0m\u001b[0;34m)\u001b[0m\u001b[0;34m\u001b[0m\u001b[0;34m\u001b[0m\u001b[0m\n\u001b[0m",
      "\u001b[0;32m~/work/simulate.py\u001b[0m in \u001b[0;36mbacktest\u001b[0;34m(self)\u001b[0m\n\u001b[1;32m    230\u001b[0m                         \u001b[0;31m# print(allocation_data.info())\u001b[0m\u001b[0;34m\u001b[0m\u001b[0;34m\u001b[0m\u001b[0;34m\u001b[0m\u001b[0m\n\u001b[1;32m    231\u001b[0m \u001b[0;34m\u001b[0m\u001b[0m\n\u001b[0;32m--> 232\u001b[0;31m                         \u001b[0ma\u001b[0m\u001b[0;34m.\u001b[0m\u001b[0mallocate_portfolio\u001b[0m\u001b[0;34m(\u001b[0m\u001b[0mallocation_data\u001b[0m\u001b[0;34m)\u001b[0m\u001b[0;34m\u001b[0m\u001b[0;34m\u001b[0m\u001b[0m\n\u001b[0m\u001b[1;32m    233\u001b[0m                         \u001b[0ma\u001b[0m\u001b[0;34m.\u001b[0m\u001b[0mcompute_allocation_orders\u001b[0m\u001b[0;34m(\u001b[0m\u001b[0;34m)\u001b[0m\u001b[0;34m\u001b[0m\u001b[0;34m\u001b[0m\u001b[0m\n\u001b[1;32m    234\u001b[0m                         \u001b[0ma\u001b[0m\u001b[0;34m.\u001b[0m\u001b[0mexecute_orders\u001b[0m\u001b[0;34m(\u001b[0m\u001b[0mdayend_prices\u001b[0m\u001b[0;34m)\u001b[0m\u001b[0;34m\u001b[0m\u001b[0;34m\u001b[0m\u001b[0m\n",
      "\u001b[0;32m~/work/simulate.py\u001b[0m in \u001b[0;36mallocate_portfolio\u001b[0;34m(self, lookback_data)\u001b[0m\n\u001b[1;32m     78\u001b[0m         \u001b[0mself\u001b[0m\u001b[0;34m.\u001b[0m\u001b[0mtotal_cash\u001b[0m \u001b[0;34m-=\u001b[0m \u001b[0mself\u001b[0m\u001b[0;34m.\u001b[0m\u001b[0msingle_day_cash\u001b[0m \u001b[0;34m*\u001b[0m \u001b[0mself\u001b[0m\u001b[0;34m.\u001b[0m\u001b[0mtotal_cash\u001b[0m\u001b[0;34m\u001b[0m\u001b[0;34m\u001b[0m\u001b[0m\n\u001b[1;32m     79\u001b[0m         \u001b[0mself\u001b[0m\u001b[0;34m.\u001b[0m\u001b[0moptimizer\u001b[0m\u001b[0;34m.\u001b[0m\u001b[0mclose_matrix\u001b[0m \u001b[0;34m=\u001b[0m \u001b[0mlookback_data\u001b[0m\u001b[0;34m.\u001b[0m\u001b[0mdropna\u001b[0m\u001b[0;34m(\u001b[0m\u001b[0maxis\u001b[0m\u001b[0;34m=\u001b[0m\u001b[0;36m1\u001b[0m\u001b[0;34m,\u001b[0m \u001b[0mhow\u001b[0m\u001b[0;34m=\u001b[0m\u001b[0;34m'all'\u001b[0m\u001b[0;34m)\u001b[0m\u001b[0;34m\u001b[0m\u001b[0;34m\u001b[0m\u001b[0m\n\u001b[0;32m---> 80\u001b[0;31m         \u001b[0mself\u001b[0m\u001b[0;34m.\u001b[0m\u001b[0moptimizer\u001b[0m\u001b[0;34m.\u001b[0m\u001b[0moptimize\u001b[0m\u001b[0;34m(\u001b[0m\u001b[0;34m)\u001b[0m\u001b[0;34m\u001b[0m\u001b[0;34m\u001b[0m\u001b[0m\n\u001b[0m\u001b[1;32m     81\u001b[0m         \u001b[0;31m#self.initialize()\u001b[0m\u001b[0;34m\u001b[0m\u001b[0;34m\u001b[0m\u001b[0;34m\u001b[0m\u001b[0m\n\u001b[1;32m     82\u001b[0m \u001b[0;34m\u001b[0m\u001b[0m\n",
      "\u001b[0;32m~/work/optimizer.py\u001b[0m in \u001b[0;36moptimize\u001b[0;34m(self)\u001b[0m\n\u001b[1;32m    241\u001b[0m             \u001b[0mself\u001b[0m\u001b[0;34m.\u001b[0m\u001b[0moptimize_max_sharpe\u001b[0m\u001b[0;34m(\u001b[0m\u001b[0;34m)\u001b[0m\u001b[0;34m\u001b[0m\u001b[0;34m\u001b[0m\u001b[0m\n\u001b[1;32m    242\u001b[0m         \u001b[0;32melif\u001b[0m\u001b[0;34m(\u001b[0m\u001b[0mself\u001b[0m\u001b[0;34m.\u001b[0m\u001b[0moptimizer_type\u001b[0m\u001b[0;34m==\u001b[0m\u001b[0;34m\"min_vol\"\u001b[0m\u001b[0;34m)\u001b[0m\u001b[0;34m:\u001b[0m\u001b[0;34m\u001b[0m\u001b[0;34m\u001b[0m\u001b[0m\n\u001b[0;32m--> 243\u001b[0;31m             \u001b[0mself\u001b[0m\u001b[0;34m.\u001b[0m\u001b[0moptimize_min_volatility\u001b[0m\u001b[0;34m(\u001b[0m\u001b[0;34m)\u001b[0m\u001b[0;34m\u001b[0m\u001b[0;34m\u001b[0m\u001b[0m\n\u001b[0m\u001b[1;32m    244\u001b[0m \u001b[0;34m\u001b[0m\u001b[0m\n\u001b[1;32m    245\u001b[0m     \u001b[0;32mdef\u001b[0m \u001b[0moptimize_max_sharpe\u001b[0m\u001b[0;34m(\u001b[0m\u001b[0mself\u001b[0m\u001b[0;34m)\u001b[0m\u001b[0;34m:\u001b[0m\u001b[0;34m\u001b[0m\u001b[0;34m\u001b[0m\u001b[0m\n",
      "\u001b[0;32m~/work/optimizer.py\u001b[0m in \u001b[0;36moptimize_min_volatility\u001b[0;34m(self)\u001b[0m\n\u001b[1;32m    277\u001b[0m \u001b[0;34m\u001b[0m\u001b[0m\n\u001b[1;32m    278\u001b[0m         \u001b[0mself\u001b[0m\u001b[0;34m.\u001b[0m\u001b[0moptimizer\u001b[0m \u001b[0;34m=\u001b[0m \u001b[0mCLA\u001b[0m\u001b[0;34m(\u001b[0m\u001b[0mself\u001b[0m\u001b[0;34m.\u001b[0m\u001b[0mmu\u001b[0m\u001b[0;34m,\u001b[0m \u001b[0mself\u001b[0m\u001b[0;34m.\u001b[0m\u001b[0ms\u001b[0m\u001b[0;34m)\u001b[0m\u001b[0;34m\u001b[0m\u001b[0;34m\u001b[0m\u001b[0m\n\u001b[0;32m--> 279\u001b[0;31m         \u001b[0mself\u001b[0m\u001b[0;34m.\u001b[0m\u001b[0mportfolio\u001b[0m\u001b[0;34m.\u001b[0m\u001b[0mcomposition\u001b[0m \u001b[0;34m=\u001b[0m \u001b[0mself\u001b[0m\u001b[0;34m.\u001b[0m\u001b[0moptimizer\u001b[0m\u001b[0;34m.\u001b[0m\u001b[0mmin_volatility\u001b[0m\u001b[0;34m(\u001b[0m\u001b[0;34m)\u001b[0m\u001b[0;34m\u001b[0m\u001b[0;34m\u001b[0m\u001b[0m\n\u001b[0m\u001b[1;32m    280\u001b[0m         \u001b[0mlatest_price\u001b[0m \u001b[0;34m=\u001b[0m \u001b[0mself\u001b[0m\u001b[0;34m.\u001b[0m\u001b[0mclose_matrix\u001b[0m\u001b[0;34m.\u001b[0m\u001b[0mtail\u001b[0m\u001b[0;34m(\u001b[0m\u001b[0;36m1\u001b[0m\u001b[0;34m)\u001b[0m\u001b[0;34m\u001b[0m\u001b[0;34m\u001b[0m\u001b[0m\n\u001b[1;32m    281\u001b[0m         \u001b[0mlatest_price\u001b[0m \u001b[0;34m=\u001b[0m \u001b[0mlatest_price\u001b[0m\u001b[0;34m.\u001b[0m\u001b[0mdropna\u001b[0m\u001b[0;34m(\u001b[0m\u001b[0maxis\u001b[0m\u001b[0;34m=\u001b[0m\u001b[0;36m1\u001b[0m\u001b[0;34m)\u001b[0m\u001b[0;34m\u001b[0m\u001b[0;34m\u001b[0m\u001b[0m\n",
      "\u001b[0;32m/opt/conda/lib/python3.8/site-packages/pypfopt/cla.py\u001b[0m in \u001b[0;36mmin_volatility\u001b[0;34m(self)\u001b[0m\n\u001b[1;32m    400\u001b[0m         \"\"\"\n\u001b[1;32m    401\u001b[0m         \u001b[0;32mif\u001b[0m \u001b[0;32mnot\u001b[0m \u001b[0mself\u001b[0m\u001b[0;34m.\u001b[0m\u001b[0mw\u001b[0m\u001b[0;34m:\u001b[0m\u001b[0;34m\u001b[0m\u001b[0;34m\u001b[0m\u001b[0m\n\u001b[0;32m--> 402\u001b[0;31m             \u001b[0mself\u001b[0m\u001b[0;34m.\u001b[0m\u001b[0m_solve\u001b[0m\u001b[0;34m(\u001b[0m\u001b[0;34m)\u001b[0m\u001b[0;34m\u001b[0m\u001b[0;34m\u001b[0m\u001b[0m\n\u001b[0m\u001b[1;32m    403\u001b[0m         \u001b[0mvar\u001b[0m \u001b[0;34m=\u001b[0m \u001b[0;34m[\u001b[0m\u001b[0;34m]\u001b[0m\u001b[0;34m\u001b[0m\u001b[0;34m\u001b[0m\u001b[0m\n\u001b[1;32m    404\u001b[0m         \u001b[0;32mfor\u001b[0m \u001b[0mw\u001b[0m \u001b[0;32min\u001b[0m \u001b[0mself\u001b[0m\u001b[0;34m.\u001b[0m\u001b[0mw\u001b[0m\u001b[0;34m:\u001b[0m\u001b[0;34m\u001b[0m\u001b[0;34m\u001b[0m\u001b[0m\n",
      "\u001b[0;32m/opt/conda/lib/python3.8/site-packages/pypfopt/cla.py\u001b[0m in \u001b[0;36m_solve\u001b[0;34m(self)\u001b[0m\n\u001b[1;32m    327\u001b[0m                 \u001b[0;32mfor\u001b[0m \u001b[0mi\u001b[0m \u001b[0;32min\u001b[0m \u001b[0mb\u001b[0m\u001b[0;34m:\u001b[0m\u001b[0;34m\u001b[0m\u001b[0;34m\u001b[0m\u001b[0m\n\u001b[1;32m    328\u001b[0m                     \u001b[0mcovarF\u001b[0m\u001b[0;34m,\u001b[0m \u001b[0mcovarFB\u001b[0m\u001b[0;34m,\u001b[0m \u001b[0mmeanF\u001b[0m\u001b[0;34m,\u001b[0m \u001b[0mwB\u001b[0m \u001b[0;34m=\u001b[0m \u001b[0mself\u001b[0m\u001b[0;34m.\u001b[0m\u001b[0m_get_matrices\u001b[0m\u001b[0;34m(\u001b[0m\u001b[0mf\u001b[0m \u001b[0;34m+\u001b[0m \u001b[0;34m[\u001b[0m\u001b[0mi\u001b[0m\u001b[0;34m]\u001b[0m\u001b[0;34m)\u001b[0m\u001b[0;34m\u001b[0m\u001b[0;34m\u001b[0m\u001b[0m\n\u001b[0;32m--> 329\u001b[0;31m                     \u001b[0mcovarF_inv\u001b[0m \u001b[0;34m=\u001b[0m \u001b[0mnp\u001b[0m\u001b[0;34m.\u001b[0m\u001b[0mlinalg\u001b[0m\u001b[0;34m.\u001b[0m\u001b[0minv\u001b[0m\u001b[0;34m(\u001b[0m\u001b[0mcovarF\u001b[0m\u001b[0;34m)\u001b[0m\u001b[0;34m\u001b[0m\u001b[0;34m\u001b[0m\u001b[0m\n\u001b[0m\u001b[1;32m    330\u001b[0m                     l, bi = self._compute_lambda(\n\u001b[1;32m    331\u001b[0m                         \u001b[0mcovarF_inv\u001b[0m\u001b[0;34m,\u001b[0m\u001b[0;34m\u001b[0m\u001b[0;34m\u001b[0m\u001b[0m\n",
      "\u001b[0;32m<__array_function__ internals>\u001b[0m in \u001b[0;36minv\u001b[0;34m(*args, **kwargs)\u001b[0m\n",
      "\u001b[0;32m/opt/conda/lib/python3.8/site-packages/numpy/linalg/linalg.py\u001b[0m in \u001b[0;36minv\u001b[0;34m(a)\u001b[0m\n\u001b[1;32m    543\u001b[0m     \u001b[0msignature\u001b[0m \u001b[0;34m=\u001b[0m \u001b[0;34m'D->D'\u001b[0m \u001b[0;32mif\u001b[0m \u001b[0misComplexType\u001b[0m\u001b[0;34m(\u001b[0m\u001b[0mt\u001b[0m\u001b[0;34m)\u001b[0m \u001b[0;32melse\u001b[0m \u001b[0;34m'd->d'\u001b[0m\u001b[0;34m\u001b[0m\u001b[0;34m\u001b[0m\u001b[0m\n\u001b[1;32m    544\u001b[0m     \u001b[0mextobj\u001b[0m \u001b[0;34m=\u001b[0m \u001b[0mget_linalg_error_extobj\u001b[0m\u001b[0;34m(\u001b[0m\u001b[0m_raise_linalgerror_singular\u001b[0m\u001b[0;34m)\u001b[0m\u001b[0;34m\u001b[0m\u001b[0;34m\u001b[0m\u001b[0m\n\u001b[0;32m--> 545\u001b[0;31m     \u001b[0mainv\u001b[0m \u001b[0;34m=\u001b[0m \u001b[0m_umath_linalg\u001b[0m\u001b[0;34m.\u001b[0m\u001b[0minv\u001b[0m\u001b[0;34m(\u001b[0m\u001b[0ma\u001b[0m\u001b[0;34m,\u001b[0m \u001b[0msignature\u001b[0m\u001b[0;34m=\u001b[0m\u001b[0msignature\u001b[0m\u001b[0;34m,\u001b[0m \u001b[0mextobj\u001b[0m\u001b[0;34m=\u001b[0m\u001b[0mextobj\u001b[0m\u001b[0;34m)\u001b[0m\u001b[0;34m\u001b[0m\u001b[0;34m\u001b[0m\u001b[0m\n\u001b[0m\u001b[1;32m    546\u001b[0m     \u001b[0;32mreturn\u001b[0m \u001b[0mwrap\u001b[0m\u001b[0;34m(\u001b[0m\u001b[0mainv\u001b[0m\u001b[0;34m.\u001b[0m\u001b[0mastype\u001b[0m\u001b[0;34m(\u001b[0m\u001b[0mresult_t\u001b[0m\u001b[0;34m,\u001b[0m \u001b[0mcopy\u001b[0m\u001b[0;34m=\u001b[0m\u001b[0;32mFalse\u001b[0m\u001b[0;34m)\u001b[0m\u001b[0;34m)\u001b[0m\u001b[0;34m\u001b[0m\u001b[0;34m\u001b[0m\u001b[0m\n\u001b[1;32m    547\u001b[0m \u001b[0;34m\u001b[0m\u001b[0m\n",
      "\u001b[0;31mKeyboardInterrupt\u001b[0m: "
     ]
    }
   ],
   "source": [
    "bt.backtest()"
   ]
  },
  {
   "cell_type": "code",
   "execution_count": null,
   "id": "20fb4aea",
   "metadata": {},
   "outputs": [],
   "source": []
  }
 ],
 "metadata": {
  "kernelspec": {
   "display_name": "Python 3",
   "language": "python",
   "name": "python3"
  },
  "language_info": {
   "codemirror_mode": {
    "name": "ipython",
    "version": 3
   },
   "file_extension": ".py",
   "mimetype": "text/x-python",
   "name": "python",
   "nbconvert_exporter": "python",
   "pygments_lexer": "ipython3",
   "version": "3.8.8"
  }
 },
 "nbformat": 4,
 "nbformat_minor": 5
}
