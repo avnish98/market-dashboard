{
 "cells": [
  {
   "cell_type": "code",
   "execution_count": null,
   "id": "5f54180d",
   "metadata": {
    "scrolled": true
   },
   "outputs": [],
   "source": [
    "!pip install nsetools pandas nsepy PyPortfolioOpt bokeh"
   ]
  },
  {
   "cell_type": "code",
   "execution_count": null,
   "id": "83cdab7b",
   "metadata": {
    "scrolled": true
   },
   "outputs": [],
   "source": [
    "from fetcher import Nifty500Fetcher\n",
    "\n",
    "nff = Nifty500Fetcher()\n",
    "nff.read_list(update=True)"
   ]
  },
  {
   "cell_type": "code",
   "execution_count": null,
   "id": "29faa55b",
   "metadata": {
    "scrolled": true
   },
   "outputs": [],
   "source": [
    "nff.fetch_data()"
   ]
  },
  {
   "cell_type": "code",
   "execution_count": null,
   "id": "3fdd4c99",
   "metadata": {
    "scrolled": true
   },
   "outputs": [],
   "source": [
    "nff.fetch_metadata()"
   ]
  },
  {
   "cell_type": "code",
   "execution_count": null,
   "id": "53fd4620",
   "metadata": {
    "scrolled": true
   },
   "outputs": [],
   "source": [
    "from cleaner import Nifty500Cleaner\n",
    "\n",
    "nfc = Nifty500Cleaner()\n",
    "nfc.clean_metadata()\n",
    "nfc.clean_ohlc_data()"
   ]
  },
  {
   "cell_type": "code",
   "execution_count": null,
   "id": "f06ff14c",
   "metadata": {
    "scrolled": true
   },
   "outputs": [],
   "source": [
    "from processor import StockProcessor\n",
    "\n",
    "sp = StockProcessor('3MINDIA', meta_data_loc='data/cleaned/Metadata/nifty500.json')"
   ]
  },
  {
   "cell_type": "code",
   "execution_count": null,
   "id": "01ab2cda",
   "metadata": {
    "scrolled": true
   },
   "outputs": [],
   "source": [
    "sp.process_metrics()"
   ]
  },
  {
   "cell_type": "code",
   "execution_count": null,
   "id": "ba1b3578",
   "metadata": {
    "scrolled": true
   },
   "outputs": [],
   "source": [
    "sp.stock.metadata"
   ]
  },
  {
   "cell_type": "code",
   "execution_count": null,
   "id": "b449d1cf",
   "metadata": {
    "scrolled": true
   },
   "outputs": [],
   "source": [
    "from processor import IndexProcessor\n",
    "\n",
    "pp = IndexProcessor(\"data/cleaned/OHLC/Nifty500\", \n",
    "                    \"data/cleaned/Metadata/nifty500.json\", \n",
    "                    \"data/cleaned/Metadata/proc_nifty500.json\")"
   ]
  },
  {
   "cell_type": "code",
   "execution_count": null,
   "id": "ae885357",
   "metadata": {
    "scrolled": true
   },
   "outputs": [],
   "source": [
    "pp.process_metrics()"
   ]
  },
  {
   "cell_type": "code",
   "execution_count": null,
   "id": "2345b362",
   "metadata": {
    "scrolled": true
   },
   "outputs": [],
   "source": [
    "import pandas as pd\n",
    "pd.read_csv('data/cleaned/OHLC/Nifty500/M&M.csv')"
   ]
  },
  {
   "cell_type": "code",
   "execution_count": null,
   "id": "1c16546d",
   "metadata": {
    "scrolled": true
   },
   "outputs": [],
   "source": [
    "from processor import IndexProcessor\n",
    "\n",
    "pp = IndexProcessor(\"data/cleaned/OHLC/Nifty500\", \"data/cleaned/Metadata/nifty500.json\")\n",
    "pp.process_close(30)"
   ]
  },
  {
   "cell_type": "code",
   "execution_count": null,
   "id": "8fc2738e",
   "metadata": {
    "scrolled": true
   },
   "outputs": [],
   "source": [
    "from optimizer import EffOptimizer, HRPOptimizer, CLAOptimizer\n",
    "\n",
    "opt1 = EffOptimizer(pp)\n",
    "# opt2 = HRPOptimizer(pp)\n",
    "# opt3 = CLAOptimizer(pp)"
   ]
  },
  {
   "cell_type": "code",
   "execution_count": null,
   "id": "f8ebcbb5",
   "metadata": {
    "scrolled": true
   },
   "outputs": [],
   "source": [
    "opt1.optimize_max_sharpe()"
   ]
  },
  {
   "cell_type": "code",
   "execution_count": null,
   "id": "afcc2325",
   "metadata": {
    "scrolled": true
   },
   "outputs": [],
   "source": [
    "opt1.portfolio.statistics"
   ]
  },
  {
   "cell_type": "code",
   "execution_count": null,
   "id": "67e6d688",
   "metadata": {
    "scrolled": true
   },
   "outputs": [],
   "source": [
    "opt1.optimize_min_volatility()"
   ]
  },
  {
   "cell_type": "code",
   "execution_count": null,
   "id": "02c43793",
   "metadata": {
    "scrolled": true
   },
   "outputs": [],
   "source": [
    "opt1.portfolio.statistics"
   ]
  },
  {
   "cell_type": "code",
   "execution_count": null,
   "id": "e42c51b9",
   "metadata": {
    "scrolled": true
   },
   "outputs": [],
   "source": [
    "opt2 = HRPOptimizer(pp)\n",
    "opt2.optimize()"
   ]
  },
  {
   "cell_type": "code",
   "execution_count": null,
   "id": "f702767d",
   "metadata": {
    "scrolled": true
   },
   "outputs": [],
   "source": [
    "opt2.portfolio.statistics"
   ]
  },
  {
   "cell_type": "code",
   "execution_count": null,
   "id": "5d31ae93",
   "metadata": {
    "scrolled": true
   },
   "outputs": [],
   "source": [
    "temp_df = (pp.close_matrix.pct_change(30).tail(1)*100 > 0)\n",
    "temp_df"
   ]
  },
  {
   "cell_type": "code",
   "execution_count": null,
   "id": "3a3f644d",
   "metadata": {
    "scrolled": true
   },
   "outputs": [],
   "source": [
    "opt3 = CLAOptimizer(pp)\n",
    "opt3.optimize_max_sharpe()"
   ]
  },
  {
   "cell_type": "code",
   "execution_count": null,
   "id": "27d82bd1",
   "metadata": {
    "scrolled": true
   },
   "outputs": [],
   "source": [
    "opt3.portfolio.statistics"
   ]
  },
  {
   "cell_type": "code",
   "execution_count": null,
   "id": "bb802800",
   "metadata": {
    "scrolled": true
   },
   "outputs": [],
   "source": [
    "opt3.optimize_min_volatility()\n",
    "opt3.portfolio.statistics"
   ]
  },
  {
   "cell_type": "code",
   "execution_count": null,
   "id": "71259d8b",
   "metadata": {
    "scrolled": true
   },
   "outputs": [],
   "source": []
  },
  {
   "cell_type": "code",
   "execution_count": null,
   "id": "125473f5",
   "metadata": {
    "scrolled": true
   },
   "outputs": [],
   "source": [
    "import pandas as pd\n",
    "df = pd.read_csv('data/raw/nifty_500_metadata.csv')#.to_dict(orient='records')"
   ]
  },
  {
   "cell_type": "code",
   "execution_count": null,
   "id": "fbaa85c0",
   "metadata": {
    "scrolled": true
   },
   "outputs": [],
   "source": [
    "some = df[df['symbol']=='M&amp;M'].to_dict(orient='records')"
   ]
  },
  {
   "cell_type": "code",
   "execution_count": null,
   "id": "24fbc3a3",
   "metadata": {
    "scrolled": true
   },
   "outputs": [],
   "source": [
    "some"
   ]
  },
  {
   "cell_type": "code",
   "execution_count": null,
   "id": "d91a775c",
   "metadata": {
    "scrolled": true
   },
   "outputs": [],
   "source": [
    "from fetcher import Nifty500Fetcher\n",
    "\n",
    "nff = Nifty500Fetcher()\n",
    "nff.fetch_index('NIFTY')"
   ]
  },
  {
   "cell_type": "code",
   "execution_count": null,
   "id": "fe60f931",
   "metadata": {
    "scrolled": false
   },
   "outputs": [],
   "source": []
  },
  {
   "cell_type": "code",
   "execution_count": null,
   "id": "35e26e1f",
   "metadata": {
    "scrolled": false
   },
   "outputs": [],
   "source": [
    "from simulate import Backtesting, Agent\n",
    "from optimizer import EffOptimizer, HRPOptimizer, CLAOptimizer\n",
    "from datetime import date\n",
    "\n",
    "agents = [\n",
    "        Agent(\"CLA_MAX_SHARPE\", 'navy', CLAOptimizer(), 1000000, optimizer_type='max_sharpe',\n",
    "                            metadata_loc=\"data/processed/Metadata/nifty500.json\", single_day_cash=0.80),\n",
    "         Agent(\"EFF_MIN_VOL\", 'green', EffOptimizer(), 1000000, optimizer_type='min_vol',\n",
    "                           metadata_loc=\"data/processed/Metadata/nifty500.json\", single_day_cash=0.80),\n",
    "         Agent(\"EFF_MAX_SHARPE\", 'dimgray', EffOptimizer(), 1000000, optimizer_type='max_sharpe',\n",
    "                           metadata_loc=\"data/processed/Metadata/nifty500.json\", single_day_cash=0.80),\n",
    "         Agent(\"HRP\", 'orangered', HRPOptimizer(), 1000000, metadata_loc=\"data/processed/Metadata/nifty500.json\", \n",
    "                           single_day_cash=0.80),\n",
    "         Agent(\"CLA_MIN_VOL\", 'magenta', CLAOptimizer(), 1000000, optimizer_type='min_vol',\n",
    "                           metadata_loc=\"data/processed/Metadata/nifty500.json\", single_day_cash=0.80)]\n",
    "\n",
    "benchmarks = [\n",
    "    {\n",
    "        'name':'NIFTY500',\n",
    "        'data_loc':'data/raw/Nifty500/Index/NIFTY500.csv',\n",
    "        'color':'red'\n",
    "    },\n",
    "]\n",
    "\n",
    "bt = Backtesting(#end_date=date(2011, 12, 31), \n",
    "    proc_ohlc_loc=\"data/processed/OHLC/Nifty500\", \n",
    "              proc_metadata_loc=\"data/processed/Metadata/nifty500.json\", bband_margins=False,\n",
    "                 lookback_period=1,rebalance_period=1,\n",
    "                 bband_ma=20, benchmarks=benchmarks, #process_metrics=True,\n",
    "                agents=agents)"
   ]
  },
  {
   "cell_type": "code",
   "execution_count": null,
   "id": "3e34167b",
   "metadata": {
    "scrolled": false
   },
   "outputs": [],
   "source": [
    "bt.cret_plot()"
   ]
  },
  {
   "cell_type": "code",
   "execution_count": null,
   "id": "3fc79edc",
   "metadata": {
    "scrolled": false
   },
   "outputs": [],
   "source": [
    "bt.portfolio_plot()"
   ]
  },
  {
   "cell_type": "code",
   "execution_count": null,
   "id": "b6662c16",
   "metadata": {
    "scrolled": true
   },
   "outputs": [],
   "source": [
    "bt.backtest()"
   ]
  },
  {
   "cell_type": "code",
   "execution_count": null,
   "id": "d69b3d4a",
   "metadata": {
    "scrolled": false
   },
   "outputs": [],
   "source": []
  },
  {
   "cell_type": "code",
   "execution_count": null,
   "id": "695425e0",
   "metadata": {
    "scrolled": false
   },
   "outputs": [],
   "source": [
    "import pandas as pd\n",
    "df = bt.processor.close_matrix\n",
    "#df[df.index <= date(2012, 5, 21)][['BHARATRAS']].tail()\n",
    "df.index = pd.to_datetime(df.index)\n",
    "df[df.index.year < 2015].tail()"
   ]
  },
  {
   "cell_type": "code",
   "execution_count": null,
   "id": "37c095a6",
   "metadata": {
    "scrolled": false
   },
   "outputs": [],
   "source": [
    "from datetime import date\n",
    "bt.env.data[bt.env.data.index == date(2012, 6, 13)]['DEEPAKNTR']"
   ]
  },
  {
   "cell_type": "code",
   "execution_count": null,
   "id": "1bc7711d",
   "metadata": {
    "scrolled": false
   },
   "outputs": [],
   "source": [
    "import pandas as pd\n",
    "df = pd.read_csv('data/processed/OHLC/Nifty500/BHARATRAS.csv')\n",
    "df.Date = pd.to_datetime(df.Date).dt.date\n",
    "df[df.Date <= date(2012, 5, 21)].tail()"
   ]
  },
  {
   "cell_type": "code",
   "execution_count": null,
   "id": "4ae5bc88",
   "metadata": {
    "scrolled": false
   },
   "outputs": [],
   "source": []
  }
 ],
 "metadata": {
  "kernelspec": {
   "display_name": "Python 3",
   "language": "python",
   "name": "python3"
  },
  "language_info": {
   "codemirror_mode": {
    "name": "ipython",
    "version": 3
   },
   "file_extension": ".py",
   "mimetype": "text/x-python",
   "name": "python",
   "nbconvert_exporter": "python",
   "pygments_lexer": "ipython3",
   "version": "3.9.2"
  }
 },
 "nbformat": 4,
 "nbformat_minor": 5
}
